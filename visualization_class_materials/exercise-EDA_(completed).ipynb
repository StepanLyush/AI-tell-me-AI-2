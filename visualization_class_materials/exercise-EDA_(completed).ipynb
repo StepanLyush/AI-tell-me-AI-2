{
 "cells": [
  {
   "cell_type": "code",
   "execution_count": 1,
   "id": "803e29da-9fa2-49e0-a626-55f3541bcc7e",
   "metadata": {},
   "outputs": [],
   "source": [
    "\"\"\"\n",
    "Title: Exploratory Data Analysis (EDA) exercise\n",
    "Description: Advanced Data Analytics (ADA) 2023\n",
    "\n",
    "Author:\n",
    "- Andrej Korenic (andrej.korenic@bio.bg.ac.rs)\n",
    "\n",
    "Dependencies:\n",
    "- Python 3.9.12 (main, Apr  4 2022, 05:22:27) [MSC v.1916 64 bit (AMD64)]\n",
    "- Seaborn 0.11.2\n",
    "- NumPy 1.22.4\n",
    "- scikit-learn 1.0.2\n",
    "- Matplotlib 3.5.1\n",
    "\"\"\";"
   ]
  },
  {
   "cell_type": "code",
   "execution_count": 5,
   "id": "99da9c94-09e1-423d-8646-8d6d14e7f9c4",
   "metadata": {
    "tags": []
   },
   "outputs": [],
   "source": [
    "# !pip install pandas\n",
    "# !pip install scikit-learn"
   ]
  },
  {
   "cell_type": "code",
   "execution_count": 1,
   "id": "7d3f1f04-e03e-4ee7-aaca-7764ee26b907",
   "metadata": {},
   "outputs": [],
   "source": [
    "import pandas as pd\n",
    "import numpy as np\n",
    "import sys, os"
   ]
  },
  {
   "cell_type": "code",
   "execution_count": null,
   "id": "425c1044-76f2-43c6-8e88-3a4a3471a015",
   "metadata": {
    "tags": []
   },
   "outputs": [],
   "source": [
    "# pd.set_option('display.max_rows', None)\n",
    "# pd.set_option('display.max_columns', None)"
   ]
  },
  {
   "cell_type": "code",
   "execution_count": 6,
   "id": "56d32eae-f746-4d1a-982c-67ed4318e58e",
   "metadata": {
    "papermill": {
     "duration": 1.137764,
     "end_time": "2021-06-03T17:04:35.178434",
     "exception": false,
     "start_time": "2021-06-03T17:04:34.040670",
     "status": "completed"
    },
    "tags": []
   },
   "outputs": [],
   "source": [
    "import seaborn as sns\n",
    "import matplotlib\n",
    "import matplotlib.pyplot as plt\n",
    "import plotly.express as px\n",
    "%matplotlib inline\n",
    "\n",
    "sns.set_style('darkgrid')\n",
    "matplotlib.rcParams['font.size'] = 14\n",
    "matplotlib.rcParams['figure.figsize'] = (9, 5)\n",
    "matplotlib.rcParams['figure.facecolor'] = '#e5e5e5'"
   ]
  },
  {
   "cell_type": "code",
   "execution_count": 7,
   "id": "123c6c1b-0f05-4da1-ac31-b5d6a4525c1e",
   "metadata": {},
   "outputs": [
    {
     "name": "stdout",
     "output_type": "stream",
     "text": [
      "Python version: 3.9.13 (main, Aug 25 2022, 18:29:29) \n",
      "[Clang 12.0.0 ]\n",
      "Seaborn version: 0.11.2\n"
     ]
    }
   ],
   "source": [
    "print(\"Python version:\", sys.version)\n",
    "print(\"Seaborn version:\", sns.__version__)"
   ]
  },
  {
   "cell_type": "code",
   "execution_count": 9,
   "id": "51590f8a-a515-4de5-8122-c4d28eea2c6b",
   "metadata": {},
   "outputs": [],
   "source": [
    "# import pkg_resources\n",
    "\n",
    "# for m in pkg_resources.working_set:\n",
    "#     print(m.project_name, m.version)"
   ]
  },
  {
   "cell_type": "markdown",
   "id": "d2fb0ded-0129-41c6-982d-2224ee9848f5",
   "metadata": {},
   "source": [
    "# Create "
   ]
  },
  {
   "cell_type": "markdown",
   "id": "e4091aea-9925-4412-bc5c-3c61f2c8d047",
   "metadata": {},
   "source": [
    "## Create from CSV"
   ]
  },
  {
   "cell_type": "code",
   "execution_count": 11,
   "id": "cd734db4-dff8-45bb-91e8-b68257def306",
   "metadata": {},
   "outputs": [],
   "source": [
    "data_dir = 'data_files'"
   ]
  },
  {
   "cell_type": "code",
   "execution_count": 140,
   "id": "ebb7ce85-79cc-4e80-ad73-e44b96b44267",
   "metadata": {},
   "outputs": [
    {
     "data": {
      "text/plain": "     PassengerId  Survived  Pclass   \n0              1         0       3  \\\n1              2         1       1   \n2              3         1       3   \n3              4         1       1   \n4              5         0       3   \n..           ...       ...     ...   \n886          887         0       2   \n887          888         1       1   \n888          889         0       3   \n889          890         1       1   \n890          891         0       3   \n\n                                                  Name     Sex   Age  SibSp   \n0                              Braund, Mr. Owen Harris    male  22.0      1  \\\n1    Cumings, Mrs. John Bradley (Florence Briggs Th...  female  38.0      1   \n2                               Heikkinen, Miss. Laina  female  26.0      0   \n3         Futrelle, Mrs. Jacques Heath (Lily May Peel)  female  35.0      1   \n4                             Allen, Mr. William Henry    male  35.0      0   \n..                                                 ...     ...   ...    ...   \n886                              Montvila, Rev. Juozas    male  27.0      0   \n887                       Graham, Miss. Margaret Edith  female  19.0      0   \n888           Johnston, Miss. Catherine Helen \"Carrie\"  female   NaN      1   \n889                              Behr, Mr. Karl Howell    male  26.0      0   \n890                                Dooley, Mr. Patrick    male  32.0      0   \n\n     Parch            Ticket     Fare Cabin Embarked  \n0        0         A/5 21171   7.2500   NaN        S  \n1        0          PC 17599  71.2833   C85        C  \n2        0  STON/O2. 3101282   7.9250   NaN        S  \n3        0            113803  53.1000  C123        S  \n4        0            373450   8.0500   NaN        S  \n..     ...               ...      ...   ...      ...  \n886      0            211536  13.0000   NaN        S  \n887      0            112053  30.0000   B42        S  \n888      2        W./C. 6607  23.4500   NaN        S  \n889      0            111369  30.0000  C148        C  \n890      0            370376   7.7500   NaN        Q  \n\n[891 rows x 12 columns]",
      "text/html": "<div>\n<style scoped>\n    .dataframe tbody tr th:only-of-type {\n        vertical-align: middle;\n    }\n\n    .dataframe tbody tr th {\n        vertical-align: top;\n    }\n\n    .dataframe thead th {\n        text-align: right;\n    }\n</style>\n<table border=\"1\" class=\"dataframe\">\n  <thead>\n    <tr style=\"text-align: right;\">\n      <th></th>\n      <th>PassengerId</th>\n      <th>Survived</th>\n      <th>Pclass</th>\n      <th>Name</th>\n      <th>Sex</th>\n      <th>Age</th>\n      <th>SibSp</th>\n      <th>Parch</th>\n      <th>Ticket</th>\n      <th>Fare</th>\n      <th>Cabin</th>\n      <th>Embarked</th>\n    </tr>\n  </thead>\n  <tbody>\n    <tr>\n      <th>0</th>\n      <td>1</td>\n      <td>0</td>\n      <td>3</td>\n      <td>Braund, Mr. Owen Harris</td>\n      <td>male</td>\n      <td>22.0</td>\n      <td>1</td>\n      <td>0</td>\n      <td>A/5 21171</td>\n      <td>7.2500</td>\n      <td>NaN</td>\n      <td>S</td>\n    </tr>\n    <tr>\n      <th>1</th>\n      <td>2</td>\n      <td>1</td>\n      <td>1</td>\n      <td>Cumings, Mrs. John Bradley (Florence Briggs Th...</td>\n      <td>female</td>\n      <td>38.0</td>\n      <td>1</td>\n      <td>0</td>\n      <td>PC 17599</td>\n      <td>71.2833</td>\n      <td>C85</td>\n      <td>C</td>\n    </tr>\n    <tr>\n      <th>2</th>\n      <td>3</td>\n      <td>1</td>\n      <td>3</td>\n      <td>Heikkinen, Miss. Laina</td>\n      <td>female</td>\n      <td>26.0</td>\n      <td>0</td>\n      <td>0</td>\n      <td>STON/O2. 3101282</td>\n      <td>7.9250</td>\n      <td>NaN</td>\n      <td>S</td>\n    </tr>\n    <tr>\n      <th>3</th>\n      <td>4</td>\n      <td>1</td>\n      <td>1</td>\n      <td>Futrelle, Mrs. Jacques Heath (Lily May Peel)</td>\n      <td>female</td>\n      <td>35.0</td>\n      <td>1</td>\n      <td>0</td>\n      <td>113803</td>\n      <td>53.1000</td>\n      <td>C123</td>\n      <td>S</td>\n    </tr>\n    <tr>\n      <th>4</th>\n      <td>5</td>\n      <td>0</td>\n      <td>3</td>\n      <td>Allen, Mr. William Henry</td>\n      <td>male</td>\n      <td>35.0</td>\n      <td>0</td>\n      <td>0</td>\n      <td>373450</td>\n      <td>8.0500</td>\n      <td>NaN</td>\n      <td>S</td>\n    </tr>\n    <tr>\n      <th>...</th>\n      <td>...</td>\n      <td>...</td>\n      <td>...</td>\n      <td>...</td>\n      <td>...</td>\n      <td>...</td>\n      <td>...</td>\n      <td>...</td>\n      <td>...</td>\n      <td>...</td>\n      <td>...</td>\n      <td>...</td>\n    </tr>\n    <tr>\n      <th>886</th>\n      <td>887</td>\n      <td>0</td>\n      <td>2</td>\n      <td>Montvila, Rev. Juozas</td>\n      <td>male</td>\n      <td>27.0</td>\n      <td>0</td>\n      <td>0</td>\n      <td>211536</td>\n      <td>13.0000</td>\n      <td>NaN</td>\n      <td>S</td>\n    </tr>\n    <tr>\n      <th>887</th>\n      <td>888</td>\n      <td>1</td>\n      <td>1</td>\n      <td>Graham, Miss. Margaret Edith</td>\n      <td>female</td>\n      <td>19.0</td>\n      <td>0</td>\n      <td>0</td>\n      <td>112053</td>\n      <td>30.0000</td>\n      <td>B42</td>\n      <td>S</td>\n    </tr>\n    <tr>\n      <th>888</th>\n      <td>889</td>\n      <td>0</td>\n      <td>3</td>\n      <td>Johnston, Miss. Catherine Helen \"Carrie\"</td>\n      <td>female</td>\n      <td>NaN</td>\n      <td>1</td>\n      <td>2</td>\n      <td>W./C. 6607</td>\n      <td>23.4500</td>\n      <td>NaN</td>\n      <td>S</td>\n    </tr>\n    <tr>\n      <th>889</th>\n      <td>890</td>\n      <td>1</td>\n      <td>1</td>\n      <td>Behr, Mr. Karl Howell</td>\n      <td>male</td>\n      <td>26.0</td>\n      <td>0</td>\n      <td>0</td>\n      <td>111369</td>\n      <td>30.0000</td>\n      <td>C148</td>\n      <td>C</td>\n    </tr>\n    <tr>\n      <th>890</th>\n      <td>891</td>\n      <td>0</td>\n      <td>3</td>\n      <td>Dooley, Mr. Patrick</td>\n      <td>male</td>\n      <td>32.0</td>\n      <td>0</td>\n      <td>0</td>\n      <td>370376</td>\n      <td>7.7500</td>\n      <td>NaN</td>\n      <td>Q</td>\n    </tr>\n  </tbody>\n</table>\n<p>891 rows × 12 columns</p>\n</div>"
     },
     "execution_count": 140,
     "metadata": {},
     "output_type": "execute_result"
    }
   ],
   "source": [
    "# Load titanic.csv into variable\n",
    "# titanic = pd.read_csv(os.path.join(data_dir,'titanic.csv'))\n",
    "titanic = pd.read_csv('./data_files/titanic.csv')\n",
    "titanic"
   ]
  },
  {
   "cell_type": "code",
   "execution_count": 14,
   "id": "13f7ad8f-8df4-4c98-95b1-7d2b217dde4f",
   "metadata": {},
   "outputs": [],
   "source": [
    "# Load telco_churn into variable. (Telco Customer Churn -- focused customer retention programs)\n",
    "telco_churn = pd.read_csv(os.path.join(data_dir,'telco_churn.csv'))"
   ]
  },
  {
   "cell_type": "code",
   "execution_count": 15,
   "id": "363e3311-08d1-46da-b14f-04aa07f382fe",
   "metadata": {},
   "outputs": [
    {
     "data": {
      "text/plain": "pandas.core.frame.DataFrame"
     },
     "execution_count": 15,
     "metadata": {},
     "output_type": "execute_result"
    }
   ],
   "source": [
    "# Show the type of the object\n",
    "type(titanic)"
   ]
  },
  {
   "cell_type": "code",
   "execution_count": 18,
   "id": "808d4243-0d7e-4151-8993-40a08c4452a7",
   "metadata": {},
   "outputs": [
    {
     "data": {
      "text/plain": "0                                Braund, Mr. Owen Harris\n1      Cumings, Mrs. John Bradley (Florence Briggs Th...\n2                                 Heikkinen, Miss. Laina\n3           Futrelle, Mrs. Jacques Heath (Lily May Peel)\n4                               Allen, Mr. William Henry\n                             ...                        \n886                                Montvila, Rev. Juozas\n887                         Graham, Miss. Margaret Edith\n888             Johnston, Miss. Catherine Helen \"Carrie\"\n889                                Behr, Mr. Karl Howell\n890                                  Dooley, Mr. Patrick\nName: Name, Length: 891, dtype: object"
     },
     "execution_count": 18,
     "metadata": {},
     "output_type": "execute_result"
    }
   ],
   "source": [
    "# Get a series object from the column and show its type\n",
    "titanic['Name']"
   ]
  },
  {
   "cell_type": "code",
   "execution_count": 19,
   "id": "9b528e36-8b74-44d3-b9cd-503ceebc84fe",
   "metadata": {},
   "outputs": [
    {
     "data": {
      "text/plain": "pandas.core.series.Series"
     },
     "execution_count": 19,
     "metadata": {},
     "output_type": "execute_result"
    }
   ],
   "source": [
    "type(titanic['Name'])"
   ]
  },
  {
   "cell_type": "code",
   "execution_count": 20,
   "id": "d794f7a4-942c-44a7-9d18-cb186cd05d43",
   "metadata": {},
   "outputs": [
    {
     "data": {
      "text/plain": "      Job ID                          Agency Posting Type  # Of Positions   \n0     424339   DEPT OF HEALTH/MENTAL HYGIENE     External               1  \\\n1     379094    NYC EMPLOYEES RETIREMENT SYS     External               1   \n2     520417           NYC HOUSING AUTHORITY     External               1   \n3     233549    NYC EMPLOYEES RETIREMENT SYS     External               1   \n4     510256         HUMAN RIGHTS COMMISSION     External               5   \n...      ...                             ...          ...             ...   \n3768  457839    NYC EMPLOYEES RETIREMENT SYS     Internal               1   \n3769  527141  HOUSING PRESERVATION & DVLPMNT     Internal               1   \n3770  509443      FINANCIAL INFO SVCS AGENCY     Internal               1   \n3771  352367   DEPT OF HEALTH/MENTAL HYGIENE     Internal               2   \n3772  478739         HUMAN RIGHTS COMMISSION     External               1   \n\n                                         Business Title   \n0         Triage Nurse, Bureau of Public Health Clinics  \\\n1                 CERTIFIED IT DEVELOPER (APPLICATIONS)   \n2                                   Chief of Settlement   \n3         CERTIFIED IT ADMINISTRATOR (LAN/WAN), LEVEL 4   \n4                     Associate Human Rights Specialist   \n...                                                 ...   \n3768      CERTIFIED IT ADMINISTRATOR (LAN/WAN), LEVEL 2   \n3769  Senior Project Manager, Moderate Rehabilitatio...   \n3770                                      DOE TEAM LEAD   \n3771  Budget Analyst, Bureau of Budget and Revenue/B...   \n3772                         Mediation Program Attorney   \n\n                 Civil Service Title Title Classification Title Code No Level   \n0                PUBLIC HEALTH NURSE        Competitive-1         51011    03  \\\n1            CERT IT DEVELOPER (APP)        Competitive-1         13643    02   \n2           EXECUTIVE AGENCY COUNSEL    Non-Competitive-5         95005    M2   \n3     CERTIFIED IT ADMINISTRATOR (LA        Competitive-1         13652    04   \n4     ASSOCIATE HUMAN RIGHTS SPECIAL        Competitive-1         55038    01   \n...                              ...                  ...           ...   ...   \n3768  CERTIFIED IT ADMINISTRATOR (LA        Competitive-1         13652    02   \n3769   ASSOCIATE HOUSING DEVELOPMENT        Competitive-1         22508    00   \n3770             SENIOR IT ARCHITECT    Non-Competitive-5         95711    00   \n3771                       ECONOMIST        Competitive-1         40910    01   \n3772         AGENCY ATTORNEY INTERNE    Non-Competitive-5         30086    00   \n\n                                     Job Category  ...   \n0                                          Health  ...  \\\n1                   Technology, Data & Innovation  ...   \n2                                   Legal Affairs  ...   \n3     Information Technology & Telecommunications  ...   \n4       Constituent Services & Community Programs  ...   \n...                                           ...  ...   \n3768                Technology, Data & Innovation  ...   \n3769        Engineering, Architecture, & Planning  ...   \n3770                Technology, Data & Innovation  ...   \n3771           Finance, Accounting, & Procurement  ...   \n3772                                Legal Affairs  ...   \n\n                                 Additional Information   \n0     **IMPORTANT NOTES TO ALL CANDIDATES:   Please ...  \\\n1                                                   NaN   \n2     1.  Resume and cover letter must also include ...   \n3                                                   NaN   \n4                                                   NaN   \n...                                                 ...   \n3768                                                NaN   \n3769  This position is opened to qualified persons w...   \n3770                                               P243   \n3771  **IMPORTANT NOTES TO ALL CANDIDATES:  Please n...   \n3772                                                NaN   \n\n                                               To Apply   \n0     Apply online with a cover letter to https://a1...  \\\n1     TO APPLY FOR CONSIDERATION, PLEASE FORWARD A C...   \n2                           Click the Apply Now button.   \n3     Click the 'apply now' button to apply.  Please...   \n4     For City employees: Go to Employee Self-Servic...   \n...                                                 ...   \n3768  TO APPLY FOR CONSIDERATION, PLEASE FORWARD A C...   \n3769                                      Apply online.   \n3770  External applicants please visit https://a127-...   \n3771  Apply online with a cover letter to https://a1...   \n3772  For City employees: Go to Employee Self-Servic...   \n\n                                            Hours/Shift  Work Location 1   \n0                                                   NaN              NaN  \\\n1                                                   NaN              NaN   \n2                                                   NaN              NaN   \n3                                                   NaN              NaN   \n4     : DAY, 9-5; ON OCCASION, CANDIDATES MAY BE REQ...  22 Reade St, Ny   \n...                                                 ...              ...   \n3768                                                NaN              NaN   \n3769                                                NaN  100 Gold Street   \n3770                     Monday â Friday, 9am to 5pm.              NaN   \n3771                                                NaN              NaN   \n3772  35 hours (M-F 9:00 A.M. - 5:00 P.M. with manda...  22 Reade St, NY   \n\n     Recruitment Contact                              Residency Requirement   \n0                    NaN  New York City Residency is not required for th...  \\\n1                    NaN  New York City Residency is not required for th...   \n2                    NaN               NYCHA has no residency requirements.   \n3                    NaN  New York City Residency is not required for th...   \n4                    NaN  New York City residency is generally required ...   \n...                  ...                                                ...   \n3768                 NaN  New York City Residency is not required for th...   \n3769                 NaN  New York City residency is generally required ...   \n3770                 NaN  New York City Residency is not required for th...   \n3771                 NaN  New York City residency is generally required ...   \n3772                 NaN  New York City residency is generally required ...   \n\n     Posting Date   Post Until Posting Updated Process Date  \n0      03/01/2022          NaN      04/05/2022   04/12/2022  \n1      01/07/2019          NaN      01/07/2019   04/12/2022  \n2      03/28/2022          NaN      03/28/2022   04/12/2022  \n3      03/01/2016          NaN      03/01/2016   04/12/2022  \n4      12/16/2021          NaN      12/16/2021   04/12/2022  \n...           ...          ...             ...          ...  \n3768   02/02/2021          NaN      02/17/2021   04/12/2022  \n3769   03/31/2022  30-APR-2022      03/31/2022   04/12/2022  \n3770   12/13/2021          NaN      12/20/2021   04/12/2022  \n3771   07/16/2018          NaN      09/21/2018   04/12/2022  \n3772   08/27/2021          NaN      08/27/2021   04/12/2022  \n\n[3773 rows x 30 columns]",
      "text/html": "<div>\n<style scoped>\n    .dataframe tbody tr th:only-of-type {\n        vertical-align: middle;\n    }\n\n    .dataframe tbody tr th {\n        vertical-align: top;\n    }\n\n    .dataframe thead th {\n        text-align: right;\n    }\n</style>\n<table border=\"1\" class=\"dataframe\">\n  <thead>\n    <tr style=\"text-align: right;\">\n      <th></th>\n      <th>Job ID</th>\n      <th>Agency</th>\n      <th>Posting Type</th>\n      <th># Of Positions</th>\n      <th>Business Title</th>\n      <th>Civil Service Title</th>\n      <th>Title Classification</th>\n      <th>Title Code No</th>\n      <th>Level</th>\n      <th>Job Category</th>\n      <th>...</th>\n      <th>Additional Information</th>\n      <th>To Apply</th>\n      <th>Hours/Shift</th>\n      <th>Work Location 1</th>\n      <th>Recruitment Contact</th>\n      <th>Residency Requirement</th>\n      <th>Posting Date</th>\n      <th>Post Until</th>\n      <th>Posting Updated</th>\n      <th>Process Date</th>\n    </tr>\n  </thead>\n  <tbody>\n    <tr>\n      <th>0</th>\n      <td>424339</td>\n      <td>DEPT OF HEALTH/MENTAL HYGIENE</td>\n      <td>External</td>\n      <td>1</td>\n      <td>Triage Nurse, Bureau of Public Health Clinics</td>\n      <td>PUBLIC HEALTH NURSE</td>\n      <td>Competitive-1</td>\n      <td>51011</td>\n      <td>03</td>\n      <td>Health</td>\n      <td>...</td>\n      <td>**IMPORTANT NOTES TO ALL CANDIDATES:   Please ...</td>\n      <td>Apply online with a cover letter to https://a1...</td>\n      <td>NaN</td>\n      <td>NaN</td>\n      <td>NaN</td>\n      <td>New York City Residency is not required for th...</td>\n      <td>03/01/2022</td>\n      <td>NaN</td>\n      <td>04/05/2022</td>\n      <td>04/12/2022</td>\n    </tr>\n    <tr>\n      <th>1</th>\n      <td>379094</td>\n      <td>NYC EMPLOYEES RETIREMENT SYS</td>\n      <td>External</td>\n      <td>1</td>\n      <td>CERTIFIED IT DEVELOPER (APPLICATIONS)</td>\n      <td>CERT IT DEVELOPER (APP)</td>\n      <td>Competitive-1</td>\n      <td>13643</td>\n      <td>02</td>\n      <td>Technology, Data &amp; Innovation</td>\n      <td>...</td>\n      <td>NaN</td>\n      <td>TO APPLY FOR CONSIDERATION, PLEASE FORWARD A C...</td>\n      <td>NaN</td>\n      <td>NaN</td>\n      <td>NaN</td>\n      <td>New York City Residency is not required for th...</td>\n      <td>01/07/2019</td>\n      <td>NaN</td>\n      <td>01/07/2019</td>\n      <td>04/12/2022</td>\n    </tr>\n    <tr>\n      <th>2</th>\n      <td>520417</td>\n      <td>NYC HOUSING AUTHORITY</td>\n      <td>External</td>\n      <td>1</td>\n      <td>Chief of Settlement</td>\n      <td>EXECUTIVE AGENCY COUNSEL</td>\n      <td>Non-Competitive-5</td>\n      <td>95005</td>\n      <td>M2</td>\n      <td>Legal Affairs</td>\n      <td>...</td>\n      <td>1.  Resume and cover letter must also include ...</td>\n      <td>Click the Apply Now button.</td>\n      <td>NaN</td>\n      <td>NaN</td>\n      <td>NaN</td>\n      <td>NYCHA has no residency requirements.</td>\n      <td>03/28/2022</td>\n      <td>NaN</td>\n      <td>03/28/2022</td>\n      <td>04/12/2022</td>\n    </tr>\n    <tr>\n      <th>3</th>\n      <td>233549</td>\n      <td>NYC EMPLOYEES RETIREMENT SYS</td>\n      <td>External</td>\n      <td>1</td>\n      <td>CERTIFIED IT ADMINISTRATOR (LAN/WAN), LEVEL 4</td>\n      <td>CERTIFIED IT ADMINISTRATOR (LA</td>\n      <td>Competitive-1</td>\n      <td>13652</td>\n      <td>04</td>\n      <td>Information Technology &amp; Telecommunications</td>\n      <td>...</td>\n      <td>NaN</td>\n      <td>Click the 'apply now' button to apply.  Please...</td>\n      <td>NaN</td>\n      <td>NaN</td>\n      <td>NaN</td>\n      <td>New York City Residency is not required for th...</td>\n      <td>03/01/2016</td>\n      <td>NaN</td>\n      <td>03/01/2016</td>\n      <td>04/12/2022</td>\n    </tr>\n    <tr>\n      <th>4</th>\n      <td>510256</td>\n      <td>HUMAN RIGHTS COMMISSION</td>\n      <td>External</td>\n      <td>5</td>\n      <td>Associate Human Rights Specialist</td>\n      <td>ASSOCIATE HUMAN RIGHTS SPECIAL</td>\n      <td>Competitive-1</td>\n      <td>55038</td>\n      <td>01</td>\n      <td>Constituent Services &amp; Community Programs</td>\n      <td>...</td>\n      <td>NaN</td>\n      <td>For City employees: Go to Employee Self-Servic...</td>\n      <td>: DAY, 9-5; ON OCCASION, CANDIDATES MAY BE REQ...</td>\n      <td>22 Reade St, Ny</td>\n      <td>NaN</td>\n      <td>New York City residency is generally required ...</td>\n      <td>12/16/2021</td>\n      <td>NaN</td>\n      <td>12/16/2021</td>\n      <td>04/12/2022</td>\n    </tr>\n    <tr>\n      <th>...</th>\n      <td>...</td>\n      <td>...</td>\n      <td>...</td>\n      <td>...</td>\n      <td>...</td>\n      <td>...</td>\n      <td>...</td>\n      <td>...</td>\n      <td>...</td>\n      <td>...</td>\n      <td>...</td>\n      <td>...</td>\n      <td>...</td>\n      <td>...</td>\n      <td>...</td>\n      <td>...</td>\n      <td>...</td>\n      <td>...</td>\n      <td>...</td>\n      <td>...</td>\n      <td>...</td>\n    </tr>\n    <tr>\n      <th>3768</th>\n      <td>457839</td>\n      <td>NYC EMPLOYEES RETIREMENT SYS</td>\n      <td>Internal</td>\n      <td>1</td>\n      <td>CERTIFIED IT ADMINISTRATOR (LAN/WAN), LEVEL 2</td>\n      <td>CERTIFIED IT ADMINISTRATOR (LA</td>\n      <td>Competitive-1</td>\n      <td>13652</td>\n      <td>02</td>\n      <td>Technology, Data &amp; Innovation</td>\n      <td>...</td>\n      <td>NaN</td>\n      <td>TO APPLY FOR CONSIDERATION, PLEASE FORWARD A C...</td>\n      <td>NaN</td>\n      <td>NaN</td>\n      <td>NaN</td>\n      <td>New York City Residency is not required for th...</td>\n      <td>02/02/2021</td>\n      <td>NaN</td>\n      <td>02/17/2021</td>\n      <td>04/12/2022</td>\n    </tr>\n    <tr>\n      <th>3769</th>\n      <td>527141</td>\n      <td>HOUSING PRESERVATION &amp; DVLPMNT</td>\n      <td>Internal</td>\n      <td>1</td>\n      <td>Senior Project Manager, Moderate Rehabilitatio...</td>\n      <td>ASSOCIATE HOUSING DEVELOPMENT</td>\n      <td>Competitive-1</td>\n      <td>22508</td>\n      <td>00</td>\n      <td>Engineering, Architecture, &amp; Planning</td>\n      <td>...</td>\n      <td>This position is opened to qualified persons w...</td>\n      <td>Apply online.</td>\n      <td>NaN</td>\n      <td>100 Gold Street</td>\n      <td>NaN</td>\n      <td>New York City residency is generally required ...</td>\n      <td>03/31/2022</td>\n      <td>30-APR-2022</td>\n      <td>03/31/2022</td>\n      <td>04/12/2022</td>\n    </tr>\n    <tr>\n      <th>3770</th>\n      <td>509443</td>\n      <td>FINANCIAL INFO SVCS AGENCY</td>\n      <td>Internal</td>\n      <td>1</td>\n      <td>DOE TEAM LEAD</td>\n      <td>SENIOR IT ARCHITECT</td>\n      <td>Non-Competitive-5</td>\n      <td>95711</td>\n      <td>00</td>\n      <td>Technology, Data &amp; Innovation</td>\n      <td>...</td>\n      <td>P243</td>\n      <td>External applicants please visit https://a127-...</td>\n      <td>Monday â Friday, 9am to 5pm.</td>\n      <td>NaN</td>\n      <td>NaN</td>\n      <td>New York City Residency is not required for th...</td>\n      <td>12/13/2021</td>\n      <td>NaN</td>\n      <td>12/20/2021</td>\n      <td>04/12/2022</td>\n    </tr>\n    <tr>\n      <th>3771</th>\n      <td>352367</td>\n      <td>DEPT OF HEALTH/MENTAL HYGIENE</td>\n      <td>Internal</td>\n      <td>2</td>\n      <td>Budget Analyst, Bureau of Budget and Revenue/B...</td>\n      <td>ECONOMIST</td>\n      <td>Competitive-1</td>\n      <td>40910</td>\n      <td>01</td>\n      <td>Finance, Accounting, &amp; Procurement</td>\n      <td>...</td>\n      <td>**IMPORTANT NOTES TO ALL CANDIDATES:  Please n...</td>\n      <td>Apply online with a cover letter to https://a1...</td>\n      <td>NaN</td>\n      <td>NaN</td>\n      <td>NaN</td>\n      <td>New York City residency is generally required ...</td>\n      <td>07/16/2018</td>\n      <td>NaN</td>\n      <td>09/21/2018</td>\n      <td>04/12/2022</td>\n    </tr>\n    <tr>\n      <th>3772</th>\n      <td>478739</td>\n      <td>HUMAN RIGHTS COMMISSION</td>\n      <td>External</td>\n      <td>1</td>\n      <td>Mediation Program Attorney</td>\n      <td>AGENCY ATTORNEY INTERNE</td>\n      <td>Non-Competitive-5</td>\n      <td>30086</td>\n      <td>00</td>\n      <td>Legal Affairs</td>\n      <td>...</td>\n      <td>NaN</td>\n      <td>For City employees: Go to Employee Self-Servic...</td>\n      <td>35 hours (M-F 9:00 A.M. - 5:00 P.M. with manda...</td>\n      <td>22 Reade St, NY</td>\n      <td>NaN</td>\n      <td>New York City residency is generally required ...</td>\n      <td>08/27/2021</td>\n      <td>NaN</td>\n      <td>08/27/2021</td>\n      <td>04/12/2022</td>\n    </tr>\n  </tbody>\n</table>\n<p>3773 rows × 30 columns</p>\n</div>"
     },
     "execution_count": 20,
     "metadata": {},
     "output_type": "execute_result"
    }
   ],
   "source": [
    "# Load NYC_Jobs into variable\n",
    "nyc_jobs = pd.read_csv(os.path.join(data_dir,'nyc_jobs.csv'))\n",
    "nyc_jobs"
   ]
  },
  {
   "cell_type": "markdown",
   "id": "30191464-902e-4ae5-ba6d-52d2666018ec",
   "metadata": {},
   "source": [
    "## Create from dictionary"
   ]
  },
  {
   "cell_type": "code",
   "execution_count": 21,
   "id": "c5cdf273-945c-42d4-aabd-00204e2a90ad",
   "metadata": {},
   "outputs": [],
   "source": [
    "tempdict = {'age': [23, 23, 35, 18], \n",
    "            'gender': [\"male\",\"female\",\"male\",\"female\"], \n",
    "            'hobby': [\"travelling\",\"volleyball\",\"writing\",\"skateboarding\"]}"
   ]
  },
  {
   "cell_type": "code",
   "execution_count": 24,
   "id": "95764b6d-4195-40de-b721-bc8e5ac73401",
   "metadata": {},
   "outputs": [
    {
     "data": {
      "text/plain": "   age  gender          hobby\n0   23    male     travelling\n1   23  female     volleyball\n2   35    male        writing\n3   18  female  skateboarding",
      "text/html": "<div>\n<style scoped>\n    .dataframe tbody tr th:only-of-type {\n        vertical-align: middle;\n    }\n\n    .dataframe tbody tr th {\n        vertical-align: top;\n    }\n\n    .dataframe thead th {\n        text-align: right;\n    }\n</style>\n<table border=\"1\" class=\"dataframe\">\n  <thead>\n    <tr style=\"text-align: right;\">\n      <th></th>\n      <th>age</th>\n      <th>gender</th>\n      <th>hobby</th>\n    </tr>\n  </thead>\n  <tbody>\n    <tr>\n      <th>0</th>\n      <td>23</td>\n      <td>male</td>\n      <td>travelling</td>\n    </tr>\n    <tr>\n      <th>1</th>\n      <td>23</td>\n      <td>female</td>\n      <td>volleyball</td>\n    </tr>\n    <tr>\n      <th>2</th>\n      <td>35</td>\n      <td>male</td>\n      <td>writing</td>\n    </tr>\n    <tr>\n      <th>3</th>\n      <td>18</td>\n      <td>female</td>\n      <td>skateboarding</td>\n    </tr>\n  </tbody>\n</table>\n</div>"
     },
     "execution_count": 24,
     "metadata": {},
     "output_type": "execute_result"
    }
   ],
   "source": [
    "users = pd.DataFrame.from_dict(tempdict)\n",
    "users"
   ]
  },
  {
   "cell_type": "markdown",
   "id": "ca28f491-ef13-4829-ac36-c35afecd480a",
   "metadata": {},
   "source": [
    "## Create from numpy array"
   ]
  },
  {
   "cell_type": "code",
   "execution_count": 27,
   "id": "149648d4-50cc-4023-af5b-0a3d23e5d43b",
   "metadata": {},
   "outputs": [
    {
     "data": {
      "text/plain": "array([[ 0,  3],\n       [10,  7],\n       [20,  9],\n       [30, 14],\n       [40, 15]])"
     },
     "execution_count": 27,
     "metadata": {},
     "output_type": "execute_result"
    }
   ],
   "source": [
    "my_data = np.array([[0, 3], [10, 7], [20, 9], [30, 14], [40, 15]])\n",
    "my_data"
   ]
  },
  {
   "cell_type": "code",
   "execution_count": 28,
   "id": "57be3d57-3f6f-44f9-b783-f9d679180a16",
   "metadata": {},
   "outputs": [
    {
     "data": {
      "text/plain": "   temperature  activity\n0            0         3\n1           10         7\n2           20         9\n3           30        14\n4           40        15",
      "text/html": "<div>\n<style scoped>\n    .dataframe tbody tr th:only-of-type {\n        vertical-align: middle;\n    }\n\n    .dataframe tbody tr th {\n        vertical-align: top;\n    }\n\n    .dataframe thead th {\n        text-align: right;\n    }\n</style>\n<table border=\"1\" class=\"dataframe\">\n  <thead>\n    <tr style=\"text-align: right;\">\n      <th></th>\n      <th>temperature</th>\n      <th>activity</th>\n    </tr>\n  </thead>\n  <tbody>\n    <tr>\n      <th>0</th>\n      <td>0</td>\n      <td>3</td>\n    </tr>\n    <tr>\n      <th>1</th>\n      <td>10</td>\n      <td>7</td>\n    </tr>\n    <tr>\n      <th>2</th>\n      <td>20</td>\n      <td>9</td>\n    </tr>\n    <tr>\n      <th>3</th>\n      <td>30</td>\n      <td>14</td>\n    </tr>\n    <tr>\n      <th>4</th>\n      <td>40</td>\n      <td>15</td>\n    </tr>\n  </tbody>\n</table>\n</div>"
     },
     "execution_count": 28,
     "metadata": {},
     "output_type": "execute_result"
    }
   ],
   "source": [
    "my_column_names = ['temperature','activity']\n",
    "my_dataframe = pd.DataFrame(data=my_data, columns=my_column_names)\n",
    "my_dataframe"
   ]
  },
  {
   "cell_type": "markdown",
   "id": "735a4ec2-0a7c-46a0-8294-8c4cf87b046f",
   "metadata": {},
   "source": [
    "# Read"
   ]
  },
  {
   "cell_type": "markdown",
   "id": "9f97765b-2b64-4cb4-a8ae-f84b2650dd44",
   "metadata": {},
   "source": [
    "## Show top 5 and bottom 5 rows"
   ]
  },
  {
   "cell_type": "code",
   "execution_count": 29,
   "id": "078c1158-48f9-485a-abec-efe7a95e59b1",
   "metadata": {},
   "outputs": [
    {
     "data": {
      "text/plain": "  State  Account length  Area code International plan Voice mail plan   \n0    KS             128        415                 No             Yes  \\\n1    OH             107        415                 No             Yes   \n2    NJ             137        415                 No              No   \n3    OH              84        408                Yes              No   \n4    OK              75        415                Yes              No   \n\n   Number vmail messages  Total day minutes  Total day calls   \n0                     25              265.1            110.0  \\\n1                     26              161.6            123.0   \n2                      0              243.4            114.0   \n3                      0              299.4             71.0   \n4                      0              166.7            113.0   \n\n   Total day charge  Total eve minutes  Total eve calls  Total eve charge   \n0             45.07              197.4             99.0             16.78  \\\n1             27.47              195.5            103.0             16.62   \n2             41.38              121.2            110.0             10.30   \n3             50.90               61.9             88.0              5.26   \n4             28.34              148.3            122.0             12.61   \n\n   Total night minutes  Total night calls  Total night charge   \n0                244.7               91.0               11.01  \\\n1                254.4              103.0               11.45   \n2                162.6              104.0                7.32   \n3                196.9               89.0                8.86   \n4                186.9              121.0                8.41   \n\n   Total intl minutes  Total intl calls  Total intl charge   \n0                10.0                 3               2.70  \\\n1                13.7                 3               3.70   \n2                12.2                 5               3.29   \n3                 6.6                 7               1.78   \n4                10.1                 3               2.73   \n\n   Customer service calls  Churn  \n0                     1.0  False  \n1                     1.0  False  \n2                     0.0  False  \n3                     2.0  False  \n4                     3.0  False  ",
      "text/html": "<div>\n<style scoped>\n    .dataframe tbody tr th:only-of-type {\n        vertical-align: middle;\n    }\n\n    .dataframe tbody tr th {\n        vertical-align: top;\n    }\n\n    .dataframe thead th {\n        text-align: right;\n    }\n</style>\n<table border=\"1\" class=\"dataframe\">\n  <thead>\n    <tr style=\"text-align: right;\">\n      <th></th>\n      <th>State</th>\n      <th>Account length</th>\n      <th>Area code</th>\n      <th>International plan</th>\n      <th>Voice mail plan</th>\n      <th>Number vmail messages</th>\n      <th>Total day minutes</th>\n      <th>Total day calls</th>\n      <th>Total day charge</th>\n      <th>Total eve minutes</th>\n      <th>Total eve calls</th>\n      <th>Total eve charge</th>\n      <th>Total night minutes</th>\n      <th>Total night calls</th>\n      <th>Total night charge</th>\n      <th>Total intl minutes</th>\n      <th>Total intl calls</th>\n      <th>Total intl charge</th>\n      <th>Customer service calls</th>\n      <th>Churn</th>\n    </tr>\n  </thead>\n  <tbody>\n    <tr>\n      <th>0</th>\n      <td>KS</td>\n      <td>128</td>\n      <td>415</td>\n      <td>No</td>\n      <td>Yes</td>\n      <td>25</td>\n      <td>265.1</td>\n      <td>110.0</td>\n      <td>45.07</td>\n      <td>197.4</td>\n      <td>99.0</td>\n      <td>16.78</td>\n      <td>244.7</td>\n      <td>91.0</td>\n      <td>11.01</td>\n      <td>10.0</td>\n      <td>3</td>\n      <td>2.70</td>\n      <td>1.0</td>\n      <td>False</td>\n    </tr>\n    <tr>\n      <th>1</th>\n      <td>OH</td>\n      <td>107</td>\n      <td>415</td>\n      <td>No</td>\n      <td>Yes</td>\n      <td>26</td>\n      <td>161.6</td>\n      <td>123.0</td>\n      <td>27.47</td>\n      <td>195.5</td>\n      <td>103.0</td>\n      <td>16.62</td>\n      <td>254.4</td>\n      <td>103.0</td>\n      <td>11.45</td>\n      <td>13.7</td>\n      <td>3</td>\n      <td>3.70</td>\n      <td>1.0</td>\n      <td>False</td>\n    </tr>\n    <tr>\n      <th>2</th>\n      <td>NJ</td>\n      <td>137</td>\n      <td>415</td>\n      <td>No</td>\n      <td>No</td>\n      <td>0</td>\n      <td>243.4</td>\n      <td>114.0</td>\n      <td>41.38</td>\n      <td>121.2</td>\n      <td>110.0</td>\n      <td>10.30</td>\n      <td>162.6</td>\n      <td>104.0</td>\n      <td>7.32</td>\n      <td>12.2</td>\n      <td>5</td>\n      <td>3.29</td>\n      <td>0.0</td>\n      <td>False</td>\n    </tr>\n    <tr>\n      <th>3</th>\n      <td>OH</td>\n      <td>84</td>\n      <td>408</td>\n      <td>Yes</td>\n      <td>No</td>\n      <td>0</td>\n      <td>299.4</td>\n      <td>71.0</td>\n      <td>50.90</td>\n      <td>61.9</td>\n      <td>88.0</td>\n      <td>5.26</td>\n      <td>196.9</td>\n      <td>89.0</td>\n      <td>8.86</td>\n      <td>6.6</td>\n      <td>7</td>\n      <td>1.78</td>\n      <td>2.0</td>\n      <td>False</td>\n    </tr>\n    <tr>\n      <th>4</th>\n      <td>OK</td>\n      <td>75</td>\n      <td>415</td>\n      <td>Yes</td>\n      <td>No</td>\n      <td>0</td>\n      <td>166.7</td>\n      <td>113.0</td>\n      <td>28.34</td>\n      <td>148.3</td>\n      <td>122.0</td>\n      <td>12.61</td>\n      <td>186.9</td>\n      <td>121.0</td>\n      <td>8.41</td>\n      <td>10.1</td>\n      <td>3</td>\n      <td>2.73</td>\n      <td>3.0</td>\n      <td>False</td>\n    </tr>\n  </tbody>\n</table>\n</div>"
     },
     "execution_count": 29,
     "metadata": {},
     "output_type": "execute_result"
    }
   ],
   "source": [
    "telco_churn.head()"
   ]
  },
  {
   "cell_type": "code",
   "execution_count": 31,
   "id": "9307b6c5-0060-46a9-a425-c7fbf94ad08e",
   "metadata": {},
   "outputs": [
    {
     "data": {
      "text/plain": "     State  Account length  Area code International plan Voice mail plan   \n3328    AZ             192        415                 No             Yes  \\\n3329    WV              68        415                 No              No   \n3330    RI              28        510                 No              No   \n3331    CT             184        510                Yes              No   \n3332    TN              74        415                 No             Yes   \n\n      Number vmail messages  Total day minutes  Total day calls   \n3328                     36              156.2             77.0  \\\n3329                      0              231.1             57.0   \n3330                      0              180.8            109.0   \n3331                      0              213.8            105.0   \n3332                     25              234.4            113.0   \n\n      Total day charge  Total eve minutes  Total eve calls  Total eve charge   \n3328             26.55              215.5            126.0             18.32  \\\n3329             39.29              153.4             55.0             13.04   \n3330             30.74              288.8             58.0             24.55   \n3331             36.35              159.6             84.0             13.57   \n3332             39.85              265.9             82.0             22.60   \n\n      Total night minutes  Total night calls  Total night charge   \n3328                279.1               83.0               12.56  \\\n3329                191.3              123.0                8.61   \n3330                191.9               91.0                8.64   \n3331                139.2              137.0                6.26   \n3332                241.4               77.0               10.86   \n\n      Total intl minutes  Total intl calls  Total intl charge   \n3328                 9.9                 6               2.67  \\\n3329                 9.6                 4               2.59   \n3330                14.1                 6               3.81   \n3331                 5.0                10               1.35   \n3332                13.7                 4               3.70   \n\n      Customer service calls  Churn  \n3328                     2.0  False  \n3329                     3.0  False  \n3330                     2.0  False  \n3331                     2.0  False  \n3332                     0.0  False  ",
      "text/html": "<div>\n<style scoped>\n    .dataframe tbody tr th:only-of-type {\n        vertical-align: middle;\n    }\n\n    .dataframe tbody tr th {\n        vertical-align: top;\n    }\n\n    .dataframe thead th {\n        text-align: right;\n    }\n</style>\n<table border=\"1\" class=\"dataframe\">\n  <thead>\n    <tr style=\"text-align: right;\">\n      <th></th>\n      <th>State</th>\n      <th>Account length</th>\n      <th>Area code</th>\n      <th>International plan</th>\n      <th>Voice mail plan</th>\n      <th>Number vmail messages</th>\n      <th>Total day minutes</th>\n      <th>Total day calls</th>\n      <th>Total day charge</th>\n      <th>Total eve minutes</th>\n      <th>Total eve calls</th>\n      <th>Total eve charge</th>\n      <th>Total night minutes</th>\n      <th>Total night calls</th>\n      <th>Total night charge</th>\n      <th>Total intl minutes</th>\n      <th>Total intl calls</th>\n      <th>Total intl charge</th>\n      <th>Customer service calls</th>\n      <th>Churn</th>\n    </tr>\n  </thead>\n  <tbody>\n    <tr>\n      <th>3328</th>\n      <td>AZ</td>\n      <td>192</td>\n      <td>415</td>\n      <td>No</td>\n      <td>Yes</td>\n      <td>36</td>\n      <td>156.2</td>\n      <td>77.0</td>\n      <td>26.55</td>\n      <td>215.5</td>\n      <td>126.0</td>\n      <td>18.32</td>\n      <td>279.1</td>\n      <td>83.0</td>\n      <td>12.56</td>\n      <td>9.9</td>\n      <td>6</td>\n      <td>2.67</td>\n      <td>2.0</td>\n      <td>False</td>\n    </tr>\n    <tr>\n      <th>3329</th>\n      <td>WV</td>\n      <td>68</td>\n      <td>415</td>\n      <td>No</td>\n      <td>No</td>\n      <td>0</td>\n      <td>231.1</td>\n      <td>57.0</td>\n      <td>39.29</td>\n      <td>153.4</td>\n      <td>55.0</td>\n      <td>13.04</td>\n      <td>191.3</td>\n      <td>123.0</td>\n      <td>8.61</td>\n      <td>9.6</td>\n      <td>4</td>\n      <td>2.59</td>\n      <td>3.0</td>\n      <td>False</td>\n    </tr>\n    <tr>\n      <th>3330</th>\n      <td>RI</td>\n      <td>28</td>\n      <td>510</td>\n      <td>No</td>\n      <td>No</td>\n      <td>0</td>\n      <td>180.8</td>\n      <td>109.0</td>\n      <td>30.74</td>\n      <td>288.8</td>\n      <td>58.0</td>\n      <td>24.55</td>\n      <td>191.9</td>\n      <td>91.0</td>\n      <td>8.64</td>\n      <td>14.1</td>\n      <td>6</td>\n      <td>3.81</td>\n      <td>2.0</td>\n      <td>False</td>\n    </tr>\n    <tr>\n      <th>3331</th>\n      <td>CT</td>\n      <td>184</td>\n      <td>510</td>\n      <td>Yes</td>\n      <td>No</td>\n      <td>0</td>\n      <td>213.8</td>\n      <td>105.0</td>\n      <td>36.35</td>\n      <td>159.6</td>\n      <td>84.0</td>\n      <td>13.57</td>\n      <td>139.2</td>\n      <td>137.0</td>\n      <td>6.26</td>\n      <td>5.0</td>\n      <td>10</td>\n      <td>1.35</td>\n      <td>2.0</td>\n      <td>False</td>\n    </tr>\n    <tr>\n      <th>3332</th>\n      <td>TN</td>\n      <td>74</td>\n      <td>415</td>\n      <td>No</td>\n      <td>Yes</td>\n      <td>25</td>\n      <td>234.4</td>\n      <td>113.0</td>\n      <td>39.85</td>\n      <td>265.9</td>\n      <td>82.0</td>\n      <td>22.60</td>\n      <td>241.4</td>\n      <td>77.0</td>\n      <td>10.86</td>\n      <td>13.7</td>\n      <td>4</td>\n      <td>3.70</td>\n      <td>0.0</td>\n      <td>False</td>\n    </tr>\n  </tbody>\n</table>\n</div>"
     },
     "execution_count": 31,
     "metadata": {},
     "output_type": "execute_result"
    }
   ],
   "source": [
    "telco_churn.tail()"
   ]
  },
  {
   "cell_type": "markdown",
   "id": "dbe0794b-e8f9-495a-836c-5baffa492f5a",
   "metadata": {
    "tags": []
   },
   "source": [
    "# Extracting parts of the dataframe"
   ]
  },
  {
   "cell_type": "markdown",
   "id": "15a0fe0b-168b-4c35-9208-84e9cbb7a7be",
   "metadata": {},
   "source": [
    "## Show columns and data type"
   ]
  },
  {
   "cell_type": "code",
   "execution_count": 32,
   "id": "d5189aca-a515-4baa-bd2f-f8f74df8ac00",
   "metadata": {},
   "outputs": [
    {
     "data": {
      "text/plain": "Index(['PassengerId', 'Survived', 'Pclass', 'Name', 'Sex', 'Age', 'SibSp',\n       'Parch', 'Ticket', 'Fare', 'Cabin', 'Embarked'],\n      dtype='object')"
     },
     "execution_count": 32,
     "metadata": {},
     "output_type": "execute_result"
    }
   ],
   "source": [
    "titanic.columns"
   ]
  },
  {
   "cell_type": "code",
   "execution_count": 33,
   "id": "e65becb1-baa8-4895-8fe0-d09f82dec3bb",
   "metadata": {},
   "outputs": [
    {
     "data": {
      "text/plain": "Index(['State', 'Account length', 'Area code', 'International plan',\n       'Voice mail plan', 'Number vmail messages', 'Total day minutes',\n       'Total day calls', 'Total day charge', 'Total eve minutes',\n       'Total eve calls', 'Total eve charge', 'Total night minutes',\n       'Total night calls', 'Total night charge', 'Total intl minutes',\n       'Total intl calls', 'Total intl charge', 'Customer service calls',\n       'Churn'],\n      dtype='object')"
     },
     "execution_count": 33,
     "metadata": {},
     "output_type": "execute_result"
    }
   ],
   "source": [
    "telco_churn.columns"
   ]
  },
  {
   "cell_type": "code",
   "execution_count": 34,
   "id": "5f5e72cd-bf99-412b-a14e-681351fbc35a",
   "metadata": {},
   "outputs": [
    {
     "data": {
      "text/plain": "                                                  Name   Age\n0                              Braund, Mr. Owen Harris  22.0\n1    Cumings, Mrs. John Bradley (Florence Briggs Th...  38.0\n2                               Heikkinen, Miss. Laina  26.0\n3         Futrelle, Mrs. Jacques Heath (Lily May Peel)  35.0\n4                             Allen, Mr. William Henry  35.0\n..                                                 ...   ...\n886                              Montvila, Rev. Juozas  27.0\n887                       Graham, Miss. Margaret Edith  19.0\n888           Johnston, Miss. Catherine Helen \"Carrie\"   NaN\n889                              Behr, Mr. Karl Howell  26.0\n890                                Dooley, Mr. Patrick  32.0\n\n[891 rows x 2 columns]",
      "text/html": "<div>\n<style scoped>\n    .dataframe tbody tr th:only-of-type {\n        vertical-align: middle;\n    }\n\n    .dataframe tbody tr th {\n        vertical-align: top;\n    }\n\n    .dataframe thead th {\n        text-align: right;\n    }\n</style>\n<table border=\"1\" class=\"dataframe\">\n  <thead>\n    <tr style=\"text-align: right;\">\n      <th></th>\n      <th>Name</th>\n      <th>Age</th>\n    </tr>\n  </thead>\n  <tbody>\n    <tr>\n      <th>0</th>\n      <td>Braund, Mr. Owen Harris</td>\n      <td>22.0</td>\n    </tr>\n    <tr>\n      <th>1</th>\n      <td>Cumings, Mrs. John Bradley (Florence Briggs Th...</td>\n      <td>38.0</td>\n    </tr>\n    <tr>\n      <th>2</th>\n      <td>Heikkinen, Miss. Laina</td>\n      <td>26.0</td>\n    </tr>\n    <tr>\n      <th>3</th>\n      <td>Futrelle, Mrs. Jacques Heath (Lily May Peel)</td>\n      <td>35.0</td>\n    </tr>\n    <tr>\n      <th>4</th>\n      <td>Allen, Mr. William Henry</td>\n      <td>35.0</td>\n    </tr>\n    <tr>\n      <th>...</th>\n      <td>...</td>\n      <td>...</td>\n    </tr>\n    <tr>\n      <th>886</th>\n      <td>Montvila, Rev. Juozas</td>\n      <td>27.0</td>\n    </tr>\n    <tr>\n      <th>887</th>\n      <td>Graham, Miss. Margaret Edith</td>\n      <td>19.0</td>\n    </tr>\n    <tr>\n      <th>888</th>\n      <td>Johnston, Miss. Catherine Helen \"Carrie\"</td>\n      <td>NaN</td>\n    </tr>\n    <tr>\n      <th>889</th>\n      <td>Behr, Mr. Karl Howell</td>\n      <td>26.0</td>\n    </tr>\n    <tr>\n      <th>890</th>\n      <td>Dooley, Mr. Patrick</td>\n      <td>32.0</td>\n    </tr>\n  </tbody>\n</table>\n<p>891 rows × 2 columns</p>\n</div>"
     },
     "execution_count": 34,
     "metadata": {},
     "output_type": "execute_result"
    }
   ],
   "source": [
    "titanic[['Name','Age']]"
   ]
  },
  {
   "cell_type": "code",
   "execution_count": 35,
   "id": "e8159940-c503-4d39-9af9-9d11f6907aa3",
   "metadata": {},
   "outputs": [
    {
     "data": {
      "text/plain": "State                      object\nAccount length              int64\nArea code                   int64\nInternational plan         object\nVoice mail plan            object\nNumber vmail messages       int64\nTotal day minutes         float64\nTotal day calls           float64\nTotal day charge          float64\nTotal eve minutes         float64\nTotal eve calls           float64\nTotal eve charge          float64\nTotal night minutes       float64\nTotal night calls         float64\nTotal night charge        float64\nTotal intl minutes        float64\nTotal intl calls            int64\nTotal intl charge         float64\nCustomer service calls    float64\nChurn                      object\ndtype: object"
     },
     "execution_count": 35,
     "metadata": {},
     "output_type": "execute_result"
    }
   ],
   "source": [
    "telco_churn.dtypes"
   ]
  },
  {
   "cell_type": "code",
   "execution_count": 36,
   "id": "ff7ecced-a8a1-4648-9d70-7aa0b7d07611",
   "metadata": {},
   "outputs": [
    {
     "data": {
      "text/plain": "pandas.core.frame.DataFrame"
     },
     "execution_count": 36,
     "metadata": {},
     "output_type": "execute_result"
    }
   ],
   "source": [
    "type(titanic[['Name','Age']])"
   ]
  },
  {
   "cell_type": "markdown",
   "id": "b677f520-16c3-48bf-9f20-2a3ccbbc4299",
   "metadata": {},
   "source": [
    "## Summary statistics"
   ]
  },
  {
   "cell_type": "code",
   "execution_count": 40,
   "id": "b1bd13fe-e46c-4f15-8e61-e1cf9e7e4466",
   "metadata": {},
   "outputs": [
    {
     "data": {
      "text/plain": "       PassengerId    Survived      Pclass         Age       SibSp   \ncount   891.000000  891.000000  891.000000  714.000000  891.000000  \\\nmean    446.000000    0.383838    2.308642   29.699118    0.523008   \nstd     257.353842    0.486592    0.836071   14.526497    1.102743   \nmin       1.000000    0.000000    1.000000    0.420000    0.000000   \n25%     223.500000    0.000000    2.000000   20.125000    0.000000   \n50%     446.000000    0.000000    3.000000   28.000000    0.000000   \n75%     668.500000    1.000000    3.000000   38.000000    1.000000   \nmax     891.000000    1.000000    3.000000   80.000000    8.000000   \n\n            Parch        Fare  \ncount  891.000000  891.000000  \nmean     0.381594   32.204208  \nstd      0.806057   49.693429  \nmin      0.000000    0.000000  \n25%      0.000000    7.910400  \n50%      0.000000   14.454200  \n75%      0.000000   31.000000  \nmax      6.000000  512.329200  ",
      "text/html": "<div>\n<style scoped>\n    .dataframe tbody tr th:only-of-type {\n        vertical-align: middle;\n    }\n\n    .dataframe tbody tr th {\n        vertical-align: top;\n    }\n\n    .dataframe thead th {\n        text-align: right;\n    }\n</style>\n<table border=\"1\" class=\"dataframe\">\n  <thead>\n    <tr style=\"text-align: right;\">\n      <th></th>\n      <th>PassengerId</th>\n      <th>Survived</th>\n      <th>Pclass</th>\n      <th>Age</th>\n      <th>SibSp</th>\n      <th>Parch</th>\n      <th>Fare</th>\n    </tr>\n  </thead>\n  <tbody>\n    <tr>\n      <th>count</th>\n      <td>891.000000</td>\n      <td>891.000000</td>\n      <td>891.000000</td>\n      <td>714.000000</td>\n      <td>891.000000</td>\n      <td>891.000000</td>\n      <td>891.000000</td>\n    </tr>\n    <tr>\n      <th>mean</th>\n      <td>446.000000</td>\n      <td>0.383838</td>\n      <td>2.308642</td>\n      <td>29.699118</td>\n      <td>0.523008</td>\n      <td>0.381594</td>\n      <td>32.204208</td>\n    </tr>\n    <tr>\n      <th>std</th>\n      <td>257.353842</td>\n      <td>0.486592</td>\n      <td>0.836071</td>\n      <td>14.526497</td>\n      <td>1.102743</td>\n      <td>0.806057</td>\n      <td>49.693429</td>\n    </tr>\n    <tr>\n      <th>min</th>\n      <td>1.000000</td>\n      <td>0.000000</td>\n      <td>1.000000</td>\n      <td>0.420000</td>\n      <td>0.000000</td>\n      <td>0.000000</td>\n      <td>0.000000</td>\n    </tr>\n    <tr>\n      <th>25%</th>\n      <td>223.500000</td>\n      <td>0.000000</td>\n      <td>2.000000</td>\n      <td>20.125000</td>\n      <td>0.000000</td>\n      <td>0.000000</td>\n      <td>7.910400</td>\n    </tr>\n    <tr>\n      <th>50%</th>\n      <td>446.000000</td>\n      <td>0.000000</td>\n      <td>3.000000</td>\n      <td>28.000000</td>\n      <td>0.000000</td>\n      <td>0.000000</td>\n      <td>14.454200</td>\n    </tr>\n    <tr>\n      <th>75%</th>\n      <td>668.500000</td>\n      <td>1.000000</td>\n      <td>3.000000</td>\n      <td>38.000000</td>\n      <td>1.000000</td>\n      <td>0.000000</td>\n      <td>31.000000</td>\n    </tr>\n    <tr>\n      <th>max</th>\n      <td>891.000000</td>\n      <td>1.000000</td>\n      <td>3.000000</td>\n      <td>80.000000</td>\n      <td>8.000000</td>\n      <td>6.000000</td>\n      <td>512.329200</td>\n    </tr>\n  </tbody>\n</table>\n</div>"
     },
     "execution_count": 40,
     "metadata": {},
     "output_type": "execute_result"
    }
   ],
   "source": [
    "# Describe titanic data frame\n",
    "titanic.describe()"
   ]
  },
  {
   "cell_type": "code",
   "execution_count": 41,
   "id": "821b2f7b-d70b-4c9b-97b7-17dd4b6ae543",
   "metadata": {},
   "outputs": [
    {
     "data": {
      "text/plain": "       Account length    Area code  Number vmail messages  Total day minutes   \ncount     3333.000000  3333.000000            3333.000000        3323.000000  \\\nmean       101.064806   437.182418               8.099010         179.787150   \nstd         39.822106    42.371290              13.688365          54.419625   \nmin          1.000000   408.000000               0.000000           0.000000   \n25%         74.000000   408.000000               0.000000         143.700000   \n50%        101.000000   415.000000               0.000000         179.400000   \n75%        127.000000   510.000000              20.000000         216.500000   \nmax        243.000000   510.000000              51.000000         350.800000   \n\n       Total day calls  Total day charge  Total eve minutes  Total eve calls   \ncount      3323.000000       3315.000000        3324.000000      3325.000000  \\\nmean        100.456214         30.557831         201.033935       100.110677   \nstd          20.057356          9.255987          50.676652        19.932115   \nmin           0.000000          0.000000           0.000000         0.000000   \n25%          87.000000         24.420000         166.600000        87.000000   \n50%         101.000000         30.500000         201.400000       100.000000   \n75%         114.000000         36.780000         235.325000       114.000000   \nmax         165.000000         59.640000         363.700000       170.000000   \n\n       Total eve charge  Total night minutes  Total night calls   \ncount       3333.000000          3333.000000        3332.000000  \\\nmean          17.083540           200.872037         100.115246   \nstd            4.310668            50.573847          19.566710   \nmin            0.000000            23.200000          33.000000   \n25%           14.160000           167.000000          87.000000   \n50%           17.120000           201.200000         100.000000   \n75%           20.000000           235.300000         113.000000   \nmax           30.910000           395.000000         175.000000   \n\n       Total night charge  Total intl minutes  Total intl calls   \ncount         3333.000000         3333.000000       3333.000000  \\\nmean             9.039325           10.237294          4.479448   \nstd              2.275873            2.791840          2.461214   \nmin              1.040000            0.000000          0.000000   \n25%              7.520000            8.500000          3.000000   \n50%              9.050000           10.300000          4.000000   \n75%             10.590000           12.100000          6.000000   \nmax             17.770000           20.000000         20.000000   \n\n       Total intl charge  Customer service calls  \ncount        3328.000000             3328.000000  \nmean            2.764588                1.563101  \nstd             0.754086                1.315870  \nmin             0.000000                0.000000  \n25%             2.300000                1.000000  \n50%             2.780000                1.000000  \n75%             3.270000                2.000000  \nmax             5.400000                9.000000  ",
      "text/html": "<div>\n<style scoped>\n    .dataframe tbody tr th:only-of-type {\n        vertical-align: middle;\n    }\n\n    .dataframe tbody tr th {\n        vertical-align: top;\n    }\n\n    .dataframe thead th {\n        text-align: right;\n    }\n</style>\n<table border=\"1\" class=\"dataframe\">\n  <thead>\n    <tr style=\"text-align: right;\">\n      <th></th>\n      <th>Account length</th>\n      <th>Area code</th>\n      <th>Number vmail messages</th>\n      <th>Total day minutes</th>\n      <th>Total day calls</th>\n      <th>Total day charge</th>\n      <th>Total eve minutes</th>\n      <th>Total eve calls</th>\n      <th>Total eve charge</th>\n      <th>Total night minutes</th>\n      <th>Total night calls</th>\n      <th>Total night charge</th>\n      <th>Total intl minutes</th>\n      <th>Total intl calls</th>\n      <th>Total intl charge</th>\n      <th>Customer service calls</th>\n    </tr>\n  </thead>\n  <tbody>\n    <tr>\n      <th>count</th>\n      <td>3333.000000</td>\n      <td>3333.000000</td>\n      <td>3333.000000</td>\n      <td>3323.000000</td>\n      <td>3323.000000</td>\n      <td>3315.000000</td>\n      <td>3324.000000</td>\n      <td>3325.000000</td>\n      <td>3333.000000</td>\n      <td>3333.000000</td>\n      <td>3332.000000</td>\n      <td>3333.000000</td>\n      <td>3333.000000</td>\n      <td>3333.000000</td>\n      <td>3328.000000</td>\n      <td>3328.000000</td>\n    </tr>\n    <tr>\n      <th>mean</th>\n      <td>101.064806</td>\n      <td>437.182418</td>\n      <td>8.099010</td>\n      <td>179.787150</td>\n      <td>100.456214</td>\n      <td>30.557831</td>\n      <td>201.033935</td>\n      <td>100.110677</td>\n      <td>17.083540</td>\n      <td>200.872037</td>\n      <td>100.115246</td>\n      <td>9.039325</td>\n      <td>10.237294</td>\n      <td>4.479448</td>\n      <td>2.764588</td>\n      <td>1.563101</td>\n    </tr>\n    <tr>\n      <th>std</th>\n      <td>39.822106</td>\n      <td>42.371290</td>\n      <td>13.688365</td>\n      <td>54.419625</td>\n      <td>20.057356</td>\n      <td>9.255987</td>\n      <td>50.676652</td>\n      <td>19.932115</td>\n      <td>4.310668</td>\n      <td>50.573847</td>\n      <td>19.566710</td>\n      <td>2.275873</td>\n      <td>2.791840</td>\n      <td>2.461214</td>\n      <td>0.754086</td>\n      <td>1.315870</td>\n    </tr>\n    <tr>\n      <th>min</th>\n      <td>1.000000</td>\n      <td>408.000000</td>\n      <td>0.000000</td>\n      <td>0.000000</td>\n      <td>0.000000</td>\n      <td>0.000000</td>\n      <td>0.000000</td>\n      <td>0.000000</td>\n      <td>0.000000</td>\n      <td>23.200000</td>\n      <td>33.000000</td>\n      <td>1.040000</td>\n      <td>0.000000</td>\n      <td>0.000000</td>\n      <td>0.000000</td>\n      <td>0.000000</td>\n    </tr>\n    <tr>\n      <th>25%</th>\n      <td>74.000000</td>\n      <td>408.000000</td>\n      <td>0.000000</td>\n      <td>143.700000</td>\n      <td>87.000000</td>\n      <td>24.420000</td>\n      <td>166.600000</td>\n      <td>87.000000</td>\n      <td>14.160000</td>\n      <td>167.000000</td>\n      <td>87.000000</td>\n      <td>7.520000</td>\n      <td>8.500000</td>\n      <td>3.000000</td>\n      <td>2.300000</td>\n      <td>1.000000</td>\n    </tr>\n    <tr>\n      <th>50%</th>\n      <td>101.000000</td>\n      <td>415.000000</td>\n      <td>0.000000</td>\n      <td>179.400000</td>\n      <td>101.000000</td>\n      <td>30.500000</td>\n      <td>201.400000</td>\n      <td>100.000000</td>\n      <td>17.120000</td>\n      <td>201.200000</td>\n      <td>100.000000</td>\n      <td>9.050000</td>\n      <td>10.300000</td>\n      <td>4.000000</td>\n      <td>2.780000</td>\n      <td>1.000000</td>\n    </tr>\n    <tr>\n      <th>75%</th>\n      <td>127.000000</td>\n      <td>510.000000</td>\n      <td>20.000000</td>\n      <td>216.500000</td>\n      <td>114.000000</td>\n      <td>36.780000</td>\n      <td>235.325000</td>\n      <td>114.000000</td>\n      <td>20.000000</td>\n      <td>235.300000</td>\n      <td>113.000000</td>\n      <td>10.590000</td>\n      <td>12.100000</td>\n      <td>6.000000</td>\n      <td>3.270000</td>\n      <td>2.000000</td>\n    </tr>\n    <tr>\n      <th>max</th>\n      <td>243.000000</td>\n      <td>510.000000</td>\n      <td>51.000000</td>\n      <td>350.800000</td>\n      <td>165.000000</td>\n      <td>59.640000</td>\n      <td>363.700000</td>\n      <td>170.000000</td>\n      <td>30.910000</td>\n      <td>395.000000</td>\n      <td>175.000000</td>\n      <td>17.770000</td>\n      <td>20.000000</td>\n      <td>20.000000</td>\n      <td>5.400000</td>\n      <td>9.000000</td>\n    </tr>\n  </tbody>\n</table>\n</div>"
     },
     "execution_count": 41,
     "metadata": {},
     "output_type": "execute_result"
    }
   ],
   "source": [
    "# Describe telco_churn data frame\n",
    "telco_churn.describe()"
   ]
  },
  {
   "cell_type": "code",
   "execution_count": 42,
   "id": "df855a99-44a1-4169-9dc7-40ec2f726fc5",
   "metadata": {},
   "outputs": [
    {
     "data": {
      "text/plain": "PassengerId    446.000000\nSurvived         0.383838\nPclass           2.308642\nAge             29.699118\nSibSp            0.523008\nParch            0.381594\nFare            32.204208\ndtype: float64"
     },
     "execution_count": 42,
     "metadata": {},
     "output_type": "execute_result"
    }
   ],
   "source": [
    "titanic.mean(numeric_only=True)"
   ]
  },
  {
   "cell_type": "code",
   "execution_count": 48,
   "id": "be9a534d-c126-4007-90b8-c6f6debaf414",
   "metadata": {},
   "outputs": [
    {
     "data": {
      "text/plain": "29.69911764705882"
     },
     "execution_count": 48,
     "metadata": {},
     "output_type": "execute_result"
    }
   ],
   "source": [
    "titanic['Age'].mean()"
   ]
  },
  {
   "cell_type": "code",
   "execution_count": 50,
   "id": "300cc942-9790-4928-82d7-efec767886bf",
   "metadata": {},
   "outputs": [
    {
     "data": {
      "text/plain": "Age\n24.00    30\n22.00    27\n18.00    26\n19.00    25\n28.00    25\n         ..\n36.50     1\n55.50     1\n0.92      1\n23.50     1\n74.00     1\nName: count, Length: 88, dtype: int64"
     },
     "execution_count": 50,
     "metadata": {},
     "output_type": "execute_result"
    }
   ],
   "source": [
    "# Value counts Age\n",
    "titanic['Age'].value_counts()"
   ]
  },
  {
   "cell_type": "code",
   "execution_count": 51,
   "id": "4ee6b86a-dbe9-478e-a464-c8de19fb03ab",
   "metadata": {},
   "outputs": [
    {
     "data": {
      "text/plain": "<pandas.core.groupby.generic.DataFrameGroupBy object at 0x7fa5e204ac10>"
     },
     "execution_count": 51,
     "metadata": {},
     "output_type": "execute_result"
    }
   ],
   "source": [
    "# Group by\n",
    "titanic.groupby('Sex')"
   ]
  },
  {
   "cell_type": "code",
   "execution_count": 52,
   "id": "d7bde2be-184b-4cb7-86b1-fefccccc6d6e",
   "metadata": {
    "tags": []
   },
   "outputs": [
    {
     "data": {
      "text/plain": "Sex\nfemale    27.915709\nmale      30.726645\nName: Age, dtype: float64"
     },
     "execution_count": 52,
     "metadata": {},
     "output_type": "execute_result"
    }
   ],
   "source": [
    "# Mean age grouped by gender\n",
    "titanic.groupby('Sex')['Age'].mean()"
   ]
  },
  {
   "cell_type": "code",
   "execution_count": 53,
   "id": "a1831fae-9044-4d7c-b071-7de407f0fb88",
   "metadata": {},
   "outputs": [
    {
     "data": {
      "text/plain": "Sex\nfemale    314\nmale      577\nName: PassengerId, dtype: int64"
     },
     "execution_count": 53,
     "metadata": {},
     "output_type": "execute_result"
    }
   ],
   "source": [
    "titanic.groupby('Sex')['PassengerId'].count()"
   ]
  },
  {
   "cell_type": "code",
   "execution_count": 55,
   "id": "11801f3b-a755-46ad-b759-4c6d7615972c",
   "metadata": {},
   "outputs": [
    {
     "data": {
      "text/plain": "       State International plan Voice mail plan  Churn\ncount   3333               3333            3333   3325\nunique    51                  2               2      2\ntop       WV                 No              No  False\nfreq     106               3010            2411   2842",
      "text/html": "<div>\n<style scoped>\n    .dataframe tbody tr th:only-of-type {\n        vertical-align: middle;\n    }\n\n    .dataframe tbody tr th {\n        vertical-align: top;\n    }\n\n    .dataframe thead th {\n        text-align: right;\n    }\n</style>\n<table border=\"1\" class=\"dataframe\">\n  <thead>\n    <tr style=\"text-align: right;\">\n      <th></th>\n      <th>State</th>\n      <th>International plan</th>\n      <th>Voice mail plan</th>\n      <th>Churn</th>\n    </tr>\n  </thead>\n  <tbody>\n    <tr>\n      <th>count</th>\n      <td>3333</td>\n      <td>3333</td>\n      <td>3333</td>\n      <td>3325</td>\n    </tr>\n    <tr>\n      <th>unique</th>\n      <td>51</td>\n      <td>2</td>\n      <td>2</td>\n      <td>2</td>\n    </tr>\n    <tr>\n      <th>top</th>\n      <td>WV</td>\n      <td>No</td>\n      <td>No</td>\n      <td>False</td>\n    </tr>\n    <tr>\n      <th>freq</th>\n      <td>106</td>\n      <td>3010</td>\n      <td>2411</td>\n      <td>2842</td>\n    </tr>\n  </tbody>\n</table>\n</div>"
     },
     "execution_count": 55,
     "metadata": {},
     "output_type": "execute_result"
    }
   ],
   "source": [
    "# Describe categoric columns\n",
    "telco_churn.describe(include='object')"
   ]
  },
  {
   "cell_type": "markdown",
   "id": "1e21c018-9ee1-4822-829a-659f0c9a6760",
   "metadata": {},
   "source": [
    "## Filtering (selecting) columns"
   ]
  },
  {
   "cell_type": "code",
   "execution_count": 59,
   "id": "76666071-f833-4077-bfd7-73466c0f4872",
   "metadata": {},
   "outputs": [
    {
     "data": {
      "text/plain": "0       KS\n1       OH\n2       NJ\n3       OH\n4       OK\n        ..\n3328    AZ\n3329    WV\n3330    RI\n3331    CT\n3332    TN\nName: State, Length: 3333, dtype: object"
     },
     "execution_count": 59,
     "metadata": {},
     "output_type": "execute_result"
    }
   ],
   "source": [
    "telco_churn.State"
   ]
  },
  {
   "cell_type": "code",
   "execution_count": 60,
   "id": "662770e8-a728-46db-afae-dde8c1801e48",
   "metadata": {},
   "outputs": [
    {
     "data": {
      "text/plain": "0        No\n1        No\n2        No\n3       Yes\n4       Yes\n       ... \n3328     No\n3329     No\n3330     No\n3331    Yes\n3332     No\nName: International plan, Length: 3333, dtype: object"
     },
     "execution_count": 60,
     "metadata": {},
     "output_type": "execute_result"
    }
   ],
   "source": [
    "telco_churn['International plan']"
   ]
  },
  {
   "cell_type": "code",
   "execution_count": 61,
   "id": "ce8ade38-e954-48a0-9e57-633e3e61b9b9",
   "metadata": {},
   "outputs": [
    {
     "data": {
      "text/plain": "     State International plan\n0       KS                 No\n1       OH                 No\n2       NJ                 No\n3       OH                Yes\n4       OK                Yes\n...    ...                ...\n3328    AZ                 No\n3329    WV                 No\n3330    RI                 No\n3331    CT                Yes\n3332    TN                 No\n\n[3333 rows x 2 columns]",
      "text/html": "<div>\n<style scoped>\n    .dataframe tbody tr th:only-of-type {\n        vertical-align: middle;\n    }\n\n    .dataframe tbody tr th {\n        vertical-align: top;\n    }\n\n    .dataframe thead th {\n        text-align: right;\n    }\n</style>\n<table border=\"1\" class=\"dataframe\">\n  <thead>\n    <tr style=\"text-align: right;\">\n      <th></th>\n      <th>State</th>\n      <th>International plan</th>\n    </tr>\n  </thead>\n  <tbody>\n    <tr>\n      <th>0</th>\n      <td>KS</td>\n      <td>No</td>\n    </tr>\n    <tr>\n      <th>1</th>\n      <td>OH</td>\n      <td>No</td>\n    </tr>\n    <tr>\n      <th>2</th>\n      <td>NJ</td>\n      <td>No</td>\n    </tr>\n    <tr>\n      <th>3</th>\n      <td>OH</td>\n      <td>Yes</td>\n    </tr>\n    <tr>\n      <th>4</th>\n      <td>OK</td>\n      <td>Yes</td>\n    </tr>\n    <tr>\n      <th>...</th>\n      <td>...</td>\n      <td>...</td>\n    </tr>\n    <tr>\n      <th>3328</th>\n      <td>AZ</td>\n      <td>No</td>\n    </tr>\n    <tr>\n      <th>3329</th>\n      <td>WV</td>\n      <td>No</td>\n    </tr>\n    <tr>\n      <th>3330</th>\n      <td>RI</td>\n      <td>No</td>\n    </tr>\n    <tr>\n      <th>3331</th>\n      <td>CT</td>\n      <td>Yes</td>\n    </tr>\n    <tr>\n      <th>3332</th>\n      <td>TN</td>\n      <td>No</td>\n    </tr>\n  </tbody>\n</table>\n<p>3333 rows × 2 columns</p>\n</div>"
     },
     "execution_count": 61,
     "metadata": {},
     "output_type": "execute_result"
    }
   ],
   "source": [
    "telco_churn[['State','International plan']]"
   ]
  },
  {
   "cell_type": "code",
   "execution_count": 71,
   "id": "9f618395-b054-4ee1-aa71-b5040385f49d",
   "metadata": {},
   "outputs": [
    {
     "data": {
      "text/plain": "array(['KS', 'OH', 'NJ', 'OK', 'AL', 'MA', 'MO', 'LA', 'WV', 'IN', 'RI',\n       'IA', 'MT', 'NY', 'ID', 'VT', 'VA', 'TX', 'FL', 'CO', 'AZ', 'SC',\n       'NE', 'WY', 'HI', 'IL', 'NH', 'GA', 'AK', 'MD', 'AR', 'WI', 'OR',\n       'MI', 'DE', 'UT', 'CA', 'MN', 'SD', 'NC', 'WA', 'NM', 'NV', 'DC',\n       'KY', 'ME', 'MS', 'TN', 'PA', 'CT', 'ND'], dtype=object)"
     },
     "execution_count": 71,
     "metadata": {},
     "output_type": "execute_result"
    }
   ],
   "source": [
    "telco_churn.State.unique()"
   ]
  },
  {
   "cell_type": "code",
   "execution_count": 117,
   "id": "084dee23-587e-4bb5-b1e2-da39c348e780",
   "metadata": {},
   "outputs": [
    {
     "data": {
      "text/plain": "array([False, nan, True], dtype=object)"
     },
     "execution_count": 117,
     "metadata": {},
     "output_type": "execute_result"
    }
   ],
   "source": [
    "telco_churn.Churn.unique()"
   ]
  },
  {
   "cell_type": "markdown",
   "id": "5e65436f-a9e8-4628-bfd4-3ebd5eec7ffd",
   "metadata": {},
   "source": [
    "## Filtering on columns"
   ]
  },
  {
   "cell_type": "code",
   "execution_count": 73,
   "id": "12ecee96-e3d1-40d9-a5a2-6ebdf5e4098b",
   "metadata": {},
   "outputs": [
    {
     "data": {
      "text/plain": "     PassengerId  Survived  Pclass   \n1              2         1       1  \\\n3              4         1       1   \n4              5         0       3   \n6              7         0       1   \n11            12         1       1   \n..           ...       ...     ...   \n873          874         0       3   \n879          880         1       1   \n881          882         0       3   \n885          886         0       3   \n890          891         0       3   \n\n                                                  Name     Sex   Age  SibSp   \n1    Cumings, Mrs. John Bradley (Florence Briggs Th...  female  38.0      1  \\\n3         Futrelle, Mrs. Jacques Heath (Lily May Peel)  female  35.0      1   \n4                             Allen, Mr. William Henry    male  35.0      0   \n6                              McCarthy, Mr. Timothy J    male  54.0      0   \n11                            Bonnell, Miss. Elizabeth  female  58.0      0   \n..                                                 ...     ...   ...    ...   \n873                        Vander Cruyssen, Mr. Victor    male  47.0      0   \n879      Potter, Mrs. Thomas Jr (Lily Alexenia Wilson)  female  56.0      0   \n881                                 Markun, Mr. Johann    male  33.0      0   \n885               Rice, Mrs. William (Margaret Norton)  female  39.0      0   \n890                                Dooley, Mr. Patrick    male  32.0      0   \n\n     Parch    Ticket     Fare Cabin Embarked  \n1        0  PC 17599  71.2833   C85        C  \n3        0    113803  53.1000  C123        S  \n4        0    373450   8.0500   NaN        S  \n6        0     17463  51.8625   E46        S  \n11       0    113783  26.5500  C103        S  \n..     ...       ...      ...   ...      ...  \n873      0    345765   9.0000   NaN        S  \n879      1     11767  83.1583   C50        C  \n881      0    349257   7.8958   NaN        S  \n885      5    382652  29.1250   NaN        Q  \n890      0    370376   7.7500   NaN        Q  \n\n[305 rows x 12 columns]",
      "text/html": "<div>\n<style scoped>\n    .dataframe tbody tr th:only-of-type {\n        vertical-align: middle;\n    }\n\n    .dataframe tbody tr th {\n        vertical-align: top;\n    }\n\n    .dataframe thead th {\n        text-align: right;\n    }\n</style>\n<table border=\"1\" class=\"dataframe\">\n  <thead>\n    <tr style=\"text-align: right;\">\n      <th></th>\n      <th>PassengerId</th>\n      <th>Survived</th>\n      <th>Pclass</th>\n      <th>Name</th>\n      <th>Sex</th>\n      <th>Age</th>\n      <th>SibSp</th>\n      <th>Parch</th>\n      <th>Ticket</th>\n      <th>Fare</th>\n      <th>Cabin</th>\n      <th>Embarked</th>\n    </tr>\n  </thead>\n  <tbody>\n    <tr>\n      <th>1</th>\n      <td>2</td>\n      <td>1</td>\n      <td>1</td>\n      <td>Cumings, Mrs. John Bradley (Florence Briggs Th...</td>\n      <td>female</td>\n      <td>38.0</td>\n      <td>1</td>\n      <td>0</td>\n      <td>PC 17599</td>\n      <td>71.2833</td>\n      <td>C85</td>\n      <td>C</td>\n    </tr>\n    <tr>\n      <th>3</th>\n      <td>4</td>\n      <td>1</td>\n      <td>1</td>\n      <td>Futrelle, Mrs. Jacques Heath (Lily May Peel)</td>\n      <td>female</td>\n      <td>35.0</td>\n      <td>1</td>\n      <td>0</td>\n      <td>113803</td>\n      <td>53.1000</td>\n      <td>C123</td>\n      <td>S</td>\n    </tr>\n    <tr>\n      <th>4</th>\n      <td>5</td>\n      <td>0</td>\n      <td>3</td>\n      <td>Allen, Mr. William Henry</td>\n      <td>male</td>\n      <td>35.0</td>\n      <td>0</td>\n      <td>0</td>\n      <td>373450</td>\n      <td>8.0500</td>\n      <td>NaN</td>\n      <td>S</td>\n    </tr>\n    <tr>\n      <th>6</th>\n      <td>7</td>\n      <td>0</td>\n      <td>1</td>\n      <td>McCarthy, Mr. Timothy J</td>\n      <td>male</td>\n      <td>54.0</td>\n      <td>0</td>\n      <td>0</td>\n      <td>17463</td>\n      <td>51.8625</td>\n      <td>E46</td>\n      <td>S</td>\n    </tr>\n    <tr>\n      <th>11</th>\n      <td>12</td>\n      <td>1</td>\n      <td>1</td>\n      <td>Bonnell, Miss. Elizabeth</td>\n      <td>female</td>\n      <td>58.0</td>\n      <td>0</td>\n      <td>0</td>\n      <td>113783</td>\n      <td>26.5500</td>\n      <td>C103</td>\n      <td>S</td>\n    </tr>\n    <tr>\n      <th>...</th>\n      <td>...</td>\n      <td>...</td>\n      <td>...</td>\n      <td>...</td>\n      <td>...</td>\n      <td>...</td>\n      <td>...</td>\n      <td>...</td>\n      <td>...</td>\n      <td>...</td>\n      <td>...</td>\n      <td>...</td>\n    </tr>\n    <tr>\n      <th>873</th>\n      <td>874</td>\n      <td>0</td>\n      <td>3</td>\n      <td>Vander Cruyssen, Mr. Victor</td>\n      <td>male</td>\n      <td>47.0</td>\n      <td>0</td>\n      <td>0</td>\n      <td>345765</td>\n      <td>9.0000</td>\n      <td>NaN</td>\n      <td>S</td>\n    </tr>\n    <tr>\n      <th>879</th>\n      <td>880</td>\n      <td>1</td>\n      <td>1</td>\n      <td>Potter, Mrs. Thomas Jr (Lily Alexenia Wilson)</td>\n      <td>female</td>\n      <td>56.0</td>\n      <td>0</td>\n      <td>1</td>\n      <td>11767</td>\n      <td>83.1583</td>\n      <td>C50</td>\n      <td>C</td>\n    </tr>\n    <tr>\n      <th>881</th>\n      <td>882</td>\n      <td>0</td>\n      <td>3</td>\n      <td>Markun, Mr. Johann</td>\n      <td>male</td>\n      <td>33.0</td>\n      <td>0</td>\n      <td>0</td>\n      <td>349257</td>\n      <td>7.8958</td>\n      <td>NaN</td>\n      <td>S</td>\n    </tr>\n    <tr>\n      <th>885</th>\n      <td>886</td>\n      <td>0</td>\n      <td>3</td>\n      <td>Rice, Mrs. William (Margaret Norton)</td>\n      <td>female</td>\n      <td>39.0</td>\n      <td>0</td>\n      <td>5</td>\n      <td>382652</td>\n      <td>29.1250</td>\n      <td>NaN</td>\n      <td>Q</td>\n    </tr>\n    <tr>\n      <th>890</th>\n      <td>891</td>\n      <td>0</td>\n      <td>3</td>\n      <td>Dooley, Mr. Patrick</td>\n      <td>male</td>\n      <td>32.0</td>\n      <td>0</td>\n      <td>0</td>\n      <td>370376</td>\n      <td>7.7500</td>\n      <td>NaN</td>\n      <td>Q</td>\n    </tr>\n  </tbody>\n</table>\n<p>305 rows × 12 columns</p>\n</div>"
     },
     "execution_count": 73,
     "metadata": {},
     "output_type": "execute_result"
    }
   ],
   "source": [
    "# Filtering the dataset -- \"shell\" (name of dataframe) and \"condition\"\n",
    "titanic[titanic['Age'] > 30]"
   ]
  },
  {
   "cell_type": "code",
   "execution_count": 115,
   "id": "8297e106-9383-480c-b78a-21dc22c96dfe",
   "metadata": {},
   "outputs": [
    {
     "ename": "TypeError",
     "evalue": "unsupported operand type(s) for +: 'int' and 'str'",
     "output_type": "error",
     "traceback": [
      "\u001B[0;31m---------------------------------------------------------------------------\u001B[0m",
      "\u001B[0;31mTypeError\u001B[0m                                 Traceback (most recent call last)",
      "\u001B[0;32m/var/folders/x_/k74j5_cd0jz_4bj5hr1124kr0000gn/T/ipykernel_1487/514893870.py\u001B[0m in \u001B[0;36m<module>\u001B[0;34m\u001B[0m\n\u001B[0;32m----> 1\u001B[0;31m \u001B[0mtitanic\u001B[0m\u001B[0;34m[\u001B[0m\u001B[0mtitanic\u001B[0m\u001B[0;34m[\u001B[0m\u001B[0;34m'Name'\u001B[0m\u001B[0;34m]\u001B[0m\u001B[0;34m.\u001B[0m\u001B[0mstr\u001B[0m\u001B[0;34m.\u001B[0m\u001B[0mcontains\u001B[0m\u001B[0;34m(\u001B[0m\u001B[0;34m\"Miss.\"\u001B[0m\u001B[0;34m)\u001B[0m\u001B[0;34m]\u001B[0m\u001B[0;34m.\u001B[0m\u001B[0msum\u001B[0m\u001B[0;34m(\u001B[0m\u001B[0;34m)\u001B[0m\u001B[0;34m\u001B[0m\u001B[0;34m\u001B[0m\u001B[0m\n\u001B[0m",
      "\u001B[0;32m~/opt/anaconda3/lib/python3.9/site-packages/pandas/core/generic.py\u001B[0m in \u001B[0;36msum\u001B[0;34m(self, axis, skipna, numeric_only, min_count, **kwargs)\u001B[0m\n\u001B[1;32m  11517\u001B[0m             \u001B[0;34m**\u001B[0m\u001B[0mkwargs\u001B[0m\u001B[0;34m,\u001B[0m\u001B[0;34m\u001B[0m\u001B[0;34m\u001B[0m\u001B[0m\n\u001B[1;32m  11518\u001B[0m         ):\n\u001B[0;32m> 11519\u001B[0;31m             \u001B[0;32mreturn\u001B[0m \u001B[0mNDFrame\u001B[0m\u001B[0;34m.\u001B[0m\u001B[0msum\u001B[0m\u001B[0;34m(\u001B[0m\u001B[0mself\u001B[0m\u001B[0;34m,\u001B[0m \u001B[0maxis\u001B[0m\u001B[0;34m,\u001B[0m \u001B[0mskipna\u001B[0m\u001B[0;34m,\u001B[0m \u001B[0mnumeric_only\u001B[0m\u001B[0;34m,\u001B[0m \u001B[0mmin_count\u001B[0m\u001B[0;34m,\u001B[0m \u001B[0;34m**\u001B[0m\u001B[0mkwargs\u001B[0m\u001B[0;34m)\u001B[0m\u001B[0;34m\u001B[0m\u001B[0;34m\u001B[0m\u001B[0m\n\u001B[0m\u001B[1;32m  11520\u001B[0m \u001B[0;34m\u001B[0m\u001B[0m\n\u001B[1;32m  11521\u001B[0m         \u001B[0msetattr\u001B[0m\u001B[0;34m(\u001B[0m\u001B[0mcls\u001B[0m\u001B[0;34m,\u001B[0m \u001B[0;34m\"sum\"\u001B[0m\u001B[0;34m,\u001B[0m \u001B[0msum\u001B[0m\u001B[0;34m)\u001B[0m\u001B[0;34m\u001B[0m\u001B[0;34m\u001B[0m\u001B[0m\n",
      "\u001B[0;32m~/opt/anaconda3/lib/python3.9/site-packages/pandas/core/generic.py\u001B[0m in \u001B[0;36msum\u001B[0;34m(self, axis, skipna, numeric_only, min_count, **kwargs)\u001B[0m\n\u001B[1;32m  11285\u001B[0m         \u001B[0;34m**\u001B[0m\u001B[0mkwargs\u001B[0m\u001B[0;34m,\u001B[0m\u001B[0;34m\u001B[0m\u001B[0;34m\u001B[0m\u001B[0m\n\u001B[1;32m  11286\u001B[0m     ):\n\u001B[0;32m> 11287\u001B[0;31m         return self._min_count_stat_function(\n\u001B[0m\u001B[1;32m  11288\u001B[0m             \u001B[0;34m\"sum\"\u001B[0m\u001B[0;34m,\u001B[0m \u001B[0mnanops\u001B[0m\u001B[0;34m.\u001B[0m\u001B[0mnansum\u001B[0m\u001B[0;34m,\u001B[0m \u001B[0maxis\u001B[0m\u001B[0;34m,\u001B[0m \u001B[0mskipna\u001B[0m\u001B[0;34m,\u001B[0m \u001B[0mnumeric_only\u001B[0m\u001B[0;34m,\u001B[0m \u001B[0mmin_count\u001B[0m\u001B[0;34m,\u001B[0m \u001B[0;34m**\u001B[0m\u001B[0mkwargs\u001B[0m\u001B[0;34m\u001B[0m\u001B[0;34m\u001B[0m\u001B[0m\n\u001B[1;32m  11289\u001B[0m         )\n",
      "\u001B[0;32m~/opt/anaconda3/lib/python3.9/site-packages/pandas/core/generic.py\u001B[0m in \u001B[0;36m_min_count_stat_function\u001B[0;34m(self, name, func, axis, skipna, numeric_only, min_count, **kwargs)\u001B[0m\n\u001B[1;32m  11268\u001B[0m             \u001B[0maxis\u001B[0m \u001B[0;34m=\u001B[0m \u001B[0mself\u001B[0m\u001B[0;34m.\u001B[0m\u001B[0m_stat_axis_number\u001B[0m\u001B[0;34m\u001B[0m\u001B[0;34m\u001B[0m\u001B[0m\n\u001B[1;32m  11269\u001B[0m \u001B[0;34m\u001B[0m\u001B[0m\n\u001B[0;32m> 11270\u001B[0;31m         return self._reduce(\n\u001B[0m\u001B[1;32m  11271\u001B[0m             \u001B[0mfunc\u001B[0m\u001B[0;34m,\u001B[0m\u001B[0;34m\u001B[0m\u001B[0;34m\u001B[0m\u001B[0m\n\u001B[1;32m  11272\u001B[0m             \u001B[0mname\u001B[0m\u001B[0;34m=\u001B[0m\u001B[0mname\u001B[0m\u001B[0;34m,\u001B[0m\u001B[0;34m\u001B[0m\u001B[0;34m\u001B[0m\u001B[0m\n",
      "\u001B[0;32m~/opt/anaconda3/lib/python3.9/site-packages/pandas/core/frame.py\u001B[0m in \u001B[0;36m_reduce\u001B[0;34m(self, op, name, axis, skipna, numeric_only, filter_type, **kwds)\u001B[0m\n\u001B[1;32m  10517\u001B[0m         \u001B[0;31m# After possibly _get_data and transposing, we are now in the\u001B[0m\u001B[0;34m\u001B[0m\u001B[0;34m\u001B[0m\u001B[0m\n\u001B[1;32m  10518\u001B[0m         \u001B[0;31m#  simple case where we can use BlockManager.reduce\u001B[0m\u001B[0;34m\u001B[0m\u001B[0;34m\u001B[0m\u001B[0m\n\u001B[0;32m> 10519\u001B[0;31m         \u001B[0mres\u001B[0m \u001B[0;34m=\u001B[0m \u001B[0mdf\u001B[0m\u001B[0;34m.\u001B[0m\u001B[0m_mgr\u001B[0m\u001B[0;34m.\u001B[0m\u001B[0mreduce\u001B[0m\u001B[0;34m(\u001B[0m\u001B[0mblk_func\u001B[0m\u001B[0;34m)\u001B[0m\u001B[0;34m\u001B[0m\u001B[0;34m\u001B[0m\u001B[0m\n\u001B[0m\u001B[1;32m  10520\u001B[0m         \u001B[0mout\u001B[0m \u001B[0;34m=\u001B[0m \u001B[0mdf\u001B[0m\u001B[0;34m.\u001B[0m\u001B[0m_constructor\u001B[0m\u001B[0;34m(\u001B[0m\u001B[0mres\u001B[0m\u001B[0;34m)\u001B[0m\u001B[0;34m.\u001B[0m\u001B[0miloc\u001B[0m\u001B[0;34m[\u001B[0m\u001B[0;36m0\u001B[0m\u001B[0;34m]\u001B[0m\u001B[0;34m\u001B[0m\u001B[0;34m\u001B[0m\u001B[0m\n\u001B[1;32m  10521\u001B[0m         \u001B[0;32mif\u001B[0m \u001B[0mout_dtype\u001B[0m \u001B[0;32mis\u001B[0m \u001B[0;32mnot\u001B[0m \u001B[0;32mNone\u001B[0m\u001B[0;34m:\u001B[0m\u001B[0;34m\u001B[0m\u001B[0;34m\u001B[0m\u001B[0m\n",
      "\u001B[0;32m~/opt/anaconda3/lib/python3.9/site-packages/pandas/core/internals/managers.py\u001B[0m in \u001B[0;36mreduce\u001B[0;34m(self, func)\u001B[0m\n\u001B[1;32m   1532\u001B[0m         \u001B[0mres_blocks\u001B[0m\u001B[0;34m:\u001B[0m \u001B[0mlist\u001B[0m\u001B[0;34m[\u001B[0m\u001B[0mBlock\u001B[0m\u001B[0;34m]\u001B[0m \u001B[0;34m=\u001B[0m \u001B[0;34m[\u001B[0m\u001B[0;34m]\u001B[0m\u001B[0;34m\u001B[0m\u001B[0;34m\u001B[0m\u001B[0m\n\u001B[1;32m   1533\u001B[0m         \u001B[0;32mfor\u001B[0m \u001B[0mblk\u001B[0m \u001B[0;32min\u001B[0m \u001B[0mself\u001B[0m\u001B[0;34m.\u001B[0m\u001B[0mblocks\u001B[0m\u001B[0;34m:\u001B[0m\u001B[0;34m\u001B[0m\u001B[0;34m\u001B[0m\u001B[0m\n\u001B[0;32m-> 1534\u001B[0;31m             \u001B[0mnbs\u001B[0m \u001B[0;34m=\u001B[0m \u001B[0mblk\u001B[0m\u001B[0;34m.\u001B[0m\u001B[0mreduce\u001B[0m\u001B[0;34m(\u001B[0m\u001B[0mfunc\u001B[0m\u001B[0;34m)\u001B[0m\u001B[0;34m\u001B[0m\u001B[0;34m\u001B[0m\u001B[0m\n\u001B[0m\u001B[1;32m   1535\u001B[0m             \u001B[0mres_blocks\u001B[0m\u001B[0;34m.\u001B[0m\u001B[0mextend\u001B[0m\u001B[0;34m(\u001B[0m\u001B[0mnbs\u001B[0m\u001B[0;34m)\u001B[0m\u001B[0;34m\u001B[0m\u001B[0;34m\u001B[0m\u001B[0m\n\u001B[1;32m   1536\u001B[0m \u001B[0;34m\u001B[0m\u001B[0m\n",
      "\u001B[0;32m~/opt/anaconda3/lib/python3.9/site-packages/pandas/core/internals/blocks.py\u001B[0m in \u001B[0;36mreduce\u001B[0;34m(self, func)\u001B[0m\n\u001B[1;32m    337\u001B[0m         \u001B[0;32massert\u001B[0m \u001B[0mself\u001B[0m\u001B[0;34m.\u001B[0m\u001B[0mndim\u001B[0m \u001B[0;34m==\u001B[0m \u001B[0;36m2\u001B[0m\u001B[0;34m\u001B[0m\u001B[0;34m\u001B[0m\u001B[0m\n\u001B[1;32m    338\u001B[0m \u001B[0;34m\u001B[0m\u001B[0m\n\u001B[0;32m--> 339\u001B[0;31m         \u001B[0mresult\u001B[0m \u001B[0;34m=\u001B[0m \u001B[0mfunc\u001B[0m\u001B[0;34m(\u001B[0m\u001B[0mself\u001B[0m\u001B[0;34m.\u001B[0m\u001B[0mvalues\u001B[0m\u001B[0;34m)\u001B[0m\u001B[0;34m\u001B[0m\u001B[0;34m\u001B[0m\u001B[0m\n\u001B[0m\u001B[1;32m    340\u001B[0m \u001B[0;34m\u001B[0m\u001B[0m\n\u001B[1;32m    341\u001B[0m         \u001B[0;32mif\u001B[0m \u001B[0mself\u001B[0m\u001B[0;34m.\u001B[0m\u001B[0mvalues\u001B[0m\u001B[0;34m.\u001B[0m\u001B[0mndim\u001B[0m \u001B[0;34m==\u001B[0m \u001B[0;36m1\u001B[0m\u001B[0;34m:\u001B[0m\u001B[0;34m\u001B[0m\u001B[0;34m\u001B[0m\u001B[0m\n",
      "\u001B[0;32m~/opt/anaconda3/lib/python3.9/site-packages/pandas/core/frame.py\u001B[0m in \u001B[0;36mblk_func\u001B[0;34m(values, axis)\u001B[0m\n\u001B[1;32m  10480\u001B[0m                 \u001B[0;32mreturn\u001B[0m \u001B[0mvalues\u001B[0m\u001B[0;34m.\u001B[0m\u001B[0m_reduce\u001B[0m\u001B[0;34m(\u001B[0m\u001B[0mname\u001B[0m\u001B[0;34m,\u001B[0m \u001B[0mskipna\u001B[0m\u001B[0;34m=\u001B[0m\u001B[0mskipna\u001B[0m\u001B[0;34m,\u001B[0m \u001B[0;34m**\u001B[0m\u001B[0mkwds\u001B[0m\u001B[0;34m)\u001B[0m\u001B[0;34m\u001B[0m\u001B[0;34m\u001B[0m\u001B[0m\n\u001B[1;32m  10481\u001B[0m             \u001B[0;32melse\u001B[0m\u001B[0;34m:\u001B[0m\u001B[0;34m\u001B[0m\u001B[0;34m\u001B[0m\u001B[0m\n\u001B[0;32m> 10482\u001B[0;31m                 \u001B[0;32mreturn\u001B[0m \u001B[0mop\u001B[0m\u001B[0;34m(\u001B[0m\u001B[0mvalues\u001B[0m\u001B[0;34m,\u001B[0m \u001B[0maxis\u001B[0m\u001B[0;34m=\u001B[0m\u001B[0maxis\u001B[0m\u001B[0;34m,\u001B[0m \u001B[0mskipna\u001B[0m\u001B[0;34m=\u001B[0m\u001B[0mskipna\u001B[0m\u001B[0;34m,\u001B[0m \u001B[0;34m**\u001B[0m\u001B[0mkwds\u001B[0m\u001B[0;34m)\u001B[0m\u001B[0;34m\u001B[0m\u001B[0;34m\u001B[0m\u001B[0m\n\u001B[0m\u001B[1;32m  10483\u001B[0m \u001B[0;34m\u001B[0m\u001B[0m\n\u001B[1;32m  10484\u001B[0m         \u001B[0;32mdef\u001B[0m \u001B[0m_get_data\u001B[0m\u001B[0;34m(\u001B[0m\u001B[0;34m)\u001B[0m \u001B[0;34m->\u001B[0m \u001B[0mDataFrame\u001B[0m\u001B[0;34m:\u001B[0m\u001B[0;34m\u001B[0m\u001B[0;34m\u001B[0m\u001B[0m\n",
      "\u001B[0;32m~/opt/anaconda3/lib/python3.9/site-packages/pandas/core/nanops.py\u001B[0m in \u001B[0;36m_f\u001B[0;34m(*args, **kwargs)\u001B[0m\n\u001B[1;32m     94\u001B[0m             \u001B[0;32mtry\u001B[0m\u001B[0;34m:\u001B[0m\u001B[0;34m\u001B[0m\u001B[0;34m\u001B[0m\u001B[0m\n\u001B[1;32m     95\u001B[0m                 \u001B[0;32mwith\u001B[0m \u001B[0mnp\u001B[0m\u001B[0;34m.\u001B[0m\u001B[0merrstate\u001B[0m\u001B[0;34m(\u001B[0m\u001B[0minvalid\u001B[0m\u001B[0;34m=\u001B[0m\u001B[0;34m\"ignore\"\u001B[0m\u001B[0;34m)\u001B[0m\u001B[0;34m:\u001B[0m\u001B[0;34m\u001B[0m\u001B[0;34m\u001B[0m\u001B[0m\n\u001B[0;32m---> 96\u001B[0;31m                     \u001B[0;32mreturn\u001B[0m \u001B[0mf\u001B[0m\u001B[0;34m(\u001B[0m\u001B[0;34m*\u001B[0m\u001B[0margs\u001B[0m\u001B[0;34m,\u001B[0m \u001B[0;34m**\u001B[0m\u001B[0mkwargs\u001B[0m\u001B[0;34m)\u001B[0m\u001B[0;34m\u001B[0m\u001B[0;34m\u001B[0m\u001B[0m\n\u001B[0m\u001B[1;32m     97\u001B[0m             \u001B[0;32mexcept\u001B[0m \u001B[0mValueError\u001B[0m \u001B[0;32mas\u001B[0m \u001B[0me\u001B[0m\u001B[0;34m:\u001B[0m\u001B[0;34m\u001B[0m\u001B[0;34m\u001B[0m\u001B[0m\n\u001B[1;32m     98\u001B[0m                 \u001B[0;31m# we want to transform an object array\u001B[0m\u001B[0;34m\u001B[0m\u001B[0;34m\u001B[0m\u001B[0m\n",
      "\u001B[0;32m~/opt/anaconda3/lib/python3.9/site-packages/pandas/core/nanops.py\u001B[0m in \u001B[0;36mnew_func\u001B[0;34m(values, axis, skipna, mask, **kwargs)\u001B[0m\n\u001B[1;32m    419\u001B[0m             \u001B[0mmask\u001B[0m \u001B[0;34m=\u001B[0m \u001B[0misna\u001B[0m\u001B[0;34m(\u001B[0m\u001B[0mvalues\u001B[0m\u001B[0;34m)\u001B[0m\u001B[0;34m\u001B[0m\u001B[0;34m\u001B[0m\u001B[0m\n\u001B[1;32m    420\u001B[0m \u001B[0;34m\u001B[0m\u001B[0m\n\u001B[0;32m--> 421\u001B[0;31m         \u001B[0mresult\u001B[0m \u001B[0;34m=\u001B[0m \u001B[0mfunc\u001B[0m\u001B[0;34m(\u001B[0m\u001B[0mvalues\u001B[0m\u001B[0;34m,\u001B[0m \u001B[0maxis\u001B[0m\u001B[0;34m=\u001B[0m\u001B[0maxis\u001B[0m\u001B[0;34m,\u001B[0m \u001B[0mskipna\u001B[0m\u001B[0;34m=\u001B[0m\u001B[0mskipna\u001B[0m\u001B[0;34m,\u001B[0m \u001B[0mmask\u001B[0m\u001B[0;34m=\u001B[0m\u001B[0mmask\u001B[0m\u001B[0;34m,\u001B[0m \u001B[0;34m**\u001B[0m\u001B[0mkwargs\u001B[0m\u001B[0;34m)\u001B[0m\u001B[0;34m\u001B[0m\u001B[0;34m\u001B[0m\u001B[0m\n\u001B[0m\u001B[1;32m    422\u001B[0m \u001B[0;34m\u001B[0m\u001B[0m\n\u001B[1;32m    423\u001B[0m         \u001B[0;32mif\u001B[0m \u001B[0mdatetimelike\u001B[0m\u001B[0;34m:\u001B[0m\u001B[0;34m\u001B[0m\u001B[0;34m\u001B[0m\u001B[0m\n",
      "\u001B[0;32m~/opt/anaconda3/lib/python3.9/site-packages/pandas/core/nanops.py\u001B[0m in \u001B[0;36mnewfunc\u001B[0;34m(values, axis, **kwargs)\u001B[0m\n\u001B[1;32m    492\u001B[0m             \u001B[0;32mreturn\u001B[0m \u001B[0mnp\u001B[0m\u001B[0;34m.\u001B[0m\u001B[0marray\u001B[0m\u001B[0;34m(\u001B[0m\u001B[0mresults\u001B[0m\u001B[0;34m)\u001B[0m\u001B[0;34m\u001B[0m\u001B[0;34m\u001B[0m\u001B[0m\n\u001B[1;32m    493\u001B[0m \u001B[0;34m\u001B[0m\u001B[0m\n\u001B[0;32m--> 494\u001B[0;31m         \u001B[0;32mreturn\u001B[0m \u001B[0mfunc\u001B[0m\u001B[0;34m(\u001B[0m\u001B[0mvalues\u001B[0m\u001B[0;34m,\u001B[0m \u001B[0maxis\u001B[0m\u001B[0;34m=\u001B[0m\u001B[0maxis\u001B[0m\u001B[0;34m,\u001B[0m \u001B[0;34m**\u001B[0m\u001B[0mkwargs\u001B[0m\u001B[0;34m)\u001B[0m\u001B[0;34m\u001B[0m\u001B[0;34m\u001B[0m\u001B[0m\n\u001B[0m\u001B[1;32m    495\u001B[0m \u001B[0;34m\u001B[0m\u001B[0m\n\u001B[1;32m    496\u001B[0m     \u001B[0;32mreturn\u001B[0m \u001B[0mcast\u001B[0m\u001B[0;34m(\u001B[0m\u001B[0mF\u001B[0m\u001B[0;34m,\u001B[0m \u001B[0mnewfunc\u001B[0m\u001B[0;34m)\u001B[0m\u001B[0;34m\u001B[0m\u001B[0;34m\u001B[0m\u001B[0m\n",
      "\u001B[0;32m~/opt/anaconda3/lib/python3.9/site-packages/pandas/core/nanops.py\u001B[0m in \u001B[0;36mnansum\u001B[0;34m(values, axis, skipna, min_count, mask)\u001B[0m\n\u001B[1;32m    650\u001B[0m         \u001B[0mdtype_sum\u001B[0m \u001B[0;34m=\u001B[0m \u001B[0mnp\u001B[0m\u001B[0;34m.\u001B[0m\u001B[0mdtype\u001B[0m\u001B[0;34m(\u001B[0m\u001B[0mnp\u001B[0m\u001B[0;34m.\u001B[0m\u001B[0mfloat64\u001B[0m\u001B[0;34m)\u001B[0m\u001B[0;34m\u001B[0m\u001B[0;34m\u001B[0m\u001B[0m\n\u001B[1;32m    651\u001B[0m \u001B[0;34m\u001B[0m\u001B[0m\n\u001B[0;32m--> 652\u001B[0;31m     \u001B[0mthe_sum\u001B[0m \u001B[0;34m=\u001B[0m \u001B[0mvalues\u001B[0m\u001B[0;34m.\u001B[0m\u001B[0msum\u001B[0m\u001B[0;34m(\u001B[0m\u001B[0maxis\u001B[0m\u001B[0;34m,\u001B[0m \u001B[0mdtype\u001B[0m\u001B[0;34m=\u001B[0m\u001B[0mdtype_sum\u001B[0m\u001B[0;34m)\u001B[0m\u001B[0;34m\u001B[0m\u001B[0;34m\u001B[0m\u001B[0m\n\u001B[0m\u001B[1;32m    653\u001B[0m     \u001B[0mthe_sum\u001B[0m \u001B[0;34m=\u001B[0m \u001B[0m_maybe_null_out\u001B[0m\u001B[0;34m(\u001B[0m\u001B[0mthe_sum\u001B[0m\u001B[0;34m,\u001B[0m \u001B[0maxis\u001B[0m\u001B[0;34m,\u001B[0m \u001B[0mmask\u001B[0m\u001B[0;34m,\u001B[0m \u001B[0mvalues\u001B[0m\u001B[0;34m.\u001B[0m\u001B[0mshape\u001B[0m\u001B[0;34m,\u001B[0m \u001B[0mmin_count\u001B[0m\u001B[0;34m=\u001B[0m\u001B[0mmin_count\u001B[0m\u001B[0;34m)\u001B[0m\u001B[0;34m\u001B[0m\u001B[0;34m\u001B[0m\u001B[0m\n\u001B[1;32m    654\u001B[0m \u001B[0;34m\u001B[0m\u001B[0m\n",
      "\u001B[0;32m~/opt/anaconda3/lib/python3.9/site-packages/numpy/core/_methods.py\u001B[0m in \u001B[0;36m_sum\u001B[0;34m(a, axis, dtype, out, keepdims, initial, where)\u001B[0m\n\u001B[1;32m     46\u001B[0m def _sum(a, axis=None, dtype=None, out=None, keepdims=False,\n\u001B[1;32m     47\u001B[0m          initial=_NoValue, where=True):\n\u001B[0;32m---> 48\u001B[0;31m     \u001B[0;32mreturn\u001B[0m \u001B[0mumr_sum\u001B[0m\u001B[0;34m(\u001B[0m\u001B[0ma\u001B[0m\u001B[0;34m,\u001B[0m \u001B[0maxis\u001B[0m\u001B[0;34m,\u001B[0m \u001B[0mdtype\u001B[0m\u001B[0;34m,\u001B[0m \u001B[0mout\u001B[0m\u001B[0;34m,\u001B[0m \u001B[0mkeepdims\u001B[0m\u001B[0;34m,\u001B[0m \u001B[0minitial\u001B[0m\u001B[0;34m,\u001B[0m \u001B[0mwhere\u001B[0m\u001B[0;34m)\u001B[0m\u001B[0;34m\u001B[0m\u001B[0;34m\u001B[0m\u001B[0m\n\u001B[0m\u001B[1;32m     49\u001B[0m \u001B[0;34m\u001B[0m\u001B[0m\n\u001B[1;32m     50\u001B[0m def _prod(a, axis=None, dtype=None, out=None, keepdims=False,\n",
      "\u001B[0;31mTypeError\u001B[0m: unsupported operand type(s) for +: 'int' and 'str'"
     ]
    }
   ],
   "source": [
    "titanic[titanic['Name'].str.contains(\"Miss.\")]"
   ]
  },
  {
   "cell_type": "code",
   "execution_count": 88,
   "id": "7f9219c9-4bd8-4dd0-972d-57b8ba28160c",
   "metadata": {},
   "outputs": [
    {
     "data": {
      "text/plain": "     State  Account length  Area code International plan Voice mail plan   \n0       KS             128        415                 No             Yes  \\\n1       OH             107        415                 No             Yes   \n2       NJ             137        415                 No              No   \n6       MA             121        510                 No             Yes   \n8       LA             117        408                 No              No   \n...    ...             ...        ...                ...             ...   \n3327    SC              79        415                 No              No   \n3328    AZ             192        415                 No             Yes   \n3329    WV              68        415                 No              No   \n3330    RI              28        510                 No              No   \n3332    TN              74        415                 No             Yes   \n\n      Number vmail messages  Total day minutes  Total day calls   \n0                        25              265.1            110.0  \\\n1                        26              161.6            123.0   \n2                         0              243.4            114.0   \n6                        24              218.2             88.0   \n8                         0              184.5             97.0   \n...                     ...                ...              ...   \n3327                      0              134.7             98.0   \n3328                     36              156.2             77.0   \n3329                      0              231.1             57.0   \n3330                      0              180.8            109.0   \n3332                     25              234.4            113.0   \n\n      Total day charge  Total eve minutes  Total eve calls  Total eve charge   \n0                45.07              197.4             99.0             16.78  \\\n1                27.47              195.5            103.0             16.62   \n2                41.38              121.2            110.0             10.30   \n6                37.09              348.5            108.0             29.62   \n8                31.37              351.6             80.0             29.89   \n...                ...                ...              ...               ...   \n3327             22.90              189.7             68.0             16.12   \n3328             26.55              215.5            126.0             18.32   \n3329             39.29              153.4             55.0             13.04   \n3330             30.74              288.8             58.0             24.55   \n3332             39.85              265.9             82.0             22.60   \n\n      Total night minutes  Total night calls  Total night charge   \n0                   244.7               91.0               11.01  \\\n1                   254.4              103.0               11.45   \n2                   162.6              104.0                7.32   \n6                   212.6              118.0                9.57   \n8                   215.8               90.0                9.71   \n...                   ...                ...                 ...   \n3327                221.4              128.0                9.96   \n3328                279.1               83.0               12.56   \n3329                191.3              123.0                8.61   \n3330                191.9               91.0                8.64   \n3332                241.4               77.0               10.86   \n\n      Total intl minutes  Total intl calls  Total intl charge   \n0                   10.0                 3               2.70  \\\n1                   13.7                 3               3.70   \n2                   12.2                 5               3.29   \n6                    7.5                 7               2.03   \n8                    8.7                 4               2.35   \n...                  ...               ...                ...   \n3327                11.8                 5               3.19   \n3328                 9.9                 6               2.67   \n3329                 9.6                 4               2.59   \n3330                14.1                 6               3.81   \n3332                13.7                 4               3.70   \n\n      Customer service calls  Churn  \n0                        1.0  False  \n1                        1.0  False  \n2                        0.0  False  \n6                        3.0    NaN  \n8                        1.0  False  \n...                      ...    ...  \n3327                     2.0  False  \n3328                     2.0  False  \n3329                     3.0  False  \n3330                     2.0  False  \n3332                     0.0  False  \n\n[3010 rows x 20 columns]",
      "text/html": "<div>\n<style scoped>\n    .dataframe tbody tr th:only-of-type {\n        vertical-align: middle;\n    }\n\n    .dataframe tbody tr th {\n        vertical-align: top;\n    }\n\n    .dataframe thead th {\n        text-align: right;\n    }\n</style>\n<table border=\"1\" class=\"dataframe\">\n  <thead>\n    <tr style=\"text-align: right;\">\n      <th></th>\n      <th>State</th>\n      <th>Account length</th>\n      <th>Area code</th>\n      <th>International plan</th>\n      <th>Voice mail plan</th>\n      <th>Number vmail messages</th>\n      <th>Total day minutes</th>\n      <th>Total day calls</th>\n      <th>Total day charge</th>\n      <th>Total eve minutes</th>\n      <th>Total eve calls</th>\n      <th>Total eve charge</th>\n      <th>Total night minutes</th>\n      <th>Total night calls</th>\n      <th>Total night charge</th>\n      <th>Total intl minutes</th>\n      <th>Total intl calls</th>\n      <th>Total intl charge</th>\n      <th>Customer service calls</th>\n      <th>Churn</th>\n    </tr>\n  </thead>\n  <tbody>\n    <tr>\n      <th>0</th>\n      <td>KS</td>\n      <td>128</td>\n      <td>415</td>\n      <td>No</td>\n      <td>Yes</td>\n      <td>25</td>\n      <td>265.1</td>\n      <td>110.0</td>\n      <td>45.07</td>\n      <td>197.4</td>\n      <td>99.0</td>\n      <td>16.78</td>\n      <td>244.7</td>\n      <td>91.0</td>\n      <td>11.01</td>\n      <td>10.0</td>\n      <td>3</td>\n      <td>2.70</td>\n      <td>1.0</td>\n      <td>False</td>\n    </tr>\n    <tr>\n      <th>1</th>\n      <td>OH</td>\n      <td>107</td>\n      <td>415</td>\n      <td>No</td>\n      <td>Yes</td>\n      <td>26</td>\n      <td>161.6</td>\n      <td>123.0</td>\n      <td>27.47</td>\n      <td>195.5</td>\n      <td>103.0</td>\n      <td>16.62</td>\n      <td>254.4</td>\n      <td>103.0</td>\n      <td>11.45</td>\n      <td>13.7</td>\n      <td>3</td>\n      <td>3.70</td>\n      <td>1.0</td>\n      <td>False</td>\n    </tr>\n    <tr>\n      <th>2</th>\n      <td>NJ</td>\n      <td>137</td>\n      <td>415</td>\n      <td>No</td>\n      <td>No</td>\n      <td>0</td>\n      <td>243.4</td>\n      <td>114.0</td>\n      <td>41.38</td>\n      <td>121.2</td>\n      <td>110.0</td>\n      <td>10.30</td>\n      <td>162.6</td>\n      <td>104.0</td>\n      <td>7.32</td>\n      <td>12.2</td>\n      <td>5</td>\n      <td>3.29</td>\n      <td>0.0</td>\n      <td>False</td>\n    </tr>\n    <tr>\n      <th>6</th>\n      <td>MA</td>\n      <td>121</td>\n      <td>510</td>\n      <td>No</td>\n      <td>Yes</td>\n      <td>24</td>\n      <td>218.2</td>\n      <td>88.0</td>\n      <td>37.09</td>\n      <td>348.5</td>\n      <td>108.0</td>\n      <td>29.62</td>\n      <td>212.6</td>\n      <td>118.0</td>\n      <td>9.57</td>\n      <td>7.5</td>\n      <td>7</td>\n      <td>2.03</td>\n      <td>3.0</td>\n      <td>NaN</td>\n    </tr>\n    <tr>\n      <th>8</th>\n      <td>LA</td>\n      <td>117</td>\n      <td>408</td>\n      <td>No</td>\n      <td>No</td>\n      <td>0</td>\n      <td>184.5</td>\n      <td>97.0</td>\n      <td>31.37</td>\n      <td>351.6</td>\n      <td>80.0</td>\n      <td>29.89</td>\n      <td>215.8</td>\n      <td>90.0</td>\n      <td>9.71</td>\n      <td>8.7</td>\n      <td>4</td>\n      <td>2.35</td>\n      <td>1.0</td>\n      <td>False</td>\n    </tr>\n    <tr>\n      <th>...</th>\n      <td>...</td>\n      <td>...</td>\n      <td>...</td>\n      <td>...</td>\n      <td>...</td>\n      <td>...</td>\n      <td>...</td>\n      <td>...</td>\n      <td>...</td>\n      <td>...</td>\n      <td>...</td>\n      <td>...</td>\n      <td>...</td>\n      <td>...</td>\n      <td>...</td>\n      <td>...</td>\n      <td>...</td>\n      <td>...</td>\n      <td>...</td>\n      <td>...</td>\n    </tr>\n    <tr>\n      <th>3327</th>\n      <td>SC</td>\n      <td>79</td>\n      <td>415</td>\n      <td>No</td>\n      <td>No</td>\n      <td>0</td>\n      <td>134.7</td>\n      <td>98.0</td>\n      <td>22.90</td>\n      <td>189.7</td>\n      <td>68.0</td>\n      <td>16.12</td>\n      <td>221.4</td>\n      <td>128.0</td>\n      <td>9.96</td>\n      <td>11.8</td>\n      <td>5</td>\n      <td>3.19</td>\n      <td>2.0</td>\n      <td>False</td>\n    </tr>\n    <tr>\n      <th>3328</th>\n      <td>AZ</td>\n      <td>192</td>\n      <td>415</td>\n      <td>No</td>\n      <td>Yes</td>\n      <td>36</td>\n      <td>156.2</td>\n      <td>77.0</td>\n      <td>26.55</td>\n      <td>215.5</td>\n      <td>126.0</td>\n      <td>18.32</td>\n      <td>279.1</td>\n      <td>83.0</td>\n      <td>12.56</td>\n      <td>9.9</td>\n      <td>6</td>\n      <td>2.67</td>\n      <td>2.0</td>\n      <td>False</td>\n    </tr>\n    <tr>\n      <th>3329</th>\n      <td>WV</td>\n      <td>68</td>\n      <td>415</td>\n      <td>No</td>\n      <td>No</td>\n      <td>0</td>\n      <td>231.1</td>\n      <td>57.0</td>\n      <td>39.29</td>\n      <td>153.4</td>\n      <td>55.0</td>\n      <td>13.04</td>\n      <td>191.3</td>\n      <td>123.0</td>\n      <td>8.61</td>\n      <td>9.6</td>\n      <td>4</td>\n      <td>2.59</td>\n      <td>3.0</td>\n      <td>False</td>\n    </tr>\n    <tr>\n      <th>3330</th>\n      <td>RI</td>\n      <td>28</td>\n      <td>510</td>\n      <td>No</td>\n      <td>No</td>\n      <td>0</td>\n      <td>180.8</td>\n      <td>109.0</td>\n      <td>30.74</td>\n      <td>288.8</td>\n      <td>58.0</td>\n      <td>24.55</td>\n      <td>191.9</td>\n      <td>91.0</td>\n      <td>8.64</td>\n      <td>14.1</td>\n      <td>6</td>\n      <td>3.81</td>\n      <td>2.0</td>\n      <td>False</td>\n    </tr>\n    <tr>\n      <th>3332</th>\n      <td>TN</td>\n      <td>74</td>\n      <td>415</td>\n      <td>No</td>\n      <td>Yes</td>\n      <td>25</td>\n      <td>234.4</td>\n      <td>113.0</td>\n      <td>39.85</td>\n      <td>265.9</td>\n      <td>82.0</td>\n      <td>22.60</td>\n      <td>241.4</td>\n      <td>77.0</td>\n      <td>10.86</td>\n      <td>13.7</td>\n      <td>4</td>\n      <td>3.70</td>\n      <td>0.0</td>\n      <td>False</td>\n    </tr>\n  </tbody>\n</table>\n<p>3010 rows × 20 columns</p>\n</div>"
     },
     "execution_count": 88,
     "metadata": {},
     "output_type": "execute_result"
    }
   ],
   "source": [
    "telco_churn[telco_churn['International plan'] == 'No']"
   ]
  },
  {
   "cell_type": "code",
   "execution_count": 89,
   "id": "edd4364a-5014-4c27-a902-f1efdbf747d9",
   "metadata": {},
   "outputs": [
    {
     "data": {
      "text/plain": "0      False\n1       True\n2      False\n3       True\n4       True\n       ...  \n886    False\n887    False\n888    False\n889    False\n890     True\nName: Age, Length: 891, dtype: bool"
     },
     "execution_count": 89,
     "metadata": {},
     "output_type": "execute_result"
    }
   ],
   "source": [
    "# What does it condition look like without the \"shell\"?\n",
    "titanic['Age']>30"
   ]
  },
  {
   "cell_type": "code",
   "execution_count": 90,
   "id": "bd4e79a0-5dda-456e-ba6f-a3b1f06c7025",
   "metadata": {},
   "outputs": [
    {
     "data": {
      "text/plain": "     State  Account length  Area code International plan Voice mail plan   \n0       KS             128        415                 No             Yes  \\\n1       OH             107        415                 No             Yes   \n2       NJ             137        415                 No              No   \n8       LA             117        408                 No              No   \n11      RI              74        415                 No              No   \n...    ...             ...        ...                ...             ...   \n3327    SC              79        415                 No              No   \n3328    AZ             192        415                 No             Yes   \n3329    WV              68        415                 No              No   \n3330    RI              28        510                 No              No   \n3332    TN              74        415                 No             Yes   \n\n      Number vmail messages  Total day minutes  Total day calls   \n0                        25              265.1            110.0  \\\n1                        26              161.6            123.0   \n2                         0              243.4            114.0   \n8                         0              184.5             97.0   \n11                        0              187.7            127.0   \n...                     ...                ...              ...   \n3327                      0              134.7             98.0   \n3328                     36              156.2             77.0   \n3329                      0              231.1             57.0   \n3330                      0              180.8            109.0   \n3332                     25              234.4            113.0   \n\n      Total day charge  Total eve minutes  Total eve calls  Total eve charge   \n0                45.07              197.4             99.0             16.78  \\\n1                27.47              195.5            103.0             16.62   \n2                41.38              121.2            110.0             10.30   \n8                31.37              351.6             80.0             29.89   \n11               31.91              163.4            148.0             13.89   \n...                ...                ...              ...               ...   \n3327             22.90              189.7             68.0             16.12   \n3328             26.55              215.5            126.0             18.32   \n3329             39.29              153.4             55.0             13.04   \n3330             30.74              288.8             58.0             24.55   \n3332             39.85              265.9             82.0             22.60   \n\n      Total night minutes  Total night calls  Total night charge   \n0                   244.7               91.0               11.01  \\\n1                   254.4              103.0               11.45   \n2                   162.6              104.0                7.32   \n8                   215.8               90.0                9.71   \n11                  196.0               94.0                8.82   \n...                   ...                ...                 ...   \n3327                221.4              128.0                9.96   \n3328                279.1               83.0               12.56   \n3329                191.3              123.0                8.61   \n3330                191.9               91.0                8.64   \n3332                241.4               77.0               10.86   \n\n      Total intl minutes  Total intl calls  Total intl charge   \n0                   10.0                 3               2.70  \\\n1                   13.7                 3               3.70   \n2                   12.2                 5               3.29   \n8                    8.7                 4               2.35   \n11                   9.1                 5               2.46   \n...                  ...               ...                ...   \n3327                11.8                 5               3.19   \n3328                 9.9                 6               2.67   \n3329                 9.6                 4               2.59   \n3330                14.1                 6               3.81   \n3332                13.7                 4               3.70   \n\n      Customer service calls  Churn  \n0                        1.0  False  \n1                        1.0  False  \n2                        0.0  False  \n8                        1.0  False  \n11                       0.0  False  \n...                      ...    ...  \n3327                     2.0  False  \n3328                     2.0  False  \n3329                     3.0  False  \n3330                     2.0  False  \n3332                     0.0  False  \n\n[2656 rows x 20 columns]",
      "text/html": "<div>\n<style scoped>\n    .dataframe tbody tr th:only-of-type {\n        vertical-align: middle;\n    }\n\n    .dataframe tbody tr th {\n        vertical-align: top;\n    }\n\n    .dataframe thead th {\n        text-align: right;\n    }\n</style>\n<table border=\"1\" class=\"dataframe\">\n  <thead>\n    <tr style=\"text-align: right;\">\n      <th></th>\n      <th>State</th>\n      <th>Account length</th>\n      <th>Area code</th>\n      <th>International plan</th>\n      <th>Voice mail plan</th>\n      <th>Number vmail messages</th>\n      <th>Total day minutes</th>\n      <th>Total day calls</th>\n      <th>Total day charge</th>\n      <th>Total eve minutes</th>\n      <th>Total eve calls</th>\n      <th>Total eve charge</th>\n      <th>Total night minutes</th>\n      <th>Total night calls</th>\n      <th>Total night charge</th>\n      <th>Total intl minutes</th>\n      <th>Total intl calls</th>\n      <th>Total intl charge</th>\n      <th>Customer service calls</th>\n      <th>Churn</th>\n    </tr>\n  </thead>\n  <tbody>\n    <tr>\n      <th>0</th>\n      <td>KS</td>\n      <td>128</td>\n      <td>415</td>\n      <td>No</td>\n      <td>Yes</td>\n      <td>25</td>\n      <td>265.1</td>\n      <td>110.0</td>\n      <td>45.07</td>\n      <td>197.4</td>\n      <td>99.0</td>\n      <td>16.78</td>\n      <td>244.7</td>\n      <td>91.0</td>\n      <td>11.01</td>\n      <td>10.0</td>\n      <td>3</td>\n      <td>2.70</td>\n      <td>1.0</td>\n      <td>False</td>\n    </tr>\n    <tr>\n      <th>1</th>\n      <td>OH</td>\n      <td>107</td>\n      <td>415</td>\n      <td>No</td>\n      <td>Yes</td>\n      <td>26</td>\n      <td>161.6</td>\n      <td>123.0</td>\n      <td>27.47</td>\n      <td>195.5</td>\n      <td>103.0</td>\n      <td>16.62</td>\n      <td>254.4</td>\n      <td>103.0</td>\n      <td>11.45</td>\n      <td>13.7</td>\n      <td>3</td>\n      <td>3.70</td>\n      <td>1.0</td>\n      <td>False</td>\n    </tr>\n    <tr>\n      <th>2</th>\n      <td>NJ</td>\n      <td>137</td>\n      <td>415</td>\n      <td>No</td>\n      <td>No</td>\n      <td>0</td>\n      <td>243.4</td>\n      <td>114.0</td>\n      <td>41.38</td>\n      <td>121.2</td>\n      <td>110.0</td>\n      <td>10.30</td>\n      <td>162.6</td>\n      <td>104.0</td>\n      <td>7.32</td>\n      <td>12.2</td>\n      <td>5</td>\n      <td>3.29</td>\n      <td>0.0</td>\n      <td>False</td>\n    </tr>\n    <tr>\n      <th>8</th>\n      <td>LA</td>\n      <td>117</td>\n      <td>408</td>\n      <td>No</td>\n      <td>No</td>\n      <td>0</td>\n      <td>184.5</td>\n      <td>97.0</td>\n      <td>31.37</td>\n      <td>351.6</td>\n      <td>80.0</td>\n      <td>29.89</td>\n      <td>215.8</td>\n      <td>90.0</td>\n      <td>9.71</td>\n      <td>8.7</td>\n      <td>4</td>\n      <td>2.35</td>\n      <td>1.0</td>\n      <td>False</td>\n    </tr>\n    <tr>\n      <th>11</th>\n      <td>RI</td>\n      <td>74</td>\n      <td>415</td>\n      <td>No</td>\n      <td>No</td>\n      <td>0</td>\n      <td>187.7</td>\n      <td>127.0</td>\n      <td>31.91</td>\n      <td>163.4</td>\n      <td>148.0</td>\n      <td>13.89</td>\n      <td>196.0</td>\n      <td>94.0</td>\n      <td>8.82</td>\n      <td>9.1</td>\n      <td>5</td>\n      <td>2.46</td>\n      <td>0.0</td>\n      <td>False</td>\n    </tr>\n    <tr>\n      <th>...</th>\n      <td>...</td>\n      <td>...</td>\n      <td>...</td>\n      <td>...</td>\n      <td>...</td>\n      <td>...</td>\n      <td>...</td>\n      <td>...</td>\n      <td>...</td>\n      <td>...</td>\n      <td>...</td>\n      <td>...</td>\n      <td>...</td>\n      <td>...</td>\n      <td>...</td>\n      <td>...</td>\n      <td>...</td>\n      <td>...</td>\n      <td>...</td>\n      <td>...</td>\n    </tr>\n    <tr>\n      <th>3327</th>\n      <td>SC</td>\n      <td>79</td>\n      <td>415</td>\n      <td>No</td>\n      <td>No</td>\n      <td>0</td>\n      <td>134.7</td>\n      <td>98.0</td>\n      <td>22.90</td>\n      <td>189.7</td>\n      <td>68.0</td>\n      <td>16.12</td>\n      <td>221.4</td>\n      <td>128.0</td>\n      <td>9.96</td>\n      <td>11.8</td>\n      <td>5</td>\n      <td>3.19</td>\n      <td>2.0</td>\n      <td>False</td>\n    </tr>\n    <tr>\n      <th>3328</th>\n      <td>AZ</td>\n      <td>192</td>\n      <td>415</td>\n      <td>No</td>\n      <td>Yes</td>\n      <td>36</td>\n      <td>156.2</td>\n      <td>77.0</td>\n      <td>26.55</td>\n      <td>215.5</td>\n      <td>126.0</td>\n      <td>18.32</td>\n      <td>279.1</td>\n      <td>83.0</td>\n      <td>12.56</td>\n      <td>9.9</td>\n      <td>6</td>\n      <td>2.67</td>\n      <td>2.0</td>\n      <td>False</td>\n    </tr>\n    <tr>\n      <th>3329</th>\n      <td>WV</td>\n      <td>68</td>\n      <td>415</td>\n      <td>No</td>\n      <td>No</td>\n      <td>0</td>\n      <td>231.1</td>\n      <td>57.0</td>\n      <td>39.29</td>\n      <td>153.4</td>\n      <td>55.0</td>\n      <td>13.04</td>\n      <td>191.3</td>\n      <td>123.0</td>\n      <td>8.61</td>\n      <td>9.6</td>\n      <td>4</td>\n      <td>2.59</td>\n      <td>3.0</td>\n      <td>False</td>\n    </tr>\n    <tr>\n      <th>3330</th>\n      <td>RI</td>\n      <td>28</td>\n      <td>510</td>\n      <td>No</td>\n      <td>No</td>\n      <td>0</td>\n      <td>180.8</td>\n      <td>109.0</td>\n      <td>30.74</td>\n      <td>288.8</td>\n      <td>58.0</td>\n      <td>24.55</td>\n      <td>191.9</td>\n      <td>91.0</td>\n      <td>8.64</td>\n      <td>14.1</td>\n      <td>6</td>\n      <td>3.81</td>\n      <td>2.0</td>\n      <td>False</td>\n    </tr>\n    <tr>\n      <th>3332</th>\n      <td>TN</td>\n      <td>74</td>\n      <td>415</td>\n      <td>No</td>\n      <td>Yes</td>\n      <td>25</td>\n      <td>234.4</td>\n      <td>113.0</td>\n      <td>39.85</td>\n      <td>265.9</td>\n      <td>82.0</td>\n      <td>22.60</td>\n      <td>241.4</td>\n      <td>77.0</td>\n      <td>10.86</td>\n      <td>13.7</td>\n      <td>4</td>\n      <td>3.70</td>\n      <td>0.0</td>\n      <td>False</td>\n    </tr>\n  </tbody>\n</table>\n<p>2656 rows × 20 columns</p>\n</div>"
     },
     "execution_count": 90,
     "metadata": {},
     "output_type": "execute_result"
    }
   ],
   "source": [
    "telco_churn[(telco_churn['International plan'] == 'No') & (telco_churn['Churn'] == False)]"
   ]
  },
  {
   "cell_type": "code",
   "execution_count": 91,
   "id": "f28493aa-1a51-4ce8-92fc-2305c339ee16",
   "metadata": {},
   "outputs": [
    {
     "data": {
      "text/plain": "     PassengerId  Survived  Pclass   \n4              5         0       3  \\\n11            12         1       1   \n13            14         0       3   \n15            16         1       2   \n18            19         0       3   \n..           ...       ...     ...   \n872          873         0       1   \n873          874         0       3   \n881          882         0       3   \n885          886         0       3   \n890          891         0       3   \n\n                                                  Name     Sex   Age  SibSp   \n4                             Allen, Mr. William Henry    male  35.0      0  \\\n11                            Bonnell, Miss. Elizabeth  female  58.0      0   \n13                         Andersson, Mr. Anders Johan    male  39.0      1   \n15                    Hewlett, Mrs. (Mary D Kingcome)   female  55.0      0   \n18   Vander Planke, Mrs. Julius (Emelia Maria Vande...  female  31.0      1   \n..                                                 ...     ...   ...    ...   \n872                           Carlsson, Mr. Frans Olof    male  33.0      0   \n873                        Vander Cruyssen, Mr. Victor    male  47.0      0   \n881                                 Markun, Mr. Johann    male  33.0      0   \n885               Rice, Mrs. William (Margaret Norton)  female  39.0      0   \n890                                Dooley, Mr. Patrick    male  32.0      0   \n\n     Parch  Ticket     Fare        Cabin Embarked  \n4        0  373450   8.0500          NaN        S  \n11       0  113783  26.5500         C103        S  \n13       5  347082  31.2750          NaN        S  \n15       0  248706  16.0000          NaN        S  \n18       0  345763  18.0000          NaN        S  \n..     ...     ...      ...          ...      ...  \n872      0     695   5.0000  B51 B53 B55        S  \n873      0  345765   9.0000          NaN        S  \n881      0  349257   7.8958          NaN        S  \n885      5  382652  29.1250          NaN        Q  \n890      0  370376   7.7500          NaN        Q  \n\n[222 rows x 12 columns]",
      "text/html": "<div>\n<style scoped>\n    .dataframe tbody tr th:only-of-type {\n        vertical-align: middle;\n    }\n\n    .dataframe tbody tr th {\n        vertical-align: top;\n    }\n\n    .dataframe thead th {\n        text-align: right;\n    }\n</style>\n<table border=\"1\" class=\"dataframe\">\n  <thead>\n    <tr style=\"text-align: right;\">\n      <th></th>\n      <th>PassengerId</th>\n      <th>Survived</th>\n      <th>Pclass</th>\n      <th>Name</th>\n      <th>Sex</th>\n      <th>Age</th>\n      <th>SibSp</th>\n      <th>Parch</th>\n      <th>Ticket</th>\n      <th>Fare</th>\n      <th>Cabin</th>\n      <th>Embarked</th>\n    </tr>\n  </thead>\n  <tbody>\n    <tr>\n      <th>4</th>\n      <td>5</td>\n      <td>0</td>\n      <td>3</td>\n      <td>Allen, Mr. William Henry</td>\n      <td>male</td>\n      <td>35.0</td>\n      <td>0</td>\n      <td>0</td>\n      <td>373450</td>\n      <td>8.0500</td>\n      <td>NaN</td>\n      <td>S</td>\n    </tr>\n    <tr>\n      <th>11</th>\n      <td>12</td>\n      <td>1</td>\n      <td>1</td>\n      <td>Bonnell, Miss. Elizabeth</td>\n      <td>female</td>\n      <td>58.0</td>\n      <td>0</td>\n      <td>0</td>\n      <td>113783</td>\n      <td>26.5500</td>\n      <td>C103</td>\n      <td>S</td>\n    </tr>\n    <tr>\n      <th>13</th>\n      <td>14</td>\n      <td>0</td>\n      <td>3</td>\n      <td>Andersson, Mr. Anders Johan</td>\n      <td>male</td>\n      <td>39.0</td>\n      <td>1</td>\n      <td>5</td>\n      <td>347082</td>\n      <td>31.2750</td>\n      <td>NaN</td>\n      <td>S</td>\n    </tr>\n    <tr>\n      <th>15</th>\n      <td>16</td>\n      <td>1</td>\n      <td>2</td>\n      <td>Hewlett, Mrs. (Mary D Kingcome)</td>\n      <td>female</td>\n      <td>55.0</td>\n      <td>0</td>\n      <td>0</td>\n      <td>248706</td>\n      <td>16.0000</td>\n      <td>NaN</td>\n      <td>S</td>\n    </tr>\n    <tr>\n      <th>18</th>\n      <td>19</td>\n      <td>0</td>\n      <td>3</td>\n      <td>Vander Planke, Mrs. Julius (Emelia Maria Vande...</td>\n      <td>female</td>\n      <td>31.0</td>\n      <td>1</td>\n      <td>0</td>\n      <td>345763</td>\n      <td>18.0000</td>\n      <td>NaN</td>\n      <td>S</td>\n    </tr>\n    <tr>\n      <th>...</th>\n      <td>...</td>\n      <td>...</td>\n      <td>...</td>\n      <td>...</td>\n      <td>...</td>\n      <td>...</td>\n      <td>...</td>\n      <td>...</td>\n      <td>...</td>\n      <td>...</td>\n      <td>...</td>\n      <td>...</td>\n    </tr>\n    <tr>\n      <th>872</th>\n      <td>873</td>\n      <td>0</td>\n      <td>1</td>\n      <td>Carlsson, Mr. Frans Olof</td>\n      <td>male</td>\n      <td>33.0</td>\n      <td>0</td>\n      <td>0</td>\n      <td>695</td>\n      <td>5.0000</td>\n      <td>B51 B53 B55</td>\n      <td>S</td>\n    </tr>\n    <tr>\n      <th>873</th>\n      <td>874</td>\n      <td>0</td>\n      <td>3</td>\n      <td>Vander Cruyssen, Mr. Victor</td>\n      <td>male</td>\n      <td>47.0</td>\n      <td>0</td>\n      <td>0</td>\n      <td>345765</td>\n      <td>9.0000</td>\n      <td>NaN</td>\n      <td>S</td>\n    </tr>\n    <tr>\n      <th>881</th>\n      <td>882</td>\n      <td>0</td>\n      <td>3</td>\n      <td>Markun, Mr. Johann</td>\n      <td>male</td>\n      <td>33.0</td>\n      <td>0</td>\n      <td>0</td>\n      <td>349257</td>\n      <td>7.8958</td>\n      <td>NaN</td>\n      <td>S</td>\n    </tr>\n    <tr>\n      <th>885</th>\n      <td>886</td>\n      <td>0</td>\n      <td>3</td>\n      <td>Rice, Mrs. William (Margaret Norton)</td>\n      <td>female</td>\n      <td>39.0</td>\n      <td>0</td>\n      <td>5</td>\n      <td>382652</td>\n      <td>29.1250</td>\n      <td>NaN</td>\n      <td>Q</td>\n    </tr>\n    <tr>\n      <th>890</th>\n      <td>891</td>\n      <td>0</td>\n      <td>3</td>\n      <td>Dooley, Mr. Patrick</td>\n      <td>male</td>\n      <td>32.0</td>\n      <td>0</td>\n      <td>0</td>\n      <td>370376</td>\n      <td>7.7500</td>\n      <td>NaN</td>\n      <td>Q</td>\n    </tr>\n  </tbody>\n</table>\n<p>222 rows × 12 columns</p>\n</div>"
     },
     "execution_count": 91,
     "metadata": {},
     "output_type": "execute_result"
    }
   ],
   "source": [
    "titanic[(titanic['Age'] > 30) & (titanic['Fare'] < 50)]"
   ]
  },
  {
   "cell_type": "code",
   "execution_count": 92,
   "id": "8fc7ea84-9f6b-4ab4-8959-5834becc7fc5",
   "metadata": {},
   "outputs": [
    {
     "data": {
      "text/plain": "     PassengerId  Survived  Pclass   \n0              1         0       3  \\\n1              2         1       1   \n2              3         1       3   \n3              4         1       1   \n4              5         0       3   \n..           ...       ...     ...   \n885          886         0       3   \n887          888         1       1   \n888          889         0       3   \n889          890         1       1   \n890          891         0       3   \n\n                                                  Name     Sex   Age  SibSp   \n0                              Braund, Mr. Owen Harris    male  22.0      1  \\\n1    Cumings, Mrs. John Bradley (Florence Briggs Th...  female  38.0      1   \n2                               Heikkinen, Miss. Laina  female  26.0      0   \n3         Futrelle, Mrs. Jacques Heath (Lily May Peel)  female  35.0      1   \n4                             Allen, Mr. William Henry    male  35.0      0   \n..                                                 ...     ...   ...    ...   \n885               Rice, Mrs. William (Margaret Norton)  female  39.0      0   \n887                       Graham, Miss. Margaret Edith  female  19.0      0   \n888           Johnston, Miss. Catherine Helen \"Carrie\"  female   NaN      1   \n889                              Behr, Mr. Karl Howell    male  26.0      0   \n890                                Dooley, Mr. Patrick    male  32.0      0   \n\n     Parch            Ticket     Fare Cabin Embarked  \n0        0         A/5 21171   7.2500   NaN        S  \n1        0          PC 17599  71.2833   C85        C  \n2        0  STON/O2. 3101282   7.9250   NaN        S  \n3        0            113803  53.1000  C123        S  \n4        0            373450   8.0500   NaN        S  \n..     ...               ...      ...   ...      ...  \n885      5            382652  29.1250   NaN        Q  \n887      0            112053  30.0000   B42        S  \n888      2        W./C. 6607  23.4500   NaN        S  \n889      0            111369  30.0000  C148        C  \n890      0            370376   7.7500   NaN        Q  \n\n[707 rows x 12 columns]",
      "text/html": "<div>\n<style scoped>\n    .dataframe tbody tr th:only-of-type {\n        vertical-align: middle;\n    }\n\n    .dataframe tbody tr th {\n        vertical-align: top;\n    }\n\n    .dataframe thead th {\n        text-align: right;\n    }\n</style>\n<table border=\"1\" class=\"dataframe\">\n  <thead>\n    <tr style=\"text-align: right;\">\n      <th></th>\n      <th>PassengerId</th>\n      <th>Survived</th>\n      <th>Pclass</th>\n      <th>Name</th>\n      <th>Sex</th>\n      <th>Age</th>\n      <th>SibSp</th>\n      <th>Parch</th>\n      <th>Ticket</th>\n      <th>Fare</th>\n      <th>Cabin</th>\n      <th>Embarked</th>\n    </tr>\n  </thead>\n  <tbody>\n    <tr>\n      <th>0</th>\n      <td>1</td>\n      <td>0</td>\n      <td>3</td>\n      <td>Braund, Mr. Owen Harris</td>\n      <td>male</td>\n      <td>22.0</td>\n      <td>1</td>\n      <td>0</td>\n      <td>A/5 21171</td>\n      <td>7.2500</td>\n      <td>NaN</td>\n      <td>S</td>\n    </tr>\n    <tr>\n      <th>1</th>\n      <td>2</td>\n      <td>1</td>\n      <td>1</td>\n      <td>Cumings, Mrs. John Bradley (Florence Briggs Th...</td>\n      <td>female</td>\n      <td>38.0</td>\n      <td>1</td>\n      <td>0</td>\n      <td>PC 17599</td>\n      <td>71.2833</td>\n      <td>C85</td>\n      <td>C</td>\n    </tr>\n    <tr>\n      <th>2</th>\n      <td>3</td>\n      <td>1</td>\n      <td>3</td>\n      <td>Heikkinen, Miss. Laina</td>\n      <td>female</td>\n      <td>26.0</td>\n      <td>0</td>\n      <td>0</td>\n      <td>STON/O2. 3101282</td>\n      <td>7.9250</td>\n      <td>NaN</td>\n      <td>S</td>\n    </tr>\n    <tr>\n      <th>3</th>\n      <td>4</td>\n      <td>1</td>\n      <td>1</td>\n      <td>Futrelle, Mrs. Jacques Heath (Lily May Peel)</td>\n      <td>female</td>\n      <td>35.0</td>\n      <td>1</td>\n      <td>0</td>\n      <td>113803</td>\n      <td>53.1000</td>\n      <td>C123</td>\n      <td>S</td>\n    </tr>\n    <tr>\n      <th>4</th>\n      <td>5</td>\n      <td>0</td>\n      <td>3</td>\n      <td>Allen, Mr. William Henry</td>\n      <td>male</td>\n      <td>35.0</td>\n      <td>0</td>\n      <td>0</td>\n      <td>373450</td>\n      <td>8.0500</td>\n      <td>NaN</td>\n      <td>S</td>\n    </tr>\n    <tr>\n      <th>...</th>\n      <td>...</td>\n      <td>...</td>\n      <td>...</td>\n      <td>...</td>\n      <td>...</td>\n      <td>...</td>\n      <td>...</td>\n      <td>...</td>\n      <td>...</td>\n      <td>...</td>\n      <td>...</td>\n      <td>...</td>\n    </tr>\n    <tr>\n      <th>885</th>\n      <td>886</td>\n      <td>0</td>\n      <td>3</td>\n      <td>Rice, Mrs. William (Margaret Norton)</td>\n      <td>female</td>\n      <td>39.0</td>\n      <td>0</td>\n      <td>5</td>\n      <td>382652</td>\n      <td>29.1250</td>\n      <td>NaN</td>\n      <td>Q</td>\n    </tr>\n    <tr>\n      <th>887</th>\n      <td>888</td>\n      <td>1</td>\n      <td>1</td>\n      <td>Graham, Miss. Margaret Edith</td>\n      <td>female</td>\n      <td>19.0</td>\n      <td>0</td>\n      <td>0</td>\n      <td>112053</td>\n      <td>30.0000</td>\n      <td>B42</td>\n      <td>S</td>\n    </tr>\n    <tr>\n      <th>888</th>\n      <td>889</td>\n      <td>0</td>\n      <td>3</td>\n      <td>Johnston, Miss. Catherine Helen \"Carrie\"</td>\n      <td>female</td>\n      <td>NaN</td>\n      <td>1</td>\n      <td>2</td>\n      <td>W./C. 6607</td>\n      <td>23.4500</td>\n      <td>NaN</td>\n      <td>S</td>\n    </tr>\n    <tr>\n      <th>889</th>\n      <td>890</td>\n      <td>1</td>\n      <td>1</td>\n      <td>Behr, Mr. Karl Howell</td>\n      <td>male</td>\n      <td>26.0</td>\n      <td>0</td>\n      <td>0</td>\n      <td>111369</td>\n      <td>30.0000</td>\n      <td>C148</td>\n      <td>C</td>\n    </tr>\n    <tr>\n      <th>890</th>\n      <td>891</td>\n      <td>0</td>\n      <td>3</td>\n      <td>Dooley, Mr. Patrick</td>\n      <td>male</td>\n      <td>32.0</td>\n      <td>0</td>\n      <td>0</td>\n      <td>370376</td>\n      <td>7.7500</td>\n      <td>NaN</td>\n      <td>Q</td>\n    </tr>\n  </tbody>\n</table>\n<p>707 rows × 12 columns</p>\n</div>"
     },
     "execution_count": 92,
     "metadata": {},
     "output_type": "execute_result"
    }
   ],
   "source": [
    "# Passengers class 1 & 3, or negate to get 2\n",
    "titanic[(titanic['Pclass'].isin([1,3]))]"
   ]
  },
  {
   "cell_type": "code",
   "execution_count": 94,
   "id": "8c3232fd-29fe-4648-98df-d435e8128c9a",
   "metadata": {},
   "outputs": [
    {
     "data": {
      "text/plain": "     PassengerId  Survived  Pclass   \n9             10         1       2  \\\n15            16         1       2   \n17            18         1       2   \n20            21         0       2   \n21            22         1       2   \n..           ...       ...     ...   \n866          867         1       2   \n874          875         1       2   \n880          881         1       2   \n883          884         0       2   \n886          887         0       2   \n\n                                             Name     Sex   Age  SibSp  Parch   \n9             Nasser, Mrs. Nicholas (Adele Achem)  female  14.0      1      0  \\\n15               Hewlett, Mrs. (Mary D Kingcome)   female  55.0      0      0   \n17                   Williams, Mr. Charles Eugene    male   NaN      0      0   \n20                           Fynney, Mr. Joseph J    male  35.0      0      0   \n21                          Beesley, Mr. Lawrence    male  34.0      0      0   \n..                                            ...     ...   ...    ...    ...   \n866                  Duran y More, Miss. Asuncion  female  27.0      1      0   \n874         Abelson, Mrs. Samuel (Hannah Wizosky)  female  28.0      1      0   \n880  Shelley, Mrs. William (Imanita Parrish Hall)  female  25.0      0      1   \n883                 Banfield, Mr. Frederick James    male  28.0      0      0   \n886                         Montvila, Rev. Juozas    male  27.0      0      0   \n\n               Ticket     Fare Cabin Embarked  \n9              237736  30.0708   NaN        C  \n15             248706  16.0000   NaN        S  \n17             244373  13.0000   NaN        S  \n20             239865  26.0000   NaN        S  \n21             248698  13.0000   D56        S  \n..                ...      ...   ...      ...  \n866     SC/PARIS 2149  13.8583   NaN        C  \n874         P/PP 3381  24.0000   NaN        C  \n880            230433  26.0000   NaN        S  \n883  C.A./SOTON 34068  10.5000   NaN        S  \n886            211536  13.0000   NaN        S  \n\n[184 rows x 12 columns]",
      "text/html": "<div>\n<style scoped>\n    .dataframe tbody tr th:only-of-type {\n        vertical-align: middle;\n    }\n\n    .dataframe tbody tr th {\n        vertical-align: top;\n    }\n\n    .dataframe thead th {\n        text-align: right;\n    }\n</style>\n<table border=\"1\" class=\"dataframe\">\n  <thead>\n    <tr style=\"text-align: right;\">\n      <th></th>\n      <th>PassengerId</th>\n      <th>Survived</th>\n      <th>Pclass</th>\n      <th>Name</th>\n      <th>Sex</th>\n      <th>Age</th>\n      <th>SibSp</th>\n      <th>Parch</th>\n      <th>Ticket</th>\n      <th>Fare</th>\n      <th>Cabin</th>\n      <th>Embarked</th>\n    </tr>\n  </thead>\n  <tbody>\n    <tr>\n      <th>9</th>\n      <td>10</td>\n      <td>1</td>\n      <td>2</td>\n      <td>Nasser, Mrs. Nicholas (Adele Achem)</td>\n      <td>female</td>\n      <td>14.0</td>\n      <td>1</td>\n      <td>0</td>\n      <td>237736</td>\n      <td>30.0708</td>\n      <td>NaN</td>\n      <td>C</td>\n    </tr>\n    <tr>\n      <th>15</th>\n      <td>16</td>\n      <td>1</td>\n      <td>2</td>\n      <td>Hewlett, Mrs. (Mary D Kingcome)</td>\n      <td>female</td>\n      <td>55.0</td>\n      <td>0</td>\n      <td>0</td>\n      <td>248706</td>\n      <td>16.0000</td>\n      <td>NaN</td>\n      <td>S</td>\n    </tr>\n    <tr>\n      <th>17</th>\n      <td>18</td>\n      <td>1</td>\n      <td>2</td>\n      <td>Williams, Mr. Charles Eugene</td>\n      <td>male</td>\n      <td>NaN</td>\n      <td>0</td>\n      <td>0</td>\n      <td>244373</td>\n      <td>13.0000</td>\n      <td>NaN</td>\n      <td>S</td>\n    </tr>\n    <tr>\n      <th>20</th>\n      <td>21</td>\n      <td>0</td>\n      <td>2</td>\n      <td>Fynney, Mr. Joseph J</td>\n      <td>male</td>\n      <td>35.0</td>\n      <td>0</td>\n      <td>0</td>\n      <td>239865</td>\n      <td>26.0000</td>\n      <td>NaN</td>\n      <td>S</td>\n    </tr>\n    <tr>\n      <th>21</th>\n      <td>22</td>\n      <td>1</td>\n      <td>2</td>\n      <td>Beesley, Mr. Lawrence</td>\n      <td>male</td>\n      <td>34.0</td>\n      <td>0</td>\n      <td>0</td>\n      <td>248698</td>\n      <td>13.0000</td>\n      <td>D56</td>\n      <td>S</td>\n    </tr>\n    <tr>\n      <th>...</th>\n      <td>...</td>\n      <td>...</td>\n      <td>...</td>\n      <td>...</td>\n      <td>...</td>\n      <td>...</td>\n      <td>...</td>\n      <td>...</td>\n      <td>...</td>\n      <td>...</td>\n      <td>...</td>\n      <td>...</td>\n    </tr>\n    <tr>\n      <th>866</th>\n      <td>867</td>\n      <td>1</td>\n      <td>2</td>\n      <td>Duran y More, Miss. Asuncion</td>\n      <td>female</td>\n      <td>27.0</td>\n      <td>1</td>\n      <td>0</td>\n      <td>SC/PARIS 2149</td>\n      <td>13.8583</td>\n      <td>NaN</td>\n      <td>C</td>\n    </tr>\n    <tr>\n      <th>874</th>\n      <td>875</td>\n      <td>1</td>\n      <td>2</td>\n      <td>Abelson, Mrs. Samuel (Hannah Wizosky)</td>\n      <td>female</td>\n      <td>28.0</td>\n      <td>1</td>\n      <td>0</td>\n      <td>P/PP 3381</td>\n      <td>24.0000</td>\n      <td>NaN</td>\n      <td>C</td>\n    </tr>\n    <tr>\n      <th>880</th>\n      <td>881</td>\n      <td>1</td>\n      <td>2</td>\n      <td>Shelley, Mrs. William (Imanita Parrish Hall)</td>\n      <td>female</td>\n      <td>25.0</td>\n      <td>0</td>\n      <td>1</td>\n      <td>230433</td>\n      <td>26.0000</td>\n      <td>NaN</td>\n      <td>S</td>\n    </tr>\n    <tr>\n      <th>883</th>\n      <td>884</td>\n      <td>0</td>\n      <td>2</td>\n      <td>Banfield, Mr. Frederick James</td>\n      <td>male</td>\n      <td>28.0</td>\n      <td>0</td>\n      <td>0</td>\n      <td>C.A./SOTON 34068</td>\n      <td>10.5000</td>\n      <td>NaN</td>\n      <td>S</td>\n    </tr>\n    <tr>\n      <th>886</th>\n      <td>887</td>\n      <td>0</td>\n      <td>2</td>\n      <td>Montvila, Rev. Juozas</td>\n      <td>male</td>\n      <td>27.0</td>\n      <td>0</td>\n      <td>0</td>\n      <td>211536</td>\n      <td>13.0000</td>\n      <td>NaN</td>\n      <td>S</td>\n    </tr>\n  </tbody>\n</table>\n<p>184 rows × 12 columns</p>\n</div>"
     },
     "execution_count": 94,
     "metadata": {},
     "output_type": "execute_result"
    }
   ],
   "source": [
    "# Passengers class 1 & 3, or negate to get 2\n",
    "titanic[~(titanic['Pclass'].isin([1,3]))]"
   ]
  },
  {
   "cell_type": "code",
   "execution_count": 95,
   "id": "483c35da-07e9-4194-bf74-b4285135e041",
   "metadata": {},
   "outputs": [
    {
     "data": {
      "text/plain": "     PassengerId  Survived  Pclass   \n79            80         1       3  \\\n157          158         0       3   \n178          179         0       2   \n213          214         0       2   \n219          220         0       2   \n244          245         0       3   \n253          254         0       3   \n257          258         1       1   \n286          287         1       3   \n308          309         0       2   \n309          310         1       1   \n322          323         1       2   \n365          366         0       3   \n418          419         0       2   \n452          453         0       1   \n488          489         0       3   \n520          521         1       1   \n534          535         0       3   \n537          538         1       1   \n606          607         0       3   \n726          727         1       2   \n747          748         1       2   \n798          799         0       3   \n799          800         0       3   \n842          843         1       1   \n\n                                                  Name     Sex   Age  SibSp   \n79                            Dowdell, Miss. Elizabeth  female  30.0      0  \\\n157                                    Corn, Mr. Harry    male  30.0      0   \n178                                 Hale, Mr. Reginald    male  30.0      0   \n213                        Givard, Mr. Hans Kristensen    male  30.0      0   \n219                                 Harris, Mr. Walter    male  30.0      0   \n244                               Attalah, Mr. Sleiman    male  30.0      0   \n253                           Lobb, Mr. William Arthur    male  30.0      1   \n257                               Cherry, Miss. Gladys  female  30.0      0   \n286                            de Mulder, Mr. Theodore    male  30.0      0   \n308                                Abelson, Mr. Samuel    male  30.0      1   \n309                     Francatelli, Miss. Laura Mabel  female  30.0      0   \n322                          Slayter, Miss. Hilda Mary  female  30.0      0   \n365                     Adahl, Mr. Mauritz Nils Martin    male  30.0      0   \n418                         Matthews, Mr. William John    male  30.0      0   \n452                    Foreman, Mr. Benjamin Laventall    male  30.0      0   \n488                      Somerton, Mr. Francis William    male  30.0      0   \n520                              Perreault, Miss. Anne  female  30.0      0   \n534                                Cacic, Miss. Marija  female  30.0      0   \n537                                LeRoy, Miss. Bertha  female  30.0      0   \n606                                  Karaic, Mr. Milan    male  30.0      0   \n726        Renouf, Mrs. Peter Henry (Lillian Jefferys)  female  30.0      3   \n747                              Sinkkonen, Miss. Anna  female  30.0      0   \n798                       Ibrahim Shawah, Mr. Yousseff    male  30.0      0   \n799  Van Impe, Mrs. Jean Baptiste (Rosalie Paula Go...  female  30.0      1   \n842                            Serepeca, Miss. Augusta  female  30.0      0   \n\n     Parch           Ticket      Fare Cabin Embarked  \n79       0           364516   12.4750   NaN        S  \n157      0  SOTON/OQ 392090    8.0500   NaN        S  \n178      0           250653   13.0000   NaN        S  \n213      0           250646   13.0000   NaN        S  \n219      0        W/C 14208   10.5000   NaN        S  \n244      0             2694    7.2250   NaN        C  \n253      0        A/5. 3336   16.1000   NaN        S  \n257      0           110152   86.5000   B77        S  \n286      0           345774    9.5000   NaN        S  \n308      0        P/PP 3381   24.0000   NaN        C  \n309      0         PC 17485   56.9292   E36        C  \n322      0           234818   12.3500   NaN        Q  \n365      0           C 7076    7.2500   NaN        S  \n418      0            28228   13.0000   NaN        S  \n452      0           113051   27.7500  C111        C  \n488      0       A.5. 18509    8.0500   NaN        S  \n520      0            12749   93.5000   B73        S  \n534      0           315084    8.6625   NaN        S  \n537      0         PC 17761  106.4250   NaN        C  \n606      0           349246    7.8958   NaN        S  \n726      0            31027   21.0000   NaN        S  \n747      0           250648   13.0000   NaN        S  \n798      0             2685    7.2292   NaN        C  \n799      1           345773   24.1500   NaN        S  \n842      0           113798   31.0000   NaN        C  ",
      "text/html": "<div>\n<style scoped>\n    .dataframe tbody tr th:only-of-type {\n        vertical-align: middle;\n    }\n\n    .dataframe tbody tr th {\n        vertical-align: top;\n    }\n\n    .dataframe thead th {\n        text-align: right;\n    }\n</style>\n<table border=\"1\" class=\"dataframe\">\n  <thead>\n    <tr style=\"text-align: right;\">\n      <th></th>\n      <th>PassengerId</th>\n      <th>Survived</th>\n      <th>Pclass</th>\n      <th>Name</th>\n      <th>Sex</th>\n      <th>Age</th>\n      <th>SibSp</th>\n      <th>Parch</th>\n      <th>Ticket</th>\n      <th>Fare</th>\n      <th>Cabin</th>\n      <th>Embarked</th>\n    </tr>\n  </thead>\n  <tbody>\n    <tr>\n      <th>79</th>\n      <td>80</td>\n      <td>1</td>\n      <td>3</td>\n      <td>Dowdell, Miss. Elizabeth</td>\n      <td>female</td>\n      <td>30.0</td>\n      <td>0</td>\n      <td>0</td>\n      <td>364516</td>\n      <td>12.4750</td>\n      <td>NaN</td>\n      <td>S</td>\n    </tr>\n    <tr>\n      <th>157</th>\n      <td>158</td>\n      <td>0</td>\n      <td>3</td>\n      <td>Corn, Mr. Harry</td>\n      <td>male</td>\n      <td>30.0</td>\n      <td>0</td>\n      <td>0</td>\n      <td>SOTON/OQ 392090</td>\n      <td>8.0500</td>\n      <td>NaN</td>\n      <td>S</td>\n    </tr>\n    <tr>\n      <th>178</th>\n      <td>179</td>\n      <td>0</td>\n      <td>2</td>\n      <td>Hale, Mr. Reginald</td>\n      <td>male</td>\n      <td>30.0</td>\n      <td>0</td>\n      <td>0</td>\n      <td>250653</td>\n      <td>13.0000</td>\n      <td>NaN</td>\n      <td>S</td>\n    </tr>\n    <tr>\n      <th>213</th>\n      <td>214</td>\n      <td>0</td>\n      <td>2</td>\n      <td>Givard, Mr. Hans Kristensen</td>\n      <td>male</td>\n      <td>30.0</td>\n      <td>0</td>\n      <td>0</td>\n      <td>250646</td>\n      <td>13.0000</td>\n      <td>NaN</td>\n      <td>S</td>\n    </tr>\n    <tr>\n      <th>219</th>\n      <td>220</td>\n      <td>0</td>\n      <td>2</td>\n      <td>Harris, Mr. Walter</td>\n      <td>male</td>\n      <td>30.0</td>\n      <td>0</td>\n      <td>0</td>\n      <td>W/C 14208</td>\n      <td>10.5000</td>\n      <td>NaN</td>\n      <td>S</td>\n    </tr>\n    <tr>\n      <th>244</th>\n      <td>245</td>\n      <td>0</td>\n      <td>3</td>\n      <td>Attalah, Mr. Sleiman</td>\n      <td>male</td>\n      <td>30.0</td>\n      <td>0</td>\n      <td>0</td>\n      <td>2694</td>\n      <td>7.2250</td>\n      <td>NaN</td>\n      <td>C</td>\n    </tr>\n    <tr>\n      <th>253</th>\n      <td>254</td>\n      <td>0</td>\n      <td>3</td>\n      <td>Lobb, Mr. William Arthur</td>\n      <td>male</td>\n      <td>30.0</td>\n      <td>1</td>\n      <td>0</td>\n      <td>A/5. 3336</td>\n      <td>16.1000</td>\n      <td>NaN</td>\n      <td>S</td>\n    </tr>\n    <tr>\n      <th>257</th>\n      <td>258</td>\n      <td>1</td>\n      <td>1</td>\n      <td>Cherry, Miss. Gladys</td>\n      <td>female</td>\n      <td>30.0</td>\n      <td>0</td>\n      <td>0</td>\n      <td>110152</td>\n      <td>86.5000</td>\n      <td>B77</td>\n      <td>S</td>\n    </tr>\n    <tr>\n      <th>286</th>\n      <td>287</td>\n      <td>1</td>\n      <td>3</td>\n      <td>de Mulder, Mr. Theodore</td>\n      <td>male</td>\n      <td>30.0</td>\n      <td>0</td>\n      <td>0</td>\n      <td>345774</td>\n      <td>9.5000</td>\n      <td>NaN</td>\n      <td>S</td>\n    </tr>\n    <tr>\n      <th>308</th>\n      <td>309</td>\n      <td>0</td>\n      <td>2</td>\n      <td>Abelson, Mr. Samuel</td>\n      <td>male</td>\n      <td>30.0</td>\n      <td>1</td>\n      <td>0</td>\n      <td>P/PP 3381</td>\n      <td>24.0000</td>\n      <td>NaN</td>\n      <td>C</td>\n    </tr>\n    <tr>\n      <th>309</th>\n      <td>310</td>\n      <td>1</td>\n      <td>1</td>\n      <td>Francatelli, Miss. Laura Mabel</td>\n      <td>female</td>\n      <td>30.0</td>\n      <td>0</td>\n      <td>0</td>\n      <td>PC 17485</td>\n      <td>56.9292</td>\n      <td>E36</td>\n      <td>C</td>\n    </tr>\n    <tr>\n      <th>322</th>\n      <td>323</td>\n      <td>1</td>\n      <td>2</td>\n      <td>Slayter, Miss. Hilda Mary</td>\n      <td>female</td>\n      <td>30.0</td>\n      <td>0</td>\n      <td>0</td>\n      <td>234818</td>\n      <td>12.3500</td>\n      <td>NaN</td>\n      <td>Q</td>\n    </tr>\n    <tr>\n      <th>365</th>\n      <td>366</td>\n      <td>0</td>\n      <td>3</td>\n      <td>Adahl, Mr. Mauritz Nils Martin</td>\n      <td>male</td>\n      <td>30.0</td>\n      <td>0</td>\n      <td>0</td>\n      <td>C 7076</td>\n      <td>7.2500</td>\n      <td>NaN</td>\n      <td>S</td>\n    </tr>\n    <tr>\n      <th>418</th>\n      <td>419</td>\n      <td>0</td>\n      <td>2</td>\n      <td>Matthews, Mr. William John</td>\n      <td>male</td>\n      <td>30.0</td>\n      <td>0</td>\n      <td>0</td>\n      <td>28228</td>\n      <td>13.0000</td>\n      <td>NaN</td>\n      <td>S</td>\n    </tr>\n    <tr>\n      <th>452</th>\n      <td>453</td>\n      <td>0</td>\n      <td>1</td>\n      <td>Foreman, Mr. Benjamin Laventall</td>\n      <td>male</td>\n      <td>30.0</td>\n      <td>0</td>\n      <td>0</td>\n      <td>113051</td>\n      <td>27.7500</td>\n      <td>C111</td>\n      <td>C</td>\n    </tr>\n    <tr>\n      <th>488</th>\n      <td>489</td>\n      <td>0</td>\n      <td>3</td>\n      <td>Somerton, Mr. Francis William</td>\n      <td>male</td>\n      <td>30.0</td>\n      <td>0</td>\n      <td>0</td>\n      <td>A.5. 18509</td>\n      <td>8.0500</td>\n      <td>NaN</td>\n      <td>S</td>\n    </tr>\n    <tr>\n      <th>520</th>\n      <td>521</td>\n      <td>1</td>\n      <td>1</td>\n      <td>Perreault, Miss. Anne</td>\n      <td>female</td>\n      <td>30.0</td>\n      <td>0</td>\n      <td>0</td>\n      <td>12749</td>\n      <td>93.5000</td>\n      <td>B73</td>\n      <td>S</td>\n    </tr>\n    <tr>\n      <th>534</th>\n      <td>535</td>\n      <td>0</td>\n      <td>3</td>\n      <td>Cacic, Miss. Marija</td>\n      <td>female</td>\n      <td>30.0</td>\n      <td>0</td>\n      <td>0</td>\n      <td>315084</td>\n      <td>8.6625</td>\n      <td>NaN</td>\n      <td>S</td>\n    </tr>\n    <tr>\n      <th>537</th>\n      <td>538</td>\n      <td>1</td>\n      <td>1</td>\n      <td>LeRoy, Miss. Bertha</td>\n      <td>female</td>\n      <td>30.0</td>\n      <td>0</td>\n      <td>0</td>\n      <td>PC 17761</td>\n      <td>106.4250</td>\n      <td>NaN</td>\n      <td>C</td>\n    </tr>\n    <tr>\n      <th>606</th>\n      <td>607</td>\n      <td>0</td>\n      <td>3</td>\n      <td>Karaic, Mr. Milan</td>\n      <td>male</td>\n      <td>30.0</td>\n      <td>0</td>\n      <td>0</td>\n      <td>349246</td>\n      <td>7.8958</td>\n      <td>NaN</td>\n      <td>S</td>\n    </tr>\n    <tr>\n      <th>726</th>\n      <td>727</td>\n      <td>1</td>\n      <td>2</td>\n      <td>Renouf, Mrs. Peter Henry (Lillian Jefferys)</td>\n      <td>female</td>\n      <td>30.0</td>\n      <td>3</td>\n      <td>0</td>\n      <td>31027</td>\n      <td>21.0000</td>\n      <td>NaN</td>\n      <td>S</td>\n    </tr>\n    <tr>\n      <th>747</th>\n      <td>748</td>\n      <td>1</td>\n      <td>2</td>\n      <td>Sinkkonen, Miss. Anna</td>\n      <td>female</td>\n      <td>30.0</td>\n      <td>0</td>\n      <td>0</td>\n      <td>250648</td>\n      <td>13.0000</td>\n      <td>NaN</td>\n      <td>S</td>\n    </tr>\n    <tr>\n      <th>798</th>\n      <td>799</td>\n      <td>0</td>\n      <td>3</td>\n      <td>Ibrahim Shawah, Mr. Yousseff</td>\n      <td>male</td>\n      <td>30.0</td>\n      <td>0</td>\n      <td>0</td>\n      <td>2685</td>\n      <td>7.2292</td>\n      <td>NaN</td>\n      <td>C</td>\n    </tr>\n    <tr>\n      <th>799</th>\n      <td>800</td>\n      <td>0</td>\n      <td>3</td>\n      <td>Van Impe, Mrs. Jean Baptiste (Rosalie Paula Go...</td>\n      <td>female</td>\n      <td>30.0</td>\n      <td>1</td>\n      <td>1</td>\n      <td>345773</td>\n      <td>24.1500</td>\n      <td>NaN</td>\n      <td>S</td>\n    </tr>\n    <tr>\n      <th>842</th>\n      <td>843</td>\n      <td>1</td>\n      <td>1</td>\n      <td>Serepeca, Miss. Augusta</td>\n      <td>female</td>\n      <td>30.0</td>\n      <td>0</td>\n      <td>0</td>\n      <td>113798</td>\n      <td>31.0000</td>\n      <td>NaN</td>\n      <td>C</td>\n    </tr>\n  </tbody>\n</table>\n</div>"
     },
     "execution_count": 95,
     "metadata": {},
     "output_type": "execute_result"
    }
   ],
   "source": [
    "titanic[(titanic['Age'] == 30)]"
   ]
  },
  {
   "cell_type": "code",
   "execution_count": 96,
   "id": "963604e4-8776-40d1-b9d8-fc8fff9cc5b7",
   "metadata": {},
   "outputs": [
    {
     "data": {
      "text/plain": "     PassengerId  Survived  Pclass   \n0              1         0       3  \\\n1              2         1       1   \n2              3         1       3   \n3              4         1       1   \n4              5         0       3   \n..           ...       ...     ...   \n886          887         0       2   \n887          888         1       1   \n888          889         0       3   \n889          890         1       1   \n890          891         0       3   \n\n                                                  Name     Sex   Age  SibSp   \n0                              Braund, Mr. Owen Harris    male  22.0      1  \\\n1    Cumings, Mrs. John Bradley (Florence Briggs Th...  female  38.0      1   \n2                               Heikkinen, Miss. Laina  female  26.0      0   \n3         Futrelle, Mrs. Jacques Heath (Lily May Peel)  female  35.0      1   \n4                             Allen, Mr. William Henry    male  35.0      0   \n..                                                 ...     ...   ...    ...   \n886                              Montvila, Rev. Juozas    male  27.0      0   \n887                       Graham, Miss. Margaret Edith  female  19.0      0   \n888           Johnston, Miss. Catherine Helen \"Carrie\"  female   NaN      1   \n889                              Behr, Mr. Karl Howell    male  26.0      0   \n890                                Dooley, Mr. Patrick    male  32.0      0   \n\n     Parch            Ticket     Fare Cabin Embarked  \n0        0         A/5 21171   7.2500   NaN        S  \n1        0          PC 17599  71.2833   C85        C  \n2        0  STON/O2. 3101282   7.9250   NaN        S  \n3        0            113803  53.1000  C123        S  \n4        0            373450   8.0500   NaN        S  \n..     ...               ...      ...   ...      ...  \n886      0            211536  13.0000   NaN        S  \n887      0            112053  30.0000   B42        S  \n888      2        W./C. 6607  23.4500   NaN        S  \n889      0            111369  30.0000  C148        C  \n890      0            370376   7.7500   NaN        Q  \n\n[866 rows x 12 columns]",
      "text/html": "<div>\n<style scoped>\n    .dataframe tbody tr th:only-of-type {\n        vertical-align: middle;\n    }\n\n    .dataframe tbody tr th {\n        vertical-align: top;\n    }\n\n    .dataframe thead th {\n        text-align: right;\n    }\n</style>\n<table border=\"1\" class=\"dataframe\">\n  <thead>\n    <tr style=\"text-align: right;\">\n      <th></th>\n      <th>PassengerId</th>\n      <th>Survived</th>\n      <th>Pclass</th>\n      <th>Name</th>\n      <th>Sex</th>\n      <th>Age</th>\n      <th>SibSp</th>\n      <th>Parch</th>\n      <th>Ticket</th>\n      <th>Fare</th>\n      <th>Cabin</th>\n      <th>Embarked</th>\n    </tr>\n  </thead>\n  <tbody>\n    <tr>\n      <th>0</th>\n      <td>1</td>\n      <td>0</td>\n      <td>3</td>\n      <td>Braund, Mr. Owen Harris</td>\n      <td>male</td>\n      <td>22.0</td>\n      <td>1</td>\n      <td>0</td>\n      <td>A/5 21171</td>\n      <td>7.2500</td>\n      <td>NaN</td>\n      <td>S</td>\n    </tr>\n    <tr>\n      <th>1</th>\n      <td>2</td>\n      <td>1</td>\n      <td>1</td>\n      <td>Cumings, Mrs. John Bradley (Florence Briggs Th...</td>\n      <td>female</td>\n      <td>38.0</td>\n      <td>1</td>\n      <td>0</td>\n      <td>PC 17599</td>\n      <td>71.2833</td>\n      <td>C85</td>\n      <td>C</td>\n    </tr>\n    <tr>\n      <th>2</th>\n      <td>3</td>\n      <td>1</td>\n      <td>3</td>\n      <td>Heikkinen, Miss. Laina</td>\n      <td>female</td>\n      <td>26.0</td>\n      <td>0</td>\n      <td>0</td>\n      <td>STON/O2. 3101282</td>\n      <td>7.9250</td>\n      <td>NaN</td>\n      <td>S</td>\n    </tr>\n    <tr>\n      <th>3</th>\n      <td>4</td>\n      <td>1</td>\n      <td>1</td>\n      <td>Futrelle, Mrs. Jacques Heath (Lily May Peel)</td>\n      <td>female</td>\n      <td>35.0</td>\n      <td>1</td>\n      <td>0</td>\n      <td>113803</td>\n      <td>53.1000</td>\n      <td>C123</td>\n      <td>S</td>\n    </tr>\n    <tr>\n      <th>4</th>\n      <td>5</td>\n      <td>0</td>\n      <td>3</td>\n      <td>Allen, Mr. William Henry</td>\n      <td>male</td>\n      <td>35.0</td>\n      <td>0</td>\n      <td>0</td>\n      <td>373450</td>\n      <td>8.0500</td>\n      <td>NaN</td>\n      <td>S</td>\n    </tr>\n    <tr>\n      <th>...</th>\n      <td>...</td>\n      <td>...</td>\n      <td>...</td>\n      <td>...</td>\n      <td>...</td>\n      <td>...</td>\n      <td>...</td>\n      <td>...</td>\n      <td>...</td>\n      <td>...</td>\n      <td>...</td>\n      <td>...</td>\n    </tr>\n    <tr>\n      <th>886</th>\n      <td>887</td>\n      <td>0</td>\n      <td>2</td>\n      <td>Montvila, Rev. Juozas</td>\n      <td>male</td>\n      <td>27.0</td>\n      <td>0</td>\n      <td>0</td>\n      <td>211536</td>\n      <td>13.0000</td>\n      <td>NaN</td>\n      <td>S</td>\n    </tr>\n    <tr>\n      <th>887</th>\n      <td>888</td>\n      <td>1</td>\n      <td>1</td>\n      <td>Graham, Miss. Margaret Edith</td>\n      <td>female</td>\n      <td>19.0</td>\n      <td>0</td>\n      <td>0</td>\n      <td>112053</td>\n      <td>30.0000</td>\n      <td>B42</td>\n      <td>S</td>\n    </tr>\n    <tr>\n      <th>888</th>\n      <td>889</td>\n      <td>0</td>\n      <td>3</td>\n      <td>Johnston, Miss. Catherine Helen \"Carrie\"</td>\n      <td>female</td>\n      <td>NaN</td>\n      <td>1</td>\n      <td>2</td>\n      <td>W./C. 6607</td>\n      <td>23.4500</td>\n      <td>NaN</td>\n      <td>S</td>\n    </tr>\n    <tr>\n      <th>889</th>\n      <td>890</td>\n      <td>1</td>\n      <td>1</td>\n      <td>Behr, Mr. Karl Howell</td>\n      <td>male</td>\n      <td>26.0</td>\n      <td>0</td>\n      <td>0</td>\n      <td>111369</td>\n      <td>30.0000</td>\n      <td>C148</td>\n      <td>C</td>\n    </tr>\n    <tr>\n      <th>890</th>\n      <td>891</td>\n      <td>0</td>\n      <td>3</td>\n      <td>Dooley, Mr. Patrick</td>\n      <td>male</td>\n      <td>32.0</td>\n      <td>0</td>\n      <td>0</td>\n      <td>370376</td>\n      <td>7.7500</td>\n      <td>NaN</td>\n      <td>Q</td>\n    </tr>\n  </tbody>\n</table>\n<p>866 rows × 12 columns</p>\n</div>"
     },
     "execution_count": 96,
     "metadata": {},
     "output_type": "execute_result"
    }
   ],
   "source": [
    "titanic[(titanic['Age'] != 30)]"
   ]
  },
  {
   "cell_type": "markdown",
   "id": "fafe089b-eaae-4a7c-bd15-14ac2cd04fce",
   "metadata": {},
   "source": [
    "## Index with iloc"
   ]
  },
  {
   "cell_type": "code",
   "execution_count": 97,
   "id": "021a9f85-bc93-4ccc-bcbf-a6c8a232724d",
   "metadata": {},
   "outputs": [
    {
     "data": {
      "text/plain": "State                        IA\nAccount length               62\nArea code                   415\nInternational plan           No\nVoice mail plan              No\nNumber vmail messages         0\nTotal day minutes           NaN\nTotal day calls             NaN\nTotal day charge            NaN\nTotal eve minutes         307.2\nTotal eve calls            76.0\nTotal eve charge          26.11\nTotal night minutes       203.0\nTotal night calls          99.0\nTotal night charge         9.14\nTotal intl minutes         13.1\nTotal intl calls              6\nTotal intl charge          3.54\nCustomer service calls      4.0\nChurn                     False\nName: 14, dtype: object"
     },
     "execution_count": 97,
     "metadata": {},
     "output_type": "execute_result"
    }
   ],
   "source": [
    "telco_churn.iloc[14]"
   ]
  },
  {
   "cell_type": "code",
   "execution_count": 98,
   "id": "7cd229cd-1332-4252-a89a-fb0ed4ac90be",
   "metadata": {},
   "outputs": [
    {
     "data": {
      "text/plain": "pandas.core.series.Series"
     },
     "execution_count": 98,
     "metadata": {},
     "output_type": "execute_result"
    }
   ],
   "source": [
    "type(telco_churn.iloc[14])"
   ]
  },
  {
   "cell_type": "code",
   "execution_count": 105,
   "id": "d03fb1a1-b141-484a-bc50-de9f2537e3be",
   "metadata": {},
   "outputs": [
    {
     "data": {
      "text/plain": "'IA'"
     },
     "execution_count": 105,
     "metadata": {},
     "output_type": "execute_result"
    }
   ],
   "source": [
    "telco_churn.iloc[14,0]"
   ]
  },
  {
   "cell_type": "code",
   "execution_count": 100,
   "id": "560e34c4-3b42-4d64-ba82-09ddc513601b",
   "metadata": {},
   "outputs": [
    {
     "data": {
      "text/plain": "   State  Account length  Area code International plan Voice mail plan   \n22    AZ             130        415                 No              No  \\\n23    SC             111        415                 No              No   \n24    VA             132        510                 No              No   \n25    NE             174        415                 No              No   \n26    WY              57        408                 No             Yes   \n27    MT              54        408                 No              No   \n28    MO              20        415                 No              No   \n29    HI              49        510                 No              No   \n30    IL             142        415                 No              No   \n31    NH              75        510                 No              No   \n32    LA             172        408                 No              No   \n\n    Number vmail messages  Total day minutes  Total day calls   \n22                      0              183.0            112.0  \\\n23                      0              110.4            103.0   \n24                      0               81.1             86.0   \n25                      0              124.3             76.0   \n26                     39              213.0            115.0   \n27                      0              134.3             73.0   \n28                      0              190.0            109.0   \n29                      0              119.3            117.0   \n30                      0               84.8             95.0   \n31                      0              226.1            105.0   \n32                      0              212.0            121.0   \n\n    Total day charge  Total eve minutes  Total eve calls  Total eve charge   \n22             31.11               72.9             99.0              6.20  \\\n23             18.77              137.3            102.0             11.67   \n24             13.79              245.2             72.0             20.84   \n25             21.13              277.1            112.0             23.55   \n26             36.21              191.1            112.0             16.24   \n27             22.83              155.5            100.0             13.22   \n28             32.30              258.2             84.0             21.95   \n29             20.28              215.1            109.0             18.28   \n30             14.42              136.7             63.0             11.62   \n31               NaN                NaN              NaN             17.13   \n32               NaN                NaN              NaN              2.65   \n\n    Total night minutes  Total night calls  Total night charge   \n22                181.8               78.0                8.18  \\\n23                189.6              105.0                8.53   \n24                237.0              115.0               10.67   \n25                250.7              115.0               11.28   \n26                182.7              115.0                8.22   \n27                102.1               68.0                4.59   \n28                181.5              102.0                8.17   \n29                178.7               90.0                8.04   \n30                250.5              148.0               11.27   \n31                246.2               98.0               11.08   \n32                293.3               78.0               13.20   \n\n    Total intl minutes  Total intl calls  Total intl charge   \n22                 9.5                19               2.57  \\\n23                 7.7                 6               2.08   \n24                10.3                 2               2.78   \n25                15.5                 5               4.19   \n26                 9.5                 3               2.57   \n27                14.7                 4               3.97   \n28                 6.3                 6               1.70   \n29                11.1                 1               3.00   \n30                14.2                 6               3.83   \n31                10.3                 5               2.78   \n32                12.6                10               3.40   \n\n    Customer service calls  Churn  \n22                     0.0    NaN  \n23                     2.0  False  \n24                     0.0  False  \n25                     3.0  False  \n26                     0.0  False  \n27                     3.0  False  \n28                     0.0  False  \n29                     1.0    NaN  \n30                     2.0  False  \n31                     1.0  False  \n32                     3.0  False  ",
      "text/html": "<div>\n<style scoped>\n    .dataframe tbody tr th:only-of-type {\n        vertical-align: middle;\n    }\n\n    .dataframe tbody tr th {\n        vertical-align: top;\n    }\n\n    .dataframe thead th {\n        text-align: right;\n    }\n</style>\n<table border=\"1\" class=\"dataframe\">\n  <thead>\n    <tr style=\"text-align: right;\">\n      <th></th>\n      <th>State</th>\n      <th>Account length</th>\n      <th>Area code</th>\n      <th>International plan</th>\n      <th>Voice mail plan</th>\n      <th>Number vmail messages</th>\n      <th>Total day minutes</th>\n      <th>Total day calls</th>\n      <th>Total day charge</th>\n      <th>Total eve minutes</th>\n      <th>Total eve calls</th>\n      <th>Total eve charge</th>\n      <th>Total night minutes</th>\n      <th>Total night calls</th>\n      <th>Total night charge</th>\n      <th>Total intl minutes</th>\n      <th>Total intl calls</th>\n      <th>Total intl charge</th>\n      <th>Customer service calls</th>\n      <th>Churn</th>\n    </tr>\n  </thead>\n  <tbody>\n    <tr>\n      <th>22</th>\n      <td>AZ</td>\n      <td>130</td>\n      <td>415</td>\n      <td>No</td>\n      <td>No</td>\n      <td>0</td>\n      <td>183.0</td>\n      <td>112.0</td>\n      <td>31.11</td>\n      <td>72.9</td>\n      <td>99.0</td>\n      <td>6.20</td>\n      <td>181.8</td>\n      <td>78.0</td>\n      <td>8.18</td>\n      <td>9.5</td>\n      <td>19</td>\n      <td>2.57</td>\n      <td>0.0</td>\n      <td>NaN</td>\n    </tr>\n    <tr>\n      <th>23</th>\n      <td>SC</td>\n      <td>111</td>\n      <td>415</td>\n      <td>No</td>\n      <td>No</td>\n      <td>0</td>\n      <td>110.4</td>\n      <td>103.0</td>\n      <td>18.77</td>\n      <td>137.3</td>\n      <td>102.0</td>\n      <td>11.67</td>\n      <td>189.6</td>\n      <td>105.0</td>\n      <td>8.53</td>\n      <td>7.7</td>\n      <td>6</td>\n      <td>2.08</td>\n      <td>2.0</td>\n      <td>False</td>\n    </tr>\n    <tr>\n      <th>24</th>\n      <td>VA</td>\n      <td>132</td>\n      <td>510</td>\n      <td>No</td>\n      <td>No</td>\n      <td>0</td>\n      <td>81.1</td>\n      <td>86.0</td>\n      <td>13.79</td>\n      <td>245.2</td>\n      <td>72.0</td>\n      <td>20.84</td>\n      <td>237.0</td>\n      <td>115.0</td>\n      <td>10.67</td>\n      <td>10.3</td>\n      <td>2</td>\n      <td>2.78</td>\n      <td>0.0</td>\n      <td>False</td>\n    </tr>\n    <tr>\n      <th>25</th>\n      <td>NE</td>\n      <td>174</td>\n      <td>415</td>\n      <td>No</td>\n      <td>No</td>\n      <td>0</td>\n      <td>124.3</td>\n      <td>76.0</td>\n      <td>21.13</td>\n      <td>277.1</td>\n      <td>112.0</td>\n      <td>23.55</td>\n      <td>250.7</td>\n      <td>115.0</td>\n      <td>11.28</td>\n      <td>15.5</td>\n      <td>5</td>\n      <td>4.19</td>\n      <td>3.0</td>\n      <td>False</td>\n    </tr>\n    <tr>\n      <th>26</th>\n      <td>WY</td>\n      <td>57</td>\n      <td>408</td>\n      <td>No</td>\n      <td>Yes</td>\n      <td>39</td>\n      <td>213.0</td>\n      <td>115.0</td>\n      <td>36.21</td>\n      <td>191.1</td>\n      <td>112.0</td>\n      <td>16.24</td>\n      <td>182.7</td>\n      <td>115.0</td>\n      <td>8.22</td>\n      <td>9.5</td>\n      <td>3</td>\n      <td>2.57</td>\n      <td>0.0</td>\n      <td>False</td>\n    </tr>\n    <tr>\n      <th>27</th>\n      <td>MT</td>\n      <td>54</td>\n      <td>408</td>\n      <td>No</td>\n      <td>No</td>\n      <td>0</td>\n      <td>134.3</td>\n      <td>73.0</td>\n      <td>22.83</td>\n      <td>155.5</td>\n      <td>100.0</td>\n      <td>13.22</td>\n      <td>102.1</td>\n      <td>68.0</td>\n      <td>4.59</td>\n      <td>14.7</td>\n      <td>4</td>\n      <td>3.97</td>\n      <td>3.0</td>\n      <td>False</td>\n    </tr>\n    <tr>\n      <th>28</th>\n      <td>MO</td>\n      <td>20</td>\n      <td>415</td>\n      <td>No</td>\n      <td>No</td>\n      <td>0</td>\n      <td>190.0</td>\n      <td>109.0</td>\n      <td>32.30</td>\n      <td>258.2</td>\n      <td>84.0</td>\n      <td>21.95</td>\n      <td>181.5</td>\n      <td>102.0</td>\n      <td>8.17</td>\n      <td>6.3</td>\n      <td>6</td>\n      <td>1.70</td>\n      <td>0.0</td>\n      <td>False</td>\n    </tr>\n    <tr>\n      <th>29</th>\n      <td>HI</td>\n      <td>49</td>\n      <td>510</td>\n      <td>No</td>\n      <td>No</td>\n      <td>0</td>\n      <td>119.3</td>\n      <td>117.0</td>\n      <td>20.28</td>\n      <td>215.1</td>\n      <td>109.0</td>\n      <td>18.28</td>\n      <td>178.7</td>\n      <td>90.0</td>\n      <td>8.04</td>\n      <td>11.1</td>\n      <td>1</td>\n      <td>3.00</td>\n      <td>1.0</td>\n      <td>NaN</td>\n    </tr>\n    <tr>\n      <th>30</th>\n      <td>IL</td>\n      <td>142</td>\n      <td>415</td>\n      <td>No</td>\n      <td>No</td>\n      <td>0</td>\n      <td>84.8</td>\n      <td>95.0</td>\n      <td>14.42</td>\n      <td>136.7</td>\n      <td>63.0</td>\n      <td>11.62</td>\n      <td>250.5</td>\n      <td>148.0</td>\n      <td>11.27</td>\n      <td>14.2</td>\n      <td>6</td>\n      <td>3.83</td>\n      <td>2.0</td>\n      <td>False</td>\n    </tr>\n    <tr>\n      <th>31</th>\n      <td>NH</td>\n      <td>75</td>\n      <td>510</td>\n      <td>No</td>\n      <td>No</td>\n      <td>0</td>\n      <td>226.1</td>\n      <td>105.0</td>\n      <td>NaN</td>\n      <td>NaN</td>\n      <td>NaN</td>\n      <td>17.13</td>\n      <td>246.2</td>\n      <td>98.0</td>\n      <td>11.08</td>\n      <td>10.3</td>\n      <td>5</td>\n      <td>2.78</td>\n      <td>1.0</td>\n      <td>False</td>\n    </tr>\n    <tr>\n      <th>32</th>\n      <td>LA</td>\n      <td>172</td>\n      <td>408</td>\n      <td>No</td>\n      <td>No</td>\n      <td>0</td>\n      <td>212.0</td>\n      <td>121.0</td>\n      <td>NaN</td>\n      <td>NaN</td>\n      <td>NaN</td>\n      <td>2.65</td>\n      <td>293.3</td>\n      <td>78.0</td>\n      <td>13.20</td>\n      <td>12.6</td>\n      <td>10</td>\n      <td>3.40</td>\n      <td>3.0</td>\n      <td>False</td>\n    </tr>\n  </tbody>\n</table>\n</div>"
     },
     "execution_count": 100,
     "metadata": {},
     "output_type": "execute_result"
    }
   ],
   "source": [
    "telco_churn.iloc[22:33]"
   ]
  },
  {
   "cell_type": "markdown",
   "id": "a5193e3e-522e-41d4-8fa9-5f02e9c9e971",
   "metadata": {},
   "source": [
    "## Indexing with loc"
   ]
  },
  {
   "cell_type": "code",
   "execution_count": 106,
   "id": "0509afe3-9bb7-42f9-a7cb-c97531192a95",
   "metadata": {},
   "outputs": [
    {
     "data": {
      "text/plain": "PassengerId                           5\nSurvived                              0\nPclass                                3\nName           Allen, Mr. William Henry\nSex                                male\nAge                                35.0\nSibSp                                 0\nParch                                 0\nTicket                           373450\nFare                               8.05\nCabin                               NaN\nEmbarked                              S\nName: 4, dtype: object"
     },
     "execution_count": 106,
     "metadata": {},
     "output_type": "execute_result"
    }
   ],
   "source": [
    "titanic.loc[4]"
   ]
  },
  {
   "cell_type": "code",
   "execution_count": 107,
   "id": "b4ceeca9-6cf7-43b5-8190-d49f6b8ca18d",
   "metadata": {},
   "outputs": [
    {
     "data": {
      "text/plain": "     gender          hobby\nage                       \n23     male     travelling\n23   female     volleyball\n35     male        writing\n18   female  skateboarding",
      "text/html": "<div>\n<style scoped>\n    .dataframe tbody tr th:only-of-type {\n        vertical-align: middle;\n    }\n\n    .dataframe tbody tr th {\n        vertical-align: top;\n    }\n\n    .dataframe thead th {\n        text-align: right;\n    }\n</style>\n<table border=\"1\" class=\"dataframe\">\n  <thead>\n    <tr style=\"text-align: right;\">\n      <th></th>\n      <th>gender</th>\n      <th>hobby</th>\n    </tr>\n    <tr>\n      <th>age</th>\n      <th></th>\n      <th></th>\n    </tr>\n  </thead>\n  <tbody>\n    <tr>\n      <th>23</th>\n      <td>male</td>\n      <td>travelling</td>\n    </tr>\n    <tr>\n      <th>23</th>\n      <td>female</td>\n      <td>volleyball</td>\n    </tr>\n    <tr>\n      <th>35</th>\n      <td>male</td>\n      <td>writing</td>\n    </tr>\n    <tr>\n      <th>18</th>\n      <td>female</td>\n      <td>skateboarding</td>\n    </tr>\n  </tbody>\n</table>\n</div>"
     },
     "execution_count": 107,
     "metadata": {},
     "output_type": "execute_result"
    }
   ],
   "source": [
    "users.set_index('age')"
   ]
  },
  {
   "cell_type": "code",
   "execution_count": 113,
   "id": "8f38aaa5-9984-4bf4-94d8-e34f79eb5a61",
   "metadata": {},
   "outputs": [],
   "source": [
    "state = telco_churn.copy()\n",
    "state.set_index('State', inplace=True)"
   ]
  },
  {
   "cell_type": "code",
   "execution_count": 112,
   "id": "01335140-ae01-4aa7-b0f3-4836704b2153",
   "metadata": {},
   "outputs": [
    {
     "data": {
      "text/plain": "       Account length  Area code International plan Voice mail plan   \nState                                                                 \nKS                128        415                 No             Yes  \\\nOH                107        415                 No             Yes   \nNJ                137        415                 No              No   \nOH                 84        408                Yes              No   \nOK                 75        415                Yes              No   \n\n       Number vmail messages  Total day minutes  Total day calls   \nState                                                              \nKS                        25              265.1            110.0  \\\nOH                        26              161.6            123.0   \nNJ                         0              243.4            114.0   \nOH                         0              299.4             71.0   \nOK                         0              166.7            113.0   \n\n       Total day charge  Total eve minutes  Total eve calls  Total eve charge   \nState                                                                           \nKS                45.07              197.4             99.0             16.78  \\\nOH                27.47              195.5            103.0             16.62   \nNJ                41.38              121.2            110.0             10.30   \nOH                50.90               61.9             88.0              5.26   \nOK                28.34              148.3            122.0             12.61   \n\n       Total night minutes  Total night calls  Total night charge   \nState                                                               \nKS                   244.7               91.0               11.01  \\\nOH                   254.4              103.0               11.45   \nNJ                   162.6              104.0                7.32   \nOH                   196.9               89.0                8.86   \nOK                   186.9              121.0                8.41   \n\n       Total intl minutes  Total intl calls  Total intl charge   \nState                                                            \nKS                   10.0                 3               2.70  \\\nOH                   13.7                 3               3.70   \nNJ                   12.2                 5               3.29   \nOH                    6.6                 7               1.78   \nOK                   10.1                 3               2.73   \n\n       Customer service calls  Churn  \nState                                 \nKS                        1.0  False  \nOH                        1.0  False  \nNJ                        0.0  False  \nOH                        2.0  False  \nOK                        3.0  False  ",
      "text/html": "<div>\n<style scoped>\n    .dataframe tbody tr th:only-of-type {\n        vertical-align: middle;\n    }\n\n    .dataframe tbody tr th {\n        vertical-align: top;\n    }\n\n    .dataframe thead th {\n        text-align: right;\n    }\n</style>\n<table border=\"1\" class=\"dataframe\">\n  <thead>\n    <tr style=\"text-align: right;\">\n      <th></th>\n      <th>Account length</th>\n      <th>Area code</th>\n      <th>International plan</th>\n      <th>Voice mail plan</th>\n      <th>Number vmail messages</th>\n      <th>Total day minutes</th>\n      <th>Total day calls</th>\n      <th>Total day charge</th>\n      <th>Total eve minutes</th>\n      <th>Total eve calls</th>\n      <th>Total eve charge</th>\n      <th>Total night minutes</th>\n      <th>Total night calls</th>\n      <th>Total night charge</th>\n      <th>Total intl minutes</th>\n      <th>Total intl calls</th>\n      <th>Total intl charge</th>\n      <th>Customer service calls</th>\n      <th>Churn</th>\n    </tr>\n    <tr>\n      <th>State</th>\n      <th></th>\n      <th></th>\n      <th></th>\n      <th></th>\n      <th></th>\n      <th></th>\n      <th></th>\n      <th></th>\n      <th></th>\n      <th></th>\n      <th></th>\n      <th></th>\n      <th></th>\n      <th></th>\n      <th></th>\n      <th></th>\n      <th></th>\n      <th></th>\n      <th></th>\n    </tr>\n  </thead>\n  <tbody>\n    <tr>\n      <th>KS</th>\n      <td>128</td>\n      <td>415</td>\n      <td>No</td>\n      <td>Yes</td>\n      <td>25</td>\n      <td>265.1</td>\n      <td>110.0</td>\n      <td>45.07</td>\n      <td>197.4</td>\n      <td>99.0</td>\n      <td>16.78</td>\n      <td>244.7</td>\n      <td>91.0</td>\n      <td>11.01</td>\n      <td>10.0</td>\n      <td>3</td>\n      <td>2.70</td>\n      <td>1.0</td>\n      <td>False</td>\n    </tr>\n    <tr>\n      <th>OH</th>\n      <td>107</td>\n      <td>415</td>\n      <td>No</td>\n      <td>Yes</td>\n      <td>26</td>\n      <td>161.6</td>\n      <td>123.0</td>\n      <td>27.47</td>\n      <td>195.5</td>\n      <td>103.0</td>\n      <td>16.62</td>\n      <td>254.4</td>\n      <td>103.0</td>\n      <td>11.45</td>\n      <td>13.7</td>\n      <td>3</td>\n      <td>3.70</td>\n      <td>1.0</td>\n      <td>False</td>\n    </tr>\n    <tr>\n      <th>NJ</th>\n      <td>137</td>\n      <td>415</td>\n      <td>No</td>\n      <td>No</td>\n      <td>0</td>\n      <td>243.4</td>\n      <td>114.0</td>\n      <td>41.38</td>\n      <td>121.2</td>\n      <td>110.0</td>\n      <td>10.30</td>\n      <td>162.6</td>\n      <td>104.0</td>\n      <td>7.32</td>\n      <td>12.2</td>\n      <td>5</td>\n      <td>3.29</td>\n      <td>0.0</td>\n      <td>False</td>\n    </tr>\n    <tr>\n      <th>OH</th>\n      <td>84</td>\n      <td>408</td>\n      <td>Yes</td>\n      <td>No</td>\n      <td>0</td>\n      <td>299.4</td>\n      <td>71.0</td>\n      <td>50.90</td>\n      <td>61.9</td>\n      <td>88.0</td>\n      <td>5.26</td>\n      <td>196.9</td>\n      <td>89.0</td>\n      <td>8.86</td>\n      <td>6.6</td>\n      <td>7</td>\n      <td>1.78</td>\n      <td>2.0</td>\n      <td>False</td>\n    </tr>\n    <tr>\n      <th>OK</th>\n      <td>75</td>\n      <td>415</td>\n      <td>Yes</td>\n      <td>No</td>\n      <td>0</td>\n      <td>166.7</td>\n      <td>113.0</td>\n      <td>28.34</td>\n      <td>148.3</td>\n      <td>122.0</td>\n      <td>12.61</td>\n      <td>186.9</td>\n      <td>121.0</td>\n      <td>8.41</td>\n      <td>10.1</td>\n      <td>3</td>\n      <td>2.73</td>\n      <td>3.0</td>\n      <td>False</td>\n    </tr>\n  </tbody>\n</table>\n</div>"
     },
     "execution_count": 112,
     "metadata": {},
     "output_type": "execute_result"
    }
   ],
   "source": [
    "state.head(5)"
   ]
  },
  {
   "cell_type": "code",
   "execution_count": 135,
   "id": "a14fce42-08c3-4351-8c16-ac3d457d2e1e",
   "metadata": {},
   "outputs": [
    {
     "data": {
      "text/plain": "       Account length  Area code International plan Voice mail plan   \nState                                                                 \nOH                107        415                 No             Yes  \\\nOH                 84        408                Yes              No   \nOH                 65        408                 No              No   \nOH                 83        415                 No              No   \nOH                 63        415                Yes             Yes   \n...               ...        ...                ...             ...   \nOH                160        415                 No              No   \nOH                 88        408                 No              No   \nOH                106        415                 No             Yes   \nOH                 78        408                 No              No   \nOH                 96        415                 No              No   \n\n       Number vmail messages  Total day minutes  Total day calls   \nState                                                              \nOH                        26              161.6            123.0  \\\nOH                         0              299.4             71.0   \nOH                         0              187.9            116.0   \nOH                         0              337.4            120.0   \nOH                        36              199.0            110.0   \n...                      ...                ...              ...   \nOH                         0              206.3             66.0   \nOH                         0              274.6            105.0   \nOH                        30              220.1            105.0   \nOH                         0              193.4             99.0   \nOH                         0              106.6            128.0   \n\n       Total day charge  Total eve minutes  Total eve calls  Total eve charge   \nState                                                                           \nOH                27.47              195.5            103.0             16.62  \\\nOH                50.90               61.9             88.0              5.26   \nOH                31.94              157.6            117.0             13.40   \nOH                57.36              227.4            116.0             19.33   \nOH                33.83              291.3            111.0             24.76   \n...                 ...                ...              ...               ...   \nOH                35.07              241.1            109.0             20.49   \nOH                46.68              161.1            121.0             13.69   \nOH                37.42              222.2            109.0             18.89   \nOH                32.88              116.9             88.0              9.94   \nOH                18.12              284.8             87.0             24.21   \n\n       Total night minutes  Total night calls  Total night charge   \nState                                                               \nOH                   254.4              103.0               11.45  \\\nOH                   196.9               89.0                8.86   \nOH                   227.3               86.0               10.23   \nOH                   153.9              114.0                6.93   \nOH                   197.6               92.0                8.89   \n...                    ...                ...                 ...   \nOH                   227.8              102.0               10.25   \nOH                   194.4              123.0                8.75   \nOH                   158.4               96.0                7.13   \nOH                   243.3              109.0               10.95   \nOH                   178.9               92.0                8.05   \n\n       Total intl minutes  Total intl calls  Total intl charge   \nState                                                            \nOH                   13.7                 3               3.70  \\\nOH                    6.6                 7               1.78   \nOH                    7.5                 6               2.03   \nOH                   15.8                 7               4.27   \nOH                   11.0                 6               2.97   \n...                   ...               ...                ...   \nOH                   11.7                 6               3.16   \nOH                    9.2                 4               2.48   \nOH                   13.1                 8               3.54   \nOH                    9.3                 4               2.51   \nOH                   14.9                 7               4.02   \n\n       Customer service calls  Churn  \nState                                 \nOH                        1.0  False  \nOH                        2.0  False  \nOH                        1.0  False  \nOH                        0.0   True  \nOH                        1.0  False  \n...                       ...    ...  \nOH                        0.0  False  \nOH                        2.0  False  \nOH                        0.0  False  \nOH                        2.0  False  \nOH                        1.0  False  \n\n[78 rows x 19 columns]",
      "text/html": "<div>\n<style scoped>\n    .dataframe tbody tr th:only-of-type {\n        vertical-align: middle;\n    }\n\n    .dataframe tbody tr th {\n        vertical-align: top;\n    }\n\n    .dataframe thead th {\n        text-align: right;\n    }\n</style>\n<table border=\"1\" class=\"dataframe\">\n  <thead>\n    <tr style=\"text-align: right;\">\n      <th></th>\n      <th>Account length</th>\n      <th>Area code</th>\n      <th>International plan</th>\n      <th>Voice mail plan</th>\n      <th>Number vmail messages</th>\n      <th>Total day minutes</th>\n      <th>Total day calls</th>\n      <th>Total day charge</th>\n      <th>Total eve minutes</th>\n      <th>Total eve calls</th>\n      <th>Total eve charge</th>\n      <th>Total night minutes</th>\n      <th>Total night calls</th>\n      <th>Total night charge</th>\n      <th>Total intl minutes</th>\n      <th>Total intl calls</th>\n      <th>Total intl charge</th>\n      <th>Customer service calls</th>\n      <th>Churn</th>\n    </tr>\n    <tr>\n      <th>State</th>\n      <th></th>\n      <th></th>\n      <th></th>\n      <th></th>\n      <th></th>\n      <th></th>\n      <th></th>\n      <th></th>\n      <th></th>\n      <th></th>\n      <th></th>\n      <th></th>\n      <th></th>\n      <th></th>\n      <th></th>\n      <th></th>\n      <th></th>\n      <th></th>\n      <th></th>\n    </tr>\n  </thead>\n  <tbody>\n    <tr>\n      <th>OH</th>\n      <td>107</td>\n      <td>415</td>\n      <td>No</td>\n      <td>Yes</td>\n      <td>26</td>\n      <td>161.6</td>\n      <td>123.0</td>\n      <td>27.47</td>\n      <td>195.5</td>\n      <td>103.0</td>\n      <td>16.62</td>\n      <td>254.4</td>\n      <td>103.0</td>\n      <td>11.45</td>\n      <td>13.7</td>\n      <td>3</td>\n      <td>3.70</td>\n      <td>1.0</td>\n      <td>False</td>\n    </tr>\n    <tr>\n      <th>OH</th>\n      <td>84</td>\n      <td>408</td>\n      <td>Yes</td>\n      <td>No</td>\n      <td>0</td>\n      <td>299.4</td>\n      <td>71.0</td>\n      <td>50.90</td>\n      <td>61.9</td>\n      <td>88.0</td>\n      <td>5.26</td>\n      <td>196.9</td>\n      <td>89.0</td>\n      <td>8.86</td>\n      <td>6.6</td>\n      <td>7</td>\n      <td>1.78</td>\n      <td>2.0</td>\n      <td>False</td>\n    </tr>\n    <tr>\n      <th>OH</th>\n      <td>65</td>\n      <td>408</td>\n      <td>No</td>\n      <td>No</td>\n      <td>0</td>\n      <td>187.9</td>\n      <td>116.0</td>\n      <td>31.94</td>\n      <td>157.6</td>\n      <td>117.0</td>\n      <td>13.40</td>\n      <td>227.3</td>\n      <td>86.0</td>\n      <td>10.23</td>\n      <td>7.5</td>\n      <td>6</td>\n      <td>2.03</td>\n      <td>1.0</td>\n      <td>False</td>\n    </tr>\n    <tr>\n      <th>OH</th>\n      <td>83</td>\n      <td>415</td>\n      <td>No</td>\n      <td>No</td>\n      <td>0</td>\n      <td>337.4</td>\n      <td>120.0</td>\n      <td>57.36</td>\n      <td>227.4</td>\n      <td>116.0</td>\n      <td>19.33</td>\n      <td>153.9</td>\n      <td>114.0</td>\n      <td>6.93</td>\n      <td>15.8</td>\n      <td>7</td>\n      <td>4.27</td>\n      <td>0.0</td>\n      <td>True</td>\n    </tr>\n    <tr>\n      <th>OH</th>\n      <td>63</td>\n      <td>415</td>\n      <td>Yes</td>\n      <td>Yes</td>\n      <td>36</td>\n      <td>199.0</td>\n      <td>110.0</td>\n      <td>33.83</td>\n      <td>291.3</td>\n      <td>111.0</td>\n      <td>24.76</td>\n      <td>197.6</td>\n      <td>92.0</td>\n      <td>8.89</td>\n      <td>11.0</td>\n      <td>6</td>\n      <td>2.97</td>\n      <td>1.0</td>\n      <td>False</td>\n    </tr>\n    <tr>\n      <th>...</th>\n      <td>...</td>\n      <td>...</td>\n      <td>...</td>\n      <td>...</td>\n      <td>...</td>\n      <td>...</td>\n      <td>...</td>\n      <td>...</td>\n      <td>...</td>\n      <td>...</td>\n      <td>...</td>\n      <td>...</td>\n      <td>...</td>\n      <td>...</td>\n      <td>...</td>\n      <td>...</td>\n      <td>...</td>\n      <td>...</td>\n      <td>...</td>\n    </tr>\n    <tr>\n      <th>OH</th>\n      <td>160</td>\n      <td>415</td>\n      <td>No</td>\n      <td>No</td>\n      <td>0</td>\n      <td>206.3</td>\n      <td>66.0</td>\n      <td>35.07</td>\n      <td>241.1</td>\n      <td>109.0</td>\n      <td>20.49</td>\n      <td>227.8</td>\n      <td>102.0</td>\n      <td>10.25</td>\n      <td>11.7</td>\n      <td>6</td>\n      <td>3.16</td>\n      <td>0.0</td>\n      <td>False</td>\n    </tr>\n    <tr>\n      <th>OH</th>\n      <td>88</td>\n      <td>408</td>\n      <td>No</td>\n      <td>No</td>\n      <td>0</td>\n      <td>274.6</td>\n      <td>105.0</td>\n      <td>46.68</td>\n      <td>161.1</td>\n      <td>121.0</td>\n      <td>13.69</td>\n      <td>194.4</td>\n      <td>123.0</td>\n      <td>8.75</td>\n      <td>9.2</td>\n      <td>4</td>\n      <td>2.48</td>\n      <td>2.0</td>\n      <td>False</td>\n    </tr>\n    <tr>\n      <th>OH</th>\n      <td>106</td>\n      <td>415</td>\n      <td>No</td>\n      <td>Yes</td>\n      <td>30</td>\n      <td>220.1</td>\n      <td>105.0</td>\n      <td>37.42</td>\n      <td>222.2</td>\n      <td>109.0</td>\n      <td>18.89</td>\n      <td>158.4</td>\n      <td>96.0</td>\n      <td>7.13</td>\n      <td>13.1</td>\n      <td>8</td>\n      <td>3.54</td>\n      <td>0.0</td>\n      <td>False</td>\n    </tr>\n    <tr>\n      <th>OH</th>\n      <td>78</td>\n      <td>408</td>\n      <td>No</td>\n      <td>No</td>\n      <td>0</td>\n      <td>193.4</td>\n      <td>99.0</td>\n      <td>32.88</td>\n      <td>116.9</td>\n      <td>88.0</td>\n      <td>9.94</td>\n      <td>243.3</td>\n      <td>109.0</td>\n      <td>10.95</td>\n      <td>9.3</td>\n      <td>4</td>\n      <td>2.51</td>\n      <td>2.0</td>\n      <td>False</td>\n    </tr>\n    <tr>\n      <th>OH</th>\n      <td>96</td>\n      <td>415</td>\n      <td>No</td>\n      <td>No</td>\n      <td>0</td>\n      <td>106.6</td>\n      <td>128.0</td>\n      <td>18.12</td>\n      <td>284.8</td>\n      <td>87.0</td>\n      <td>24.21</td>\n      <td>178.9</td>\n      <td>92.0</td>\n      <td>8.05</td>\n      <td>14.9</td>\n      <td>7</td>\n      <td>4.02</td>\n      <td>1.0</td>\n      <td>False</td>\n    </tr>\n  </tbody>\n</table>\n<p>78 rows × 19 columns</p>\n</div>"
     },
     "execution_count": 135,
     "metadata": {},
     "output_type": "execute_result"
    }
   ],
   "source": [
    "state.loc['OH']"
   ]
  },
  {
   "cell_type": "markdown",
   "id": "d55cc7d6-1573-4b69-be97-bd5c99b27bb0",
   "metadata": {},
   "source": [
    "# Update"
   ]
  },
  {
   "cell_type": "markdown",
   "id": "a87f879c-6cb6-4b2d-b284-aaae1b450812",
   "metadata": {},
   "source": [
    "## Dropping rows"
   ]
  },
  {
   "cell_type": "code",
   "execution_count": 120,
   "id": "6fc2d05d-7b5c-471d-9dbb-2f2e6405647d",
   "metadata": {},
   "outputs": [
    {
     "data": {
      "text/plain": "State                      0\nAccount length             0\nArea code                  0\nInternational plan         0\nVoice mail plan            0\nNumber vmail messages      0\nTotal day minutes         10\nTotal day calls           10\nTotal day charge          18\nTotal eve minutes          9\nTotal eve calls            8\nTotal eve charge           0\nTotal night minutes        0\nTotal night calls          1\nTotal night charge         0\nTotal intl minutes         0\nTotal intl calls           0\nTotal intl charge          5\nCustomer service calls     5\nChurn                      8\ndtype: int64"
     },
     "execution_count": 120,
     "metadata": {},
     "output_type": "execute_result"
    }
   ],
   "source": [
    "# Get a count of the missing values in each column of telco_churn\n",
    "telco_churn.isnull().sum() \n",
    "# telco_churn.shape"
   ]
  },
  {
   "cell_type": "code",
   "execution_count": 121,
   "id": "e6601742-a9d8-44c5-9153-4f99e0a9a4db",
   "metadata": {},
   "outputs": [],
   "source": [
    "# Drop rows with missing values\n",
    "telco_churn.dropna(inplace=True)"
   ]
  },
  {
   "cell_type": "code",
   "execution_count": 122,
   "id": "5842d16a-2c8f-4518-ba91-0e0fa948c746",
   "metadata": {},
   "outputs": [
    {
     "data": {
      "text/plain": "State                     0\nAccount length            0\nArea code                 0\nInternational plan        0\nVoice mail plan           0\nNumber vmail messages     0\nTotal day minutes         0\nTotal day calls           0\nTotal day charge          0\nTotal eve minutes         0\nTotal eve calls           0\nTotal eve charge          0\nTotal night minutes       0\nTotal night calls         0\nTotal night charge        0\nTotal intl minutes        0\nTotal intl calls          0\nTotal intl charge         0\nCustomer service calls    0\nChurn                     0\ndtype: int64"
     },
     "execution_count": 122,
     "metadata": {},
     "output_type": "execute_result"
    }
   ],
   "source": [
    "# Check again a count of the missing values in each column of telco_churn\n",
    "telco_churn.isnull().sum()\n",
    "# telco_churn.shape"
   ]
  },
  {
   "cell_type": "markdown",
   "id": "0e7d0e7a-4cfa-4adf-893c-cdbba59adae9",
   "metadata": {},
   "source": [
    "## Dropping columns"
   ]
  },
  {
   "cell_type": "code",
   "execution_count": 123,
   "id": "a7b5e62d-2e6d-4923-ae31-db7e030010a9",
   "metadata": {},
   "outputs": [
    {
     "data": {
      "text/plain": "     State  Account length International plan Voice mail plan   \n0       KS             128                 No             Yes  \\\n1       OH             107                 No             Yes   \n2       NJ             137                 No              No   \n3       OH              84                Yes              No   \n4       OK              75                Yes              No   \n...    ...             ...                ...             ...   \n3328    AZ             192                 No             Yes   \n3329    WV              68                 No              No   \n3330    RI              28                 No              No   \n3331    CT             184                Yes              No   \n3332    TN              74                 No             Yes   \n\n      Number vmail messages  Total day minutes  Total day calls   \n0                        25              265.1            110.0  \\\n1                        26              161.6            123.0   \n2                         0              243.4            114.0   \n3                         0              299.4             71.0   \n4                         0              166.7            113.0   \n...                     ...                ...              ...   \n3328                     36              156.2             77.0   \n3329                      0              231.1             57.0   \n3330                      0              180.8            109.0   \n3331                      0              213.8            105.0   \n3332                     25              234.4            113.0   \n\n      Total day charge  Total eve minutes  Total eve calls  Total eve charge   \n0                45.07              197.4             99.0             16.78  \\\n1                27.47              195.5            103.0             16.62   \n2                41.38              121.2            110.0             10.30   \n3                50.90               61.9             88.0              5.26   \n4                28.34              148.3            122.0             12.61   \n...                ...                ...              ...               ...   \n3328             26.55              215.5            126.0             18.32   \n3329             39.29              153.4             55.0             13.04   \n3330             30.74              288.8             58.0             24.55   \n3331             36.35              159.6             84.0             13.57   \n3332             39.85              265.9             82.0             22.60   \n\n      Total night minutes  Total night calls  Total night charge   \n0                   244.7               91.0               11.01  \\\n1                   254.4              103.0               11.45   \n2                   162.6              104.0                7.32   \n3                   196.9               89.0                8.86   \n4                   186.9              121.0                8.41   \n...                   ...                ...                 ...   \n3328                279.1               83.0               12.56   \n3329                191.3              123.0                8.61   \n3330                191.9               91.0                8.64   \n3331                139.2              137.0                6.26   \n3332                241.4               77.0               10.86   \n\n      Total intl minutes  Total intl calls  Total intl charge   \n0                   10.0                 3               2.70  \\\n1                   13.7                 3               3.70   \n2                   12.2                 5               3.29   \n3                    6.6                 7               1.78   \n4                   10.1                 3               2.73   \n...                  ...               ...                ...   \n3328                 9.9                 6               2.67   \n3329                 9.6                 4               2.59   \n3330                14.1                 6               3.81   \n3331                 5.0                10               1.35   \n3332                13.7                 4               3.70   \n\n      Customer service calls  Churn  \n0                        1.0  False  \n1                        1.0  False  \n2                        0.0  False  \n3                        2.0  False  \n4                        3.0  False  \n...                      ...    ...  \n3328                     2.0  False  \n3329                     3.0  False  \n3330                     2.0  False  \n3331                     2.0  False  \n3332                     0.0  False  \n\n[3307 rows x 19 columns]",
      "text/html": "<div>\n<style scoped>\n    .dataframe tbody tr th:only-of-type {\n        vertical-align: middle;\n    }\n\n    .dataframe tbody tr th {\n        vertical-align: top;\n    }\n\n    .dataframe thead th {\n        text-align: right;\n    }\n</style>\n<table border=\"1\" class=\"dataframe\">\n  <thead>\n    <tr style=\"text-align: right;\">\n      <th></th>\n      <th>State</th>\n      <th>Account length</th>\n      <th>International plan</th>\n      <th>Voice mail plan</th>\n      <th>Number vmail messages</th>\n      <th>Total day minutes</th>\n      <th>Total day calls</th>\n      <th>Total day charge</th>\n      <th>Total eve minutes</th>\n      <th>Total eve calls</th>\n      <th>Total eve charge</th>\n      <th>Total night minutes</th>\n      <th>Total night calls</th>\n      <th>Total night charge</th>\n      <th>Total intl minutes</th>\n      <th>Total intl calls</th>\n      <th>Total intl charge</th>\n      <th>Customer service calls</th>\n      <th>Churn</th>\n    </tr>\n  </thead>\n  <tbody>\n    <tr>\n      <th>0</th>\n      <td>KS</td>\n      <td>128</td>\n      <td>No</td>\n      <td>Yes</td>\n      <td>25</td>\n      <td>265.1</td>\n      <td>110.0</td>\n      <td>45.07</td>\n      <td>197.4</td>\n      <td>99.0</td>\n      <td>16.78</td>\n      <td>244.7</td>\n      <td>91.0</td>\n      <td>11.01</td>\n      <td>10.0</td>\n      <td>3</td>\n      <td>2.70</td>\n      <td>1.0</td>\n      <td>False</td>\n    </tr>\n    <tr>\n      <th>1</th>\n      <td>OH</td>\n      <td>107</td>\n      <td>No</td>\n      <td>Yes</td>\n      <td>26</td>\n      <td>161.6</td>\n      <td>123.0</td>\n      <td>27.47</td>\n      <td>195.5</td>\n      <td>103.0</td>\n      <td>16.62</td>\n      <td>254.4</td>\n      <td>103.0</td>\n      <td>11.45</td>\n      <td>13.7</td>\n      <td>3</td>\n      <td>3.70</td>\n      <td>1.0</td>\n      <td>False</td>\n    </tr>\n    <tr>\n      <th>2</th>\n      <td>NJ</td>\n      <td>137</td>\n      <td>No</td>\n      <td>No</td>\n      <td>0</td>\n      <td>243.4</td>\n      <td>114.0</td>\n      <td>41.38</td>\n      <td>121.2</td>\n      <td>110.0</td>\n      <td>10.30</td>\n      <td>162.6</td>\n      <td>104.0</td>\n      <td>7.32</td>\n      <td>12.2</td>\n      <td>5</td>\n      <td>3.29</td>\n      <td>0.0</td>\n      <td>False</td>\n    </tr>\n    <tr>\n      <th>3</th>\n      <td>OH</td>\n      <td>84</td>\n      <td>Yes</td>\n      <td>No</td>\n      <td>0</td>\n      <td>299.4</td>\n      <td>71.0</td>\n      <td>50.90</td>\n      <td>61.9</td>\n      <td>88.0</td>\n      <td>5.26</td>\n      <td>196.9</td>\n      <td>89.0</td>\n      <td>8.86</td>\n      <td>6.6</td>\n      <td>7</td>\n      <td>1.78</td>\n      <td>2.0</td>\n      <td>False</td>\n    </tr>\n    <tr>\n      <th>4</th>\n      <td>OK</td>\n      <td>75</td>\n      <td>Yes</td>\n      <td>No</td>\n      <td>0</td>\n      <td>166.7</td>\n      <td>113.0</td>\n      <td>28.34</td>\n      <td>148.3</td>\n      <td>122.0</td>\n      <td>12.61</td>\n      <td>186.9</td>\n      <td>121.0</td>\n      <td>8.41</td>\n      <td>10.1</td>\n      <td>3</td>\n      <td>2.73</td>\n      <td>3.0</td>\n      <td>False</td>\n    </tr>\n    <tr>\n      <th>...</th>\n      <td>...</td>\n      <td>...</td>\n      <td>...</td>\n      <td>...</td>\n      <td>...</td>\n      <td>...</td>\n      <td>...</td>\n      <td>...</td>\n      <td>...</td>\n      <td>...</td>\n      <td>...</td>\n      <td>...</td>\n      <td>...</td>\n      <td>...</td>\n      <td>...</td>\n      <td>...</td>\n      <td>...</td>\n      <td>...</td>\n      <td>...</td>\n    </tr>\n    <tr>\n      <th>3328</th>\n      <td>AZ</td>\n      <td>192</td>\n      <td>No</td>\n      <td>Yes</td>\n      <td>36</td>\n      <td>156.2</td>\n      <td>77.0</td>\n      <td>26.55</td>\n      <td>215.5</td>\n      <td>126.0</td>\n      <td>18.32</td>\n      <td>279.1</td>\n      <td>83.0</td>\n      <td>12.56</td>\n      <td>9.9</td>\n      <td>6</td>\n      <td>2.67</td>\n      <td>2.0</td>\n      <td>False</td>\n    </tr>\n    <tr>\n      <th>3329</th>\n      <td>WV</td>\n      <td>68</td>\n      <td>No</td>\n      <td>No</td>\n      <td>0</td>\n      <td>231.1</td>\n      <td>57.0</td>\n      <td>39.29</td>\n      <td>153.4</td>\n      <td>55.0</td>\n      <td>13.04</td>\n      <td>191.3</td>\n      <td>123.0</td>\n      <td>8.61</td>\n      <td>9.6</td>\n      <td>4</td>\n      <td>2.59</td>\n      <td>3.0</td>\n      <td>False</td>\n    </tr>\n    <tr>\n      <th>3330</th>\n      <td>RI</td>\n      <td>28</td>\n      <td>No</td>\n      <td>No</td>\n      <td>0</td>\n      <td>180.8</td>\n      <td>109.0</td>\n      <td>30.74</td>\n      <td>288.8</td>\n      <td>58.0</td>\n      <td>24.55</td>\n      <td>191.9</td>\n      <td>91.0</td>\n      <td>8.64</td>\n      <td>14.1</td>\n      <td>6</td>\n      <td>3.81</td>\n      <td>2.0</td>\n      <td>False</td>\n    </tr>\n    <tr>\n      <th>3331</th>\n      <td>CT</td>\n      <td>184</td>\n      <td>Yes</td>\n      <td>No</td>\n      <td>0</td>\n      <td>213.8</td>\n      <td>105.0</td>\n      <td>36.35</td>\n      <td>159.6</td>\n      <td>84.0</td>\n      <td>13.57</td>\n      <td>139.2</td>\n      <td>137.0</td>\n      <td>6.26</td>\n      <td>5.0</td>\n      <td>10</td>\n      <td>1.35</td>\n      <td>2.0</td>\n      <td>False</td>\n    </tr>\n    <tr>\n      <th>3332</th>\n      <td>TN</td>\n      <td>74</td>\n      <td>No</td>\n      <td>Yes</td>\n      <td>25</td>\n      <td>234.4</td>\n      <td>113.0</td>\n      <td>39.85</td>\n      <td>265.9</td>\n      <td>82.0</td>\n      <td>22.60</td>\n      <td>241.4</td>\n      <td>77.0</td>\n      <td>10.86</td>\n      <td>13.7</td>\n      <td>4</td>\n      <td>3.70</td>\n      <td>0.0</td>\n      <td>False</td>\n    </tr>\n  </tbody>\n</table>\n<p>3307 rows × 19 columns</p>\n</div>"
     },
     "execution_count": 123,
     "metadata": {},
     "output_type": "execute_result"
    }
   ],
   "source": [
    "# Let's say we don't need `Area code` in telco_churn\n",
    "telco_churn.drop('Area code', axis=1)"
   ]
  },
  {
   "cell_type": "markdown",
   "id": "e8d75355-d26f-4f3e-bcd8-f620ef111d0d",
   "metadata": {},
   "source": [
    "## Dropping dupilicates"
   ]
  },
  {
   "cell_type": "code",
   "execution_count": 124,
   "id": "7a849a3d-f462-4704-ad70-68dcb37f744c",
   "metadata": {},
   "outputs": [
    {
     "data": {
      "text/plain": "   age  gender          hobby\n0   23    male     travelling\n1   23  female     volleyball\n2   35    male        writing\n3   18  female  skateboarding",
      "text/html": "<div>\n<style scoped>\n    .dataframe tbody tr th:only-of-type {\n        vertical-align: middle;\n    }\n\n    .dataframe tbody tr th {\n        vertical-align: top;\n    }\n\n    .dataframe thead th {\n        text-align: right;\n    }\n</style>\n<table border=\"1\" class=\"dataframe\">\n  <thead>\n    <tr style=\"text-align: right;\">\n      <th></th>\n      <th>age</th>\n      <th>gender</th>\n      <th>hobby</th>\n    </tr>\n  </thead>\n  <tbody>\n    <tr>\n      <th>0</th>\n      <td>23</td>\n      <td>male</td>\n      <td>travelling</td>\n    </tr>\n    <tr>\n      <th>1</th>\n      <td>23</td>\n      <td>female</td>\n      <td>volleyball</td>\n    </tr>\n    <tr>\n      <th>2</th>\n      <td>35</td>\n      <td>male</td>\n      <td>writing</td>\n    </tr>\n    <tr>\n      <th>3</th>\n      <td>18</td>\n      <td>female</td>\n      <td>skateboarding</td>\n    </tr>\n  </tbody>\n</table>\n</div>"
     },
     "execution_count": 124,
     "metadata": {},
     "output_type": "execute_result"
    }
   ],
   "source": [
    "# Drop duplicates in `users`\n",
    "users.drop_duplicates()\n",
    "users"
   ]
  },
  {
   "cell_type": "code",
   "execution_count": 127,
   "id": "ec7c5b38-aad5-4a73-a5ee-e725739d1a9e",
   "metadata": {},
   "outputs": [
    {
     "data": {
      "text/plain": "   age  gender          hobby\n0   23    male     travelling\n2   35    male        writing\n3   18  female  skateboarding",
      "text/html": "<div>\n<style scoped>\n    .dataframe tbody tr th:only-of-type {\n        vertical-align: middle;\n    }\n\n    .dataframe tbody tr th {\n        vertical-align: top;\n    }\n\n    .dataframe thead th {\n        text-align: right;\n    }\n</style>\n<table border=\"1\" class=\"dataframe\">\n  <thead>\n    <tr style=\"text-align: right;\">\n      <th></th>\n      <th>age</th>\n      <th>gender</th>\n      <th>hobby</th>\n    </tr>\n  </thead>\n  <tbody>\n    <tr>\n      <th>0</th>\n      <td>23</td>\n      <td>male</td>\n      <td>travelling</td>\n    </tr>\n    <tr>\n      <th>2</th>\n      <td>35</td>\n      <td>male</td>\n      <td>writing</td>\n    </tr>\n    <tr>\n      <th>3</th>\n      <td>18</td>\n      <td>female</td>\n      <td>skateboarding</td>\n    </tr>\n  </tbody>\n</table>\n</div>"
     },
     "execution_count": 127,
     "metadata": {},
     "output_type": "execute_result"
    }
   ],
   "source": [
    "# Drop duplicates in `users['age']`\n",
    "# users['age'].drop_duplicates()\n",
    "# if the above command is not working, try the following\n",
    "users.drop_duplicates(subset='age', inplace=True)\n",
    "users"
   ]
  },
  {
   "cell_type": "markdown",
   "id": "3a693922-75b1-49f8-9fb4-80dab87241da",
   "metadata": {},
   "source": [
    "## Creating calculated column"
   ]
  },
  {
   "cell_type": "code",
   "execution_count": 128,
   "id": "bf37888b-d254-470e-9794-2fa821a312aa",
   "metadata": {},
   "outputs": [
    {
     "data": {
      "text/plain": "   PassengerId  Survived  Pclass   \n0            1         0       3  \\\n1            2         1       1   \n2            3         1       3   \n3            4         1       1   \n4            5         0       3   \n5            6         0       3   \n6            7         0       1   \n7            8         0       3   \n8            9         1       3   \n9           10         1       2   \n\n                                                Name     Sex   Age  SibSp   \n0                            Braund, Mr. Owen Harris    male  22.0      1  \\\n1  Cumings, Mrs. John Bradley (Florence Briggs Th...  female  38.0      1   \n2                             Heikkinen, Miss. Laina  female  26.0      0   \n3       Futrelle, Mrs. Jacques Heath (Lily May Peel)  female  35.0      1   \n4                           Allen, Mr. William Henry    male  35.0      0   \n5                                   Moran, Mr. James    male   NaN      0   \n6                            McCarthy, Mr. Timothy J    male  54.0      0   \n7                     Palsson, Master. Gosta Leonard    male   2.0      3   \n8  Johnson, Mrs. Oscar W (Elisabeth Vilhelmina Berg)  female  27.0      0   \n9                Nasser, Mrs. Nicholas (Adele Achem)  female  14.0      1   \n\n   Parch            Ticket     Fare Cabin Embarked  Total fare by family  \n0      0         A/5 21171   7.2500   NaN        S               14.5000  \n1      0          PC 17599  71.2833   C85        C              142.5666  \n2      0  STON/O2. 3101282   7.9250   NaN        S                7.9250  \n3      0            113803  53.1000  C123        S              106.2000  \n4      0            373450   8.0500   NaN        S                8.0500  \n5      0            330877   8.4583   NaN        Q                8.4583  \n6      0             17463  51.8625   E46        S               51.8625  \n7      1            349909  21.0750   NaN        S              105.3750  \n8      2            347742  11.1333   NaN        S               33.3999  \n9      0            237736  30.0708   NaN        C               60.1416  ",
      "text/html": "<div>\n<style scoped>\n    .dataframe tbody tr th:only-of-type {\n        vertical-align: middle;\n    }\n\n    .dataframe tbody tr th {\n        vertical-align: top;\n    }\n\n    .dataframe thead th {\n        text-align: right;\n    }\n</style>\n<table border=\"1\" class=\"dataframe\">\n  <thead>\n    <tr style=\"text-align: right;\">\n      <th></th>\n      <th>PassengerId</th>\n      <th>Survived</th>\n      <th>Pclass</th>\n      <th>Name</th>\n      <th>Sex</th>\n      <th>Age</th>\n      <th>SibSp</th>\n      <th>Parch</th>\n      <th>Ticket</th>\n      <th>Fare</th>\n      <th>Cabin</th>\n      <th>Embarked</th>\n      <th>Total fare by family</th>\n    </tr>\n  </thead>\n  <tbody>\n    <tr>\n      <th>0</th>\n      <td>1</td>\n      <td>0</td>\n      <td>3</td>\n      <td>Braund, Mr. Owen Harris</td>\n      <td>male</td>\n      <td>22.0</td>\n      <td>1</td>\n      <td>0</td>\n      <td>A/5 21171</td>\n      <td>7.2500</td>\n      <td>NaN</td>\n      <td>S</td>\n      <td>14.5000</td>\n    </tr>\n    <tr>\n      <th>1</th>\n      <td>2</td>\n      <td>1</td>\n      <td>1</td>\n      <td>Cumings, Mrs. John Bradley (Florence Briggs Th...</td>\n      <td>female</td>\n      <td>38.0</td>\n      <td>1</td>\n      <td>0</td>\n      <td>PC 17599</td>\n      <td>71.2833</td>\n      <td>C85</td>\n      <td>C</td>\n      <td>142.5666</td>\n    </tr>\n    <tr>\n      <th>2</th>\n      <td>3</td>\n      <td>1</td>\n      <td>3</td>\n      <td>Heikkinen, Miss. Laina</td>\n      <td>female</td>\n      <td>26.0</td>\n      <td>0</td>\n      <td>0</td>\n      <td>STON/O2. 3101282</td>\n      <td>7.9250</td>\n      <td>NaN</td>\n      <td>S</td>\n      <td>7.9250</td>\n    </tr>\n    <tr>\n      <th>3</th>\n      <td>4</td>\n      <td>1</td>\n      <td>1</td>\n      <td>Futrelle, Mrs. Jacques Heath (Lily May Peel)</td>\n      <td>female</td>\n      <td>35.0</td>\n      <td>1</td>\n      <td>0</td>\n      <td>113803</td>\n      <td>53.1000</td>\n      <td>C123</td>\n      <td>S</td>\n      <td>106.2000</td>\n    </tr>\n    <tr>\n      <th>4</th>\n      <td>5</td>\n      <td>0</td>\n      <td>3</td>\n      <td>Allen, Mr. William Henry</td>\n      <td>male</td>\n      <td>35.0</td>\n      <td>0</td>\n      <td>0</td>\n      <td>373450</td>\n      <td>8.0500</td>\n      <td>NaN</td>\n      <td>S</td>\n      <td>8.0500</td>\n    </tr>\n    <tr>\n      <th>5</th>\n      <td>6</td>\n      <td>0</td>\n      <td>3</td>\n      <td>Moran, Mr. James</td>\n      <td>male</td>\n      <td>NaN</td>\n      <td>0</td>\n      <td>0</td>\n      <td>330877</td>\n      <td>8.4583</td>\n      <td>NaN</td>\n      <td>Q</td>\n      <td>8.4583</td>\n    </tr>\n    <tr>\n      <th>6</th>\n      <td>7</td>\n      <td>0</td>\n      <td>1</td>\n      <td>McCarthy, Mr. Timothy J</td>\n      <td>male</td>\n      <td>54.0</td>\n      <td>0</td>\n      <td>0</td>\n      <td>17463</td>\n      <td>51.8625</td>\n      <td>E46</td>\n      <td>S</td>\n      <td>51.8625</td>\n    </tr>\n    <tr>\n      <th>7</th>\n      <td>8</td>\n      <td>0</td>\n      <td>3</td>\n      <td>Palsson, Master. Gosta Leonard</td>\n      <td>male</td>\n      <td>2.0</td>\n      <td>3</td>\n      <td>1</td>\n      <td>349909</td>\n      <td>21.0750</td>\n      <td>NaN</td>\n      <td>S</td>\n      <td>105.3750</td>\n    </tr>\n    <tr>\n      <th>8</th>\n      <td>9</td>\n      <td>1</td>\n      <td>3</td>\n      <td>Johnson, Mrs. Oscar W (Elisabeth Vilhelmina Berg)</td>\n      <td>female</td>\n      <td>27.0</td>\n      <td>0</td>\n      <td>2</td>\n      <td>347742</td>\n      <td>11.1333</td>\n      <td>NaN</td>\n      <td>S</td>\n      <td>33.3999</td>\n    </tr>\n    <tr>\n      <th>9</th>\n      <td>10</td>\n      <td>1</td>\n      <td>2</td>\n      <td>Nasser, Mrs. Nicholas (Adele Achem)</td>\n      <td>female</td>\n      <td>14.0</td>\n      <td>1</td>\n      <td>0</td>\n      <td>237736</td>\n      <td>30.0708</td>\n      <td>NaN</td>\n      <td>C</td>\n      <td>60.1416</td>\n    </tr>\n  </tbody>\n</table>\n</div>"
     },
     "execution_count": 128,
     "metadata": {},
     "output_type": "execute_result"
    }
   ],
   "source": [
    "# Adding a new column `Total fare by family`\n",
    "titanic['Total fare by family'] = (titanic['SibSp'] + titanic['Parch'] + 1) * titanic ['Fare'] \n",
    "titanic.head(10)"
   ]
  },
  {
   "cell_type": "markdown",
   "id": "9a8fc15f-50f9-4402-8304-bc7555d5c385",
   "metadata": {},
   "source": [
    "## Update single value"
   ]
  },
  {
   "cell_type": "code",
   "execution_count": 129,
   "id": "245ae835-0814-4e21-989e-c7b43743481a",
   "metadata": {},
   "outputs": [
    {
     "data": {
      "text/plain": "   PassengerId  Survived  Pclass   \n0            1         0       3  \\\n1            2         1       1   \n2            3         1       3   \n3            4         1       1   \n4            5         0       3   \n\n                                                Name     Sex   Age  SibSp   \n0                            Braund, Mr. Owen Harris    male  22.0      1  \\\n1  Cumings, Mrs. John Bradley (Florence Briggs Th...  female  38.0      1   \n2                             Heikkinen, Miss. Laina  female  26.0      0   \n3       Futrelle, Mrs. Jacques Heath (Lily May Peel)  female  35.0      1   \n4                           Allen, Mr. William Henry    male  35.0      0   \n\n   Parch            Ticket     Fare Cabin Embarked  Total fare by family  \n0      0         A/5 21171   7.2500   NaN        S               14.5500  \n1      0          PC 17599  71.2833   C85        C              142.5666  \n2      0  STON/O2. 3101282   7.9250   NaN        S                7.9250  \n3      0            113803  53.1000  C123        S              106.2000  \n4      0            373450   8.0500   NaN        S                8.0500  ",
      "text/html": "<div>\n<style scoped>\n    .dataframe tbody tr th:only-of-type {\n        vertical-align: middle;\n    }\n\n    .dataframe tbody tr th {\n        vertical-align: top;\n    }\n\n    .dataframe thead th {\n        text-align: right;\n    }\n</style>\n<table border=\"1\" class=\"dataframe\">\n  <thead>\n    <tr style=\"text-align: right;\">\n      <th></th>\n      <th>PassengerId</th>\n      <th>Survived</th>\n      <th>Pclass</th>\n      <th>Name</th>\n      <th>Sex</th>\n      <th>Age</th>\n      <th>SibSp</th>\n      <th>Parch</th>\n      <th>Ticket</th>\n      <th>Fare</th>\n      <th>Cabin</th>\n      <th>Embarked</th>\n      <th>Total fare by family</th>\n    </tr>\n  </thead>\n  <tbody>\n    <tr>\n      <th>0</th>\n      <td>1</td>\n      <td>0</td>\n      <td>3</td>\n      <td>Braund, Mr. Owen Harris</td>\n      <td>male</td>\n      <td>22.0</td>\n      <td>1</td>\n      <td>0</td>\n      <td>A/5 21171</td>\n      <td>7.2500</td>\n      <td>NaN</td>\n      <td>S</td>\n      <td>14.5500</td>\n    </tr>\n    <tr>\n      <th>1</th>\n      <td>2</td>\n      <td>1</td>\n      <td>1</td>\n      <td>Cumings, Mrs. John Bradley (Florence Briggs Th...</td>\n      <td>female</td>\n      <td>38.0</td>\n      <td>1</td>\n      <td>0</td>\n      <td>PC 17599</td>\n      <td>71.2833</td>\n      <td>C85</td>\n      <td>C</td>\n      <td>142.5666</td>\n    </tr>\n    <tr>\n      <th>2</th>\n      <td>3</td>\n      <td>1</td>\n      <td>3</td>\n      <td>Heikkinen, Miss. Laina</td>\n      <td>female</td>\n      <td>26.0</td>\n      <td>0</td>\n      <td>0</td>\n      <td>STON/O2. 3101282</td>\n      <td>7.9250</td>\n      <td>NaN</td>\n      <td>S</td>\n      <td>7.9250</td>\n    </tr>\n    <tr>\n      <th>3</th>\n      <td>4</td>\n      <td>1</td>\n      <td>1</td>\n      <td>Futrelle, Mrs. Jacques Heath (Lily May Peel)</td>\n      <td>female</td>\n      <td>35.0</td>\n      <td>1</td>\n      <td>0</td>\n      <td>113803</td>\n      <td>53.1000</td>\n      <td>C123</td>\n      <td>S</td>\n      <td>106.2000</td>\n    </tr>\n    <tr>\n      <th>4</th>\n      <td>5</td>\n      <td>0</td>\n      <td>3</td>\n      <td>Allen, Mr. William Henry</td>\n      <td>male</td>\n      <td>35.0</td>\n      <td>0</td>\n      <td>0</td>\n      <td>373450</td>\n      <td>8.0500</td>\n      <td>NaN</td>\n      <td>S</td>\n      <td>8.0500</td>\n    </tr>\n  </tbody>\n</table>\n</div>"
     },
     "execution_count": 129,
     "metadata": {},
     "output_type": "execute_result"
    }
   ],
   "source": [
    "titanic.iloc[0, -1] = 14.5500\n",
    "titanic.head(5)"
   ]
  },
  {
   "cell_type": "markdown",
   "id": "5beacc42-f76a-48f4-b0fd-0f664ea25655",
   "metadata": {},
   "source": [
    "## Condition based update using Apply"
   ]
  },
  {
   "cell_type": "code",
   "execution_count": 141,
   "id": "6217b988-bd7a-4e76-ac0e-a217fee0fb2d",
   "metadata": {},
   "outputs": [
    {
     "data": {
      "text/plain": "  State  Account length  Area code International plan Voice mail plan   \n0    KS             128        415                 No             Yes  \\\n1    OH             107        415                 No             Yes   \n2    NJ             137        415                 No              No   \n3    OH              84        408                Yes              No   \n4    OK              75        415                Yes              No   \n\n   Number vmail messages  Total day minutes  Total day calls   \n0                     25              265.1            110.0  \\\n1                     26              161.6            123.0   \n2                      0              243.4            114.0   \n3                      0              299.4             71.0   \n4                      0              166.7            113.0   \n\n   Total day charge  Total eve minutes  ...  Total eve charge   \n0             45.07              197.4  ...             16.78  \\\n1             27.47              195.5  ...             16.62   \n2             41.38              121.2  ...             10.30   \n3             50.90               61.9  ...              5.26   \n4             28.34              148.3  ...             12.61   \n\n   Total night minutes  Total night calls  Total night charge   \n0                244.7               91.0               11.01  \\\n1                254.4              103.0               11.45   \n2                162.6              104.0                7.32   \n3                196.9               89.0                8.86   \n4                186.9              121.0                8.41   \n\n   Total intl minutes  Total intl calls  Total intl charge   \n0                10.0                 3               2.70  \\\n1                13.7                 3               3.70   \n2                12.2                 5               3.29   \n3                 6.6                 7               1.78   \n4                10.1                 3               2.73   \n\n   Customer service calls  Churn Churn Binary  \n0                     1.0  False            0  \n1                     1.0  False            0  \n2                     0.0  False            0  \n3                     2.0  False            0  \n4                     3.0  False            0  \n\n[5 rows x 21 columns]",
      "text/html": "<div>\n<style scoped>\n    .dataframe tbody tr th:only-of-type {\n        vertical-align: middle;\n    }\n\n    .dataframe tbody tr th {\n        vertical-align: top;\n    }\n\n    .dataframe thead th {\n        text-align: right;\n    }\n</style>\n<table border=\"1\" class=\"dataframe\">\n  <thead>\n    <tr style=\"text-align: right;\">\n      <th></th>\n      <th>State</th>\n      <th>Account length</th>\n      <th>Area code</th>\n      <th>International plan</th>\n      <th>Voice mail plan</th>\n      <th>Number vmail messages</th>\n      <th>Total day minutes</th>\n      <th>Total day calls</th>\n      <th>Total day charge</th>\n      <th>Total eve minutes</th>\n      <th>...</th>\n      <th>Total eve charge</th>\n      <th>Total night minutes</th>\n      <th>Total night calls</th>\n      <th>Total night charge</th>\n      <th>Total intl minutes</th>\n      <th>Total intl calls</th>\n      <th>Total intl charge</th>\n      <th>Customer service calls</th>\n      <th>Churn</th>\n      <th>Churn Binary</th>\n    </tr>\n  </thead>\n  <tbody>\n    <tr>\n      <th>0</th>\n      <td>KS</td>\n      <td>128</td>\n      <td>415</td>\n      <td>No</td>\n      <td>Yes</td>\n      <td>25</td>\n      <td>265.1</td>\n      <td>110.0</td>\n      <td>45.07</td>\n      <td>197.4</td>\n      <td>...</td>\n      <td>16.78</td>\n      <td>244.7</td>\n      <td>91.0</td>\n      <td>11.01</td>\n      <td>10.0</td>\n      <td>3</td>\n      <td>2.70</td>\n      <td>1.0</td>\n      <td>False</td>\n      <td>0</td>\n    </tr>\n    <tr>\n      <th>1</th>\n      <td>OH</td>\n      <td>107</td>\n      <td>415</td>\n      <td>No</td>\n      <td>Yes</td>\n      <td>26</td>\n      <td>161.6</td>\n      <td>123.0</td>\n      <td>27.47</td>\n      <td>195.5</td>\n      <td>...</td>\n      <td>16.62</td>\n      <td>254.4</td>\n      <td>103.0</td>\n      <td>11.45</td>\n      <td>13.7</td>\n      <td>3</td>\n      <td>3.70</td>\n      <td>1.0</td>\n      <td>False</td>\n      <td>0</td>\n    </tr>\n    <tr>\n      <th>2</th>\n      <td>NJ</td>\n      <td>137</td>\n      <td>415</td>\n      <td>No</td>\n      <td>No</td>\n      <td>0</td>\n      <td>243.4</td>\n      <td>114.0</td>\n      <td>41.38</td>\n      <td>121.2</td>\n      <td>...</td>\n      <td>10.30</td>\n      <td>162.6</td>\n      <td>104.0</td>\n      <td>7.32</td>\n      <td>12.2</td>\n      <td>5</td>\n      <td>3.29</td>\n      <td>0.0</td>\n      <td>False</td>\n      <td>0</td>\n    </tr>\n    <tr>\n      <th>3</th>\n      <td>OH</td>\n      <td>84</td>\n      <td>408</td>\n      <td>Yes</td>\n      <td>No</td>\n      <td>0</td>\n      <td>299.4</td>\n      <td>71.0</td>\n      <td>50.90</td>\n      <td>61.9</td>\n      <td>...</td>\n      <td>5.26</td>\n      <td>196.9</td>\n      <td>89.0</td>\n      <td>8.86</td>\n      <td>6.6</td>\n      <td>7</td>\n      <td>1.78</td>\n      <td>2.0</td>\n      <td>False</td>\n      <td>0</td>\n    </tr>\n    <tr>\n      <th>4</th>\n      <td>OK</td>\n      <td>75</td>\n      <td>415</td>\n      <td>Yes</td>\n      <td>No</td>\n      <td>0</td>\n      <td>166.7</td>\n      <td>113.0</td>\n      <td>28.34</td>\n      <td>148.3</td>\n      <td>...</td>\n      <td>12.61</td>\n      <td>186.9</td>\n      <td>121.0</td>\n      <td>8.41</td>\n      <td>10.1</td>\n      <td>3</td>\n      <td>2.73</td>\n      <td>3.0</td>\n      <td>False</td>\n      <td>0</td>\n    </tr>\n  </tbody>\n</table>\n<p>5 rows × 21 columns</p>\n</div>"
     },
     "execution_count": 141,
     "metadata": {},
     "output_type": "execute_result"
    }
   ],
   "source": [
    "telco_churn['Churn Binary'] = telco_churn['Churn'].apply(lambda x: 1 if x == True else 0)\n",
    "telco_churn.head()"
   ]
  },
  {
   "cell_type": "code",
   "execution_count": 180,
   "outputs": [],
   "source": [
    "titanic = pd.read_csv('./data_files/titanic.csv')"
   ],
   "metadata": {
    "collapsed": false
   }
  },
  {
   "cell_type": "code",
   "execution_count": 182,
   "outputs": [
    {
     "data": {
      "text/plain": "Sex\nmale      577\nfemale    314\nName: count, dtype: int64"
     },
     "execution_count": 182,
     "metadata": {},
     "output_type": "execute_result"
    }
   ],
   "source": [
    "# titanic.Sex = titanic.Sex.apply(lambda x: 1 if x == 'male' else 0)\n",
    "titanic.Sex = titanic.Sex.apply(lambda x: 'male' if x == 1 else 'female')\n",
    "titanic.Sex.value_counts()"
   ],
   "metadata": {
    "collapsed": false
   }
  },
  {
   "cell_type": "code",
   "execution_count": 183,
   "id": "34207b0c-1be8-4b01-a6bd-1b8e09da7498",
   "metadata": {},
   "outputs": [
    {
     "data": {
      "text/plain": "   State  Account length  Area code International plan Voice mail plan   \n10    IN              65        415                 No              No  \\\n41    MD             135        408                Yes             Yes   \n48    ID             119        415                 No              No   \n54    WY              87        415                 No              No   \n57    CO             121        408                 No             Yes   \n\n    Number vmail messages  Total day minutes  Total day calls   \n10                      0              129.1            137.0  \\\n41                     41              173.1             85.0   \n48                      0              159.1            114.0   \n54                      0              151.0             83.0   \n57                     30              198.4            129.0   \n\n    Total day charge  Total eve minutes  ...  Total eve charge   \n10             21.95              228.5  ...             19.42  \\\n41             29.43              203.9  ...             17.33   \n48             27.05              231.3  ...             19.66   \n54             25.67              219.7  ...             18.67   \n57             33.73               75.3  ...              6.40   \n\n    Total night minutes  Total night calls  Total night charge   \n10                208.8              111.0                9.40  \\\n41                122.2               78.0                5.50   \n48                143.2               91.0                6.44   \n54                203.9              127.0                9.18   \n57                181.2               77.0                8.15   \n\n    Total intl minutes  Total intl calls  Total intl charge   \n10                12.7                 6               3.43  \\\n41                14.6                15               3.94   \n48                 8.8                 3               2.38   \n54                 9.7                 3               2.62   \n57                 5.8                 3               1.57   \n\n    Customer service calls  Churn Churn Binary  \n10                     4.0   True            1  \n41                     0.0   True            1  \n48                     5.0   True            1  \n54                     5.0   True            1  \n57                     3.0   True            1  \n\n[5 rows x 21 columns]",
      "text/html": "<div>\n<style scoped>\n    .dataframe tbody tr th:only-of-type {\n        vertical-align: middle;\n    }\n\n    .dataframe tbody tr th {\n        vertical-align: top;\n    }\n\n    .dataframe thead th {\n        text-align: right;\n    }\n</style>\n<table border=\"1\" class=\"dataframe\">\n  <thead>\n    <tr style=\"text-align: right;\">\n      <th></th>\n      <th>State</th>\n      <th>Account length</th>\n      <th>Area code</th>\n      <th>International plan</th>\n      <th>Voice mail plan</th>\n      <th>Number vmail messages</th>\n      <th>Total day minutes</th>\n      <th>Total day calls</th>\n      <th>Total day charge</th>\n      <th>Total eve minutes</th>\n      <th>...</th>\n      <th>Total eve charge</th>\n      <th>Total night minutes</th>\n      <th>Total night calls</th>\n      <th>Total night charge</th>\n      <th>Total intl minutes</th>\n      <th>Total intl calls</th>\n      <th>Total intl charge</th>\n      <th>Customer service calls</th>\n      <th>Churn</th>\n      <th>Churn Binary</th>\n    </tr>\n  </thead>\n  <tbody>\n    <tr>\n      <th>10</th>\n      <td>IN</td>\n      <td>65</td>\n      <td>415</td>\n      <td>No</td>\n      <td>No</td>\n      <td>0</td>\n      <td>129.1</td>\n      <td>137.0</td>\n      <td>21.95</td>\n      <td>228.5</td>\n      <td>...</td>\n      <td>19.42</td>\n      <td>208.8</td>\n      <td>111.0</td>\n      <td>9.40</td>\n      <td>12.7</td>\n      <td>6</td>\n      <td>3.43</td>\n      <td>4.0</td>\n      <td>True</td>\n      <td>1</td>\n    </tr>\n    <tr>\n      <th>41</th>\n      <td>MD</td>\n      <td>135</td>\n      <td>408</td>\n      <td>Yes</td>\n      <td>Yes</td>\n      <td>41</td>\n      <td>173.1</td>\n      <td>85.0</td>\n      <td>29.43</td>\n      <td>203.9</td>\n      <td>...</td>\n      <td>17.33</td>\n      <td>122.2</td>\n      <td>78.0</td>\n      <td>5.50</td>\n      <td>14.6</td>\n      <td>15</td>\n      <td>3.94</td>\n      <td>0.0</td>\n      <td>True</td>\n      <td>1</td>\n    </tr>\n    <tr>\n      <th>48</th>\n      <td>ID</td>\n      <td>119</td>\n      <td>415</td>\n      <td>No</td>\n      <td>No</td>\n      <td>0</td>\n      <td>159.1</td>\n      <td>114.0</td>\n      <td>27.05</td>\n      <td>231.3</td>\n      <td>...</td>\n      <td>19.66</td>\n      <td>143.2</td>\n      <td>91.0</td>\n      <td>6.44</td>\n      <td>8.8</td>\n      <td>3</td>\n      <td>2.38</td>\n      <td>5.0</td>\n      <td>True</td>\n      <td>1</td>\n    </tr>\n    <tr>\n      <th>54</th>\n      <td>WY</td>\n      <td>87</td>\n      <td>415</td>\n      <td>No</td>\n      <td>No</td>\n      <td>0</td>\n      <td>151.0</td>\n      <td>83.0</td>\n      <td>25.67</td>\n      <td>219.7</td>\n      <td>...</td>\n      <td>18.67</td>\n      <td>203.9</td>\n      <td>127.0</td>\n      <td>9.18</td>\n      <td>9.7</td>\n      <td>3</td>\n      <td>2.62</td>\n      <td>5.0</td>\n      <td>True</td>\n      <td>1</td>\n    </tr>\n    <tr>\n      <th>57</th>\n      <td>CO</td>\n      <td>121</td>\n      <td>408</td>\n      <td>No</td>\n      <td>Yes</td>\n      <td>30</td>\n      <td>198.4</td>\n      <td>129.0</td>\n      <td>33.73</td>\n      <td>75.3</td>\n      <td>...</td>\n      <td>6.40</td>\n      <td>181.2</td>\n      <td>77.0</td>\n      <td>8.15</td>\n      <td>5.8</td>\n      <td>3</td>\n      <td>1.57</td>\n      <td>3.0</td>\n      <td>True</td>\n      <td>1</td>\n    </tr>\n  </tbody>\n</table>\n<p>5 rows × 21 columns</p>\n</div>"
     },
     "execution_count": 183,
     "metadata": {},
     "output_type": "execute_result"
    }
   ],
   "source": [
    "telco_churn[telco_churn['Churn'] == True].head()"
   ]
  },
  {
   "cell_type": "code",
   "execution_count": 184,
   "id": "1a9eaf3b-2417-486c-89ca-14e7deff145f",
   "metadata": {},
   "outputs": [
    {
     "data": {
      "text/plain": "   Job ID             Civil Service Title                         Agency   \n0  424339             PUBLIC HEALTH NURSE  DEPT OF HEALTH/MENTAL HYGIENE  \\\n1  379094         CERT IT DEVELOPER (APP)   NYC EMPLOYEES RETIREMENT SYS   \n2  520417        EXECUTIVE AGENCY COUNSEL          NYC HOUSING AUTHORITY   \n3  233549  CERTIFIED IT ADMINISTRATOR (LA   NYC EMPLOYEES RETIREMENT SYS   \n4  510256  ASSOCIATE HUMAN RIGHTS SPECIAL        HUMAN RIGHTS COMMISSION   \n\n  Posting Type                                 Job Category   \n0     External                                       Health  \\\n1     External                Technology, Data & Innovation   \n2     External                                Legal Affairs   \n3     External  Information Technology & Telecommunications   \n4     External    Constituent Services & Community Programs   \n\n   Salary Range From  Salary Range To  \n0            84252.0          84252.0  \n1            82884.0         116391.0  \n2           105000.0         125000.0  \n3            87203.0         131623.0  \n4            58449.0          67216.0  ",
      "text/html": "<div>\n<style scoped>\n    .dataframe tbody tr th:only-of-type {\n        vertical-align: middle;\n    }\n\n    .dataframe tbody tr th {\n        vertical-align: top;\n    }\n\n    .dataframe thead th {\n        text-align: right;\n    }\n</style>\n<table border=\"1\" class=\"dataframe\">\n  <thead>\n    <tr style=\"text-align: right;\">\n      <th></th>\n      <th>Job ID</th>\n      <th>Civil Service Title</th>\n      <th>Agency</th>\n      <th>Posting Type</th>\n      <th>Job Category</th>\n      <th>Salary Range From</th>\n      <th>Salary Range To</th>\n    </tr>\n  </thead>\n  <tbody>\n    <tr>\n      <th>0</th>\n      <td>424339</td>\n      <td>PUBLIC HEALTH NURSE</td>\n      <td>DEPT OF HEALTH/MENTAL HYGIENE</td>\n      <td>External</td>\n      <td>Health</td>\n      <td>84252.0</td>\n      <td>84252.0</td>\n    </tr>\n    <tr>\n      <th>1</th>\n      <td>379094</td>\n      <td>CERT IT DEVELOPER (APP)</td>\n      <td>NYC EMPLOYEES RETIREMENT SYS</td>\n      <td>External</td>\n      <td>Technology, Data &amp; Innovation</td>\n      <td>82884.0</td>\n      <td>116391.0</td>\n    </tr>\n    <tr>\n      <th>2</th>\n      <td>520417</td>\n      <td>EXECUTIVE AGENCY COUNSEL</td>\n      <td>NYC HOUSING AUTHORITY</td>\n      <td>External</td>\n      <td>Legal Affairs</td>\n      <td>105000.0</td>\n      <td>125000.0</td>\n    </tr>\n    <tr>\n      <th>3</th>\n      <td>233549</td>\n      <td>CERTIFIED IT ADMINISTRATOR (LA</td>\n      <td>NYC EMPLOYEES RETIREMENT SYS</td>\n      <td>External</td>\n      <td>Information Technology &amp; Telecommunications</td>\n      <td>87203.0</td>\n      <td>131623.0</td>\n    </tr>\n    <tr>\n      <th>4</th>\n      <td>510256</td>\n      <td>ASSOCIATE HUMAN RIGHTS SPECIAL</td>\n      <td>HUMAN RIGHTS COMMISSION</td>\n      <td>External</td>\n      <td>Constituent Services &amp; Community Programs</td>\n      <td>58449.0</td>\n      <td>67216.0</td>\n    </tr>\n  </tbody>\n</table>\n</div>"
     },
     "execution_count": 184,
     "metadata": {},
     "output_type": "execute_result"
    }
   ],
   "source": [
    "# Calculate mean salary in nyc_jobs\n",
    "nyc_jobs = nyc_jobs[['Job ID','Civil Service Title','Agency','Posting Type','Job Category','Salary Range From','Salary Range To']]\n",
    "nyc_jobs.head(5)"
   ]
  },
  {
   "cell_type": "code",
   "execution_count": 185,
   "id": "304d0778-5cca-41a2-b0da-c42c1e5f5def",
   "metadata": {},
   "outputs": [
    {
     "data": {
      "text/plain": "0        84252.0\n1        99637.5\n2       115000.0\n3       109413.0\n4        62832.5\n          ...   \n3768    102627.0\n3769     80248.5\n3770    107500.0\n3771     50844.0\n3772     67077.0\nLength: 3773, dtype: float64"
     },
     "execution_count": 185,
     "metadata": {},
     "output_type": "execute_result"
    }
   ],
   "source": [
    "nyc_jobs[['Salary Range From','Salary Range To']].apply(np.mean, axis=1) # axis=0 or 1"
   ]
  },
  {
   "cell_type": "code",
   "execution_count": 186,
   "id": "43bfbfd9-4a78-4748-8092-49c1bec8b841",
   "metadata": {},
   "outputs": [
    {
     "name": "stderr",
     "output_type": "stream",
     "text": [
      "/var/folders/x_/k74j5_cd0jz_4bj5hr1124kr0000gn/T/ipykernel_1487/2834627631.py:1: SettingWithCopyWarning: \n",
      "A value is trying to be set on a copy of a slice from a DataFrame.\n",
      "Try using .loc[row_indexer,col_indexer] = value instead\n",
      "\n",
      "See the caveats in the documentation: https://pandas.pydata.org/pandas-docs/stable/user_guide/indexing.html#returning-a-view-versus-a-copy\n",
      "  nyc_jobs['Salary Avg.'] = nyc_jobs[['Salary Range From','Salary Range To']].apply(np.mean, axis=1)\n"
     ]
    },
    {
     "data": {
      "text/plain": "   Job ID             Civil Service Title                         Agency   \n0  424339             PUBLIC HEALTH NURSE  DEPT OF HEALTH/MENTAL HYGIENE  \\\n1  379094         CERT IT DEVELOPER (APP)   NYC EMPLOYEES RETIREMENT SYS   \n2  520417        EXECUTIVE AGENCY COUNSEL          NYC HOUSING AUTHORITY   \n3  233549  CERTIFIED IT ADMINISTRATOR (LA   NYC EMPLOYEES RETIREMENT SYS   \n4  510256  ASSOCIATE HUMAN RIGHTS SPECIAL        HUMAN RIGHTS COMMISSION   \n\n  Posting Type                                 Job Category   \n0     External                                       Health  \\\n1     External                Technology, Data & Innovation   \n2     External                                Legal Affairs   \n3     External  Information Technology & Telecommunications   \n4     External    Constituent Services & Community Programs   \n\n   Salary Range From  Salary Range To  Salary Avg.  \n0            84252.0          84252.0      84252.0  \n1            82884.0         116391.0      99637.5  \n2           105000.0         125000.0     115000.0  \n3            87203.0         131623.0     109413.0  \n4            58449.0          67216.0      62832.5  ",
      "text/html": "<div>\n<style scoped>\n    .dataframe tbody tr th:only-of-type {\n        vertical-align: middle;\n    }\n\n    .dataframe tbody tr th {\n        vertical-align: top;\n    }\n\n    .dataframe thead th {\n        text-align: right;\n    }\n</style>\n<table border=\"1\" class=\"dataframe\">\n  <thead>\n    <tr style=\"text-align: right;\">\n      <th></th>\n      <th>Job ID</th>\n      <th>Civil Service Title</th>\n      <th>Agency</th>\n      <th>Posting Type</th>\n      <th>Job Category</th>\n      <th>Salary Range From</th>\n      <th>Salary Range To</th>\n      <th>Salary Avg.</th>\n    </tr>\n  </thead>\n  <tbody>\n    <tr>\n      <th>0</th>\n      <td>424339</td>\n      <td>PUBLIC HEALTH NURSE</td>\n      <td>DEPT OF HEALTH/MENTAL HYGIENE</td>\n      <td>External</td>\n      <td>Health</td>\n      <td>84252.0</td>\n      <td>84252.0</td>\n      <td>84252.0</td>\n    </tr>\n    <tr>\n      <th>1</th>\n      <td>379094</td>\n      <td>CERT IT DEVELOPER (APP)</td>\n      <td>NYC EMPLOYEES RETIREMENT SYS</td>\n      <td>External</td>\n      <td>Technology, Data &amp; Innovation</td>\n      <td>82884.0</td>\n      <td>116391.0</td>\n      <td>99637.5</td>\n    </tr>\n    <tr>\n      <th>2</th>\n      <td>520417</td>\n      <td>EXECUTIVE AGENCY COUNSEL</td>\n      <td>NYC HOUSING AUTHORITY</td>\n      <td>External</td>\n      <td>Legal Affairs</td>\n      <td>105000.0</td>\n      <td>125000.0</td>\n      <td>115000.0</td>\n    </tr>\n    <tr>\n      <th>3</th>\n      <td>233549</td>\n      <td>CERTIFIED IT ADMINISTRATOR (LA</td>\n      <td>NYC EMPLOYEES RETIREMENT SYS</td>\n      <td>External</td>\n      <td>Information Technology &amp; Telecommunications</td>\n      <td>87203.0</td>\n      <td>131623.0</td>\n      <td>109413.0</td>\n    </tr>\n    <tr>\n      <th>4</th>\n      <td>510256</td>\n      <td>ASSOCIATE HUMAN RIGHTS SPECIAL</td>\n      <td>HUMAN RIGHTS COMMISSION</td>\n      <td>External</td>\n      <td>Constituent Services &amp; Community Programs</td>\n      <td>58449.0</td>\n      <td>67216.0</td>\n      <td>62832.5</td>\n    </tr>\n  </tbody>\n</table>\n</div>"
     },
     "execution_count": 186,
     "metadata": {},
     "output_type": "execute_result"
    }
   ],
   "source": [
    "nyc_jobs['Salary Avg.'] = nyc_jobs[['Salary Range From','Salary Range To']].apply(np.mean, axis=1)\n",
    "nyc_jobs.head(5)"
   ]
  },
  {
   "cell_type": "code",
   "execution_count": 187,
   "id": "1e690ff2-d0a3-4a43-981f-f403e36537e0",
   "metadata": {},
   "outputs": [
    {
     "name": "stderr",
     "output_type": "stream",
     "text": [
      "/var/folders/x_/k74j5_cd0jz_4bj5hr1124kr0000gn/T/ipykernel_1487/2747444744.py:7: SettingWithCopyWarning: \n",
      "A value is trying to be set on a copy of a slice from a DataFrame.\n",
      "Try using .loc[row_indexer,col_indexer] = value instead\n",
      "\n",
      "See the caveats in the documentation: https://pandas.pydata.org/pandas-docs/stable/user_guide/indexing.html#returning-a-view-versus-a-copy\n",
      "  nyc_jobs['Civil Service Title'] = nyc_jobs['Civil Service Title'].apply(capitalize_position)\n"
     ]
    },
    {
     "data": {
      "text/plain": "   Job ID             Civil Service Title                         Agency   \n0  424339             Public health nurse  DEPT OF HEALTH/MENTAL HYGIENE  \\\n1  379094         Cert it developer (app)   NYC EMPLOYEES RETIREMENT SYS   \n2  520417        Executive agency counsel          NYC HOUSING AUTHORITY   \n3  233549  Certified it administrator (la   NYC EMPLOYEES RETIREMENT SYS   \n4  510256  Associate human rights special        HUMAN RIGHTS COMMISSION   \n\n  Posting Type                                 Job Category   \n0     External                                       Health  \\\n1     External                Technology, Data & Innovation   \n2     External                                Legal Affairs   \n3     External  Information Technology & Telecommunications   \n4     External    Constituent Services & Community Programs   \n\n   Salary Range From  Salary Range To  Salary Avg.  \n0            84252.0          84252.0      84252.0  \n1            82884.0         116391.0      99637.5  \n2           105000.0         125000.0     115000.0  \n3            87203.0         131623.0     109413.0  \n4            58449.0          67216.0      62832.5  ",
      "text/html": "<div>\n<style scoped>\n    .dataframe tbody tr th:only-of-type {\n        vertical-align: middle;\n    }\n\n    .dataframe tbody tr th {\n        vertical-align: top;\n    }\n\n    .dataframe thead th {\n        text-align: right;\n    }\n</style>\n<table border=\"1\" class=\"dataframe\">\n  <thead>\n    <tr style=\"text-align: right;\">\n      <th></th>\n      <th>Job ID</th>\n      <th>Civil Service Title</th>\n      <th>Agency</th>\n      <th>Posting Type</th>\n      <th>Job Category</th>\n      <th>Salary Range From</th>\n      <th>Salary Range To</th>\n      <th>Salary Avg.</th>\n    </tr>\n  </thead>\n  <tbody>\n    <tr>\n      <th>0</th>\n      <td>424339</td>\n      <td>Public health nurse</td>\n      <td>DEPT OF HEALTH/MENTAL HYGIENE</td>\n      <td>External</td>\n      <td>Health</td>\n      <td>84252.0</td>\n      <td>84252.0</td>\n      <td>84252.0</td>\n    </tr>\n    <tr>\n      <th>1</th>\n      <td>379094</td>\n      <td>Cert it developer (app)</td>\n      <td>NYC EMPLOYEES RETIREMENT SYS</td>\n      <td>External</td>\n      <td>Technology, Data &amp; Innovation</td>\n      <td>82884.0</td>\n      <td>116391.0</td>\n      <td>99637.5</td>\n    </tr>\n    <tr>\n      <th>2</th>\n      <td>520417</td>\n      <td>Executive agency counsel</td>\n      <td>NYC HOUSING AUTHORITY</td>\n      <td>External</td>\n      <td>Legal Affairs</td>\n      <td>105000.0</td>\n      <td>125000.0</td>\n      <td>115000.0</td>\n    </tr>\n    <tr>\n      <th>3</th>\n      <td>233549</td>\n      <td>Certified it administrator (la</td>\n      <td>NYC EMPLOYEES RETIREMENT SYS</td>\n      <td>External</td>\n      <td>Information Technology &amp; Telecommunications</td>\n      <td>87203.0</td>\n      <td>131623.0</td>\n      <td>109413.0</td>\n    </tr>\n    <tr>\n      <th>4</th>\n      <td>510256</td>\n      <td>Associate human rights special</td>\n      <td>HUMAN RIGHTS COMMISSION</td>\n      <td>External</td>\n      <td>Constituent Services &amp; Community Programs</td>\n      <td>58449.0</td>\n      <td>67216.0</td>\n      <td>62832.5</td>\n    </tr>\n  </tbody>\n</table>\n</div>"
     },
     "execution_count": 187,
     "metadata": {},
     "output_type": "execute_result"
    }
   ],
   "source": [
    "# You can create a custom function and apply it to the dataframe\n",
    "def capitalize_position(title):\n",
    "    title_lower = title.lower()\n",
    "    title_final = title_lower.capitalize()\n",
    "    return title_final\n",
    "\n",
    "nyc_jobs['Civil Service Title'] = nyc_jobs['Civil Service Title'].apply(capitalize_position)\n",
    "nyc_jobs.head(5)"
   ]
  },
  {
   "cell_type": "code",
   "execution_count": 188,
   "id": "bbc6105a-7a87-4688-9649-8f579ba1fd8d",
   "metadata": {},
   "outputs": [
    {
     "name": "stderr",
     "output_type": "stream",
     "text": [
      "/var/folders/x_/k74j5_cd0jz_4bj5hr1124kr0000gn/T/ipykernel_1487/282023974.py:1: SettingWithCopyWarning: \n",
      "A value is trying to be set on a copy of a slice from a DataFrame.\n",
      "Try using .loc[row_indexer,col_indexer] = value instead\n",
      "\n",
      "See the caveats in the documentation: https://pandas.pydata.org/pandas-docs/stable/user_guide/indexing.html#returning-a-view-versus-a-copy\n",
      "  nyc_jobs['Agency'] = nyc_jobs['Agency'].apply(lambda x: x.lower().capitalize())\n"
     ]
    },
    {
     "data": {
      "text/plain": "   Job ID             Civil Service Title                         Agency   \n0  424339             Public health nurse  Dept of health/mental hygiene  \\\n1  379094         Cert it developer (app)   Nyc employees retirement sys   \n2  520417        Executive agency counsel          Nyc housing authority   \n3  233549  Certified it administrator (la   Nyc employees retirement sys   \n4  510256  Associate human rights special        Human rights commission   \n\n  Posting Type                                 Job Category   \n0     External                                       Health  \\\n1     External                Technology, Data & Innovation   \n2     External                                Legal Affairs   \n3     External  Information Technology & Telecommunications   \n4     External    Constituent Services & Community Programs   \n\n   Salary Range From  Salary Range To  Salary Avg.  \n0            84252.0          84252.0      84252.0  \n1            82884.0         116391.0      99637.5  \n2           105000.0         125000.0     115000.0  \n3            87203.0         131623.0     109413.0  \n4            58449.0          67216.0      62832.5  ",
      "text/html": "<div>\n<style scoped>\n    .dataframe tbody tr th:only-of-type {\n        vertical-align: middle;\n    }\n\n    .dataframe tbody tr th {\n        vertical-align: top;\n    }\n\n    .dataframe thead th {\n        text-align: right;\n    }\n</style>\n<table border=\"1\" class=\"dataframe\">\n  <thead>\n    <tr style=\"text-align: right;\">\n      <th></th>\n      <th>Job ID</th>\n      <th>Civil Service Title</th>\n      <th>Agency</th>\n      <th>Posting Type</th>\n      <th>Job Category</th>\n      <th>Salary Range From</th>\n      <th>Salary Range To</th>\n      <th>Salary Avg.</th>\n    </tr>\n  </thead>\n  <tbody>\n    <tr>\n      <th>0</th>\n      <td>424339</td>\n      <td>Public health nurse</td>\n      <td>Dept of health/mental hygiene</td>\n      <td>External</td>\n      <td>Health</td>\n      <td>84252.0</td>\n      <td>84252.0</td>\n      <td>84252.0</td>\n    </tr>\n    <tr>\n      <th>1</th>\n      <td>379094</td>\n      <td>Cert it developer (app)</td>\n      <td>Nyc employees retirement sys</td>\n      <td>External</td>\n      <td>Technology, Data &amp; Innovation</td>\n      <td>82884.0</td>\n      <td>116391.0</td>\n      <td>99637.5</td>\n    </tr>\n    <tr>\n      <th>2</th>\n      <td>520417</td>\n      <td>Executive agency counsel</td>\n      <td>Nyc housing authority</td>\n      <td>External</td>\n      <td>Legal Affairs</td>\n      <td>105000.0</td>\n      <td>125000.0</td>\n      <td>115000.0</td>\n    </tr>\n    <tr>\n      <th>3</th>\n      <td>233549</td>\n      <td>Certified it administrator (la</td>\n      <td>Nyc employees retirement sys</td>\n      <td>External</td>\n      <td>Information Technology &amp; Telecommunications</td>\n      <td>87203.0</td>\n      <td>131623.0</td>\n      <td>109413.0</td>\n    </tr>\n    <tr>\n      <th>4</th>\n      <td>510256</td>\n      <td>Associate human rights special</td>\n      <td>Human rights commission</td>\n      <td>External</td>\n      <td>Constituent Services &amp; Community Programs</td>\n      <td>58449.0</td>\n      <td>67216.0</td>\n      <td>62832.5</td>\n    </tr>\n  </tbody>\n</table>\n</div>"
     },
     "execution_count": 188,
     "metadata": {},
     "output_type": "execute_result"
    }
   ],
   "source": [
    "nyc_jobs['Agency'] = nyc_jobs['Agency'].apply(lambda x: x.lower().capitalize())\n",
    "nyc_jobs.head(5)"
   ]
  },
  {
   "cell_type": "code",
   "execution_count": 189,
   "id": "41ee91e4-a52e-4540-8199-dd463a503e1c",
   "metadata": {},
   "outputs": [
    {
     "data": {
      "text/plain": "0       [424339, Public health nurse, Dept of health/m...\n1       [379094, Cert it developer (app), Nyc employee...\n2       [520417, Executive agency counsel, Nyc housing...\n3       [233549, Certified it administrator (la, Nyc e...\n4       [510256, Associate human rights special, Human...\n                              ...                        \n3768    [457839, Certified it administrator (la, Nyc e...\n3769    [527141, Associate housing development, Housin...\n3770    [509443, Senior it architect, Financial info s...\n3771    [352367, Economist, Dept of health/mental hygi...\n3772    [478739, Agency attorney interne, Human rights...\nLength: 3773, dtype: object"
     },
     "execution_count": 189,
     "metadata": {},
     "output_type": "execute_result"
    }
   ],
   "source": [
    "nyc_jobs.apply(lambda x: x.tolist(), axis=1) # type() type((  )[0])"
   ]
  },
  {
   "cell_type": "code",
   "execution_count": 194,
   "id": "0a4be7dd-005b-400f-8607-0ed544354b94",
   "metadata": {},
   "outputs": [
    {
     "data": {
      "text/plain": "           0                               1                               2   \n0     424339             Public health nurse   Dept of health/mental hygiene  \\\n1     379094         Cert it developer (app)    Nyc employees retirement sys   \n2     520417        Executive agency counsel           Nyc housing authority   \n3     233549  Certified it administrator (la    Nyc employees retirement sys   \n4     510256  Associate human rights special         Human rights commission   \n...      ...                             ...                             ...   \n3768  457839  Certified it administrator (la    Nyc employees retirement sys   \n3769  527141   Associate housing development  Housing preservation & dvlpmnt   \n3770  509443             Senior it architect      Financial info svcs agency   \n3771  352367                       Economist   Dept of health/mental hygiene   \n3772  478739         Agency attorney interne         Human rights commission   \n\n             3                                            4         5   \n0     External                                       Health   84252.0  \\\n1     External                Technology, Data & Innovation   82884.0   \n2     External                                Legal Affairs  105000.0   \n3     External  Information Technology & Telecommunications   87203.0   \n4     External    Constituent Services & Community Programs   58449.0   \n...        ...                                          ...       ...   \n3768  Internal                Technology, Data & Innovation   85371.0   \n3769  Internal        Engineering, Architecture, & Planning   74650.0   \n3770  Internal                Technology, Data & Innovation  100000.0   \n3771  Internal           Finance, Accounting, & Procurement   42288.0   \n3772  External                                Legal Affairs   62397.0   \n\n             6         7  \n0      84252.0   84252.0  \n1     116391.0   99637.5  \n2     125000.0  115000.0  \n3     131623.0  109413.0  \n4      67216.0   62832.5  \n...        ...       ...  \n3768  119883.0  102627.0  \n3769   85847.0   80248.5  \n3770  115000.0  107500.0  \n3771   59400.0   50844.0  \n3772   71757.0   67077.0  \n\n[3773 rows x 8 columns]",
      "text/html": "<div>\n<style scoped>\n    .dataframe tbody tr th:only-of-type {\n        vertical-align: middle;\n    }\n\n    .dataframe tbody tr th {\n        vertical-align: top;\n    }\n\n    .dataframe thead th {\n        text-align: right;\n    }\n</style>\n<table border=\"1\" class=\"dataframe\">\n  <thead>\n    <tr style=\"text-align: right;\">\n      <th></th>\n      <th>0</th>\n      <th>1</th>\n      <th>2</th>\n      <th>3</th>\n      <th>4</th>\n      <th>5</th>\n      <th>6</th>\n      <th>7</th>\n    </tr>\n  </thead>\n  <tbody>\n    <tr>\n      <th>0</th>\n      <td>424339</td>\n      <td>Public health nurse</td>\n      <td>Dept of health/mental hygiene</td>\n      <td>External</td>\n      <td>Health</td>\n      <td>84252.0</td>\n      <td>84252.0</td>\n      <td>84252.0</td>\n    </tr>\n    <tr>\n      <th>1</th>\n      <td>379094</td>\n      <td>Cert it developer (app)</td>\n      <td>Nyc employees retirement sys</td>\n      <td>External</td>\n      <td>Technology, Data &amp; Innovation</td>\n      <td>82884.0</td>\n      <td>116391.0</td>\n      <td>99637.5</td>\n    </tr>\n    <tr>\n      <th>2</th>\n      <td>520417</td>\n      <td>Executive agency counsel</td>\n      <td>Nyc housing authority</td>\n      <td>External</td>\n      <td>Legal Affairs</td>\n      <td>105000.0</td>\n      <td>125000.0</td>\n      <td>115000.0</td>\n    </tr>\n    <tr>\n      <th>3</th>\n      <td>233549</td>\n      <td>Certified it administrator (la</td>\n      <td>Nyc employees retirement sys</td>\n      <td>External</td>\n      <td>Information Technology &amp; Telecommunications</td>\n      <td>87203.0</td>\n      <td>131623.0</td>\n      <td>109413.0</td>\n    </tr>\n    <tr>\n      <th>4</th>\n      <td>510256</td>\n      <td>Associate human rights special</td>\n      <td>Human rights commission</td>\n      <td>External</td>\n      <td>Constituent Services &amp; Community Programs</td>\n      <td>58449.0</td>\n      <td>67216.0</td>\n      <td>62832.5</td>\n    </tr>\n    <tr>\n      <th>...</th>\n      <td>...</td>\n      <td>...</td>\n      <td>...</td>\n      <td>...</td>\n      <td>...</td>\n      <td>...</td>\n      <td>...</td>\n      <td>...</td>\n    </tr>\n    <tr>\n      <th>3768</th>\n      <td>457839</td>\n      <td>Certified it administrator (la</td>\n      <td>Nyc employees retirement sys</td>\n      <td>Internal</td>\n      <td>Technology, Data &amp; Innovation</td>\n      <td>85371.0</td>\n      <td>119883.0</td>\n      <td>102627.0</td>\n    </tr>\n    <tr>\n      <th>3769</th>\n      <td>527141</td>\n      <td>Associate housing development</td>\n      <td>Housing preservation &amp; dvlpmnt</td>\n      <td>Internal</td>\n      <td>Engineering, Architecture, &amp; Planning</td>\n      <td>74650.0</td>\n      <td>85847.0</td>\n      <td>80248.5</td>\n    </tr>\n    <tr>\n      <th>3770</th>\n      <td>509443</td>\n      <td>Senior it architect</td>\n      <td>Financial info svcs agency</td>\n      <td>Internal</td>\n      <td>Technology, Data &amp; Innovation</td>\n      <td>100000.0</td>\n      <td>115000.0</td>\n      <td>107500.0</td>\n    </tr>\n    <tr>\n      <th>3771</th>\n      <td>352367</td>\n      <td>Economist</td>\n      <td>Dept of health/mental hygiene</td>\n      <td>Internal</td>\n      <td>Finance, Accounting, &amp; Procurement</td>\n      <td>42288.0</td>\n      <td>59400.0</td>\n      <td>50844.0</td>\n    </tr>\n    <tr>\n      <th>3772</th>\n      <td>478739</td>\n      <td>Agency attorney interne</td>\n      <td>Human rights commission</td>\n      <td>External</td>\n      <td>Legal Affairs</td>\n      <td>62397.0</td>\n      <td>71757.0</td>\n      <td>67077.0</td>\n    </tr>\n  </tbody>\n</table>\n<p>3773 rows × 8 columns</p>\n</div>"
     },
     "execution_count": 194,
     "metadata": {},
     "output_type": "execute_result"
    }
   ],
   "source": [
    "nyc_jobs.apply(lambda x: x.tolist(), axis=1, result_type='expand')"
   ]
  },
  {
   "cell_type": "code",
   "execution_count": 195,
   "id": "0ac4ee4d-b3d7-4c60-b391-2e2b25c6810b",
   "metadata": {},
   "outputs": [
    {
     "data": {
      "text/plain": "      Job ID             Civil Service Title                          Agency   \n0     424339             Public health nurse   Dept of health/mental hygiene  \\\n1     379094         Cert it developer (app)    Nyc employees retirement sys   \n2     520417        Executive agency counsel           Nyc housing authority   \n3     233549  Certified it administrator (la    Nyc employees retirement sys   \n4     510256  Associate human rights special         Human rights commission   \n...      ...                             ...                             ...   \n3768  457839  Certified it administrator (la    Nyc employees retirement sys   \n3769  527141   Associate housing development  Housing preservation & dvlpmnt   \n3770  509443             Senior it architect      Financial info svcs agency   \n3771  352367                       Economist   Dept of health/mental hygiene   \n3772  478739         Agency attorney interne         Human rights commission   \n\n     Posting Type                                 Job Category   \n0        External                                       Health  \\\n1        External                Technology, Data & Innovation   \n2        External                                Legal Affairs   \n3        External  Information Technology & Telecommunications   \n4        External    Constituent Services & Community Programs   \n...           ...                                          ...   \n3768     Internal                Technology, Data & Innovation   \n3769     Internal        Engineering, Architecture, & Planning   \n3770     Internal                Technology, Data & Innovation   \n3771     Internal           Finance, Accounting, & Procurement   \n3772     External                                Legal Affairs   \n\n     Salary Range From Salary Range To Salary Avg.  \n0              84252.0         84252.0     84252.0  \n1              82884.0        116391.0     99637.5  \n2             105000.0        125000.0    115000.0  \n3              87203.0        131623.0    109413.0  \n4              58449.0         67216.0     62832.5  \n...                ...             ...         ...  \n3768           85371.0        119883.0    102627.0  \n3769           74650.0         85847.0     80248.5  \n3770          100000.0        115000.0    107500.0  \n3771           42288.0         59400.0     50844.0  \n3772           62397.0         71757.0     67077.0  \n\n[3773 rows x 8 columns]",
      "text/html": "<div>\n<style scoped>\n    .dataframe tbody tr th:only-of-type {\n        vertical-align: middle;\n    }\n\n    .dataframe tbody tr th {\n        vertical-align: top;\n    }\n\n    .dataframe thead th {\n        text-align: right;\n    }\n</style>\n<table border=\"1\" class=\"dataframe\">\n  <thead>\n    <tr style=\"text-align: right;\">\n      <th></th>\n      <th>Job ID</th>\n      <th>Civil Service Title</th>\n      <th>Agency</th>\n      <th>Posting Type</th>\n      <th>Job Category</th>\n      <th>Salary Range From</th>\n      <th>Salary Range To</th>\n      <th>Salary Avg.</th>\n    </tr>\n  </thead>\n  <tbody>\n    <tr>\n      <th>0</th>\n      <td>424339</td>\n      <td>Public health nurse</td>\n      <td>Dept of health/mental hygiene</td>\n      <td>External</td>\n      <td>Health</td>\n      <td>84252.0</td>\n      <td>84252.0</td>\n      <td>84252.0</td>\n    </tr>\n    <tr>\n      <th>1</th>\n      <td>379094</td>\n      <td>Cert it developer (app)</td>\n      <td>Nyc employees retirement sys</td>\n      <td>External</td>\n      <td>Technology, Data &amp; Innovation</td>\n      <td>82884.0</td>\n      <td>116391.0</td>\n      <td>99637.5</td>\n    </tr>\n    <tr>\n      <th>2</th>\n      <td>520417</td>\n      <td>Executive agency counsel</td>\n      <td>Nyc housing authority</td>\n      <td>External</td>\n      <td>Legal Affairs</td>\n      <td>105000.0</td>\n      <td>125000.0</td>\n      <td>115000.0</td>\n    </tr>\n    <tr>\n      <th>3</th>\n      <td>233549</td>\n      <td>Certified it administrator (la</td>\n      <td>Nyc employees retirement sys</td>\n      <td>External</td>\n      <td>Information Technology &amp; Telecommunications</td>\n      <td>87203.0</td>\n      <td>131623.0</td>\n      <td>109413.0</td>\n    </tr>\n    <tr>\n      <th>4</th>\n      <td>510256</td>\n      <td>Associate human rights special</td>\n      <td>Human rights commission</td>\n      <td>External</td>\n      <td>Constituent Services &amp; Community Programs</td>\n      <td>58449.0</td>\n      <td>67216.0</td>\n      <td>62832.5</td>\n    </tr>\n    <tr>\n      <th>...</th>\n      <td>...</td>\n      <td>...</td>\n      <td>...</td>\n      <td>...</td>\n      <td>...</td>\n      <td>...</td>\n      <td>...</td>\n      <td>...</td>\n    </tr>\n    <tr>\n      <th>3768</th>\n      <td>457839</td>\n      <td>Certified it administrator (la</td>\n      <td>Nyc employees retirement sys</td>\n      <td>Internal</td>\n      <td>Technology, Data &amp; Innovation</td>\n      <td>85371.0</td>\n      <td>119883.0</td>\n      <td>102627.0</td>\n    </tr>\n    <tr>\n      <th>3769</th>\n      <td>527141</td>\n      <td>Associate housing development</td>\n      <td>Housing preservation &amp; dvlpmnt</td>\n      <td>Internal</td>\n      <td>Engineering, Architecture, &amp; Planning</td>\n      <td>74650.0</td>\n      <td>85847.0</td>\n      <td>80248.5</td>\n    </tr>\n    <tr>\n      <th>3770</th>\n      <td>509443</td>\n      <td>Senior it architect</td>\n      <td>Financial info svcs agency</td>\n      <td>Internal</td>\n      <td>Technology, Data &amp; Innovation</td>\n      <td>100000.0</td>\n      <td>115000.0</td>\n      <td>107500.0</td>\n    </tr>\n    <tr>\n      <th>3771</th>\n      <td>352367</td>\n      <td>Economist</td>\n      <td>Dept of health/mental hygiene</td>\n      <td>Internal</td>\n      <td>Finance, Accounting, &amp; Procurement</td>\n      <td>42288.0</td>\n      <td>59400.0</td>\n      <td>50844.0</td>\n    </tr>\n    <tr>\n      <th>3772</th>\n      <td>478739</td>\n      <td>Agency attorney interne</td>\n      <td>Human rights commission</td>\n      <td>External</td>\n      <td>Legal Affairs</td>\n      <td>62397.0</td>\n      <td>71757.0</td>\n      <td>67077.0</td>\n    </tr>\n  </tbody>\n</table>\n<p>3773 rows × 8 columns</p>\n</div>"
     },
     "execution_count": 195,
     "metadata": {},
     "output_type": "execute_result"
    }
   ],
   "source": [
    "# Convert each row of the nyc_jobs DataFrame to a Python list using a lambda function and the apply() method. \n",
    "# The result_type='broadcast' argument specifies that the function should return a DataFrame with the same shape as the original nyc_jobs DataFrame.\n",
    "nyc_jobs.apply(lambda x: x.tolist(), axis=1, result_type='broadcast')"
   ]
  },
  {
   "cell_type": "markdown",
   "id": "942e6e62-0f46-457f-9a2e-9b4ab4abbfa0",
   "metadata": {},
   "source": [
    "# Column name and index"
   ]
  },
  {
   "cell_type": "code",
   "execution_count": 196,
   "id": "622b9ca9-4a44-4b88-886f-5405d78371f3",
   "metadata": {},
   "outputs": [
    {
     "data": {
      "text/plain": "     PassengerId  Survived  Pclass   \n0              1         0       3  \\\n1              2         1       1   \n2              3         1       3   \n3              4         1       1   \n4              5         0       3   \n..           ...       ...     ...   \n886          887         0       2   \n887          888         1       1   \n888          889         0       3   \n889          890         1       1   \n890          891         0       3   \n\n                                                  Name  Gender   Age  SibSp   \n0                              Braund, Mr. Owen Harris    male  22.0      1  \\\n1    Cumings, Mrs. John Bradley (Florence Briggs Th...  female  38.0      1   \n2                               Heikkinen, Miss. Laina  female  26.0      0   \n3         Futrelle, Mrs. Jacques Heath (Lily May Peel)  female  35.0      1   \n4                             Allen, Mr. William Henry    male  35.0      0   \n..                                                 ...     ...   ...    ...   \n886                              Montvila, Rev. Juozas    male  27.0      0   \n887                       Graham, Miss. Margaret Edith  female  19.0      0   \n888           Johnston, Miss. Catherine Helen \"Carrie\"  female   NaN      1   \n889                              Behr, Mr. Karl Howell    male  26.0      0   \n890                                Dooley, Mr. Patrick    male  32.0      0   \n\n     Parch            Ticket  Ticket fee Cabin Embarked  \n0        0         A/5 21171      7.2500   NaN        S  \n1        0          PC 17599     71.2833   C85        C  \n2        0  STON/O2. 3101282      7.9250   NaN        S  \n3        0            113803     53.1000  C123        S  \n4        0            373450      8.0500   NaN        S  \n..     ...               ...         ...   ...      ...  \n886      0            211536     13.0000   NaN        S  \n887      0            112053     30.0000   B42        S  \n888      2        W./C. 6607     23.4500   NaN        S  \n889      0            111369     30.0000  C148        C  \n890      0            370376      7.7500   NaN        Q  \n\n[891 rows x 12 columns]",
      "text/html": "<div>\n<style scoped>\n    .dataframe tbody tr th:only-of-type {\n        vertical-align: middle;\n    }\n\n    .dataframe tbody tr th {\n        vertical-align: top;\n    }\n\n    .dataframe thead th {\n        text-align: right;\n    }\n</style>\n<table border=\"1\" class=\"dataframe\">\n  <thead>\n    <tr style=\"text-align: right;\">\n      <th></th>\n      <th>PassengerId</th>\n      <th>Survived</th>\n      <th>Pclass</th>\n      <th>Name</th>\n      <th>Gender</th>\n      <th>Age</th>\n      <th>SibSp</th>\n      <th>Parch</th>\n      <th>Ticket</th>\n      <th>Ticket fee</th>\n      <th>Cabin</th>\n      <th>Embarked</th>\n    </tr>\n  </thead>\n  <tbody>\n    <tr>\n      <th>0</th>\n      <td>1</td>\n      <td>0</td>\n      <td>3</td>\n      <td>Braund, Mr. Owen Harris</td>\n      <td>male</td>\n      <td>22.0</td>\n      <td>1</td>\n      <td>0</td>\n      <td>A/5 21171</td>\n      <td>7.2500</td>\n      <td>NaN</td>\n      <td>S</td>\n    </tr>\n    <tr>\n      <th>1</th>\n      <td>2</td>\n      <td>1</td>\n      <td>1</td>\n      <td>Cumings, Mrs. John Bradley (Florence Briggs Th...</td>\n      <td>female</td>\n      <td>38.0</td>\n      <td>1</td>\n      <td>0</td>\n      <td>PC 17599</td>\n      <td>71.2833</td>\n      <td>C85</td>\n      <td>C</td>\n    </tr>\n    <tr>\n      <th>2</th>\n      <td>3</td>\n      <td>1</td>\n      <td>3</td>\n      <td>Heikkinen, Miss. Laina</td>\n      <td>female</td>\n      <td>26.0</td>\n      <td>0</td>\n      <td>0</td>\n      <td>STON/O2. 3101282</td>\n      <td>7.9250</td>\n      <td>NaN</td>\n      <td>S</td>\n    </tr>\n    <tr>\n      <th>3</th>\n      <td>4</td>\n      <td>1</td>\n      <td>1</td>\n      <td>Futrelle, Mrs. Jacques Heath (Lily May Peel)</td>\n      <td>female</td>\n      <td>35.0</td>\n      <td>1</td>\n      <td>0</td>\n      <td>113803</td>\n      <td>53.1000</td>\n      <td>C123</td>\n      <td>S</td>\n    </tr>\n    <tr>\n      <th>4</th>\n      <td>5</td>\n      <td>0</td>\n      <td>3</td>\n      <td>Allen, Mr. William Henry</td>\n      <td>male</td>\n      <td>35.0</td>\n      <td>0</td>\n      <td>0</td>\n      <td>373450</td>\n      <td>8.0500</td>\n      <td>NaN</td>\n      <td>S</td>\n    </tr>\n    <tr>\n      <th>...</th>\n      <td>...</td>\n      <td>...</td>\n      <td>...</td>\n      <td>...</td>\n      <td>...</td>\n      <td>...</td>\n      <td>...</td>\n      <td>...</td>\n      <td>...</td>\n      <td>...</td>\n      <td>...</td>\n      <td>...</td>\n    </tr>\n    <tr>\n      <th>886</th>\n      <td>887</td>\n      <td>0</td>\n      <td>2</td>\n      <td>Montvila, Rev. Juozas</td>\n      <td>male</td>\n      <td>27.0</td>\n      <td>0</td>\n      <td>0</td>\n      <td>211536</td>\n      <td>13.0000</td>\n      <td>NaN</td>\n      <td>S</td>\n    </tr>\n    <tr>\n      <th>887</th>\n      <td>888</td>\n      <td>1</td>\n      <td>1</td>\n      <td>Graham, Miss. Margaret Edith</td>\n      <td>female</td>\n      <td>19.0</td>\n      <td>0</td>\n      <td>0</td>\n      <td>112053</td>\n      <td>30.0000</td>\n      <td>B42</td>\n      <td>S</td>\n    </tr>\n    <tr>\n      <th>888</th>\n      <td>889</td>\n      <td>0</td>\n      <td>3</td>\n      <td>Johnston, Miss. Catherine Helen \"Carrie\"</td>\n      <td>female</td>\n      <td>NaN</td>\n      <td>1</td>\n      <td>2</td>\n      <td>W./C. 6607</td>\n      <td>23.4500</td>\n      <td>NaN</td>\n      <td>S</td>\n    </tr>\n    <tr>\n      <th>889</th>\n      <td>890</td>\n      <td>1</td>\n      <td>1</td>\n      <td>Behr, Mr. Karl Howell</td>\n      <td>male</td>\n      <td>26.0</td>\n      <td>0</td>\n      <td>0</td>\n      <td>111369</td>\n      <td>30.0000</td>\n      <td>C148</td>\n      <td>C</td>\n    </tr>\n    <tr>\n      <th>890</th>\n      <td>891</td>\n      <td>0</td>\n      <td>3</td>\n      <td>Dooley, Mr. Patrick</td>\n      <td>male</td>\n      <td>32.0</td>\n      <td>0</td>\n      <td>0</td>\n      <td>370376</td>\n      <td>7.7500</td>\n      <td>NaN</td>\n      <td>Q</td>\n    </tr>\n  </tbody>\n</table>\n<p>891 rows × 12 columns</p>\n</div>"
     },
     "execution_count": 196,
     "metadata": {},
     "output_type": "execute_result"
    }
   ],
   "source": [
    "# Change column name\n",
    "titanic = titanic.rename(columns={\"Fare\": \"Ticket fee\", \"Sex\": \"Gender\"})\n",
    "titanic"
   ]
  },
  {
   "cell_type": "code",
   "execution_count": 197,
   "id": "c77f524c-2f6d-4d14-ae20-750805dde3e7",
   "metadata": {},
   "outputs": [
    {
     "data": {
      "text/plain": "     PassengerId  Survived  Pclass   \n79            80         1       3  \\\n157          158         0       3   \n178          179         0       2   \n213          214         0       2   \n219          220         0       2   \n244          245         0       3   \n253          254         0       3   \n257          258         1       1   \n286          287         1       3   \n308          309         0       2   \n309          310         1       1   \n322          323         1       2   \n365          366         0       3   \n418          419         0       2   \n452          453         0       1   \n488          489         0       3   \n520          521         1       1   \n534          535         0       3   \n537          538         1       1   \n606          607         0       3   \n726          727         1       2   \n747          748         1       2   \n798          799         0       3   \n799          800         0       3   \n842          843         1       1   \n\n                                                  Name  Gender   Age  SibSp   \n79                            Dowdell, Miss. Elizabeth  female  30.0      0  \\\n157                                    Corn, Mr. Harry    male  30.0      0   \n178                                 Hale, Mr. Reginald    male  30.0      0   \n213                        Givard, Mr. Hans Kristensen    male  30.0      0   \n219                                 Harris, Mr. Walter    male  30.0      0   \n244                               Attalah, Mr. Sleiman    male  30.0      0   \n253                           Lobb, Mr. William Arthur    male  30.0      1   \n257                               Cherry, Miss. Gladys  female  30.0      0   \n286                            de Mulder, Mr. Theodore    male  30.0      0   \n308                                Abelson, Mr. Samuel    male  30.0      1   \n309                     Francatelli, Miss. Laura Mabel  female  30.0      0   \n322                          Slayter, Miss. Hilda Mary  female  30.0      0   \n365                     Adahl, Mr. Mauritz Nils Martin    male  30.0      0   \n418                         Matthews, Mr. William John    male  30.0      0   \n452                    Foreman, Mr. Benjamin Laventall    male  30.0      0   \n488                      Somerton, Mr. Francis William    male  30.0      0   \n520                              Perreault, Miss. Anne  female  30.0      0   \n534                                Cacic, Miss. Marija  female  30.0      0   \n537                                LeRoy, Miss. Bertha  female  30.0      0   \n606                                  Karaic, Mr. Milan    male  30.0      0   \n726        Renouf, Mrs. Peter Henry (Lillian Jefferys)  female  30.0      3   \n747                              Sinkkonen, Miss. Anna  female  30.0      0   \n798                       Ibrahim Shawah, Mr. Yousseff    male  30.0      0   \n799  Van Impe, Mrs. Jean Baptiste (Rosalie Paula Go...  female  30.0      1   \n842                            Serepeca, Miss. Augusta  female  30.0      0   \n\n     Parch           Ticket  Ticket fee Cabin Embarked  \n79       0           364516     12.4750   NaN        S  \n157      0  SOTON/OQ 392090      8.0500   NaN        S  \n178      0           250653     13.0000   NaN        S  \n213      0           250646     13.0000   NaN        S  \n219      0        W/C 14208     10.5000   NaN        S  \n244      0             2694      7.2250   NaN        C  \n253      0        A/5. 3336     16.1000   NaN        S  \n257      0           110152     86.5000   B77        S  \n286      0           345774      9.5000   NaN        S  \n308      0        P/PP 3381     24.0000   NaN        C  \n309      0         PC 17485     56.9292   E36        C  \n322      0           234818     12.3500   NaN        Q  \n365      0           C 7076      7.2500   NaN        S  \n418      0            28228     13.0000   NaN        S  \n452      0           113051     27.7500  C111        C  \n488      0       A.5. 18509      8.0500   NaN        S  \n520      0            12749     93.5000   B73        S  \n534      0           315084      8.6625   NaN        S  \n537      0         PC 17761    106.4250   NaN        C  \n606      0           349246      7.8958   NaN        S  \n726      0            31027     21.0000   NaN        S  \n747      0           250648     13.0000   NaN        S  \n798      0             2685      7.2292   NaN        C  \n799      1           345773     24.1500   NaN        S  \n842      0           113798     31.0000   NaN        C  ",
      "text/html": "<div>\n<style scoped>\n    .dataframe tbody tr th:only-of-type {\n        vertical-align: middle;\n    }\n\n    .dataframe tbody tr th {\n        vertical-align: top;\n    }\n\n    .dataframe thead th {\n        text-align: right;\n    }\n</style>\n<table border=\"1\" class=\"dataframe\">\n  <thead>\n    <tr style=\"text-align: right;\">\n      <th></th>\n      <th>PassengerId</th>\n      <th>Survived</th>\n      <th>Pclass</th>\n      <th>Name</th>\n      <th>Gender</th>\n      <th>Age</th>\n      <th>SibSp</th>\n      <th>Parch</th>\n      <th>Ticket</th>\n      <th>Ticket fee</th>\n      <th>Cabin</th>\n      <th>Embarked</th>\n    </tr>\n  </thead>\n  <tbody>\n    <tr>\n      <th>79</th>\n      <td>80</td>\n      <td>1</td>\n      <td>3</td>\n      <td>Dowdell, Miss. Elizabeth</td>\n      <td>female</td>\n      <td>30.0</td>\n      <td>0</td>\n      <td>0</td>\n      <td>364516</td>\n      <td>12.4750</td>\n      <td>NaN</td>\n      <td>S</td>\n    </tr>\n    <tr>\n      <th>157</th>\n      <td>158</td>\n      <td>0</td>\n      <td>3</td>\n      <td>Corn, Mr. Harry</td>\n      <td>male</td>\n      <td>30.0</td>\n      <td>0</td>\n      <td>0</td>\n      <td>SOTON/OQ 392090</td>\n      <td>8.0500</td>\n      <td>NaN</td>\n      <td>S</td>\n    </tr>\n    <tr>\n      <th>178</th>\n      <td>179</td>\n      <td>0</td>\n      <td>2</td>\n      <td>Hale, Mr. Reginald</td>\n      <td>male</td>\n      <td>30.0</td>\n      <td>0</td>\n      <td>0</td>\n      <td>250653</td>\n      <td>13.0000</td>\n      <td>NaN</td>\n      <td>S</td>\n    </tr>\n    <tr>\n      <th>213</th>\n      <td>214</td>\n      <td>0</td>\n      <td>2</td>\n      <td>Givard, Mr. Hans Kristensen</td>\n      <td>male</td>\n      <td>30.0</td>\n      <td>0</td>\n      <td>0</td>\n      <td>250646</td>\n      <td>13.0000</td>\n      <td>NaN</td>\n      <td>S</td>\n    </tr>\n    <tr>\n      <th>219</th>\n      <td>220</td>\n      <td>0</td>\n      <td>2</td>\n      <td>Harris, Mr. Walter</td>\n      <td>male</td>\n      <td>30.0</td>\n      <td>0</td>\n      <td>0</td>\n      <td>W/C 14208</td>\n      <td>10.5000</td>\n      <td>NaN</td>\n      <td>S</td>\n    </tr>\n    <tr>\n      <th>244</th>\n      <td>245</td>\n      <td>0</td>\n      <td>3</td>\n      <td>Attalah, Mr. Sleiman</td>\n      <td>male</td>\n      <td>30.0</td>\n      <td>0</td>\n      <td>0</td>\n      <td>2694</td>\n      <td>7.2250</td>\n      <td>NaN</td>\n      <td>C</td>\n    </tr>\n    <tr>\n      <th>253</th>\n      <td>254</td>\n      <td>0</td>\n      <td>3</td>\n      <td>Lobb, Mr. William Arthur</td>\n      <td>male</td>\n      <td>30.0</td>\n      <td>1</td>\n      <td>0</td>\n      <td>A/5. 3336</td>\n      <td>16.1000</td>\n      <td>NaN</td>\n      <td>S</td>\n    </tr>\n    <tr>\n      <th>257</th>\n      <td>258</td>\n      <td>1</td>\n      <td>1</td>\n      <td>Cherry, Miss. Gladys</td>\n      <td>female</td>\n      <td>30.0</td>\n      <td>0</td>\n      <td>0</td>\n      <td>110152</td>\n      <td>86.5000</td>\n      <td>B77</td>\n      <td>S</td>\n    </tr>\n    <tr>\n      <th>286</th>\n      <td>287</td>\n      <td>1</td>\n      <td>3</td>\n      <td>de Mulder, Mr. Theodore</td>\n      <td>male</td>\n      <td>30.0</td>\n      <td>0</td>\n      <td>0</td>\n      <td>345774</td>\n      <td>9.5000</td>\n      <td>NaN</td>\n      <td>S</td>\n    </tr>\n    <tr>\n      <th>308</th>\n      <td>309</td>\n      <td>0</td>\n      <td>2</td>\n      <td>Abelson, Mr. Samuel</td>\n      <td>male</td>\n      <td>30.0</td>\n      <td>1</td>\n      <td>0</td>\n      <td>P/PP 3381</td>\n      <td>24.0000</td>\n      <td>NaN</td>\n      <td>C</td>\n    </tr>\n    <tr>\n      <th>309</th>\n      <td>310</td>\n      <td>1</td>\n      <td>1</td>\n      <td>Francatelli, Miss. Laura Mabel</td>\n      <td>female</td>\n      <td>30.0</td>\n      <td>0</td>\n      <td>0</td>\n      <td>PC 17485</td>\n      <td>56.9292</td>\n      <td>E36</td>\n      <td>C</td>\n    </tr>\n    <tr>\n      <th>322</th>\n      <td>323</td>\n      <td>1</td>\n      <td>2</td>\n      <td>Slayter, Miss. Hilda Mary</td>\n      <td>female</td>\n      <td>30.0</td>\n      <td>0</td>\n      <td>0</td>\n      <td>234818</td>\n      <td>12.3500</td>\n      <td>NaN</td>\n      <td>Q</td>\n    </tr>\n    <tr>\n      <th>365</th>\n      <td>366</td>\n      <td>0</td>\n      <td>3</td>\n      <td>Adahl, Mr. Mauritz Nils Martin</td>\n      <td>male</td>\n      <td>30.0</td>\n      <td>0</td>\n      <td>0</td>\n      <td>C 7076</td>\n      <td>7.2500</td>\n      <td>NaN</td>\n      <td>S</td>\n    </tr>\n    <tr>\n      <th>418</th>\n      <td>419</td>\n      <td>0</td>\n      <td>2</td>\n      <td>Matthews, Mr. William John</td>\n      <td>male</td>\n      <td>30.0</td>\n      <td>0</td>\n      <td>0</td>\n      <td>28228</td>\n      <td>13.0000</td>\n      <td>NaN</td>\n      <td>S</td>\n    </tr>\n    <tr>\n      <th>452</th>\n      <td>453</td>\n      <td>0</td>\n      <td>1</td>\n      <td>Foreman, Mr. Benjamin Laventall</td>\n      <td>male</td>\n      <td>30.0</td>\n      <td>0</td>\n      <td>0</td>\n      <td>113051</td>\n      <td>27.7500</td>\n      <td>C111</td>\n      <td>C</td>\n    </tr>\n    <tr>\n      <th>488</th>\n      <td>489</td>\n      <td>0</td>\n      <td>3</td>\n      <td>Somerton, Mr. Francis William</td>\n      <td>male</td>\n      <td>30.0</td>\n      <td>0</td>\n      <td>0</td>\n      <td>A.5. 18509</td>\n      <td>8.0500</td>\n      <td>NaN</td>\n      <td>S</td>\n    </tr>\n    <tr>\n      <th>520</th>\n      <td>521</td>\n      <td>1</td>\n      <td>1</td>\n      <td>Perreault, Miss. Anne</td>\n      <td>female</td>\n      <td>30.0</td>\n      <td>0</td>\n      <td>0</td>\n      <td>12749</td>\n      <td>93.5000</td>\n      <td>B73</td>\n      <td>S</td>\n    </tr>\n    <tr>\n      <th>534</th>\n      <td>535</td>\n      <td>0</td>\n      <td>3</td>\n      <td>Cacic, Miss. Marija</td>\n      <td>female</td>\n      <td>30.0</td>\n      <td>0</td>\n      <td>0</td>\n      <td>315084</td>\n      <td>8.6625</td>\n      <td>NaN</td>\n      <td>S</td>\n    </tr>\n    <tr>\n      <th>537</th>\n      <td>538</td>\n      <td>1</td>\n      <td>1</td>\n      <td>LeRoy, Miss. Bertha</td>\n      <td>female</td>\n      <td>30.0</td>\n      <td>0</td>\n      <td>0</td>\n      <td>PC 17761</td>\n      <td>106.4250</td>\n      <td>NaN</td>\n      <td>C</td>\n    </tr>\n    <tr>\n      <th>606</th>\n      <td>607</td>\n      <td>0</td>\n      <td>3</td>\n      <td>Karaic, Mr. Milan</td>\n      <td>male</td>\n      <td>30.0</td>\n      <td>0</td>\n      <td>0</td>\n      <td>349246</td>\n      <td>7.8958</td>\n      <td>NaN</td>\n      <td>S</td>\n    </tr>\n    <tr>\n      <th>726</th>\n      <td>727</td>\n      <td>1</td>\n      <td>2</td>\n      <td>Renouf, Mrs. Peter Henry (Lillian Jefferys)</td>\n      <td>female</td>\n      <td>30.0</td>\n      <td>3</td>\n      <td>0</td>\n      <td>31027</td>\n      <td>21.0000</td>\n      <td>NaN</td>\n      <td>S</td>\n    </tr>\n    <tr>\n      <th>747</th>\n      <td>748</td>\n      <td>1</td>\n      <td>2</td>\n      <td>Sinkkonen, Miss. Anna</td>\n      <td>female</td>\n      <td>30.0</td>\n      <td>0</td>\n      <td>0</td>\n      <td>250648</td>\n      <td>13.0000</td>\n      <td>NaN</td>\n      <td>S</td>\n    </tr>\n    <tr>\n      <th>798</th>\n      <td>799</td>\n      <td>0</td>\n      <td>3</td>\n      <td>Ibrahim Shawah, Mr. Yousseff</td>\n      <td>male</td>\n      <td>30.0</td>\n      <td>0</td>\n      <td>0</td>\n      <td>2685</td>\n      <td>7.2292</td>\n      <td>NaN</td>\n      <td>C</td>\n    </tr>\n    <tr>\n      <th>799</th>\n      <td>800</td>\n      <td>0</td>\n      <td>3</td>\n      <td>Van Impe, Mrs. Jean Baptiste (Rosalie Paula Go...</td>\n      <td>female</td>\n      <td>30.0</td>\n      <td>1</td>\n      <td>1</td>\n      <td>345773</td>\n      <td>24.1500</td>\n      <td>NaN</td>\n      <td>S</td>\n    </tr>\n    <tr>\n      <th>842</th>\n      <td>843</td>\n      <td>1</td>\n      <td>1</td>\n      <td>Serepeca, Miss. Augusta</td>\n      <td>female</td>\n      <td>30.0</td>\n      <td>0</td>\n      <td>0</td>\n      <td>113798</td>\n      <td>31.0000</td>\n      <td>NaN</td>\n      <td>C</td>\n    </tr>\n  </tbody>\n</table>\n</div>"
     },
     "execution_count": 197,
     "metadata": {},
     "output_type": "execute_result"
    }
   ],
   "source": [
    "# Reset index\n",
    "filtered_titanic = titanic[(titanic['Age'] == 30)]\n",
    "filtered_titanic"
   ]
  },
  {
   "cell_type": "code",
   "execution_count": 198,
   "id": "86cd940c-2f90-4248-8bcf-e2eea3bd697f",
   "metadata": {},
   "outputs": [
    {
     "data": {
      "text/plain": "    PassengerId  Survived  Pclass   \n0            80         1       3  \\\n1           158         0       3   \n2           179         0       2   \n3           214         0       2   \n4           220         0       2   \n5           245         0       3   \n6           254         0       3   \n7           258         1       1   \n8           287         1       3   \n9           309         0       2   \n10          310         1       1   \n11          323         1       2   \n12          366         0       3   \n13          419         0       2   \n14          453         0       1   \n15          489         0       3   \n16          521         1       1   \n17          535         0       3   \n18          538         1       1   \n19          607         0       3   \n20          727         1       2   \n21          748         1       2   \n22          799         0       3   \n23          800         0       3   \n24          843         1       1   \n\n                                                 Name  Gender   Age  SibSp   \n0                            Dowdell, Miss. Elizabeth  female  30.0      0  \\\n1                                     Corn, Mr. Harry    male  30.0      0   \n2                                  Hale, Mr. Reginald    male  30.0      0   \n3                         Givard, Mr. Hans Kristensen    male  30.0      0   \n4                                  Harris, Mr. Walter    male  30.0      0   \n5                                Attalah, Mr. Sleiman    male  30.0      0   \n6                            Lobb, Mr. William Arthur    male  30.0      1   \n7                                Cherry, Miss. Gladys  female  30.0      0   \n8                             de Mulder, Mr. Theodore    male  30.0      0   \n9                                 Abelson, Mr. Samuel    male  30.0      1   \n10                     Francatelli, Miss. Laura Mabel  female  30.0      0   \n11                          Slayter, Miss. Hilda Mary  female  30.0      0   \n12                     Adahl, Mr. Mauritz Nils Martin    male  30.0      0   \n13                         Matthews, Mr. William John    male  30.0      0   \n14                    Foreman, Mr. Benjamin Laventall    male  30.0      0   \n15                      Somerton, Mr. Francis William    male  30.0      0   \n16                              Perreault, Miss. Anne  female  30.0      0   \n17                                Cacic, Miss. Marija  female  30.0      0   \n18                                LeRoy, Miss. Bertha  female  30.0      0   \n19                                  Karaic, Mr. Milan    male  30.0      0   \n20        Renouf, Mrs. Peter Henry (Lillian Jefferys)  female  30.0      3   \n21                              Sinkkonen, Miss. Anna  female  30.0      0   \n22                       Ibrahim Shawah, Mr. Yousseff    male  30.0      0   \n23  Van Impe, Mrs. Jean Baptiste (Rosalie Paula Go...  female  30.0      1   \n24                            Serepeca, Miss. Augusta  female  30.0      0   \n\n    Parch           Ticket  Ticket fee Cabin Embarked  \n0       0           364516     12.4750   NaN        S  \n1       0  SOTON/OQ 392090      8.0500   NaN        S  \n2       0           250653     13.0000   NaN        S  \n3       0           250646     13.0000   NaN        S  \n4       0        W/C 14208     10.5000   NaN        S  \n5       0             2694      7.2250   NaN        C  \n6       0        A/5. 3336     16.1000   NaN        S  \n7       0           110152     86.5000   B77        S  \n8       0           345774      9.5000   NaN        S  \n9       0        P/PP 3381     24.0000   NaN        C  \n10      0         PC 17485     56.9292   E36        C  \n11      0           234818     12.3500   NaN        Q  \n12      0           C 7076      7.2500   NaN        S  \n13      0            28228     13.0000   NaN        S  \n14      0           113051     27.7500  C111        C  \n15      0       A.5. 18509      8.0500   NaN        S  \n16      0            12749     93.5000   B73        S  \n17      0           315084      8.6625   NaN        S  \n18      0         PC 17761    106.4250   NaN        C  \n19      0           349246      7.8958   NaN        S  \n20      0            31027     21.0000   NaN        S  \n21      0           250648     13.0000   NaN        S  \n22      0             2685      7.2292   NaN        C  \n23      1           345773     24.1500   NaN        S  \n24      0           113798     31.0000   NaN        C  ",
      "text/html": "<div>\n<style scoped>\n    .dataframe tbody tr th:only-of-type {\n        vertical-align: middle;\n    }\n\n    .dataframe tbody tr th {\n        vertical-align: top;\n    }\n\n    .dataframe thead th {\n        text-align: right;\n    }\n</style>\n<table border=\"1\" class=\"dataframe\">\n  <thead>\n    <tr style=\"text-align: right;\">\n      <th></th>\n      <th>PassengerId</th>\n      <th>Survived</th>\n      <th>Pclass</th>\n      <th>Name</th>\n      <th>Gender</th>\n      <th>Age</th>\n      <th>SibSp</th>\n      <th>Parch</th>\n      <th>Ticket</th>\n      <th>Ticket fee</th>\n      <th>Cabin</th>\n      <th>Embarked</th>\n    </tr>\n  </thead>\n  <tbody>\n    <tr>\n      <th>0</th>\n      <td>80</td>\n      <td>1</td>\n      <td>3</td>\n      <td>Dowdell, Miss. Elizabeth</td>\n      <td>female</td>\n      <td>30.0</td>\n      <td>0</td>\n      <td>0</td>\n      <td>364516</td>\n      <td>12.4750</td>\n      <td>NaN</td>\n      <td>S</td>\n    </tr>\n    <tr>\n      <th>1</th>\n      <td>158</td>\n      <td>0</td>\n      <td>3</td>\n      <td>Corn, Mr. Harry</td>\n      <td>male</td>\n      <td>30.0</td>\n      <td>0</td>\n      <td>0</td>\n      <td>SOTON/OQ 392090</td>\n      <td>8.0500</td>\n      <td>NaN</td>\n      <td>S</td>\n    </tr>\n    <tr>\n      <th>2</th>\n      <td>179</td>\n      <td>0</td>\n      <td>2</td>\n      <td>Hale, Mr. Reginald</td>\n      <td>male</td>\n      <td>30.0</td>\n      <td>0</td>\n      <td>0</td>\n      <td>250653</td>\n      <td>13.0000</td>\n      <td>NaN</td>\n      <td>S</td>\n    </tr>\n    <tr>\n      <th>3</th>\n      <td>214</td>\n      <td>0</td>\n      <td>2</td>\n      <td>Givard, Mr. Hans Kristensen</td>\n      <td>male</td>\n      <td>30.0</td>\n      <td>0</td>\n      <td>0</td>\n      <td>250646</td>\n      <td>13.0000</td>\n      <td>NaN</td>\n      <td>S</td>\n    </tr>\n    <tr>\n      <th>4</th>\n      <td>220</td>\n      <td>0</td>\n      <td>2</td>\n      <td>Harris, Mr. Walter</td>\n      <td>male</td>\n      <td>30.0</td>\n      <td>0</td>\n      <td>0</td>\n      <td>W/C 14208</td>\n      <td>10.5000</td>\n      <td>NaN</td>\n      <td>S</td>\n    </tr>\n    <tr>\n      <th>5</th>\n      <td>245</td>\n      <td>0</td>\n      <td>3</td>\n      <td>Attalah, Mr. Sleiman</td>\n      <td>male</td>\n      <td>30.0</td>\n      <td>0</td>\n      <td>0</td>\n      <td>2694</td>\n      <td>7.2250</td>\n      <td>NaN</td>\n      <td>C</td>\n    </tr>\n    <tr>\n      <th>6</th>\n      <td>254</td>\n      <td>0</td>\n      <td>3</td>\n      <td>Lobb, Mr. William Arthur</td>\n      <td>male</td>\n      <td>30.0</td>\n      <td>1</td>\n      <td>0</td>\n      <td>A/5. 3336</td>\n      <td>16.1000</td>\n      <td>NaN</td>\n      <td>S</td>\n    </tr>\n    <tr>\n      <th>7</th>\n      <td>258</td>\n      <td>1</td>\n      <td>1</td>\n      <td>Cherry, Miss. Gladys</td>\n      <td>female</td>\n      <td>30.0</td>\n      <td>0</td>\n      <td>0</td>\n      <td>110152</td>\n      <td>86.5000</td>\n      <td>B77</td>\n      <td>S</td>\n    </tr>\n    <tr>\n      <th>8</th>\n      <td>287</td>\n      <td>1</td>\n      <td>3</td>\n      <td>de Mulder, Mr. Theodore</td>\n      <td>male</td>\n      <td>30.0</td>\n      <td>0</td>\n      <td>0</td>\n      <td>345774</td>\n      <td>9.5000</td>\n      <td>NaN</td>\n      <td>S</td>\n    </tr>\n    <tr>\n      <th>9</th>\n      <td>309</td>\n      <td>0</td>\n      <td>2</td>\n      <td>Abelson, Mr. Samuel</td>\n      <td>male</td>\n      <td>30.0</td>\n      <td>1</td>\n      <td>0</td>\n      <td>P/PP 3381</td>\n      <td>24.0000</td>\n      <td>NaN</td>\n      <td>C</td>\n    </tr>\n    <tr>\n      <th>10</th>\n      <td>310</td>\n      <td>1</td>\n      <td>1</td>\n      <td>Francatelli, Miss. Laura Mabel</td>\n      <td>female</td>\n      <td>30.0</td>\n      <td>0</td>\n      <td>0</td>\n      <td>PC 17485</td>\n      <td>56.9292</td>\n      <td>E36</td>\n      <td>C</td>\n    </tr>\n    <tr>\n      <th>11</th>\n      <td>323</td>\n      <td>1</td>\n      <td>2</td>\n      <td>Slayter, Miss. Hilda Mary</td>\n      <td>female</td>\n      <td>30.0</td>\n      <td>0</td>\n      <td>0</td>\n      <td>234818</td>\n      <td>12.3500</td>\n      <td>NaN</td>\n      <td>Q</td>\n    </tr>\n    <tr>\n      <th>12</th>\n      <td>366</td>\n      <td>0</td>\n      <td>3</td>\n      <td>Adahl, Mr. Mauritz Nils Martin</td>\n      <td>male</td>\n      <td>30.0</td>\n      <td>0</td>\n      <td>0</td>\n      <td>C 7076</td>\n      <td>7.2500</td>\n      <td>NaN</td>\n      <td>S</td>\n    </tr>\n    <tr>\n      <th>13</th>\n      <td>419</td>\n      <td>0</td>\n      <td>2</td>\n      <td>Matthews, Mr. William John</td>\n      <td>male</td>\n      <td>30.0</td>\n      <td>0</td>\n      <td>0</td>\n      <td>28228</td>\n      <td>13.0000</td>\n      <td>NaN</td>\n      <td>S</td>\n    </tr>\n    <tr>\n      <th>14</th>\n      <td>453</td>\n      <td>0</td>\n      <td>1</td>\n      <td>Foreman, Mr. Benjamin Laventall</td>\n      <td>male</td>\n      <td>30.0</td>\n      <td>0</td>\n      <td>0</td>\n      <td>113051</td>\n      <td>27.7500</td>\n      <td>C111</td>\n      <td>C</td>\n    </tr>\n    <tr>\n      <th>15</th>\n      <td>489</td>\n      <td>0</td>\n      <td>3</td>\n      <td>Somerton, Mr. Francis William</td>\n      <td>male</td>\n      <td>30.0</td>\n      <td>0</td>\n      <td>0</td>\n      <td>A.5. 18509</td>\n      <td>8.0500</td>\n      <td>NaN</td>\n      <td>S</td>\n    </tr>\n    <tr>\n      <th>16</th>\n      <td>521</td>\n      <td>1</td>\n      <td>1</td>\n      <td>Perreault, Miss. Anne</td>\n      <td>female</td>\n      <td>30.0</td>\n      <td>0</td>\n      <td>0</td>\n      <td>12749</td>\n      <td>93.5000</td>\n      <td>B73</td>\n      <td>S</td>\n    </tr>\n    <tr>\n      <th>17</th>\n      <td>535</td>\n      <td>0</td>\n      <td>3</td>\n      <td>Cacic, Miss. Marija</td>\n      <td>female</td>\n      <td>30.0</td>\n      <td>0</td>\n      <td>0</td>\n      <td>315084</td>\n      <td>8.6625</td>\n      <td>NaN</td>\n      <td>S</td>\n    </tr>\n    <tr>\n      <th>18</th>\n      <td>538</td>\n      <td>1</td>\n      <td>1</td>\n      <td>LeRoy, Miss. Bertha</td>\n      <td>female</td>\n      <td>30.0</td>\n      <td>0</td>\n      <td>0</td>\n      <td>PC 17761</td>\n      <td>106.4250</td>\n      <td>NaN</td>\n      <td>C</td>\n    </tr>\n    <tr>\n      <th>19</th>\n      <td>607</td>\n      <td>0</td>\n      <td>3</td>\n      <td>Karaic, Mr. Milan</td>\n      <td>male</td>\n      <td>30.0</td>\n      <td>0</td>\n      <td>0</td>\n      <td>349246</td>\n      <td>7.8958</td>\n      <td>NaN</td>\n      <td>S</td>\n    </tr>\n    <tr>\n      <th>20</th>\n      <td>727</td>\n      <td>1</td>\n      <td>2</td>\n      <td>Renouf, Mrs. Peter Henry (Lillian Jefferys)</td>\n      <td>female</td>\n      <td>30.0</td>\n      <td>3</td>\n      <td>0</td>\n      <td>31027</td>\n      <td>21.0000</td>\n      <td>NaN</td>\n      <td>S</td>\n    </tr>\n    <tr>\n      <th>21</th>\n      <td>748</td>\n      <td>1</td>\n      <td>2</td>\n      <td>Sinkkonen, Miss. Anna</td>\n      <td>female</td>\n      <td>30.0</td>\n      <td>0</td>\n      <td>0</td>\n      <td>250648</td>\n      <td>13.0000</td>\n      <td>NaN</td>\n      <td>S</td>\n    </tr>\n    <tr>\n      <th>22</th>\n      <td>799</td>\n      <td>0</td>\n      <td>3</td>\n      <td>Ibrahim Shawah, Mr. Yousseff</td>\n      <td>male</td>\n      <td>30.0</td>\n      <td>0</td>\n      <td>0</td>\n      <td>2685</td>\n      <td>7.2292</td>\n      <td>NaN</td>\n      <td>C</td>\n    </tr>\n    <tr>\n      <th>23</th>\n      <td>800</td>\n      <td>0</td>\n      <td>3</td>\n      <td>Van Impe, Mrs. Jean Baptiste (Rosalie Paula Go...</td>\n      <td>female</td>\n      <td>30.0</td>\n      <td>1</td>\n      <td>1</td>\n      <td>345773</td>\n      <td>24.1500</td>\n      <td>NaN</td>\n      <td>S</td>\n    </tr>\n    <tr>\n      <th>24</th>\n      <td>843</td>\n      <td>1</td>\n      <td>1</td>\n      <td>Serepeca, Miss. Augusta</td>\n      <td>female</td>\n      <td>30.0</td>\n      <td>0</td>\n      <td>0</td>\n      <td>113798</td>\n      <td>31.0000</td>\n      <td>NaN</td>\n      <td>C</td>\n    </tr>\n  </tbody>\n</table>\n</div>"
     },
     "execution_count": 198,
     "metadata": {},
     "output_type": "execute_result"
    }
   ],
   "source": [
    "filtered_titanic = titanic[(titanic['Age'] == 30)].reset_index(drop=True) # drop=True\n",
    "filtered_titanic"
   ]
  },
  {
   "cell_type": "code",
   "execution_count": 199,
   "id": "fb82a787-e1bb-45fa-8c3d-93af9e466036",
   "metadata": {},
   "outputs": [
    {
     "data": {
      "text/plain": "   age  gender          hobby\n3   18  female  skateboarding\n0   23    male     travelling\n2   35    male        writing",
      "text/html": "<div>\n<style scoped>\n    .dataframe tbody tr th:only-of-type {\n        vertical-align: middle;\n    }\n\n    .dataframe tbody tr th {\n        vertical-align: top;\n    }\n\n    .dataframe thead th {\n        text-align: right;\n    }\n</style>\n<table border=\"1\" class=\"dataframe\">\n  <thead>\n    <tr style=\"text-align: right;\">\n      <th></th>\n      <th>age</th>\n      <th>gender</th>\n      <th>hobby</th>\n    </tr>\n  </thead>\n  <tbody>\n    <tr>\n      <th>3</th>\n      <td>18</td>\n      <td>female</td>\n      <td>skateboarding</td>\n    </tr>\n    <tr>\n      <th>0</th>\n      <td>23</td>\n      <td>male</td>\n      <td>travelling</td>\n    </tr>\n    <tr>\n      <th>2</th>\n      <td>35</td>\n      <td>male</td>\n      <td>writing</td>\n    </tr>\n  </tbody>\n</table>\n</div>"
     },
     "execution_count": 199,
     "metadata": {},
     "output_type": "execute_result"
    }
   ],
   "source": [
    "users.sort_values('age', inplace=True)\n",
    "users"
   ]
  },
  {
   "cell_type": "code",
   "execution_count": 200,
   "id": "36e255a2-8545-46ff-a01a-b272f1ba1028",
   "metadata": {},
   "outputs": [
    {
     "data": {
      "text/plain": "<Figure size 900x500 with 1 Axes>",
      "image/png": "[encoded data removed]"
     },
     "metadata": {},
     "output_type": "display_data"
    }
   ],
   "source": [
    "users['age'].plot();"
   ]
  },
  {
   "cell_type": "code",
   "execution_count": 201,
   "id": "ff6f8de7-e738-457a-95f4-0245bd26d4de",
   "metadata": {},
   "outputs": [
    {
     "data": {
      "text/plain": "   index  age  gender          hobby\n0      3   18  female  skateboarding\n1      0   23    male     travelling\n2      2   35    male        writing",
      "text/html": "<div>\n<style scoped>\n    .dataframe tbody tr th:only-of-type {\n        vertical-align: middle;\n    }\n\n    .dataframe tbody tr th {\n        vertical-align: top;\n    }\n\n    .dataframe thead th {\n        text-align: right;\n    }\n</style>\n<table border=\"1\" class=\"dataframe\">\n  <thead>\n    <tr style=\"text-align: right;\">\n      <th></th>\n      <th>index</th>\n      <th>age</th>\n      <th>gender</th>\n      <th>hobby</th>\n    </tr>\n  </thead>\n  <tbody>\n    <tr>\n      <th>0</th>\n      <td>3</td>\n      <td>18</td>\n      <td>female</td>\n      <td>skateboarding</td>\n    </tr>\n    <tr>\n      <th>1</th>\n      <td>0</td>\n      <td>23</td>\n      <td>male</td>\n      <td>travelling</td>\n    </tr>\n    <tr>\n      <th>2</th>\n      <td>2</td>\n      <td>35</td>\n      <td>male</td>\n      <td>writing</td>\n    </tr>\n  </tbody>\n</table>\n</div>"
     },
     "execution_count": 201,
     "metadata": {},
     "output_type": "execute_result"
    }
   ],
   "source": [
    "users.reset_index(inplace=True)\n",
    "users"
   ]
  },
  {
   "cell_type": "code",
   "execution_count": 202,
   "id": "38ac6fa0-3eb0-4364-8e46-715ae13ff8a7",
   "metadata": {},
   "outputs": [
    {
     "data": {
      "text/plain": "<Figure size 900x500 with 1 Axes>",
      "image/png": "[encoded data removed]"
     },
     "metadata": {},
     "output_type": "display_data"
    }
   ],
   "source": [
    "users['age'].plot();"
   ]
  },
  {
   "cell_type": "code",
   "execution_count": 203,
   "id": "93be98af-b924-4f24-a468-d3f48607254c",
   "metadata": {},
   "outputs": [
    {
     "data": {
      "text/plain": "     PassengerId  Survived  Pclass                                Name   \n258          259         1       1                    Ward, Miss. Anna  \\\n737          738         1       1              Lesurer, Mr. Gustave J   \n679          680         1       1  Cardeza, Mr. Thomas Drake Martinez   \n88            89         1       1          Fortune, Miss. Mabel Helen   \n27            28         0       1      Fortune, Mr. Charles Alexander   \n..           ...       ...     ...                                 ...   \n633          634         0       1       Parr, Mr. William Henry Marsh   \n413          414         0       2      Cunningham, Mr. Alfred Fleming   \n822          823         0       1     Reuchlin, Jonkheer. John George   \n732          733         0       2                Knight, Mr. Robert J   \n674          675         0       2          Watson, Mr. Ennis Hastings   \n\n     Gender   Age  SibSp  Parch    Ticket  Ticket fee        Cabin Embarked  \n258  female  35.0      0      0  PC 17755    512.3292          NaN        C  \n737    male  35.0      0      0  PC 17755    512.3292         B101        C  \n679    male  36.0      0      1  PC 17755    512.3292  B51 B53 B55        C  \n88   female  23.0      3      2     19950    263.0000  C23 C25 C27        S  \n27     male  19.0      3      2     19950    263.0000  C23 C25 C27        S  \n..      ...   ...    ...    ...       ...         ...          ...      ...  \n633    male   NaN      0      0    112052      0.0000          NaN        S  \n413    male   NaN      0      0    239853      0.0000          NaN        S  \n822    male  38.0      0      0     19972      0.0000          NaN        S  \n732    male   NaN      0      0    239855      0.0000          NaN        S  \n674    male   NaN      0      0    239856      0.0000          NaN        S  \n\n[891 rows x 12 columns]",
      "text/html": "<div>\n<style scoped>\n    .dataframe tbody tr th:only-of-type {\n        vertical-align: middle;\n    }\n\n    .dataframe tbody tr th {\n        vertical-align: top;\n    }\n\n    .dataframe thead th {\n        text-align: right;\n    }\n</style>\n<table border=\"1\" class=\"dataframe\">\n  <thead>\n    <tr style=\"text-align: right;\">\n      <th></th>\n      <th>PassengerId</th>\n      <th>Survived</th>\n      <th>Pclass</th>\n      <th>Name</th>\n      <th>Gender</th>\n      <th>Age</th>\n      <th>SibSp</th>\n      <th>Parch</th>\n      <th>Ticket</th>\n      <th>Ticket fee</th>\n      <th>Cabin</th>\n      <th>Embarked</th>\n    </tr>\n  </thead>\n  <tbody>\n    <tr>\n      <th>258</th>\n      <td>259</td>\n      <td>1</td>\n      <td>1</td>\n      <td>Ward, Miss. Anna</td>\n      <td>female</td>\n      <td>35.0</td>\n      <td>0</td>\n      <td>0</td>\n      <td>PC 17755</td>\n      <td>512.3292</td>\n      <td>NaN</td>\n      <td>C</td>\n    </tr>\n    <tr>\n      <th>737</th>\n      <td>738</td>\n      <td>1</td>\n      <td>1</td>\n      <td>Lesurer, Mr. Gustave J</td>\n      <td>male</td>\n      <td>35.0</td>\n      <td>0</td>\n      <td>0</td>\n      <td>PC 17755</td>\n      <td>512.3292</td>\n      <td>B101</td>\n      <td>C</td>\n    </tr>\n    <tr>\n      <th>679</th>\n      <td>680</td>\n      <td>1</td>\n      <td>1</td>\n      <td>Cardeza, Mr. Thomas Drake Martinez</td>\n      <td>male</td>\n      <td>36.0</td>\n      <td>0</td>\n      <td>1</td>\n      <td>PC 17755</td>\n      <td>512.3292</td>\n      <td>B51 B53 B55</td>\n      <td>C</td>\n    </tr>\n    <tr>\n      <th>88</th>\n      <td>89</td>\n      <td>1</td>\n      <td>1</td>\n      <td>Fortune, Miss. Mabel Helen</td>\n      <td>female</td>\n      <td>23.0</td>\n      <td>3</td>\n      <td>2</td>\n      <td>19950</td>\n      <td>263.0000</td>\n      <td>C23 C25 C27</td>\n      <td>S</td>\n    </tr>\n    <tr>\n      <th>27</th>\n      <td>28</td>\n      <td>0</td>\n      <td>1</td>\n      <td>Fortune, Mr. Charles Alexander</td>\n      <td>male</td>\n      <td>19.0</td>\n      <td>3</td>\n      <td>2</td>\n      <td>19950</td>\n      <td>263.0000</td>\n      <td>C23 C25 C27</td>\n      <td>S</td>\n    </tr>\n    <tr>\n      <th>...</th>\n      <td>...</td>\n      <td>...</td>\n      <td>...</td>\n      <td>...</td>\n      <td>...</td>\n      <td>...</td>\n      <td>...</td>\n      <td>...</td>\n      <td>...</td>\n      <td>...</td>\n      <td>...</td>\n      <td>...</td>\n    </tr>\n    <tr>\n      <th>633</th>\n      <td>634</td>\n      <td>0</td>\n      <td>1</td>\n      <td>Parr, Mr. William Henry Marsh</td>\n      <td>male</td>\n      <td>NaN</td>\n      <td>0</td>\n      <td>0</td>\n      <td>112052</td>\n      <td>0.0000</td>\n      <td>NaN</td>\n      <td>S</td>\n    </tr>\n    <tr>\n      <th>413</th>\n      <td>414</td>\n      <td>0</td>\n      <td>2</td>\n      <td>Cunningham, Mr. Alfred Fleming</td>\n      <td>male</td>\n      <td>NaN</td>\n      <td>0</td>\n      <td>0</td>\n      <td>239853</td>\n      <td>0.0000</td>\n      <td>NaN</td>\n      <td>S</td>\n    </tr>\n    <tr>\n      <th>822</th>\n      <td>823</td>\n      <td>0</td>\n      <td>1</td>\n      <td>Reuchlin, Jonkheer. John George</td>\n      <td>male</td>\n      <td>38.0</td>\n      <td>0</td>\n      <td>0</td>\n      <td>19972</td>\n      <td>0.0000</td>\n      <td>NaN</td>\n      <td>S</td>\n    </tr>\n    <tr>\n      <th>732</th>\n      <td>733</td>\n      <td>0</td>\n      <td>2</td>\n      <td>Knight, Mr. Robert J</td>\n      <td>male</td>\n      <td>NaN</td>\n      <td>0</td>\n      <td>0</td>\n      <td>239855</td>\n      <td>0.0000</td>\n      <td>NaN</td>\n      <td>S</td>\n    </tr>\n    <tr>\n      <th>674</th>\n      <td>675</td>\n      <td>0</td>\n      <td>2</td>\n      <td>Watson, Mr. Ennis Hastings</td>\n      <td>male</td>\n      <td>NaN</td>\n      <td>0</td>\n      <td>0</td>\n      <td>239856</td>\n      <td>0.0000</td>\n      <td>NaN</td>\n      <td>S</td>\n    </tr>\n  </tbody>\n</table>\n<p>891 rows × 12 columns</p>\n</div>"
     },
     "execution_count": 203,
     "metadata": {},
     "output_type": "execute_result"
    }
   ],
   "source": [
    "# Sorting values\n",
    "titanic.sort_values(by='Ticket fee', ascending=False)"
   ]
  },
  {
   "cell_type": "markdown",
   "id": "d4483a06-b949-4d12-ae46-c3fd4200e36f",
   "metadata": {},
   "source": [
    "# Adding new data -- concatenate and merge"
   ]
  },
  {
   "cell_type": "code",
   "execution_count": 204,
   "id": "ce5ebd70-f468-4f06-8e82-80e94a590868",
   "metadata": {},
   "outputs": [
    {
     "data": {
      "text/plain": "   PassengerId  Survived  Pclass   \n0            1         0       3  \\\n1            2         1       1   \n2            3         1       3   \n3            4         1       1   \n4            5         0       3   \n\n                                                Name     Sex   Age  SibSp   \n0                            Braund, Mr. Owen Harris    male  22.0      1  \\\n1  Cumings, Mrs. John Bradley (Florence Briggs Th...  female  38.0      1   \n2                             Heikkinen, Miss. Laina  female  26.0      0   \n3       Futrelle, Mrs. Jacques Heath (Lily May Peel)  female  35.0      1   \n4                           Allen, Mr. William Henry    male  35.0      0   \n\n   Parch            Ticket     Fare Cabin Embarked  \n0      0         A/5 21171   7.2500   NaN        S  \n1      0          PC 17599  71.2833   C85        C  \n2      0  STON/O2. 3101282   7.9250   NaN        S  \n3      0            113803  53.1000  C123        S  \n4      0            373450   8.0500   NaN        S  ",
      "text/html": "<div>\n<style scoped>\n    .dataframe tbody tr th:only-of-type {\n        vertical-align: middle;\n    }\n\n    .dataframe tbody tr th {\n        vertical-align: top;\n    }\n\n    .dataframe thead th {\n        text-align: right;\n    }\n</style>\n<table border=\"1\" class=\"dataframe\">\n  <thead>\n    <tr style=\"text-align: right;\">\n      <th></th>\n      <th>PassengerId</th>\n      <th>Survived</th>\n      <th>Pclass</th>\n      <th>Name</th>\n      <th>Sex</th>\n      <th>Age</th>\n      <th>SibSp</th>\n      <th>Parch</th>\n      <th>Ticket</th>\n      <th>Fare</th>\n      <th>Cabin</th>\n      <th>Embarked</th>\n    </tr>\n  </thead>\n  <tbody>\n    <tr>\n      <th>0</th>\n      <td>1</td>\n      <td>0</td>\n      <td>3</td>\n      <td>Braund, Mr. Owen Harris</td>\n      <td>male</td>\n      <td>22.0</td>\n      <td>1</td>\n      <td>0</td>\n      <td>A/5 21171</td>\n      <td>7.2500</td>\n      <td>NaN</td>\n      <td>S</td>\n    </tr>\n    <tr>\n      <th>1</th>\n      <td>2</td>\n      <td>1</td>\n      <td>1</td>\n      <td>Cumings, Mrs. John Bradley (Florence Briggs Th...</td>\n      <td>female</td>\n      <td>38.0</td>\n      <td>1</td>\n      <td>0</td>\n      <td>PC 17599</td>\n      <td>71.2833</td>\n      <td>C85</td>\n      <td>C</td>\n    </tr>\n    <tr>\n      <th>2</th>\n      <td>3</td>\n      <td>1</td>\n      <td>3</td>\n      <td>Heikkinen, Miss. Laina</td>\n      <td>female</td>\n      <td>26.0</td>\n      <td>0</td>\n      <td>0</td>\n      <td>STON/O2. 3101282</td>\n      <td>7.9250</td>\n      <td>NaN</td>\n      <td>S</td>\n    </tr>\n    <tr>\n      <th>3</th>\n      <td>4</td>\n      <td>1</td>\n      <td>1</td>\n      <td>Futrelle, Mrs. Jacques Heath (Lily May Peel)</td>\n      <td>female</td>\n      <td>35.0</td>\n      <td>1</td>\n      <td>0</td>\n      <td>113803</td>\n      <td>53.1000</td>\n      <td>C123</td>\n      <td>S</td>\n    </tr>\n    <tr>\n      <th>4</th>\n      <td>5</td>\n      <td>0</td>\n      <td>3</td>\n      <td>Allen, Mr. William Henry</td>\n      <td>male</td>\n      <td>35.0</td>\n      <td>0</td>\n      <td>0</td>\n      <td>373450</td>\n      <td>8.0500</td>\n      <td>NaN</td>\n      <td>S</td>\n    </tr>\n  </tbody>\n</table>\n</div>"
     },
     "execution_count": 204,
     "metadata": {},
     "output_type": "execute_result"
    }
   ],
   "source": [
    "# Load titanic.csv into variable\n",
    "titanic = pd.read_csv(os.path.join(data_dir,'titanic.csv'))\n",
    "titanic.head(5)"
   ]
  },
  {
   "cell_type": "code",
   "execution_count": 205,
   "id": "7164b9af-c164-4d4a-a8cb-2469092243ff",
   "metadata": {},
   "outputs": [
    {
     "data": {
      "text/plain": "  PassengerId  Survived  Pclass                       Name     Sex  Age   \n0         NaN         1       1  Miss. Rose Dewitt Bukater  female   17  \\\n1         NaN         0       3            Mr. Jack Dawson    male   20   \n\n   SibSp  Parch Ticket     Fare Cabin Embarked  \n0      2      0    NaN  49.5042   NaN      NaN  \n1      0      0    NaN  19.2583   NaN      NaN  ",
      "text/html": "<div>\n<style scoped>\n    .dataframe tbody tr th:only-of-type {\n        vertical-align: middle;\n    }\n\n    .dataframe tbody tr th {\n        vertical-align: top;\n    }\n\n    .dataframe thead th {\n        text-align: right;\n    }\n</style>\n<table border=\"1\" class=\"dataframe\">\n  <thead>\n    <tr style=\"text-align: right;\">\n      <th></th>\n      <th>PassengerId</th>\n      <th>Survived</th>\n      <th>Pclass</th>\n      <th>Name</th>\n      <th>Sex</th>\n      <th>Age</th>\n      <th>SibSp</th>\n      <th>Parch</th>\n      <th>Ticket</th>\n      <th>Fare</th>\n      <th>Cabin</th>\n      <th>Embarked</th>\n    </tr>\n  </thead>\n  <tbody>\n    <tr>\n      <th>0</th>\n      <td>NaN</td>\n      <td>1</td>\n      <td>1</td>\n      <td>Miss. Rose Dewitt Bukater</td>\n      <td>female</td>\n      <td>17</td>\n      <td>2</td>\n      <td>0</td>\n      <td>NaN</td>\n      <td>49.5042</td>\n      <td>NaN</td>\n      <td>NaN</td>\n    </tr>\n    <tr>\n      <th>1</th>\n      <td>NaN</td>\n      <td>0</td>\n      <td>3</td>\n      <td>Mr. Jack Dawson</td>\n      <td>male</td>\n      <td>20</td>\n      <td>0</td>\n      <td>0</td>\n      <td>NaN</td>\n      <td>19.2583</td>\n      <td>NaN</td>\n      <td>NaN</td>\n    </tr>\n  </tbody>\n</table>\n</div>"
     },
     "execution_count": 205,
     "metadata": {},
     "output_type": "execute_result"
    }
   ],
   "source": [
    "# Concat\n",
    "data_to_add = {'Survived': [1,0], \n",
    "               'Pclass': [1, 3], \n",
    "               'Name': [\"Miss. Rose Dewitt Bukater\",\"Mr. Jack Dawson\"], \n",
    "               'Sex': [\"female\",\"male\"], \n",
    "               'Age': [17,20], \n",
    "               'SibSp': [2,0], \n",
    "               'Parch': [0,0], \n",
    "               'Fare': [49.5042,19.2583]}\n",
    "addenum = pd.DataFrame(columns=titanic.columns, data=data_to_add)\n",
    "addenum"
   ]
  },
  {
   "cell_type": "code",
   "execution_count": null,
   "id": "e4b24d89-471a-4d4c-ba7a-f7b6e9dfa555",
   "metadata": {},
   "outputs": [],
   "source": [
    "# Concatenate pandas objects along a particular axis.\n",
    "pd.concat([titanic,addenum])"
   ]
  },
  {
   "cell_type": "code",
   "execution_count": null,
   "id": "4879495a-9309-4949-9c79-7f7721b3cc90",
   "metadata": {},
   "outputs": [],
   "source": [
    "# Merge DataFrame or named Series objects with a database-style join.\n",
    "data_to_add = {'Pclass': [1, 2, 3], 'Total cabin amount': [371, 105, 84]}\n",
    "extra_info = pd.DataFrame(columns=['Pclass','Total cabin amount'], data=data_to_add)\n",
    "extra_info"
   ]
  },
  {
   "cell_type": "code",
   "execution_count": null,
   "id": "499cde04-2c39-4d5e-9dba-e70cfa9a427b",
   "metadata": {},
   "outputs": [],
   "source": [
    "titanic.merge(extra_info, how='left', on='Pclass')"
   ]
  },
  {
   "cell_type": "markdown",
   "id": "5adf55bd-641b-4937-ab4a-e63541aec3c2",
   "metadata": {},
   "source": [
    "&emsp;\n",
    "\n",
    "&emsp;\n",
    "\n",
    "# Exercise\n",
    "\n",
    "This notebook is a part of the [Zero to Data Science Bootcamp by Jovian](https://zerotodatascience.com)\n",
    "\n",
    "![](https://i.imgur.com/xX4uUFZ.png)\n",
    "\n",
    "In this notebook, we'll analyze the StackOverflow Developer Survey 2020 dataset. The dataset contains responses to an annual survey conducted by StackOverflow. "
   ]
  },
  {
   "cell_type": "markdown",
   "id": "37cae08d-caea-41f4-a8a1-ea64e9e4d8bb",
   "metadata": {
    "papermill": {
     "duration": 0.101901,
     "end_time": "2021-06-03T17:04:21.307286",
     "exception": false,
     "start_time": "2021-06-03T17:04:21.205385",
     "status": "completed"
    },
    "tags": []
   },
   "source": [
    "It seems like the dataset contains three files:\n",
    "\n",
    "- `README.txt` - Information about the dataset\n",
    "- `survey_results_schema.csv` - The list of questions, and shortcodes for each question\n",
    "- `survey_results_public.csv` - The full list of responses to the questions \n",
    "\n",
    "Let's load the CSV files using the Pandas library. We'll use the name `survey_raw_df` for the data frame to indicate this is unprocessed data that we might clean, filter, and modify to prepare a data frame ready for analysis."
   ]
  },
  {
   "cell_type": "code",
   "execution_count": null,
   "id": "031a6f83-ea87-4d6c-9823-13dd39cc293b",
   "metadata": {},
   "outputs": [],
   "source": [
    "data_dir = 'data_files/developer_survey_2020'"
   ]
  },
  {
   "cell_type": "code",
   "execution_count": null,
   "id": "853a6081-a62b-46e5-95ae-43afc6db702d",
   "metadata": {},
   "outputs": [],
   "source": [
    "os.listdir(data_dir)"
   ]
  },
  {
   "cell_type": "code",
   "execution_count": null,
   "id": "fc201cfa-a4c6-4f5f-b46a-c4f4d52c4c23",
   "metadata": {
    "papermill": {
     "duration": 3.300059,
     "end_time": "2021-06-03T17:04:24.920425",
     "exception": false,
     "start_time": "2021-06-03T17:04:21.620366",
     "status": "completed"
    },
    "tags": []
   },
   "outputs": [],
   "source": [
    "survey_raw_df = pd.read_csv(os.path.join(data_dir,'survey_results_public.csv'))"
   ]
  },
  {
   "cell_type": "code",
   "execution_count": null,
   "id": "2e2e030d-eb27-427f-82aa-0c0533787011",
   "metadata": {
    "papermill": {
     "duration": 0.212333,
     "end_time": "2021-06-03T17:04:25.232546",
     "exception": false,
     "start_time": "2021-06-03T17:04:25.020213",
     "status": "completed"
    },
    "tags": []
   },
   "outputs": [],
   "source": [
    "survey_raw_df.head(5)"
   ]
  },
  {
   "cell_type": "markdown",
   "id": "52941894-f914-4b0b-9891-6b3f6a07a7ef",
   "metadata": {
    "papermill": {
     "duration": 0.093715,
     "end_time": "2021-06-03T17:04:25.418716",
     "exception": false,
     "start_time": "2021-06-03T17:04:25.325001",
     "status": "completed"
    },
    "tags": []
   },
   "source": [
    "The dataset contains over 64,000 responses to 60 questions (although many questions are optional). The responses have been anonymized to remove personally identifiable information, and each respondent has been assigned a randomized respondent ID.\n",
    "\n",
    "Let's view the list of columns in the data frame. "
   ]
  },
  {
   "cell_type": "code",
   "execution_count": null,
   "id": "6fb70a48-db83-425d-a45c-c5e5e3d6a52f",
   "metadata": {
    "papermill": {
     "duration": 0.105687,
     "end_time": "2021-06-03T17:04:25.621993",
     "exception": false,
     "start_time": "2021-06-03T17:04:25.516306",
     "status": "completed"
    },
    "tags": []
   },
   "outputs": [],
   "source": [
    "survey_raw_df.columns"
   ]
  },
  {
   "cell_type": "markdown",
   "id": "164b23ff-69b8-4580-a416-a34621e8d9e0",
   "metadata": {
    "papermill": {
     "duration": 0.091972,
     "end_time": "2021-06-03T17:04:25.809050",
     "exception": false,
     "start_time": "2021-06-03T17:04:25.717078",
     "status": "completed"
    },
    "tags": []
   },
   "source": [
    "It appears that shortcodes for questions have been used as column names. \n",
    "\n",
    "We can refer to the schema file to see the full text of each question. The schema file contains only two columns: `Column` and `QuestionText`. We can load it as Pandas Series with `Column` as the index and the  `QuestionText` as the value."
   ]
  },
  {
   "cell_type": "code",
   "execution_count": null,
   "id": "d38a914d-81aa-4cad-ad39-6774d31661dc",
   "metadata": {
    "papermill": {
     "duration": 0.117698,
     "end_time": "2021-06-03T17:04:26.017771",
     "exception": false,
     "start_time": "2021-06-03T17:04:25.900073",
     "status": "completed"
    },
    "tags": []
   },
   "outputs": [],
   "source": [
    "schema_fname = data_dir + '/survey_results_schema.csv'\n",
    "schema_df = pd.read_csv(schema_fname, index_col='Column')\n",
    "# .loc['Respondent']\n",
    "schema_df"
   ]
  },
  {
   "cell_type": "code",
   "execution_count": null,
   "id": "5ae09e88-7622-4791-9780-0305d2eded9a",
   "metadata": {},
   "outputs": [],
   "source": [
    "schema_df.loc['Respondent']"
   ]
  },
  {
   "cell_type": "markdown",
   "id": "e4550d22-b39d-4bca-b6b8-f91746863bea",
   "metadata": {
    "papermill": {
     "duration": 0.094252,
     "end_time": "2021-06-03T17:04:26.207762",
     "exception": false,
     "start_time": "2021-06-03T17:04:26.113510",
     "status": "completed"
    },
    "tags": []
   },
   "source": [
    "Since `schema_df` contains just one column, let's retrieve the column as a Pandas series."
   ]
  },
  {
   "cell_type": "code",
   "execution_count": null,
   "id": "cbf84e6b-2c36-476e-92d1-781929adab32",
   "metadata": {
    "papermill": {
     "duration": 0.103319,
     "end_time": "2021-06-03T17:04:26.405568",
     "exception": false,
     "start_time": "2021-06-03T17:04:26.302249",
     "status": "completed"
    },
    "tags": []
   },
   "outputs": [],
   "source": [
    "schema_raw = schema_df.QuestionText\n",
    "schema_raw"
   ]
  },
  {
   "cell_type": "markdown",
   "id": "0af21b4a-a3d1-4b04-a0ef-b4e14bae411a",
   "metadata": {},
   "source": [
    "We can now use `schema_raw` to retrieve the full question text for any column in `survey_raw_df`."
   ]
  },
  {
   "cell_type": "code",
   "execution_count": null,
   "id": "65af29bb-60da-4072-8147-f8bcbfbb68b7",
   "metadata": {
    "papermill": {
     "duration": 0.106407,
     "end_time": "2021-06-03T17:04:26.996837",
     "exception": false,
     "start_time": "2021-06-03T17:04:26.890430",
     "status": "completed"
    },
    "tags": []
   },
   "outputs": [],
   "source": [
    "schema_raw['YearsCodePro'] # 'ConvertedComp' 'WorkWeekHrs'"
   ]
  },
  {
   "cell_type": "markdown",
   "id": "078b61da-3163-461a-953f-8d3d1bbbe547",
   "metadata": {
    "papermill": {
     "duration": 0.10787,
     "end_time": "2021-06-03T17:04:27.822793",
     "exception": false,
     "start_time": "2021-06-03T17:04:27.714923",
     "status": "completed"
    },
    "tags": []
   },
   "source": [
    "&nbsp;\n",
    "\n",
    "## Data Preprocessing & Cleaning with Pandas\n",
    "\n",
    "While the survey responses contain a wealth of information, we'll limit our analysis to the following areas:\n",
    "\n",
    "- Demographics of the survey respondents and the global programming community\n",
    "- Distribution of programming skills, experience, and preferences\n",
    "- Employment-related information, preferences, and opinions\n",
    "\n",
    "Let's select a subset of columns with the relevant data for our analysis."
   ]
  },
  {
   "cell_type": "code",
   "execution_count": null,
   "id": "c94b7367-a209-4921-81df-c69882c3d12d",
   "metadata": {
    "papermill": {
     "duration": 0.128551,
     "end_time": "2021-06-03T17:04:28.056672",
     "exception": false,
     "start_time": "2021-06-03T17:04:27.928121",
     "status": "completed"
    },
    "tags": []
   },
   "outputs": [],
   "source": [
    "selected_columns = [\n",
    "    # Demographics\n",
    "    'Country',\n",
    "    'Age',\n",
    "    'Gender',\n",
    "    'EdLevel',\n",
    "    'UndergradMajor',\n",
    "    # Programming experience\n",
    "    'Hobbyist',\n",
    "    'Age1stCode',\n",
    "    'YearsCode',\n",
    "    'YearsCodePro',\n",
    "    'LanguageWorkedWith',\n",
    "    'LanguageDesireNextYear',\n",
    "    'NEWLearn',\n",
    "    'NEWStuck',\n",
    "    # Employment\n",
    "    'Employment',\n",
    "    'DevType',\n",
    "    'WorkWeekHrs',\n",
    "    'JobSat',\n",
    "    'JobFactors',\n",
    "    'NEWOvertime',\n",
    "    'NEWEdImpt',\n",
    "    'ConvertedComp' # extra\n",
    "]"
   ]
  },
  {
   "cell_type": "code",
   "execution_count": null,
   "id": "932cfce1-9dc6-45c6-b885-0d9d597cdfcd",
   "metadata": {
    "papermill": {
     "duration": 0.119785,
     "end_time": "2021-06-03T17:04:28.281747",
     "exception": false,
     "start_time": "2021-06-03T17:04:28.161962",
     "status": "completed"
    },
    "tags": []
   },
   "outputs": [],
   "source": [
    "len(selected_columns)"
   ]
  },
  {
   "cell_type": "markdown",
   "id": "89200401-d136-49d2-aa06-f6309680ac9c",
   "metadata": {
    "papermill": {
     "duration": 0.10127,
     "end_time": "2021-06-03T17:04:28.493924",
     "exception": false,
     "start_time": "2021-06-03T17:04:28.392654",
     "status": "completed"
    },
    "tags": []
   },
   "source": [
    "Let's extract a copy of the data from these columns into a new data frame `survey_df`. We can continue to modify further without affecting the original data frame."
   ]
  },
  {
   "cell_type": "code",
   "execution_count": null,
   "id": "67b4b840-6ed2-47a5-b1bb-ab3fb10b9009",
   "metadata": {},
   "outputs": [],
   "source": [
    "survey_df = survey_raw_df[selected_columns].copy()"
   ]
  },
  {
   "cell_type": "code",
   "execution_count": null,
   "id": "99f42798-9d18-4615-bc00-6de353d37f82",
   "metadata": {},
   "outputs": [],
   "source": [
    "schema = schema_raw[selected_columns]"
   ]
  },
  {
   "cell_type": "markdown",
   "id": "96f80d7b-25ed-4a42-adb0-5053e037539d",
   "metadata": {
    "papermill": {
     "duration": 0.092147,
     "end_time": "2021-06-03T17:04:29.118814",
     "exception": false,
     "start_time": "2021-06-03T17:04:29.026667",
     "status": "completed"
    },
    "tags": []
   },
   "source": [
    "&nbsp;\n",
    "\n",
    "Let's view some basic information about the data frame."
   ]
  },
  {
   "cell_type": "markdown",
   "id": "a9a24e75-4ece-4114-a8ad-847bd67ea853",
   "metadata": {},
   "source": [
    "*Exercise:* Read and understand the question associated with each column in `survey_df` using `schema`."
   ]
  },
  {
   "cell_type": "code",
   "execution_count": null,
   "id": "fb30a353-a7c9-4905-9ca9-3a6156465200",
   "metadata": {},
   "outputs": [],
   "source": [
    "survey_df.shape"
   ]
  },
  {
   "cell_type": "code",
   "execution_count": null,
   "id": "e418cb7c-35b5-4827-909a-e7820aa43cb4",
   "metadata": {},
   "outputs": [],
   "source": [
    "schema.shape"
   ]
  },
  {
   "cell_type": "code",
   "execution_count": null,
   "id": "f61cb2ed-f819-4687-902f-70b263dee4b2",
   "metadata": {},
   "outputs": [],
   "source": [
    "survey_df.info()"
   ]
  },
  {
   "cell_type": "markdown",
   "id": "46e58156-5587-4679-ab9e-f80f99fc212a",
   "metadata": {
    "papermill": {
     "duration": 0.096247,
     "end_time": "2021-06-03T17:04:29.849219",
     "exception": false,
     "start_time": "2021-06-03T17:04:29.752972",
     "status": "completed"
    },
    "tags": []
   },
   "source": [
    "Most columns have the data type `object`, either because they contain values of different types or contain empty values (`NaN`). It appears that every column contains some empty values since the Non-Null count for every column is lower than the total number of rows (64461). We'll need to deal with empty values and manually adjust the data type for each column on a case-by-case basis. \n",
    "\n"
   ]
  },
  {
   "cell_type": "markdown",
   "id": "4970bca7-d91e-4dcb-b862-5472c2ed4752",
   "metadata": {},
   "source": [
    "*Exercise*: Explore the values in each column of `survey_df`. Use the functions like `max`, `min`, `unique`, `value_counts`, `isna` etc. to survey the range and distribution of values in the different."
   ]
  },
  {
   "cell_type": "markdown",
   "id": "4af97d7d-e434-4f70-97c5-fb7aeeac7694",
   "metadata": {
    "papermill": {
     "duration": 0.11011,
     "end_time": "2021-06-03T17:04:30.055020",
     "exception": false,
     "start_time": "2021-06-03T17:04:29.944910",
     "status": "completed"
    },
    "tags": []
   },
   "source": [
    "Only three of the columns were detected as numeric columns (`Age` and `WorkWeekHrs`), even though a few other columns have mostly numeric values. To make our analysis easier, let's convert some other columns into numeric data types while ignoring any non-numeric value. The non-numeric are converted to `NaN`."
   ]
  },
  {
   "cell_type": "code",
   "execution_count": null,
   "id": "912276d6-58e1-4f86-b147-a71e4ac6d0fc",
   "metadata": {},
   "outputs": [],
   "source": [
    "schema.Age1stCode"
   ]
  },
  {
   "cell_type": "code",
   "execution_count": null,
   "id": "35da583d-7c14-433f-8936-5ea77a4eb1fc",
   "metadata": {},
   "outputs": [],
   "source": [
    "survey_df.Age1stCode.unique() # 'YearsCode' 'YearsCodePro'"
   ]
  },
  {
   "cell_type": "code",
   "execution_count": null,
   "id": "56faa1b3-75a1-478e-a132-9c3e18de16c3",
   "metadata": {
    "papermill": {
     "duration": 0.283125,
     "end_time": "2021-06-03T17:04:31.058890",
     "exception": false,
     "start_time": "2021-06-03T17:04:30.775765",
     "status": "completed"
    },
    "tags": []
   },
   "outputs": [],
   "source": [
    "# Use pd.to_numeric() function to convert a column or Series of a DataFrame to a numeric data type. \n",
    "# The errors='coerce' argument tells the function to convert any non-numeric values to NaN values.\n",
    "survey_df['Age1stCode'] = pd.to_numeric(survey_df.Age1stCode, errors='coerce')\n",
    "survey_df['YearsCode'] = pd.to_numeric(survey_df.YearsCode, errors='coerce')\n",
    "survey_df['YearsCodePro'] = pd.to_numeric(survey_df.YearsCodePro, errors='coerce')"
   ]
  },
  {
   "cell_type": "code",
   "execution_count": null,
   "id": "966ba3b4-01f6-4679-91d3-e1930f89aa83",
   "metadata": {},
   "outputs": [],
   "source": [
    "survey_df.dtypes"
   ]
  },
  {
   "cell_type": "code",
   "execution_count": null,
   "id": "ab97232f-3d41-4ca9-8bf7-4bb2d576c5fe",
   "metadata": {},
   "outputs": [],
   "source": [
    "survey_df.describe()"
   ]
  },
  {
   "cell_type": "code",
   "execution_count": null,
   "id": "80006351-eee0-4878-adba-7f74f64d039f",
   "metadata": {},
   "outputs": [],
   "source": [
    "survey_df.Age[~np.isnan(survey_df.Age)]"
   ]
  },
  {
   "cell_type": "code",
   "execution_count": null,
   "id": "13462219-195f-443b-b655-27a6b2e0cc2a",
   "metadata": {},
   "outputs": [],
   "source": [
    "px.histogram(survey_df.Age[~np.isnan(survey_df.Age)], x=\"Age\", marginal=\"box\", title=\"What is your age (in years)?\")"
   ]
  },
  {
   "cell_type": "markdown",
   "id": "19145c47-44f6-491d-ad55-c61871c4b72a",
   "metadata": {
    "papermill": {
     "duration": 0.097511,
     "end_time": "2021-06-03T17:04:31.698647",
     "exception": false,
     "start_time": "2021-06-03T17:04:31.601136",
     "status": "completed"
    },
    "tags": []
   },
   "source": [
    "There seems to be a problem with the age column, as the minimum value is 1 and the maximum is 279. This is a common issue with surveys: responses may contain invalid values due to accidental or intentional errors while responding. A simple fix would be to ignore the rows where the age is higher than 100 years or lower than 10 years as invalid survey responses. We can do this using the `.drop` method."
   ]
  },
  {
   "cell_type": "code",
   "execution_count": null,
   "id": "a4ce1ada-ac37-468a-831e-aca2d5c67de9",
   "metadata": {},
   "outputs": [],
   "source": [
    "survey_df.Age < 10"
   ]
  },
  {
   "cell_type": "code",
   "execution_count": null,
   "id": "7600b7c1-587a-4b39-9b9c-d1954042072c",
   "metadata": {
    "papermill": {
     "duration": 0.154765,
     "end_time": "2021-06-03T17:04:31.950834",
     "exception": false,
     "start_time": "2021-06-03T17:04:31.796069",
     "status": "completed"
    },
    "tags": []
   },
   "outputs": [],
   "source": [
    "survey_df.drop(survey_df[survey_df.Age < 10].index, inplace=True)\n",
    "survey_df.drop(survey_df[survey_df.Age > 100].index, inplace=True)"
   ]
  },
  {
   "cell_type": "code",
   "execution_count": null,
   "id": "9e20ddb7-2acb-44f9-9f54-7e5d868441b4",
   "metadata": {},
   "outputs": [],
   "source": [
    "px.histogram(survey_df.Age[~np.isnan(survey_df.Age)], x=\"Age\", marginal=\"box\", title=\"What is your age (in years)?\")"
   ]
  },
  {
   "cell_type": "code",
   "execution_count": null,
   "id": "f099dd8a-8b72-4b08-beaa-f0f16f464308",
   "metadata": {},
   "outputs": [],
   "source": [
    "plt.figure(figsize=(10, 6))\n",
    "sns.violinplot(data=survey_df[['Age','Age1stCode','YearsCode','YearsCodePro']]);"
   ]
  },
  {
   "cell_type": "code",
   "execution_count": null,
   "id": "10c4594c-3f10-48aa-a94f-3a35a958e607",
   "metadata": {},
   "outputs": [],
   "source": [
    "from scipy.stats import kurtosis, skew\n",
    "from scipy.stats import shapiro\n",
    "\n",
    "# Take the sample from the column you would like to analyze.\n",
    "check_column = survey_df['Age'].dropna().sample(n=1000) # .sample(n=300)\n",
    "\n",
    "# Check for normality\n",
    "stat, p = shapiro(check_column)\n",
    "print('Shapiro-Wilk test: statistic=%.3f, p-value=%.3f' % (stat, p))\n",
    "alpha = 0.05\n",
    "if p > alpha:\n",
    "    print('....Sample looks Gaussian (fail to reject H0)')\n",
    "else:\n",
    "    print('....Sample does not look Gaussian (reject H0)')\n",
    "\n",
    "# Compute and print kurtosis and skewness\n",
    "kurt = kurtosis(check_column)\n",
    "print('Kurtosis:', kurt)\n",
    "skewness = skew(check_column)\n",
    "print('Skewness:', skewness)"
   ]
  },
  {
   "cell_type": "markdown",
   "id": "9308baaf-3814-4136-9674-893c2affc944",
   "metadata": {
    "papermill": {
     "duration": 0.10532,
     "end_time": "2021-06-03T17:04:32.154248",
     "exception": false,
     "start_time": "2021-06-03T17:04:32.048928",
     "status": "completed"
    },
    "tags": []
   },
   "source": [
    "The same holds for `WorkWeekHrs`. Let's ignore entries where the value for the column is higher than 140 hours. (~20 hours per day)."
   ]
  },
  {
   "cell_type": "code",
   "execution_count": null,
   "id": "e32aa50d-f492-4722-b448-b44dd5613ed9",
   "metadata": {
    "papermill": {
     "duration": 0.12629,
     "end_time": "2021-06-03T17:04:32.377055",
     "exception": false,
     "start_time": "2021-06-03T17:04:32.250765",
     "status": "completed"
    },
    "tags": []
   },
   "outputs": [],
   "source": [
    "survey_df.drop(survey_df[survey_df.WorkWeekHrs > 140].index, inplace=True)"
   ]
  },
  {
   "cell_type": "markdown",
   "id": "4f3524b2-2765-4966-873d-68da7123cfe0",
   "metadata": {
    "papermill": {
     "duration": 0.098891,
     "end_time": "2021-06-03T17:04:32.580087",
     "exception": false,
     "start_time": "2021-06-03T17:04:32.481196",
     "status": "completed"
    },
    "tags": []
   },
   "source": [
    "The gender column also allows for picking multiple options. We'll remove values containing more than one option to simplify our analysis."
   ]
  },
  {
   "cell_type": "code",
   "execution_count": null,
   "id": "84f941aa-b722-402b-aa6b-0423f66e5f87",
   "metadata": {},
   "outputs": [],
   "source": [
    "schema.Gender"
   ]
  },
  {
   "cell_type": "code",
   "execution_count": null,
   "id": "97666ad7-29eb-441f-b72c-1bf5eb9423e0",
   "metadata": {
    "papermill": {
     "duration": 0.119679,
     "end_time": "2021-06-03T17:04:32.797418",
     "exception": false,
     "start_time": "2021-06-03T17:04:32.677739",
     "status": "completed"
    },
    "tags": []
   },
   "outputs": [],
   "source": [
    "survey_df['Gender'].value_counts()"
   ]
  },
  {
   "cell_type": "code",
   "execution_count": null,
   "id": "eddead4b-ca83-4c0c-88fb-79f40e8c880a",
   "metadata": {},
   "outputs": [],
   "source": [
    "# pandas.Series.str.contains, na: fill value for missing values\n",
    "~(survey_df.Gender.str.contains(';', na=False))"
   ]
  },
  {
   "cell_type": "code",
   "execution_count": null,
   "id": "3ff77c9c-3eb6-460b-a285-7c0e0c2406bf",
   "metadata": {},
   "outputs": [],
   "source": [
    "survey_df.where(~(survey_df.Gender.str.contains(';', na=False)), np.nan, inplace=True) # numpy.nan is a special value from the NumPy library that represents the null value"
   ]
  },
  {
   "cell_type": "code",
   "execution_count": null,
   "id": "a0a09c70-e776-4d60-ad46-2972b67b58b8",
   "metadata": {},
   "outputs": [],
   "source": [
    "survey_df['Gender'].value_counts()"
   ]
  },
  {
   "cell_type": "code",
   "execution_count": null,
   "id": "2a33e297-6cdd-4275-b678-b8dbeae2d6e5",
   "metadata": {},
   "outputs": [],
   "source": [
    "survey_df.sample(10)"
   ]
  },
  {
   "cell_type": "markdown",
   "id": "314105e9-7908-4953-9f28-243c041a9717",
   "metadata": {
    "papermill": {
     "duration": 0.096724,
     "end_time": "2021-06-03T17:04:33.940941",
     "exception": false,
     "start_time": "2021-06-03T17:04:33.844217",
     "status": "completed"
    },
    "tags": []
   },
   "source": [
    "&emsp;\n",
    "\n",
    "&emsp;\n",
    "\n",
    "## Exploratory Analysis and Visualization\n",
    "\n",
    "Before we ask questions about the survey responses, it would help to understand the respondents' demographics, i.e., country, age, gender, education level, employment level, etc. It's essential to explore these variables to understand how representative the survey is of the worldwide programming community. A survey of this scale generally tends to have some [selection bias](https://en.wikipedia.org/wiki/Selection_bias)."
   ]
  },
  {
   "cell_type": "markdown",
   "id": "e5e0ede5-8d4e-4375-9762-001d9f591c07",
   "metadata": {
    "papermill": {
     "duration": 0.0984,
     "end_time": "2021-06-03T17:04:35.373349",
     "exception": false,
     "start_time": "2021-06-03T17:04:35.274949",
     "status": "completed"
    },
    "tags": []
   },
   "source": [
    "Let's look at the number of countries from which there are responses in the survey and plot the ten countries with the highest number of responses."
   ]
  },
  {
   "cell_type": "code",
   "execution_count": null,
   "id": "4c7c7fdd-679d-4968-8098-40dc9a2d5dcc",
   "metadata": {},
   "outputs": [],
   "source": [
    "schema.Country"
   ]
  },
  {
   "cell_type": "code",
   "execution_count": null,
   "id": "1336a91f-988f-4f91-91f5-e2f46e60ca8b",
   "metadata": {},
   "outputs": [],
   "source": [
    "survey_df.Country.nunique()"
   ]
  },
  {
   "cell_type": "code",
   "execution_count": null,
   "id": "ce8e3eab-e4af-475b-bf76-a43dd895c5f6",
   "metadata": {},
   "outputs": [],
   "source": [
    "top_countries = survey_df.Country.value_counts().head(15) # head(15)\n",
    "top_countries"
   ]
  },
  {
   "cell_type": "code",
   "execution_count": null,
   "id": "09fb5e3d-eac9-4d96-9dd6-ce80f3ed768d",
   "metadata": {
    "papermill": {
     "duration": 0.4564,
     "end_time": "2021-06-03T17:04:37.031189",
     "exception": false,
     "start_time": "2021-06-03T17:04:36.574789",
     "status": "completed"
    },
    "tags": []
   },
   "outputs": [],
   "source": [
    "plt.figure(figsize=(12, 6))\n",
    "plt.xticks(rotation=75)\n",
    "plt.title(schema.Country)\n",
    "sns.barplot(x=top_countries.index, y=top_countries);"
   ]
  },
  {
   "cell_type": "markdown",
   "id": "8936da79-8544-437f-9375-7cb02b73d3be",
   "metadata": {},
   "source": [
    "*Exercises*:\n",
    "\n",
    "1. Try finding the percentage of responses from English-speaking vs. non-English speaking countries. You can use this list of languages spoken in different countries (use `countries-languages.csv`).\n",
    "\n",
    "2. Instead of displaying overall count of responses for each country on the y-axis of the above chart, display the percentage of responses instead.\n",
    "\n",
    "3. Instead of displaying the overall count of response for each country, display \"reponses per million people\". Use an external dataset to get the population of each country."
   ]
  },
  {
   "cell_type": "markdown",
   "id": "a69ffeb1-58cd-4576-ae00-57313a914973",
   "metadata": {},
   "source": [
    "The distribution of respondents' age is another crucial factor to look at. We can use a histogram and box plot to visualize its distribution. "
   ]
  },
  {
   "cell_type": "code",
   "execution_count": null,
   "id": "27560c04-7a04-4be4-ab4d-3ef5cf6ec619",
   "metadata": {},
   "outputs": [],
   "source": [
    "schema.Age"
   ]
  },
  {
   "cell_type": "code",
   "execution_count": null,
   "id": "97a822f6-ad44-4b60-abbd-d6417b975dcc",
   "metadata": {},
   "outputs": [],
   "source": [
    "plt.figure(figsize=(12, 6))\n",
    "plt.title(schema.Age)\n",
    "plt.xlabel('Age')\n",
    "plt.ylabel('Number of respondents')\n",
    "\n",
    "plt.hist(survey_df.Age, bins=np.arange(10, 100, 5), color='purple');"
   ]
  },
  {
   "cell_type": "markdown",
   "id": "8a720475-390b-430b-b0a9-fbf2b81f7d97",
   "metadata": {},
   "source": [
    "Let's look at the distribution of responses for the Gender. It's a well-known fact that women and non-binary genders are underrepresented in the programming community, so we might expect to see a skewed distribution here."
   ]
  },
  {
   "cell_type": "code",
   "execution_count": null,
   "id": "3341d9e2-f3a6-416e-8f06-7313eba0bdb1",
   "metadata": {},
   "outputs": [],
   "source": [
    "schema.Gender"
   ]
  },
  {
   "cell_type": "code",
   "execution_count": null,
   "id": "26d68d5c-d39a-4c09-b684-1ef16ce85530",
   "metadata": {},
   "outputs": [],
   "source": [
    "gender_counts = survey_df.Gender.value_counts() # dropna = False\n",
    "gender_counts"
   ]
  },
  {
   "cell_type": "code",
   "execution_count": null,
   "id": "26d40ba6-514c-418b-9e30-cd1b96745b3d",
   "metadata": {},
   "outputs": [],
   "source": [
    "plt.figure(figsize=(12,6))\n",
    "plt.title(schema.Gender)\n",
    "\n",
    "plt.pie(gender_counts, labels=gender_counts.index, autopct='%1.1f%%', startangle=180);"
   ]
  },
  {
   "cell_type": "markdown",
   "id": "8a6f4e6f-b4f0-4a66-ba4f-3c4b033de7ad",
   "metadata": {},
   "source": [
    "*Exercise*: It would be interesting to compare the survey responses & preferences across genders. Repeat this analysis with these breakdowns. How do the relative education levels differ across genders? How do the salaries vary?"
   ]
  },
  {
   "cell_type": "markdown",
   "id": "5a708073-be6f-4913-b206-100b31fca5c9",
   "metadata": {},
   "source": [
    "Formal education in computer science is often considered an essential requirement for becoming a programmer. However, there are many free resources & tutorials available online to learn programming. Let's compare the education levels of respondents to gain some insight into this. We'll use a horizontal bar plot here."
   ]
  },
  {
   "cell_type": "code",
   "execution_count": null,
   "id": "e69d28f8-5cff-44a1-87e2-c02ceb427242",
   "metadata": {},
   "outputs": [],
   "source": [
    "schema.EdLevel"
   ]
  },
  {
   "cell_type": "code",
   "execution_count": null,
   "id": "5475b2a2-f937-4d2c-85a4-e69f00295269",
   "metadata": {},
   "outputs": [],
   "source": [
    "survey_df.EdLevel.unique()"
   ]
  },
  {
   "cell_type": "code",
   "execution_count": null,
   "id": "18353d1b-97d9-4412-81ac-38c0b00b2a50",
   "metadata": {
    "papermill": {
     "duration": 0.504006,
     "end_time": "2021-06-03T17:04:46.365387",
     "exception": false,
     "start_time": "2021-06-03T17:04:45.861381",
     "status": "completed"
    },
    "tags": []
   },
   "outputs": [],
   "source": [
    "sns.countplot(y=survey_df.EdLevel)\n",
    "plt.xticks(rotation=75);\n",
    "plt.title(schema['EdLevel'])\n",
    "plt.ylabel(None);"
   ]
  },
  {
   "cell_type": "markdown",
   "id": "d8e1ed8c-b871-4556-a33f-ae720c03d436",
   "metadata": {},
   "source": [
    "Let's also plot undergraduate majors, but this time we'll convert the numbers into percentages and sort the values to make it easier to visualize the order."
   ]
  },
  {
   "cell_type": "code",
   "execution_count": null,
   "id": "607abb3d-547e-4475-bc73-00736a5e0fc4",
   "metadata": {},
   "outputs": [],
   "source": [
    "schema.UndergradMajor"
   ]
  },
  {
   "cell_type": "code",
   "execution_count": null,
   "id": "44e32288-dcb2-463d-9345-d1fdeb97a1df",
   "metadata": {},
   "outputs": [],
   "source": [
    "undergrad_pct = (survey_df.UndergradMajor.value_counts() / survey_df.UndergradMajor.count()) * 100\n",
    "undergrad_pct"
   ]
  },
  {
   "cell_type": "code",
   "execution_count": null,
   "id": "91824ee5-6f4a-457d-84c8-29cca272ee3a",
   "metadata": {},
   "outputs": [],
   "source": [
    "undergrad_pct = (survey_df.UndergradMajor.value_counts() / survey_df.UndergradMajor.count()) * 100\n",
    "\n",
    "sns.barplot(x=undergrad_pct, y=undergrad_pct.index)\n",
    "\n",
    "plt.title(schema.UndergradMajor)\n",
    "plt.ylabel(None)\n",
    "plt.xlabel('Percentage');"
   ]
  },
  {
   "cell_type": "markdown",
   "id": "f294a4ab-73dd-4819-912c-b1c78b83dd0d",
   "metadata": {},
   "source": [
    "*Exercises*: Analyze the `NEWEdImpt` column for respondents who hold some college degree vs. those who don't. Do you notice any difference in opinion?"
   ]
  },
  {
   "cell_type": "markdown",
   "id": "78d58a6b-b618-416b-be5b-36309d867c38",
   "metadata": {},
   "source": [
    "Freelancing or contract work is a common choice among programmers, so it would be interesting to compare the breakdown between full-time, part-time, and freelance work. Let's visualize the data from the `Employment` column."
   ]
  },
  {
   "cell_type": "code",
   "execution_count": null,
   "id": "8cc95822-a88e-4cde-95da-3e917d2d9673",
   "metadata": {},
   "outputs": [],
   "source": [
    "schema.Employment"
   ]
  },
  {
   "cell_type": "code",
   "execution_count": null,
   "id": "c4507fa5-f031-43b1-9766-6f2b44c9fafd",
   "metadata": {
    "papermill": {
     "duration": 0.528685,
     "end_time": "2021-06-03T17:04:49.597234",
     "exception": false,
     "start_time": "2021-06-03T17:04:49.068549",
     "status": "completed"
    },
    "tags": []
   },
   "outputs": [],
   "source": [
    "(survey_df.Employment.value_counts(normalize=True, ascending=True)*100).plot(kind='barh', color='green')\n",
    "plt.title(schema.Employment)\n",
    "plt.xlabel('Percentage');"
   ]
  },
  {
   "cell_type": "markdown",
   "id": "ff7ad1bd-948e-4bc8-bd50-f3d2c8f776fb",
   "metadata": {},
   "source": [
    "*Exercise*: Add a new column `EmploymentType` containing the values `Enthusiast` (student or not employed but looking for work), `Professional` (employed full-time, part-time or freelancing), and `Other` (not employed or retired). For each of the graphs that follow, show a comparison between `Enthusiast` and `Professional`."
   ]
  },
  {
   "cell_type": "markdown",
   "id": "1329004d-a238-4d59-bb46-7fff6ce5b6c1",
   "metadata": {},
   "source": [
    "The `DevType` field contains information about the roles held by respondents. Since the question allows multiple answers, the column contains lists of values separated by a semi-colon `;`, making it a bit harder to analyze directly."
   ]
  },
  {
   "cell_type": "code",
   "execution_count": null,
   "id": "874661a8-cf69-45ba-a929-f2f1c539d780",
   "metadata": {},
   "outputs": [],
   "source": [
    "schema.DevType"
   ]
  },
  {
   "cell_type": "code",
   "execution_count": null,
   "id": "1c59eb4a-d3da-495c-a1a5-4466ce658e65",
   "metadata": {},
   "outputs": [],
   "source": [
    "survey_df.DevType.unique()"
   ]
  },
  {
   "cell_type": "code",
   "execution_count": null,
   "id": "44eb80e8-4071-42f6-abd8-d4e05619e3f2",
   "metadata": {},
   "outputs": [],
   "source": [
    "survey_df.DevType.value_counts()"
   ]
  },
  {
   "cell_type": "markdown",
   "id": "64ee6462-7cbd-419b-bab8-70a603691cae",
   "metadata": {
    "papermill": {
     "duration": 0.14763,
     "end_time": "2021-06-03T17:04:51.262958",
     "exception": false,
     "start_time": "2021-06-03T17:04:51.115328",
     "status": "completed"
    },
    "tags": []
   },
   "source": [
    "Let's define a helper function that turns a column containing lists of values (like `survey_df.DevType`) into a data frame with one column for each possible option."
   ]
  },
  {
   "cell_type": "code",
   "execution_count": null,
   "id": "089b9699-2462-4aca-8437-eb9e10441e7c",
   "metadata": {
    "papermill": {
     "duration": 0.16244,
     "end_time": "2021-06-03T17:04:51.586613",
     "exception": false,
     "start_time": "2021-06-03T17:04:51.424173",
     "status": "completed"
    },
    "tags": []
   },
   "outputs": [],
   "source": [
    "# This defines a function called `split_multicolumn` that takes in a pandas series as an argument.\n",
    "def split_multicolumn(col_series):\n",
    "    # This creates a new dataframe called `result_df` by converting the input series `col_series` into a dataframe.\n",
    "    result_df = col_series.to_frame()\n",
    "    options = [] # This initializes an empty list called `options`.\n",
    "    # This iterates over each non-null value in `col_series`\n",
    "    # and assigns the index and value of each non-null entry \n",
    "    # to `idx` and `value`, respectively.\n",
    "    for idx, value  in col_series[col_series.notnull()].items():\n",
    "        # For each non-null value in `col_series`, this splits the value\n",
    "        # into a list of options using semicolon (`;`) \n",
    "        # as a delimiter.\n",
    "        for option in value.split(';'):\n",
    "            # For each option in the list of options, this checks if the option is already a column in the `result_df`. \n",
    "            # If the option is not already a column, it appends the option to the `options` list \n",
    "            # and adds a new column to the `result_df` with the same name as the option and populates it with `False`.\n",
    "            if not option in result_df.columns:\n",
    "                options.append(option)\n",
    "                result_df[option] = False\n",
    "            # This sets the value of the cell in the row with index `idx` and column with name `option` to `True`.\n",
    "            # The .at accessor in pandas is used to access a single value in a DataFrame, and is similar to using square brackets with .loc or .iloc. \n",
    "            # The advantage of using .at is that it is faster for setting or getting a single value.\n",
    "            result_df.at[idx, option] = True\n",
    "    # Finally, this returns the `result_df` dataframe, but only including the columns that were added \n",
    "    # to the `result_df` in the loop through `options`.\n",
    "    return result_df[options]"
   ]
  },
  {
   "cell_type": "markdown",
   "id": "c6aaff29-30f6-4705-adea-48a27d90e08a",
   "metadata": {},
   "source": [
    "The `dev_type_df` has one column for each option that can be selected as a response. If a respondent has chosen an option, the corresponding column's value is `True`. Otherwise, it is `False`.\n",
    "\n",
    "We can now use the column-wise totals to identify the most common roles."
   ]
  },
  {
   "cell_type": "code",
   "execution_count": null,
   "id": "c055435b-838c-41df-a915-6d9d046e5d87",
   "metadata": {
    "papermill": {
     "duration": 2.523729,
     "end_time": "2021-06-03T17:04:54.264158",
     "exception": false,
     "start_time": "2021-06-03T17:04:51.740429",
     "status": "completed"
    },
    "tags": []
   },
   "outputs": [],
   "source": [
    "dev_type_df = split_multicolumn(survey_df.DevType)"
   ]
  },
  {
   "cell_type": "code",
   "execution_count": null,
   "id": "1ef8fc50-b916-4468-bfa3-e5c68241efa7",
   "metadata": {
    "papermill": {
     "duration": 0.185425,
     "end_time": "2021-06-03T17:04:54.592030",
     "exception": false,
     "start_time": "2021-06-03T17:04:54.406605",
     "status": "completed"
    },
    "tags": []
   },
   "outputs": [],
   "source": [
    "dev_type_df"
   ]
  },
  {
   "cell_type": "code",
   "execution_count": null,
   "id": "f15653e1-227e-4d80-8759-a4339f5650c2",
   "metadata": {
    "papermill": {
     "duration": 0.201047,
     "end_time": "2021-06-03T17:04:55.234175",
     "exception": false,
     "start_time": "2021-06-03T17:04:55.033128",
     "status": "completed"
    },
    "tags": []
   },
   "outputs": [],
   "source": [
    "dev_type_totals = dev_type_df.sum().sort_values(ascending=False)\n",
    "dev_type_totals"
   ]
  },
  {
   "cell_type": "markdown",
   "id": "4d8fd494-ebc0-4f03-9984-c243f6f8927d",
   "metadata": {},
   "source": [
    "*Exercises*: \n",
    "\n",
    "* Can you figure out what percentage of respondents work in roles related to data science? \n",
    "* Which positions have the highest percentage of women?"
   ]
  },
  {
   "cell_type": "markdown",
   "id": "8109e7c6-b6d5-4e3e-b7d7-68b5900ca04d",
   "metadata": {
    "papermill": {
     "duration": 0.187346,
     "end_time": "2021-06-03T17:05:03.823782",
     "exception": false,
     "start_time": "2021-06-03T17:05:03.636436",
     "status": "completed"
    },
    "tags": []
   },
   "source": [
    "&ensp;\n",
    "\n",
    "&nbsp;\n",
    "\n",
    "## Asking and Answering Questions\n",
    "\n",
    "We've already gained several insights about the respondents and the programming community by exploring individual columns of the dataset. Let's ask some specific questions and try to answer them using data frame operations and visualizations.\n",
    "\n",
    "➤ **Try to answer a question you have about the data using a plot or statistics.**\n",
    "\n",
    "&nbsp;"
   ]
  },
  {
   "cell_type": "markdown",
   "id": "c6eb5035-5ca6-48d8-9422-2f39121db70d",
   "metadata": {
    "papermill": {
     "duration": 0.203735,
     "end_time": "2021-06-03T17:05:04.234076",
     "exception": false,
     "start_time": "2021-06-03T17:05:04.030341",
     "status": "completed"
    },
    "tags": []
   },
   "source": [
    "#### Q: What are the most popular programming languages in 2020? \n",
    "\n",
    "To answer, this we can use the `LanguageWorkedWith` column. Similar to `DevType`, respondents were allowed to choose multiple options here."
   ]
  },
  {
   "cell_type": "code",
   "execution_count": null,
   "id": "f41b11ba-2cf7-4538-af1b-c7eb2e25950a",
   "metadata": {},
   "outputs": [],
   "source": [
    "schema.LanguageWorkedWith"
   ]
  },
  {
   "cell_type": "code",
   "execution_count": null,
   "id": "17d7bc02-fc4e-447d-b0f9-e0db100a9ff4",
   "metadata": {},
   "outputs": [],
   "source": [
    "schema.LanguageDesireNextYear"
   ]
  },
  {
   "cell_type": "code",
   "execution_count": null,
   "id": "16e21198-d780-489f-ab63-5e50fee27601",
   "metadata": {},
   "outputs": [],
   "source": [
    "survey_df.LanguageWorkedWith"
   ]
  },
  {
   "cell_type": "code",
   "execution_count": null,
   "id": "f11d1957-b731-4e9b-8ba8-7cc494cddf02",
   "metadata": {
    "papermill": {
     "duration": 4.190836,
     "end_time": "2021-06-03T17:05:09.385819",
     "exception": false,
     "start_time": "2021-06-03T17:05:05.194983",
     "status": "completed"
    },
    "tags": []
   },
   "outputs": [],
   "source": [
    "languages_worked_df = split_multicolumn(survey_df.LanguageWorkedWith)"
   ]
  },
  {
   "cell_type": "code",
   "execution_count": null,
   "id": "f1e8b96e-1d07-41d2-9299-46738f503db8",
   "metadata": {
    "papermill": {
     "duration": 0.219168,
     "end_time": "2021-06-03T17:05:09.792424",
     "exception": false,
     "start_time": "2021-06-03T17:05:09.573256",
     "status": "completed"
    },
    "tags": []
   },
   "outputs": [],
   "source": [
    "languages_worked_df.head(5)"
   ]
  },
  {
   "cell_type": "code",
   "execution_count": null,
   "id": "ace42ef3-aa04-426b-94ec-ae250fef83a1",
   "metadata": {
    "papermill": {
     "duration": 0.212108,
     "end_time": "2021-06-03T17:05:10.557078",
     "exception": false,
     "start_time": "2021-06-03T17:05:10.344970",
     "status": "completed"
    },
    "tags": []
   },
   "outputs": [],
   "source": [
    "languages_worked_percentages = languages_worked_df.mean().sort_values(ascending=False) * 100\n",
    "languages_worked_percentages"
   ]
  },
  {
   "cell_type": "code",
   "execution_count": null,
   "id": "0201d70e-e5a7-43d1-8cc6-3304928a5635",
   "metadata": {
    "papermill": {
     "duration": 0.619094,
     "end_time": "2021-06-03T17:05:11.748319",
     "exception": false,
     "start_time": "2021-06-03T17:05:11.129225",
     "status": "completed"
    },
    "tags": []
   },
   "outputs": [],
   "source": [
    "plt.figure(figsize=(12,12))\n",
    "sns.barplot(x=languages_worked_percentages, y=languages_worked_percentages.index)\n",
    "plt.title(\"Languages used in the past year\");\n",
    "plt.xlabel('Count');"
   ]
  },
  {
   "cell_type": "markdown",
   "id": "0e232997-dfdf-4d4a-a67a-59bc52ab2f89",
   "metadata": {},
   "source": [
    "*Exercises*:\n",
    "\n",
    "* What are the most common languages used by students? How does the list compare with the most common languages used by professional developers?\n",
    "* What are the most common languages among respondents who do not describe themselves as \"Developer, front-end\"?\n",
    "* What are the most common languages among respondents who work in fields related to data science?\n",
    "* What are the most common languages used by developers older than 35 years of age? "
   ]
  },
  {
   "cell_type": "markdown",
   "id": "bdf0f4ac-14ae-428b-bf41-9498e5cf1b91",
   "metadata": {
    "papermill": {
     "duration": 0.209286,
     "end_time": "2021-06-03T17:05:12.577808",
     "exception": false,
     "start_time": "2021-06-03T17:05:12.368522",
     "status": "completed"
    },
    "tags": []
   },
   "source": [
    "&nbsp;\n",
    "\n",
    "#### Q: Which languages are the most people interested to learn over the next year?\n",
    "\n",
    "For this, we can use the `LanguageDesireNextYear` column, with similar processing as the previous one."
   ]
  },
  {
   "cell_type": "code",
   "execution_count": null,
   "id": "d3c46752-11c3-4b09-bfec-f338464e5478",
   "metadata": {
    "papermill": {
     "duration": 3.694034,
     "end_time": "2021-06-03T17:05:16.486053",
     "exception": false,
     "start_time": "2021-06-03T17:05:12.792019",
     "status": "completed"
    },
    "tags": []
   },
   "outputs": [],
   "source": [
    "languages_interested_df = split_multicolumn(survey_df.LanguageDesireNextYear)\n",
    "languages_interested_percentages = languages_interested_df.mean().sort_values(ascending=False) * 100\n",
    "languages_interested_percentages"
   ]
  },
  {
   "cell_type": "code",
   "execution_count": null,
   "id": "ab49d898-c8f2-4cea-aae4-c32645185326",
   "metadata": {
    "papermill": {
     "duration": 0.717449,
     "end_time": "2021-06-03T17:05:17.408216",
     "exception": false,
     "start_time": "2021-06-03T17:05:16.690767",
     "status": "completed"
    },
    "tags": []
   },
   "outputs": [],
   "source": [
    "plt.figure(figsize=(12, 12))\n",
    "sns.barplot(x=languages_interested_percentages, y=languages_interested_percentages.index)\n",
    "plt.title(\"Languages people are intersted in learning over the next year\");\n",
    "plt.xlabel('Count');"
   ]
  },
  {
   "cell_type": "markdown",
   "id": "3c8f7487-e68b-4c3c-a78a-d133a3fc2bba",
   "metadata": {},
   "source": [
    "*Exercises*: Repeat the exercises from the previous question, replacing \"most common languages\" with \"languages people are interested in learning/using.\""
   ]
  },
  {
   "cell_type": "markdown",
   "id": "14d6ecaf-d9a2-465f-838c-10fcb44a8733",
   "metadata": {
    "papermill": {
     "duration": 0.253771,
     "end_time": "2021-06-03T17:05:18.310261",
     "exception": false,
     "start_time": "2021-06-03T17:05:18.056490",
     "status": "completed"
    },
    "tags": []
   },
   "source": [
    "&nbsp;\n",
    "\n",
    "#### Q:  Which are the most loved languages, i.e., a high percentage of people who have used the language want to continue learning & using it over the next year?\n",
    "\n",
    "While this question may seem tricky at first, it's straightforward to solve using Pandas array operations. Here's what we can do:\n",
    "\n",
    "- Create a new data frame `languages_loved_df` that contains a `True` value for a language only if the corresponding values in `languages_worked_df` and `languages_interested_df` are both `True`\n",
    "- Take the column-wise sum of `languages_loved_df` and divide it by the column-wise sum of `languages_worked_df` to get the percentage of respondents who \"love\" the language\n",
    "- Sort the results in decreasing order and plot a horizontal bar graph"
   ]
  },
  {
   "cell_type": "code",
   "execution_count": null,
   "id": "fee5080f-25a7-4a38-96a8-46d3050a5c41",
   "metadata": {
    "papermill": {
     "duration": 0.241656,
     "end_time": "2021-06-03T17:05:18.770297",
     "exception": false,
     "start_time": "2021-06-03T17:05:18.528641",
     "status": "completed"
    },
    "tags": []
   },
   "outputs": [],
   "source": [
    "languages_loved_df = languages_worked_df & languages_interested_df\n",
    "languages_loved_df"
   ]
  },
  {
   "cell_type": "code",
   "execution_count": null,
   "id": "f06d7e1e-461f-41f6-ba33-02c67440d51b",
   "metadata": {
    "papermill": {
     "duration": 0.219248,
     "end_time": "2021-06-03T17:05:19.198939",
     "exception": false,
     "start_time": "2021-06-03T17:05:18.979691",
     "status": "completed"
    },
    "tags": []
   },
   "outputs": [],
   "source": [
    "languages_loved_percentages = ((languages_loved_df.sum() / languages_worked_df.sum()) * 100).sort_values(ascending=False)\n",
    "languages_loved_percentages"
   ]
  },
  {
   "cell_type": "code",
   "execution_count": null,
   "id": "cdac1ff5-77dd-4658-b993-59c7ed07b0a4",
   "metadata": {
    "papermill": {
     "duration": 0.609378,
     "end_time": "2021-06-03T17:05:20.013444",
     "exception": false,
     "start_time": "2021-06-03T17:05:19.404066",
     "status": "completed"
    },
    "tags": []
   },
   "outputs": [],
   "source": [
    "plt.figure(figsize=(12, 12))\n",
    "sns.barplot(x=languages_loved_percentages, y=languages_loved_percentages.index)\n",
    "plt.title(\"Most loved languages\");\n",
    "plt.xlabel('Count');"
   ]
  },
  {
   "cell_type": "markdown",
   "id": "56696539-603f-4035-8f83-0f174f07197e",
   "metadata": {
    "papermill": {
     "duration": 0.195052,
     "end_time": "2021-06-03T17:05:20.814208",
     "exception": false,
     "start_time": "2021-06-03T17:05:20.619156",
     "status": "completed"
    },
    "tags": []
   },
   "source": [
    "&nbsp;\n",
    "\n",
    "#### Q: In which countries do developers work the highest number of hours per week? Consider countries with more than 250 responses only.\n",
    "\n",
    "To answer this question, we'll need to use the `groupby` data frame method to aggregate the rows for each country. We'll also need to filter the results to only include the countries with more than 250 respondents."
   ]
  },
  {
   "cell_type": "code",
   "execution_count": null,
   "id": "8f290348-7434-4cb5-bf5a-de256fae10c3",
   "metadata": {},
   "outputs": [],
   "source": [
    "survey_df.groupby('Country')[['WorkWeekHrs','Age']].mean()"
   ]
  },
  {
   "cell_type": "code",
   "execution_count": null,
   "id": "2a79b550-1ddb-4af4-864f-c97be8f4f4eb",
   "metadata": {
    "papermill": {
     "duration": 0.227106,
     "end_time": "2021-06-03T17:05:21.238283",
     "exception": false,
     "start_time": "2021-06-03T17:05:21.011177",
     "status": "completed"
    },
    "tags": []
   },
   "outputs": [],
   "source": [
    "countries_df = survey_df.groupby('Country')[['WorkWeekHrs']].mean().sort_values('WorkWeekHrs', ascending=False)\n",
    "countries_df"
   ]
  },
  {
   "cell_type": "code",
   "execution_count": null,
   "id": "69a19df9-71d2-4c33-a818-328b788b0ae6",
   "metadata": {
    "papermill": {
     "duration": 0.219943,
     "end_time": "2021-06-03T17:05:21.656391",
     "exception": false,
     "start_time": "2021-06-03T17:05:21.436448",
     "status": "completed"
    },
    "tags": []
   },
   "outputs": [],
   "source": [
    "high_response_countries_df = countries_df.loc[survey_df.Country.value_counts() > 250].head(15)\n",
    "high_response_countries_df"
   ]
  },
  {
   "cell_type": "code",
   "execution_count": null,
   "id": "d446c7a9-bea5-49f9-901c-72926472a3c3",
   "metadata": {},
   "outputs": [],
   "source": [
    "plt.figure(figsize=(12,12))\n",
    "sns.barplot(x=high_response_countries_df.WorkWeekHrs, y=high_response_countries_df.index)\n",
    "plt.title(\"The highest number of hours per week\");\n",
    "plt.xlabel('Count');\n",
    "plt.xlim(38, 45); # try to add this later"
   ]
  },
  {
   "cell_type": "markdown",
   "id": "4e7f1470-ce39-43d1-8bc4-d742585313c2",
   "metadata": {},
   "source": [
    "&nbsp; \n",
    "\n",
    "#### Q: Which countries have the highest number of programmers over 20 yrs. old who adore Python?"
   ]
  },
  {
   "cell_type": "code",
   "execution_count": null,
   "id": "fbe1674d-accb-4e02-88d9-483e1b158e81",
   "metadata": {
    "tags": []
   },
   "outputs": [],
   "source": [
    "survey_df['Country'].value_counts()"
   ]
  },
  {
   "cell_type": "code",
   "execution_count": null,
   "id": "922e1a2c-fd70-4bd8-8459-68072376c1a5",
   "metadata": {},
   "outputs": [],
   "source": [
    "ax = survey_df \\\n",
    "    .query('LanguageWorkedWith == \"Python\" & LanguageDesireNextYear == \"Python\"') \\\n",
    "    .query('Age > 20') \\\n",
    "    .groupby('Country')['Age'] \\\n",
    "    .agg(['count']) \\\n",
    "    .query('count >= 3') \\\n",
    "    .sort_values('count', ascending=False) \\\n",
    "    .plot(kind='barh', figsize=(12,5), title='Pyhton enthusiasts over 20 yrs. old per country')\n",
    "ax.invert_yaxis()\n",
    "plt.show()"
   ]
  },
  {
   "cell_type": "markdown",
   "id": "fe818883-d875-41d7-b038-f1e8ee7610a6",
   "metadata": {
    "papermill": {
     "duration": 0.193877,
     "end_time": "2021-06-03T17:05:22.855681",
     "exception": false,
     "start_time": "2021-06-03T17:05:22.661804",
     "status": "completed"
    },
    "tags": []
   },
   "source": [
    "&nbsp;\n",
    "\n",
    "### Correlations\n",
    "\n",
    "#### Q: How important is it to start young to build a career in programming?\n",
    "\n",
    "Let's create a scatter plot of `Age` vs. `YearsCodePro` (i.e., years of coding experience) to answer this question."
   ]
  },
  {
   "cell_type": "code",
   "execution_count": null,
   "id": "892fa4b0-1d5e-4534-bd78-dd269d29b105",
   "metadata": {
    "papermill": {
     "duration": 0.198415,
     "end_time": "2021-06-03T17:05:23.246850",
     "exception": false,
     "start_time": "2021-06-03T17:05:23.048435",
     "status": "completed"
    },
    "tags": []
   },
   "outputs": [],
   "source": [
    "schema.YearsCodePro"
   ]
  },
  {
   "cell_type": "code",
   "execution_count": null,
   "id": "3236ba93-5fa1-47c2-b871-7803601bc4da",
   "metadata": {
    "papermill": {
     "duration": 1.654471,
     "end_time": "2021-06-03T17:05:25.096024",
     "exception": false,
     "start_time": "2021-06-03T17:05:23.441553",
     "status": "completed"
    },
    "tags": []
   },
   "outputs": [],
   "source": [
    "sns.scatterplot(x='Age', y='YearsCodePro', hue='Hobbyist', data=survey_df)\n",
    "plt.xlabel(\"Age\")\n",
    "plt.ylabel(\"Years of professional\\ncoding experience\");"
   ]
  },
  {
   "cell_type": "code",
   "execution_count": null,
   "id": "1749b67c-3e25-4b24-a728-e11e402c0989",
   "metadata": {
    "papermill": {
     "duration": 0.847901,
     "end_time": "2021-06-03T17:05:26.533542",
     "exception": false,
     "start_time": "2021-06-03T17:05:25.685641",
     "status": "completed"
    },
    "tags": []
   },
   "outputs": [],
   "source": [
    "plt.title(schema.Age1stCode)\n",
    "sns.histplot(x=survey_df.Age1stCode, bins=30, kde=True);"
   ]
  },
  {
   "cell_type": "code",
   "execution_count": null,
   "id": "29848bb3-89a2-45af-9b8f-e67e9d254a8f",
   "metadata": {
    "papermill": {
     "duration": 0.847901,
     "end_time": "2021-06-03T17:05:26.533542",
     "exception": false,
     "start_time": "2021-06-03T17:05:25.685641",
     "status": "completed"
    },
    "tags": []
   },
   "outputs": [],
   "source": [
    "plt.title(schema.YearsCode)\n",
    "sns.histplot(x=survey_df.YearsCode, bins=30, kde=True);"
   ]
  },
  {
   "cell_type": "code",
   "execution_count": null,
   "id": "90f7e84c-efb8-459b-8ca5-bf3aa07be0dc",
   "metadata": {
    "papermill": {
     "duration": 0.053233,
     "end_time": "2021-12-31T22:25:33.756533",
     "exception": false,
     "start_time": "2021-12-31T22:25:33.703300",
     "status": "completed"
    },
    "tags": []
   },
   "outputs": [],
   "source": [
    "data_corr = survey_df[['Age','Age1stCode','YearsCode','YearsCodePro']].dropna().corr()\n",
    "data_corr"
   ]
  },
  {
   "cell_type": "code",
   "execution_count": null,
   "id": "3fdf5f8d-4e23-4be3-88ab-b488490e02ee",
   "metadata": {
    "papermill": {
     "duration": 0.305333,
     "end_time": "2021-12-31T22:25:34.098497",
     "exception": false,
     "start_time": "2021-12-31T22:25:33.793164",
     "status": "completed"
    },
    "tags": []
   },
   "outputs": [],
   "source": [
    "plt.figure(figsize=(8,4))\n",
    "sns.heatmap(data_corr, annot=True);"
   ]
  },
  {
   "cell_type": "markdown",
   "id": "118dabda-edb2-48a5-af59-00ffed9dae31",
   "metadata": {},
   "source": [
    "*Exercises*:\n",
    "\n",
    "* How does programming experience change opinions & preferences? Repeat the entire analysis while comparing the responses of people who have more than ten years of professional programming experience vs. those who don't. Do you see any interesting trends?\n",
    "* Compare the years of professional coding experience across different genders. "
   ]
  },
  {
   "cell_type": "markdown",
   "id": "7403ab85-956f-48db-966c-14ac9e14af3d",
   "metadata": {},
   "source": [
    "There are four assumptions to check before performing a Pearson correlation test.\n",
    "\n",
    "- The two variables (the variables of interest) need to be using a continuous scale.\n",
    "- The two variables of interest should have a linear relationship, which you can check with a scatterplot.\n",
    "- There should be no spurious outliers.\n",
    "- The variables should be normally or near-to-normally distributed.\n"
   ]
  },
  {
   "cell_type": "markdown",
   "id": "b9fb69cb-99c8-4113-af6f-49692c580b64",
   "metadata": {},
   "source": [
    "Linear correlation is defined as the scaled version of the covariance between two variables. The scaling itself is simply the product of the standard deviations of the two variables. Therefore, standardising (or any linear transformation of the variables examined for that matter) will not change the correlation as any prior rescaling effect that might affect the covariance, will be nullified by the scale normalisation that gives the final correlation estimate."
   ]
  },
  {
   "cell_type": "code",
   "execution_count": null,
   "id": "bd8ad86d-c34b-4b13-9c53-fb17ebd52e6b",
   "metadata": {},
   "outputs": [],
   "source": [
    "plt.figure(figsize=(24,24))\n",
    "sns.jointplot(\n",
    "    x='Age1stCode', y='YearsCode', \n",
    "    data=survey_df,\n",
    "    height=12\n",
    ");"
   ]
  },
  {
   "cell_type": "code",
   "execution_count": null,
   "id": "5b9cb1c2-f08f-4efd-8efe-d286defd5ad6",
   "metadata": {},
   "outputs": [],
   "source": [
    "from sklearn.preprocessing import MinMaxScaler"
   ]
  },
  {
   "cell_type": "code",
   "execution_count": null,
   "id": "c69bd8ea-d1d6-4583-975c-3894b763534f",
   "metadata": {},
   "outputs": [],
   "source": [
    "age_normalized_df = survey_df[[\"Age\", \"Age1stCode\", \"YearsCode\"]].dropna().reset_index(drop=True)\n",
    "age_normalized_df"
   ]
  },
  {
   "cell_type": "code",
   "execution_count": null,
   "id": "4013999d-a707-4780-929d-f649cbf02b02",
   "metadata": {},
   "outputs": [],
   "source": [
    "age_group = []\n",
    "\n",
    "for row in age_normalized_df['Age']:\n",
    "    \n",
    "    if row < 24.0 :    age_group.append('young < 24 yrs.')\n",
    "    elif row < 35.0:   age_group.append('peak performance < 35 yrs.')\n",
    "    elif row < 51.0:  age_group.append('middle age < 51 yrs.')\n",
    "    else: age_group.append('older')\n",
    "    \n",
    "age_normalized_df = age_normalized_df.drop(['Age'], axis=1)"
   ]
  },
  {
   "cell_type": "markdown",
   "id": "ac94194a-477d-4852-9db5-8f68d80ba70f",
   "metadata": {},
   "source": [
    "An alternative approach to Z-score normalization (or standardization) is the so-called Min-Max scaling (often also simply called “normalization” - a common cause for ambiguities). In this approach, the data is scaled to a fixed range - usually 0 to 1. We will use `MinMaxScaler()`."
   ]
  },
  {
   "cell_type": "code",
   "execution_count": null,
   "id": "c0a73c0f-0e06-4e9f-b4a8-2c28f5a693ed",
   "metadata": {},
   "outputs": [],
   "source": [
    "scale = MinMaxScaler()\n",
    "age_normalized = scale.fit_transform(age_normalized_df)"
   ]
  },
  {
   "cell_type": "code",
   "execution_count": null,
   "id": "349aedf7-f0af-41ec-9600-cf36f0e70737",
   "metadata": {},
   "outputs": [],
   "source": [
    "age_normalized_df = pd.DataFrame(age_normalized, columns=age_normalized_df.columns)\n",
    "age_normalized_df"
   ]
  },
  {
   "cell_type": "code",
   "execution_count": null,
   "id": "32a1ded1-b661-486c-a384-23b185e05d5e",
   "metadata": {},
   "outputs": [],
   "source": [
    "age_normalized_df[\"AgeGroup\"] = age_group\n",
    "age_normalized_df"
   ]
  },
  {
   "cell_type": "code",
   "execution_count": null,
   "id": "ca48ff97-5d76-4967-b425-5b0141277b35",
   "metadata": {},
   "outputs": [],
   "source": [
    "plt.figure(figsize=(24,24))\n",
    "sns.jointplot(\n",
    "    x=age_normalized_df[\"Age1stCode\"], \n",
    "    y=age_normalized_df[\"YearsCode\"],\n",
    "    hue=age_normalized_df[\"AgeGroup\"],\n",
    "    # kind=\"kde,\n",
    "    height=12\n",
    ");"
   ]
  },
  {
   "cell_type": "markdown",
   "id": "27f99f98-abc4-4189-81ee-60d7e764a81a",
   "metadata": {},
   "source": [
    "#### Q: Let's visualize the relationship between working hours and compensation for two countries: US & India. We can do this using a scatter plot."
   ]
  },
  {
   "cell_type": "code",
   "execution_count": null,
   "id": "f7357a67-cdff-45cf-867b-f739e8c39b20",
   "metadata": {
    "papermill": {
     "duration": 0.185292,
     "end_time": "2021-06-03T17:05:00.249668",
     "exception": false,
     "start_time": "2021-06-03T17:05:00.064376",
     "status": "completed"
    },
    "tags": []
   },
   "outputs": [],
   "source": [
    "survey_df.columns"
   ]
  },
  {
   "cell_type": "code",
   "execution_count": null,
   "id": "9e593a21-fad4-4e75-bb63-71868573f072",
   "metadata": {
    "papermill": {
     "duration": 0.58733,
     "end_time": "2021-06-03T17:05:00.997825",
     "exception": false,
     "start_time": "2021-06-03T17:05:00.410495",
     "status": "completed"
    },
    "tags": []
   },
   "outputs": [],
   "source": [
    "country_df = survey_df[survey_df.Country.isin(['United States','India'])]\n",
    "\n",
    "px.scatter(country_df, x='WorkWeekHrs', y='ConvertedComp', color='Country')"
   ]
  },
  {
   "cell_type": "markdown",
   "id": "b9c5c8e6-1baa-4298-a6e0-bf82f45417ce",
   "metadata": {},
   "source": [
    "*Exercise*: Visualize the distribution of hourly compensation, instead of total annual compensation. Hint: Use `WorkWeekHrs` to determine the number of hours worked per week. How do the hours worked compare between freelancers and developers working full-time?"
   ]
  },
  {
   "cell_type": "markdown",
   "id": "557ec363-8445-4c0e-a155-60cfe078d9b5",
   "metadata": {},
   "source": [
    "&nbsp;\n",
    "\n",
    "### Exercises\n",
    "\n",
    "There's a wealth of information to be discovered using the survey, and we've barely scratched the surface. Here are some ideas for further exploration:\n",
    "\n",
    "- Repeat the analysis for different age groups & genders, and compare the results\n",
    "- Pick a different set of columns (we chose 20 out of 65) to analyze other facets of the data\n",
    "- Prepare an analysis focusing on diversity - and identify areas where underrepresented communities are at par with the majority (e.g., education) and where they aren't (e.g., salaries)\n",
    "- Compare the results of this year's survey with the previous years and identify interesting trends"
   ]
  },
  {
   "cell_type": "markdown",
   "id": "05a07cdf-d82d-4269-9f82-2c757277d828",
   "metadata": {},
   "source": [
    "&emsp;\n",
    "\n",
    "# One-Hot Encode Data in Machine Learning"
   ]
  },
  {
   "cell_type": "markdown",
   "id": "ecd99bec-dbdb-4d37-8bde-d6467a0f2c97",
   "metadata": {},
   "source": [
    "It seems that sklearn from June 2020 leaves np.nan untouched. So we can normalize all `float64` columns."
   ]
  },
  {
   "cell_type": "code",
   "execution_count": null,
   "id": "3637fd71-de7f-4959-b80b-8ddee377cb2c",
   "metadata": {},
   "outputs": [],
   "source": [
    "# Select the float64 columns to normalize\n",
    "cols_to_normalize = survey_df.select_dtypes(include=['float64']).columns.tolist()\n",
    "\n",
    "# Create a MinMaxScaler object\n",
    "scaler = MinMaxScaler()\n",
    "\n",
    "# Fit and transform the selected columns\n",
    "survey_df[cols_to_normalize] = scaler.fit_transform(survey_df[cols_to_normalize])\n",
    "\n",
    "# Print the normalized data frame\n",
    "survey_df"
   ]
  },
  {
   "cell_type": "code",
   "execution_count": null,
   "id": "22277eb8-af2e-4ff3-bbcc-cd64391fb5cd",
   "metadata": {},
   "outputs": [],
   "source": [
    "# The pd.get_dummies() function is used to convert categorical variables into dummy variables. \n",
    "# It creates a new DataFrame with a binary column for each unique value of the categorical variable.\n",
    "pd.get_dummies(survey_df['Country'])"
   ]
  }
 ],
 "metadata": {
  "kernelspec": {
   "display_name": "Python 3 (ipykernel)",
   "language": "python",
   "name": "python3"
  },
  "language_info": {
   "codemirror_mode": {
    "name": "ipython",
    "version": 3
   },
   "file_extension": ".py",
   "mimetype": "text/x-python",
   "name": "python",
   "nbconvert_exporter": "python",
   "pygments_lexer": "ipython3",
   "version": "3.9.12"
  },
  "toc-autonumbering": false,
  "toc-showcode": false,
  "toc-showmarkdowntxt": false,
  "toc-showtags": false
 },
 "nbformat": 4,
 "nbformat_minor": 5
}
